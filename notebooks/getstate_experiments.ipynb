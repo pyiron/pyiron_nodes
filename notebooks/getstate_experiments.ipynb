{
 "cells": [
  {
   "cell_type": "markdown",
   "id": "02cbb2cb-4ce7-4674-99ed-fc2525806a91",
   "metadata": {},
   "source": [
    "# Develop __getstate__/__set_state__ extensions for better serialization "
   ]
  },
  {
   "cell_type": "code",
   "execution_count": 1,
   "id": "032b844f-e91c-49c2-b90f-88a0beb2a06b",
   "metadata": {},
   "outputs": [],
   "source": [
    "import sys\n",
    "from pathlib import Path\n",
    "sys.path.insert(0, str(Path(Path.cwd()).parent))"
   ]
  },
  {
   "cell_type": "code",
   "execution_count": 2,
   "id": "69ea92b2-b2e6-4cb8-b193-ddc443db6b18",
   "metadata": {},
   "outputs": [],
   "source": [
    "import warnings\n",
    "warnings.filterwarnings(\"ignore\")\n",
    "warnings.filterwarnings(\"ignore\", category=DeprecationWarning) \n",
    "\n",
    "%config IPCompleter.evaluation='unsafe'"
   ]
  },
  {
   "cell_type": "markdown",
   "id": "af9a6b9e-89b8-4421-951f-577b4450a4b7",
   "metadata": {},
   "source": [
    "## Create example nodes with complex (non-serializable input)"
   ]
  },
  {
   "cell_type": "code",
   "execution_count": 3,
   "id": "048d9f77-11bb-42b6-84a9-676baaeb3679",
   "metadata": {},
   "outputs": [],
   "source": [
    "from pyiron_workflow import Workflow"
   ]
  },
  {
   "cell_type": "code",
   "execution_count": 4,
   "id": "69f6418c-d5e8-4e8c-b0c7-0d5150bf34f7",
   "metadata": {},
   "outputs": [],
   "source": [
    "from node_library.development import hash_based_storage as hs\n",
    "from node_library.development import node_dataclass as nd"
   ]
  },
  {
   "cell_type": "code",
   "execution_count": 5,
   "id": "11cc7a4a-ff6f-4452-bc21-1ea9c8171bc2",
   "metadata": {},
   "outputs": [
    {
     "data": {
      "application/vnd.jupyter.widget-view+json": {
       "model_id": "3c73f7d0131a4adcbcbdd8b00023a183",
       "version_major": 2,
       "version_minor": 0
      },
      "text/plain": []
     },
     "metadata": {},
     "output_type": "display_data"
    }
   ],
   "source": [
    "# Register the necessary node packages                                                                      \n",
    "Workflow.register(\"node_library.atomistic\", \"atomistic\") \n",
    "\n",
    "atomistic = Workflow.create.atomistic"
   ]
  },
  {
   "cell_type": "markdown",
   "id": "cb8c66d9-48a5-45f5-98d2-bc91cbacd708",
   "metadata": {},
   "source": [
    "### Elastic constants"
   ]
  },
  {
   "cell_type": "markdown",
   "id": "c745693e-2775-437d-8d32-8ffb1fecc727",
   "metadata": {},
   "source": [
    "#### Convert node to data and back"
   ]
  },
  {
   "cell_type": "code",
   "execution_count": 6,
   "id": "d1895840-649f-42d8-a545-f1e808c90641",
   "metadata": {},
   "outputs": [
    {
     "name": "stderr",
     "output_type": "stream",
     "text": [
      "/Users/joerg/miniforge3/envs/py12/lib/python3.12/site-packages/spglib/spglib.py:115: DeprecationWarning: dict interface (SpglibDataset['number']) is deprecated.Use attribute interface ({self.__class__.__name__}.{key}) instead\n",
      "  warnings.warn(\n",
      "/Users/joerg/miniforge3/envs/py12/lib/python3.12/site-packages/spglib/spglib.py:115: DeprecationWarning: dict interface (SpglibDataset['number']) is deprecated.Use attribute interface ({self.__class__.__name__}.{key}) instead\n",
      "  warnings.warn(\n"
     ]
    }
   ],
   "source": [
    "from node_library.atomistic.property.elastic import InputElasticTensor  # TODO: access via create\n",
    "\n",
    "supercell = atomistic.structure.build.cubic_bulk_cell(element='Ni', cell_size=3, vacancy_index=0)\n",
    "m3gnet = atomistic.engine.ase.M3GNet()\n",
    "elastic_constants = atomistic.property.elastic.elastic_constants(\n",
    "    structure=supercell,\n",
    "    engine=m3gnet,\n",
    "    parameters=InputElasticTensor(),\n",
    ")\n",
    "\n",
    "data_node = nd.obj_to_data(elastic_constants, keep_input_as_node_data=True)\n",
    "out = nd.data_to_obj(data_node).pull()"
   ]
  },
  {
   "cell_type": "code",
   "execution_count": 11,
   "id": "4de73371-88e4-474d-8595-709d52987385",
   "metadata": {},
   "outputs": [
    {
     "data": {
      "text/plain": [
       "OutputElasticAnalysis(BV=207.08345067440703, GV=80.82138707388148, EV=214.55207085486754, nuV=0.32732237482350107, S=array([[ 0.0079936 , -0.00319197, -0.00319197,  0.        ,  0.        ,\n",
       "         0.        ],\n",
       "       [-0.00319197,  0.0079936 , -0.00319197,  0.        ,  0.        ,\n",
       "         0.        ],\n",
       "       [-0.00319197, -0.00319197,  0.0079936 ,  0.        ,  0.        ,\n",
       "         0.        ],\n",
       "       [ 0.        ,  0.        ,  0.        ,  0.0095327 ,  0.        ,\n",
       "         0.        ],\n",
       "       [ 0.        ,  0.        ,  0.        ,  0.        ,  0.0095327 ,\n",
       "         0.        ],\n",
       "       [ 0.        ,  0.        ,  0.        ,  0.        ,  0.        ,\n",
       "         0.0095327 ]]), BR=207.0834506744072, GR=68.17522571218018, ER=184.30074691488926, nuR=0.35166950303152483, BH=207.08345067440712, GH=74.49830639303083, EH=199.56387344169875, nuH=0.3393853035319976, AVR=8.487549565881356, energy_0=-612.811279296875, strain_energy=[[(-0.005, -613.0030517578125), (-0.0025, -612.9532470703125), (0.0, -612.811279296875), (0.0024999999999999996, -612.5806274414062), (0.005, -612.2755126953125)], [(-0.005, -612.974853515625), (-0.0025, -612.9146728515625), (0.0, -612.811279296875), (0.0024999999999999996, -612.666015625), (0.005, -612.4840087890625)], [(-0.005, -612.694580078125), (-0.0025, -612.78076171875), (0.0, -612.811279296875), (0.0024999999999999996, -612.78076171875), (0.005, -612.695068359375)]], C=array([[266.68400385, 177.28317409, 177.28317409,   0.        ,\n",
       "          0.        ,   0.        ],\n",
       "       [177.28317409, 266.68400385, 177.28317409,   0.        ,\n",
       "          0.        ,   0.        ],\n",
       "       [177.28317409, 177.28317409, 266.68400385,   0.        ,\n",
       "          0.        ,   0.        ],\n",
       "       [  0.        ,   0.        ,   0.        , 104.9020352 ,\n",
       "          0.        ,   0.        ],\n",
       "       [  0.        ,   0.        ,   0.        ,   0.        ,\n",
       "        104.9020352 ,   0.        ],\n",
       "       [  0.        ,   0.        ,   0.        ,   0.        ,\n",
       "          0.        , 104.9020352 ]]), A2=array([5.81630956, 2.77102517, 3.92848203]), C_eigval=array([ 89.40082976, 621.25035202,  89.40082976, 104.9020352 ,\n",
       "       104.9020352 , 104.9020352 ]), C_eigvec=array([[-0.81649658,  0.57735027, -0.07633239,  0.        ,  0.        ,\n",
       "         0.        ],\n",
       "       [ 0.40824829,  0.57735027, -0.66584376,  0.        ,  0.        ,\n",
       "         0.        ],\n",
       "       [ 0.40824829,  0.57735027,  0.74217616,  0.        ,  0.        ,\n",
       "         0.        ],\n",
       "       [ 0.        ,  0.        ,  0.        ,  1.        ,  0.        ,\n",
       "         0.        ],\n",
       "       [ 0.        ,  0.        ,  0.        ,  0.        ,  1.        ,\n",
       "         0.        ],\n",
       "       [ 0.        ,  0.        ,  0.        ,  0.        ,  0.        ,\n",
       "         1.        ]]), _serialize=<function str_to_dict at 0x11dd87420>)"
      ]
     },
     "execution_count": 11,
     "metadata": {},
     "output_type": "execute_result"
    }
   ],
   "source": [
    "out"
   ]
  },
  {
   "cell_type": "code",
   "execution_count": 7,
   "id": "a7a22d94-971a-44e3-8c57-8a8fa6796087",
   "metadata": {},
   "outputs": [
    {
     "name": "stderr",
     "output_type": "stream",
     "text": [
      "/Users/joerg/miniforge3/envs/py12/lib/python3.12/site-packages/spglib/spglib.py:115: DeprecationWarning: dict interface (SpglibDataset['number']) is deprecated.Use attribute interface ({self.__class__.__name__}.{key}) instead\n",
      "  warnings.warn(\n"
     ]
    }
   ],
   "source": [
    "elastic_constants.pull();"
   ]
  },
  {
   "cell_type": "code",
   "execution_count": 8,
   "id": "d3ef313c-5523-43b4-9150-88d127251dbe",
   "metadata": {},
   "outputs": [
    {
     "name": "stdout",
     "output_type": "stream",
     "text": [
      "json encoder:  <class 'node_library.development.node_dataclass.ObjectAsData'> True\n",
      "input dict k:  array False False\n",
      "path_lib  node_library.development.node_dataclass.ObjectAsData 0\n"
     ]
    },
    {
     "data": {
      "text/plain": [
       "'{\"lib_path\": \"numpy.array\", \"input_dict\": {\"array\": [[0.007993604684019958, -0.003191973824212518, -0.0031919738242125184, 0.0, 0.0, 0.0], [-0.0031919738242125184, 0.007993604684019958, -0.003191973824212518, 0.0, 0.0, 0.0], [-0.0031919738242125184, -0.003191973824212518, 0.007993604684019958, 0.0, 0.0, 0.0], [0.0, 0.0, 0.0, 0.00953270351779917, 0.0, 0.0], [0.0, 0.0, 0.0, 0.0, 0.00953270351779917, 0.0], [0.0, 0.0, 0.0, 0.0, 0.0, 0.00953270351779917]]}, \"__dataclass_name__\": \"node_library.development.node_dataclass.ObjectAsData\"}'"
      ]
     },
     "execution_count": 8,
     "metadata": {},
     "output_type": "execute_result"
    }
   ],
   "source": [
    "nd.obj_to_data(out.S).to_json()"
   ]
  },
  {
   "cell_type": "code",
   "execution_count": 9,
   "id": "f549b757-66b3-42d8-828b-0e3d58e62f85",
   "metadata": {},
   "outputs": [
    {
     "name": "stdout",
     "output_type": "stream",
     "text": [
      "json encoder:  <class 'node_library.development.node_dataclass.ObjectAsData'> True\n",
      "input dict k:  BV False False\n",
      "input dict k:  GV False False\n",
      "input dict k:  EV False False\n",
      "input dict k:  nuV False False\n",
      "input dict k:  S False False\n",
      "input dict k:  BR False False\n",
      "input dict k:  GR False False\n",
      "input dict k:  ER False False\n",
      "input dict k:  nuR False False\n",
      "input dict k:  BH False False\n",
      "input dict k:  GH False False\n",
      "input dict k:  EH False False\n",
      "input dict k:  nuH False False\n",
      "input dict k:  AVR False False\n",
      "input dict k:  energy_0 False False\n",
      "input dict k:  strain_energy False False\n",
      "input dict k:  C False False\n",
      "input dict k:  A2 False False\n",
      "input dict k:  C_eigval False False\n",
      "input dict k:  C_eigvec False False\n",
      "path_lib  node_library.development.node_dataclass.ObjectAsData 0\n"
     ]
    },
    {
     "data": {
      "text/plain": [
       "'{\"lib_path\": \"node_library.atomistic.property.elastic.OutputElasticAnalysis\", \"input_dict\": {\"BV\": 207.08345067440703, \"GV\": 80.82138707388148, \"EV\": 214.55207085486754, \"nuV\": 0.32732237482350107, \"S\": {\"lib_path\": \"numpy.array\", \"input_dict\": {\"array\": [[0.007993604684019958, -0.003191973824212518, -0.0031919738242125184, 0.0, 0.0, 0.0], [-0.0031919738242125184, 0.007993604684019958, -0.003191973824212518, 0.0, 0.0, 0.0], [-0.0031919738242125184, -0.003191973824212518, 0.007993604684019958, 0.0, 0.0, 0.0], [0.0, 0.0, 0.0, 0.00953270351779917, 0.0, 0.0], [0.0, 0.0, 0.0, 0.0, 0.00953270351779917, 0.0], [0.0, 0.0, 0.0, 0.0, 0.0, 0.00953270351779917]]}, \"output_dict\": {}, \"__dataclass_name__\": null}, \"BR\": 207.0834506744072, \"GR\": 68.17522571218018, \"ER\": 184.30074691488926, \"nuR\": 0.35166950303152483, \"BH\": 207.08345067440712, \"GH\": 74.49830639303083, \"EH\": 199.56387344169875, \"nuH\": 0.3393853035319976, \"AVR\": 8.487549565881356, \"energy_0\": -612.811279296875, \"strain_energy\": [[[-0.005, -613.0030517578125], [-0.0025, -612.9532470703125], [0.0, -612.811279296875], [0.0024999999999999996, -612.5806274414062], [0.005, -612.2755126953125]], [[-0.005, -612.974853515625], [-0.0025, -612.9146728515625], [0.0, -612.811279296875], [0.0024999999999999996, -612.666015625], [0.005, -612.4840087890625]], [[-0.005, -612.694580078125], [-0.0025, -612.78076171875], [0.0, -612.811279296875], [0.0024999999999999996, -612.78076171875], [0.005, -612.695068359375]]], \"C\": {\"lib_path\": \"numpy.array\", \"input_dict\": {\"array\": [[266.68400384883665, 177.28317408719224, 177.28317408719224, 0.0, 0.0, 0.0], [177.28317408719224, 266.68400384883665, 177.28317408719224, 0.0, 0.0, 0.0], [177.28317408719224, 177.28317408719224, 266.68400384883665, 0.0, 0.0, 0.0], [0.0, 0.0, 0.0, 104.90203520258768, 0.0, 0.0], [0.0, 0.0, 0.0, 0.0, 104.90203520258768, 0.0], [0.0, 0.0, 0.0, 0.0, 0.0, 104.90203520258768]]}, \"output_dict\": {}, \"__dataclass_name__\": null}, \"A2\": {\"lib_path\": \"numpy.array\", \"input_dict\": {\"array\": [5.816309564067944, 2.771025169645897, 3.928482027588111]}, \"output_dict\": {}, \"__dataclass_name__\": null}, \"C_eigval\": {\"lib_path\": \"numpy.array\", \"input_dict\": {\"array\": [89.40082976164433, 621.250352023221, 89.4008297616444, 104.90203520258768, 104.90203520258768, 104.90203520258768]}, \"output_dict\": {}, \"__dataclass_name__\": null}, \"C_eigvec\": {\"lib_path\": \"numpy.array\", \"input_dict\": {\"array\": [[-0.8164965809277261, 0.5773502691896258, -0.07633239475470714, 0.0, 0.0, 0.0], [0.4082482904638631, 0.5773502691896257, -0.6658437628741039, 0.0, 0.0, 0.0], [0.4082482904638631, 0.5773502691896257, 0.742176157628811, 0.0, 0.0, 0.0], [0.0, 0.0, 0.0, 1.0, 0.0, 0.0], [0.0, 0.0, 0.0, 0.0, 1.0, 0.0], [0.0, 0.0, 0.0, 0.0, 0.0, 1.0]]}, \"output_dict\": {}, \"__dataclass_name__\": null}}, \"__dataclass_name__\": \"node_library.development.node_dataclass.ObjectAsData\"}'"
      ]
     },
     "execution_count": 9,
     "metadata": {},
     "output_type": "execute_result"
    }
   ],
   "source": [
    "out_str = nd.obj_to_data(out).to_json()\n",
    "out_str"
   ]
  },
  {
   "cell_type": "code",
   "execution_count": 10,
   "id": "0184d78c-ee7e-4b56-9376-b319b3f89408",
   "metadata": {},
   "outputs": [
    {
     "data": {
      "text/plain": [
       "{'lib_path': 'numpy.array',\n",
       " 'input_dict': {'array': [[0.007993604684019958,\n",
       "    -0.003191973824212518,\n",
       "    -0.0031919738242125184,\n",
       "    0.0,\n",
       "    0.0,\n",
       "    0.0],\n",
       "   [-0.0031919738242125184,\n",
       "    0.007993604684019958,\n",
       "    -0.003191973824212518,\n",
       "    0.0,\n",
       "    0.0,\n",
       "    0.0],\n",
       "   [-0.0031919738242125184,\n",
       "    -0.003191973824212518,\n",
       "    0.007993604684019958,\n",
       "    0.0,\n",
       "    0.0,\n",
       "    0.0],\n",
       "   [0.0, 0.0, 0.0, 0.00953270351779917, 0.0, 0.0],\n",
       "   [0.0, 0.0, 0.0, 0.0, 0.00953270351779917, 0.0],\n",
       "   [0.0, 0.0, 0.0, 0.0, 0.0, 0.00953270351779917]]},\n",
       " 'output_dict': {},\n",
       " '__dataclass_name__': None}"
      ]
     },
     "execution_count": 10,
     "metadata": {},
     "output_type": "execute_result"
    }
   ],
   "source": [
    "# recursive json-ification not working\n",
    "nd.data_to_obj(nd.ObjectAsData().from_json(out_str)).S"
   ]
  },
  {
   "cell_type": "code",
   "execution_count": 11,
   "id": "3f535752-e0f7-4a6b-b447-5106c9aac09f",
   "metadata": {},
   "outputs": [
    {
     "ename": "NameError",
     "evalue": "name 'xx' is not defined",
     "output_type": "error",
     "traceback": [
      "\u001b[0;31m---------------------------------------------------------------------------\u001b[0m",
      "\u001b[0;31mNameError\u001b[0m                                 Traceback (most recent call last)",
      "Cell \u001b[0;32mIn[11], line 1\u001b[0m\n\u001b[0;32m----> 1\u001b[0m \u001b[43mxx\u001b[49m\n",
      "\u001b[0;31mNameError\u001b[0m: name 'xx' is not defined"
     ]
    }
   ],
   "source": [
    "xx"
   ]
  },
  {
   "cell_type": "code",
   "execution_count": null,
   "id": "356f3e59-8587-4493-a56c-a4e3b33e6ac0",
   "metadata": {},
   "outputs": [],
   "source": [
    "nd.obj_to_data(elastic_constants).input_dict['structure']"
   ]
  },
  {
   "cell_type": "code",
   "execution_count": null,
   "id": "504f0aa3-0185-4ec5-9f37-03ed7a0febec",
   "metadata": {},
   "outputs": [],
   "source": [
    "nd.get_args_from_node(elastic_constants, keep_input_as_node_data=True)"
   ]
  },
  {
   "cell_type": "code",
   "execution_count": null,
   "id": "500d5848-3725-4a3c-85ee-af928529c122",
   "metadata": {},
   "outputs": [],
   "source": [
    "import json\n",
    "\n",
    "nd.obj_to_data(elastic_constants).output_dict['elastic']"
   ]
  },
  {
   "cell_type": "code",
   "execution_count": null,
   "id": "65d3c37b-61bc-4c8d-9cf7-7185b97f8765",
   "metadata": {},
   "outputs": [],
   "source": [
    "type(elastic_constants.outputs['elastic'].value)"
   ]
  },
  {
   "cell_type": "code",
   "execution_count": null,
   "id": "757b3713-71d4-412f-a316-77ff7502741a",
   "metadata": {},
   "outputs": [],
   "source": [
    "xx"
   ]
  },
  {
   "cell_type": "code",
   "execution_count": null,
   "id": "19195a94-fa3b-4905-8b4a-3b8959ff07a2",
   "metadata": {},
   "outputs": [],
   "source": [
    "nd.obj_to_data(elastic_constants).output_dict"
   ]
  },
  {
   "cell_type": "code",
   "execution_count": null,
   "id": "52cae5b1-8287-4f7a-8bbe-8320d7f5d3b7",
   "metadata": {},
   "outputs": [],
   "source": [
    "out_data = nd.obj_to_data(elastic_constants.outputs.elastic.value)"
   ]
  },
  {
   "cell_type": "code",
   "execution_count": null,
   "id": "a34a582c-a91b-4d73-9a43-605bfc601312",
   "metadata": {},
   "outputs": [],
   "source": [
    "out_data.to_json()"
   ]
  },
  {
   "cell_type": "markdown",
   "id": "6f178d3f-bad7-44e0-835c-2ccca505d249",
   "metadata": {},
   "source": [
    "#### Convert complex dataclass to data and back"
   ]
  },
  {
   "cell_type": "code",
   "execution_count": null,
   "id": "4518b06b-0ebc-4a89-a7e1-df91b1e3c7c9",
   "metadata": {},
   "outputs": [],
   "source": [
    "data_out = nd.obj_to_data(out)\n",
    "nd.data_to_obj(data_out)"
   ]
  },
  {
   "cell_type": "markdown",
   "id": "ce9e8caa-9349-4929-b97d-0cd51df0f9ea",
   "metadata": {},
   "source": [
    "### Test serialization"
   ]
  },
  {
   "cell_type": "code",
   "execution_count": null,
   "id": "dd5915b1-6f85-41f6-9241-af912e7362bc",
   "metadata": {},
   "outputs": [],
   "source": [
    "json_str = data_node.to_json()\n",
    "\n",
    "nd.data_to_obj(nd.ObjectAsData().from_json(json_str))"
   ]
  },
  {
   "cell_type": "code",
   "execution_count": null,
   "id": "95a09af8-bd79-43c0-820c-c5156e191492",
   "metadata": {},
   "outputs": [],
   "source": [
    "import json\n",
    "\n",
    "json.loads(json_str)"
   ]
  },
  {
   "cell_type": "code",
   "execution_count": null,
   "id": "4dd1add0-79db-4563-b301-272e893754ac",
   "metadata": {},
   "outputs": [],
   "source": [
    "import pickle\n",
    "import json\n",
    "\n",
    "json.dumps(data_node, cls=nd.CustomEncoder)"
   ]
  },
  {
   "cell_type": "code",
   "execution_count": null,
   "id": "b5b44c7d-664c-432a-8f15-37f864365b15",
   "metadata": {},
   "outputs": [],
   "source": [
    "from node_library.development import node_dataclass as nd"
   ]
  },
  {
   "cell_type": "code",
   "execution_count": null,
   "id": "061f5c97-68af-4b2f-9b6c-f7d0b2b6599b",
   "metadata": {},
   "outputs": [],
   "source": [
    "nd.get_args_from_node(supercell)"
   ]
  },
  {
   "cell_type": "code",
   "execution_count": null,
   "id": "b1a6d0bc-514e-442d-9380-018a244edae6",
   "metadata": {},
   "outputs": [],
   "source": [
    "nd.get_args_from_node(elastic_constants, keep_input_as_node_data=True)"
   ]
  },
  {
   "cell_type": "code",
   "execution_count": null,
   "id": "8c780c38-8c96-43ea-9263-974103c859b1",
   "metadata": {},
   "outputs": [],
   "source": [
    "nd.get_object_from_path(nd.get_import_path(InputElasticTensor()))()"
   ]
  },
  {
   "cell_type": "code",
   "execution_count": null,
   "id": "12091747-0dcd-42d5-be22-13819bf6be3a",
   "metadata": {},
   "outputs": [],
   "source": [
    "nd.get_object_from_path(nd.get_import_path(m3gnet))()"
   ]
  },
  {
   "cell_type": "code",
   "execution_count": null,
   "id": "ba0a0b48-03c1-4367-9739-fd421da98f64",
   "metadata": {},
   "outputs": [],
   "source": [
    "nd.get_object_from_path(nd.get_import_path(supercell))()"
   ]
  },
  {
   "cell_type": "code",
   "execution_count": null,
   "id": "4fe94eea-036c-4797-b2d8-1691a6c4141a",
   "metadata": {},
   "outputs": [],
   "source": [
    "import numpy as np\n",
    "args = [[1,2], [1,3]]\n",
    "nd.get_object_from_path(nd.get_import_path(np.array(args)))(args)"
   ]
  },
  {
   "cell_type": "code",
   "execution_count": null,
   "id": "943fd880-a56c-4aef-83c3-6b0f16c23aac",
   "metadata": {},
   "outputs": [],
   "source": [
    "nd.get_args_from_node(supercell)"
   ]
  },
  {
   "cell_type": "code",
   "execution_count": null,
   "id": "8a074ae2-4471-495c-9a71-8e5c3eb940e8",
   "metadata": {},
   "outputs": [],
   "source": [
    "nd.obj_to_data(supercell)"
   ]
  },
  {
   "cell_type": "code",
   "execution_count": null,
   "id": "08862c2c-a8a1-4cb9-86b2-1feee448026b",
   "metadata": {},
   "outputs": [],
   "source": [
    "import dataclasses\n",
    "\n",
    "def non_default_fields_to_dict(instance):\n",
    "    arg_dict = dict()\n",
    "    for f in dataclasses.fields(instance):\n",
    "        if f.default != getattr(instance, f.name) and not isinstance(f.default, dataclasses._MISSING_TYPE):\n",
    "            arg_dict[f.name] = getattr(instance, f.name)\n",
    "            \n",
    "    return arg_dict"
   ]
  },
  {
   "cell_type": "code",
   "execution_count": null,
   "id": "9b699d0e-6545-4314-b825-b72bde7e7cd4",
   "metadata": {},
   "outputs": [],
   "source": [
    "nd.is_pyiron_node(3)"
   ]
  },
  {
   "cell_type": "code",
   "execution_count": null,
   "id": "625d72bf-0981-4aa1-b129-8846907c6a07",
   "metadata": {},
   "outputs": [],
   "source": [
    "nd.obj_to_data(InputElasticTensor(num_of_point=5))"
   ]
  },
  {
   "cell_type": "code",
   "execution_count": null,
   "id": "109c1533-05c6-4430-95c4-981020940faa",
   "metadata": {},
   "outputs": [],
   "source": [
    "nd.obj_to_data(elastic_constants, keep_input_as_node_data=True)"
   ]
  },
  {
   "cell_type": "code",
   "execution_count": null,
   "id": "4d4f34d9-addb-4f06-8fed-99781cadd8ea",
   "metadata": {},
   "outputs": [],
   "source": [
    "data = nd.node_to_dataclass(elastic_constants, keep_input_as_node_data=True)\n",
    "print (nd.print_data(data))"
   ]
  },
  {
   "cell_type": "code",
   "execution_count": null,
   "id": "3c73b146-95fb-40c0-b366-cb2d24483cbd",
   "metadata": {},
   "outputs": [],
   "source": [
    "out = nd.data_to_node(data).pull()"
   ]
  },
  {
   "cell_type": "code",
   "execution_count": null,
   "id": "735d38ee-ce4e-43e6-84f6-7e95054ac868",
   "metadata": {},
   "outputs": [],
   "source": [
    "out.C_eigval, out.C_eigvec"
   ]
  },
  {
   "cell_type": "code",
   "execution_count": null,
   "id": "7be75d97-0f64-49f6-b375-05ea7b64ef43",
   "metadata": {},
   "outputs": [],
   "source": [
    "args = nd.get_args_from_dataclass(out, skip_default_values=False)\n",
    "isinstance(args['S'], np.ndarray)\n",
    "# out.C_eigval = None\n",
    "#out._serialize = None"
   ]
  },
  {
   "cell_type": "markdown",
   "id": "a3815ba2-9f0a-4b57-a56b-fafdd762575f",
   "metadata": {},
   "source": [
    "### JSON serialization"
   ]
  },
  {
   "cell_type": "code",
   "execution_count": null,
   "id": "870c8cd5-9247-40b0-a1ab-1fd2af408821",
   "metadata": {},
   "outputs": [],
   "source": [
    "import json\n",
    "\n",
    "class CustomEncoder(json.JSONEncoder):\n",
    "    def default(self, obj):\n",
    "        if dataclasses.is_dataclass(obj):\n",
    "            result = dataclasses.asdict(obj)\n",
    "            # result['__dataclass_name__'] = obj.__class__.__name__\n",
    "            result['__dataclass_name__'] = nd.get_import_path(obj)\n",
    "            return result\n",
    "        print ('obj: ', obj)    \n",
    "        return super().default(obj)"
   ]
  },
  {
   "cell_type": "code",
   "execution_count": null,
   "id": "6019d14b-396c-4aaf-80aa-77a95e7015a7",
   "metadata": {},
   "outputs": [],
   "source": [
    "v = np.array([1,2])\n",
    "out_data = nd.obj_to_data(out)\n",
    "out_data;"
   ]
  },
  {
   "cell_type": "code",
   "execution_count": null,
   "id": "9f04f2c1-4b7e-453f-a687-bdf3360cb871",
   "metadata": {},
   "outputs": [],
   "source": [
    "import json\n",
    "\n",
    "# json.dumps(args)\n",
    "dumps = json.dumps(out_data, cls=CustomEncoder)"
   ]
  },
  {
   "cell_type": "markdown",
   "id": "145ef90e-18a8-4369-a7e1-129c96151198",
   "metadata": {},
   "source": [
    "#### json to dataclass"
   ]
  },
  {
   "cell_type": "code",
   "execution_count": null,
   "id": "1d67a1e5-7d78-4a5d-aee2-8dfbcc54363e",
   "metadata": {},
   "outputs": [],
   "source": [
    "data_dict = json.loads(dumps)"
   ]
  },
  {
   "cell_type": "code",
   "execution_count": null,
   "id": "c6c975a6-3c26-42b8-b37f-714403ed44f9",
   "metadata": {},
   "outputs": [],
   "source": [
    "data = nd.DataClassAsData(lib_path=data_dict['lib_path'], input_dict=data_dict['input_dict'])"
   ]
  },
  {
   "cell_type": "code",
   "execution_count": null,
   "id": "57083f94-df9d-4178-bde8-d1443c20759d",
   "metadata": {},
   "outputs": [],
   "source": [
    "data = nd.DataClassAsData(lib_path=data_dict['lib_path'], input_dict=data_dict['input_dict'])\n",
    "nd.is_dataclass(type(nd.data_to_obj(data))), nd.is_pyiron_node(type(nd.data_to_obj(data))), nd.is_dataclass(nd.data_to_obj(data)), nd.is_pyiron_node(nd.data_to_obj(data))"
   ]
  },
  {
   "cell_type": "code",
   "execution_count": null,
   "id": "3f0a2b01-8f89-48f8-a6fa-da940a9d7a45",
   "metadata": {},
   "outputs": [],
   "source": [
    "data = nd.obj_to_data(elastic_constants)\n",
    "nd.is_dataclass(type(nd.data_to_obj(data))), nd.is_pyiron_node(type(nd.data_to_obj(data))), nd.is_dataclass(nd.data_to_obj(data)), nd.is_pyiron_node(nd.data_to_obj(data))"
   ]
  },
  {
   "cell_type": "code",
   "execution_count": null,
   "id": "246e563a-42be-443b-badf-69306b8d56f1",
   "metadata": {},
   "outputs": [],
   "source": [
    "from node_library.atomistic.property.elastic import elastic_constants\n",
    "\n",
    "# elastic_constants.channel"
   ]
  },
  {
   "cell_type": "code",
   "execution_count": null,
   "id": "a461ea37-57ef-46d7-adc5-e09ec9ae4e7a",
   "metadata": {},
   "outputs": [],
   "source": [
    "nd.data_to_obj(data)"
   ]
  },
  {
   "cell_type": "code",
   "execution_count": null,
   "id": "61beec4a-516a-4526-8850-ae4803a27acd",
   "metadata": {},
   "outputs": [],
   "source": [
    "supercell2 = atomistic.structure.build.cubic_bulk_cell(element='Al', cell_size=3, vacancy_index=0)\n",
    "data = nd.node_to_dataclass(supercell2, keep_input_as_node_data=True)\n",
    "print(nd.print_data(data))\n"
   ]
  },
  {
   "cell_type": "code",
   "execution_count": null,
   "id": "19aa33a4-7154-44a9-95d8-05bd3a56b928",
   "metadata": {},
   "outputs": [],
   "source": [
    "import pickle\n",
    "\n",
    "with open('elastic_data.pkl', 'wb') as file:\n",
    "    pkl = pickle.dump(data, file)"
   ]
  },
  {
   "cell_type": "code",
   "execution_count": null,
   "id": "3e058be1-8077-4d59-8e0b-813d33d7b070",
   "metadata": {},
   "outputs": [],
   "source": [
    "with open('elastic_data.pkl', 'rb') as file:\n",
    "    data_pkl = pickle.load(file)\n",
    "nd.data_to_node(data_pkl).pull();"
   ]
  },
  {
   "cell_type": "code",
   "execution_count": null,
   "id": "f3632748-f009-41c6-af58-3c1f0c928c5f",
   "metadata": {},
   "outputs": [],
   "source": [
    "nd.data_to_obj(data);"
   ]
  },
  {
   "cell_type": "code",
   "execution_count": null,
   "id": "84bcad36-66e0-4614-bc14-5c302ae15999",
   "metadata": {},
   "outputs": [],
   "source": [
    "C_lib = nd.data_to_data(out).input_dict['C'].__class__"
   ]
  },
  {
   "cell_type": "code",
   "execution_count": null,
   "id": "daff4192-f036-4332-b5b5-8d1c062fc613",
   "metadata": {},
   "outputs": [],
   "source": [
    "import importlib\n",
    "\n",
    "importlib.import_module('numpy')\n",
    "numpy.linalg.linalg.EigResult()"
   ]
  },
  {
   "cell_type": "code",
   "execution_count": null,
   "id": "74352a7d-16ce-431e-a17b-8ef8da5b4c83",
   "metadata": {},
   "outputs": [],
   "source": [
    "import importlib\n",
    "\n",
    "def get_function_from_string(path: str):\n",
    "    # Split the string into module and attribute\n",
    "    parts = path.split('.')\n",
    "    module_path = '.'.join(parts[:-1])\n",
    "    attribute_name = parts[-1]\n",
    "    \n",
    "    # Import the module\n",
    "    module = importlib.import_module(module_path)\n",
    "    \n",
    "    # Get the attribute\n",
    "    attribute = getattr(module, attribute_name)\n",
    "    \n",
    "    return attribute\n",
    "\n",
    "# Example usage\n",
    "path = 'numpy.linalg.linalg.EigResult'\n",
    "result_function = get_function_from_string(path)\n",
    "print(result_function)  # This should print the reference to EigResult class or function\n"
   ]
  },
  {
   "cell_type": "code",
   "execution_count": null,
   "id": "f4d5073b-3310-4a20-aa29-100704b06597",
   "metadata": {},
   "outputs": [],
   "source": [
    "result_function(eigenvalues=)"
   ]
  },
  {
   "cell_type": "code",
   "execution_count": null,
   "id": "65e29ac1-c5d8-4090-97e1-4310cb8f6587",
   "metadata": {},
   "outputs": [],
   "source": [
    "import inspect\n",
    "from typing import Any, Callable, Dict\n",
    "from dataclasses import dataclass\n",
    "\n",
    "def parse_function_call(func: Callable, *args: Any, **kwargs: Any) -> Dict[str, Any]:\n",
    "    \"\"\"\n",
    "    Parse the input parameters of a function or class instance call.\n",
    "\n",
    "    Args:\n",
    "        func: The function or class to parse.\n",
    "        *args: The positional arguments provided in the call.\n",
    "        **kwargs: The keyword arguments provided in the call.\n",
    "\n",
    "    Returns:\n",
    "        A dictionary of parameter names and their final values.\n",
    "    \"\"\"\n",
    "    # Get the signature of the function\n",
    "    signature = inspect.signature(func)\n",
    "    \n",
    "    # Create a dictionary of the default parameter values\n",
    "    bound_args = signature.bind_partial(*args, **kwargs)\n",
    "    bound_args.apply_defaults()\n",
    "    \n",
    "    # Extract the final parameter values\n",
    "    params = {name: value for name, value in bound_args.arguments.items()}\n",
    "    \n",
    "    return params\n",
    "\n",
    "# Example usage\n",
    "def my_func(a=10, b='a'):\n",
    "    pass\n",
    "\n",
    "# Parsing the function call\n",
    "params = parse_function_call(my_func, a=20)\n",
    "print(params)\n",
    "# Output: {'a': 20, 'b': 'a'}\n",
    "\n",
    "# Parsing with keyword arguments\n",
    "params = parse_function_call(my_func, b='b')\n",
    "print(params)\n",
    "# Output: {'a': 10, 'b': 'b'}\n",
    "\n",
    "@dataclass\n",
    "class MyClass:\n",
    "    a: int = 10\n",
    "    b: str = 'a'\n",
    "\n",
    "# Example usage for a class\n",
    "params = parse_function_call(MyClass, a=30, b='c')\n",
    "print(params)\n",
    "# Output: {'a': 30, 'b': 'c'}\n"
   ]
  },
  {
   "cell_type": "code",
   "execution_count": null,
   "id": "8212cca6-2500-410c-b582-926ca54207c5",
   "metadata": {},
   "outputs": [],
   "source": [
    "import numpy as np\n",
    "np.array([1, 3])"
   ]
  },
  {
   "cell_type": "code",
   "execution_count": 12,
   "id": "71d99718-a26b-4d99-ab81-02373a7d29d6",
   "metadata": {},
   "outputs": [],
   "source": [
    "from pydantic import BaseModel\n",
    "\n",
    "class F2(BaseModel):\n",
    "    b1: int\n",
    "    b2: int\n",
    "\n",
    "class F3(BaseModel):\n",
    "    c1: int\n",
    "\n",
    "class F1(BaseModel):\n",
    "    a1: F2\n",
    "    a2: F3\n",
    "    a3: int"
   ]
  },
  {
   "cell_type": "code",
   "execution_count": 13,
   "id": "e4603768-eba1-4453-9c93-ad5b7982e22e",
   "metadata": {},
   "outputs": [
    {
     "name": "stdout",
     "output_type": "stream",
     "text": [
      "{\"a1\":{\"b1\":5,\"b2\":4},\"a2\":{\"c1\":6},\"a3\":10}\n"
     ]
    }
   ],
   "source": [
    "from pydantic import BaseModel \n",
    "from typing import Any \n",
    "\n",
    "f1_instance = F1(a1=F2(b1=5, b2=4), a2=F3(c1=6), a3=10)\n",
    "\n",
    "json_string = f1_instance.json()\n",
    "\n",
    "print(json_string)"
   ]
  },
  {
   "cell_type": "code",
   "execution_count": 14,
   "id": "c236ad08-c87c-481c-8eec-c8495dda811c",
   "metadata": {},
   "outputs": [
    {
     "name": "stdout",
     "output_type": "stream",
     "text": [
      "a1=F2(b1=5, b2=4) a2=F3(c1=6) a3=10\n"
     ]
    }
   ],
   "source": [
    "decoded_f1_instance = F1.parse_raw(json_string)\n",
    "\n",
    "print(decoded_f1_instance)"
   ]
  },
  {
   "cell_type": "code",
   "execution_count": null,
   "id": "7b7f4f70-2572-40be-80a6-099f22cd429d",
   "metadata": {},
   "outputs": [],
   "source": []
  }
 ],
 "metadata": {
  "kernelspec": {
   "display_name": "Python 3 (ipykernel)",
   "language": "python",
   "name": "python3"
  },
  "language_info": {
   "codemirror_mode": {
    "name": "ipython",
    "version": 3
   },
   "file_extension": ".py",
   "mimetype": "text/x-python",
   "name": "python",
   "nbconvert_exporter": "python",
   "pygments_lexer": "ipython3",
   "version": "3.12.4"
  }
 },
 "nbformat": 4,
 "nbformat_minor": 5
}
