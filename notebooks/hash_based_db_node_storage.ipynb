{
 "cells": [
  {
   "cell_type": "markdown",
   "id": "1556a45d-18a5-41ba-b868-7a86c32feab7",
   "metadata": {},
   "source": [
    "# Develop and test hash based node storage"
   ]
  },
  {
   "cell_type": "code",
   "execution_count": 1,
   "id": "032b844f-e91c-49c2-b90f-88a0beb2a06b",
   "metadata": {},
   "outputs": [],
   "source": [
    "import sys\n",
    "from pathlib import Path\n",
    "sys.path.insert(0, str(Path(Path.cwd()).parent))"
   ]
  },
  {
   "cell_type": "code",
   "execution_count": 2,
   "id": "69ea92b2-b2e6-4cb8-b193-ddc443db6b18",
   "metadata": {},
   "outputs": [],
   "source": [
    "import warnings\n",
    "warnings.filterwarnings(\"ignore\")\n",
    "\n",
    "%config IPCompleter.evaluation='unsafe'"
   ]
  },
  {
   "cell_type": "code",
   "execution_count": 3,
   "id": "69f6418c-d5e8-4e8c-b0c7-0d5150bf34f7",
   "metadata": {},
   "outputs": [],
   "source": [
    "from node_library.development import hash_based_storage as hs"
   ]
  },
  {
   "cell_type": "markdown",
   "id": "e5bd2b13-70f7-4498-9600-238b12a6c1bf",
   "metadata": {},
   "source": [
    "### Perform a few tests for the hash_based_storage module"
   ]
  },
  {
   "cell_type": "code",
   "execution_count": 4,
   "id": "64b4d5be-ce75-4977-a563-b02c6b1b2d26",
   "metadata": {},
   "outputs": [],
   "source": [
    "db = hs.create_nodes_table(echo=False)"
   ]
  },
  {
   "cell_type": "code",
   "execution_count": 5,
   "id": "6ba106e0-bb21-417f-8c6c-5686ccbc1e44",
   "metadata": {},
   "outputs": [
    {
     "data": {
      "text/plain": [
       "['node_id',\n",
       " 'name',\n",
       " 'hash_value',\n",
       " 'lib_path',\n",
       " 'creation_date',\n",
       " 'data',\n",
       " 'output_ready',\n",
       " 'file_path']"
      ]
     },
     "execution_count": 5,
     "metadata": {},
     "output_type": "execute_result"
    }
   ],
   "source": [
    "hs.list_column_names(db, 'node')"
   ]
  },
  {
   "cell_type": "markdown",
   "id": "1af4e2d5-a2bb-4a68-b5f6-c3b0827a96a1",
   "metadata": {},
   "source": [
    "**Note:** Uncomment the following line if you have modified the table structure. After deleting the table comment this block and rerun the notebook (to run create_nodes_table)"
   ]
  },
  {
   "cell_type": "code",
   "execution_count": 6,
   "id": "c1a2619d-0d3c-4343-bc0a-fcebcba36cbb",
   "metadata": {},
   "outputs": [],
   "source": [
    "# hs.drop_table(db, 'node')\n",
    "# hs.list_column_names(db, 'node')"
   ]
  },
  {
   "cell_type": "code",
   "execution_count": 7,
   "id": "e689dd0b-f953-4789-b447-629782fa6580",
   "metadata": {},
   "outputs": [
    {
     "data": {
      "text/html": [
       "<div>\n",
       "<style scoped>\n",
       "    .dataframe tbody tr th:only-of-type {\n",
       "        vertical-align: middle;\n",
       "    }\n",
       "\n",
       "    .dataframe tbody tr th {\n",
       "        vertical-align: top;\n",
       "    }\n",
       "\n",
       "    .dataframe thead th {\n",
       "        text-align: right;\n",
       "    }\n",
       "</style>\n",
       "<table border=\"1\" class=\"dataframe\">\n",
       "  <thead>\n",
       "    <tr style=\"text-align: right;\">\n",
       "      <th></th>\n",
       "      <th>node_id</th>\n",
       "      <th>name</th>\n",
       "      <th>hash_value</th>\n",
       "      <th>lib_path</th>\n",
       "      <th>creation_date</th>\n",
       "      <th>data</th>\n",
       "      <th>output_ready</th>\n",
       "      <th>file_path</th>\n",
       "    </tr>\n",
       "  </thead>\n",
       "  <tbody>\n",
       "    <tr>\n",
       "      <th>0</th>\n",
       "      <td>2</td>\n",
       "      <td></td>\n",
       "      <td>da5ce3a27254d1f118ad19a64728e063f5508e53870da3...</td>\n",
       "      <td>node_library/math/Sin</td>\n",
       "      <td>2024-06-15 09:54:25.239067</td>\n",
       "      <td>{'x': '[8]'}</td>\n",
       "      <td>False</td>\n",
       "      <td></td>\n",
       "    </tr>\n",
       "    <tr>\n",
       "      <th>1</th>\n",
       "      <td>3</td>\n",
       "      <td></td>\n",
       "      <td>ad5107dc887ec851fadc22a9d63ec7bfafa518f79ec3d7...</td>\n",
       "      <td>node_library/math/Sin</td>\n",
       "      <td>2024-06-15 09:57:19.661584</td>\n",
       "      <td>{'x': '[7]'}</td>\n",
       "      <td>True</td>\n",
       "      <td>node_library/math/Sin/3</td>\n",
       "    </tr>\n",
       "    <tr>\n",
       "      <th>2</th>\n",
       "      <td>4</td>\n",
       "      <td></td>\n",
       "      <td>c16d79b83fad085c61d52223687f65ac5f258005921c83...</td>\n",
       "      <td>node_library/math/Sin</td>\n",
       "      <td>2024-06-15 12:51:12.179914</td>\n",
       "      <td>{'x': '[17]'}</td>\n",
       "      <td>True</td>\n",
       "      <td>node_library/math/Sin/4</td>\n",
       "    </tr>\n",
       "    <tr>\n",
       "      <th>3</th>\n",
       "      <td>5</td>\n",
       "      <td></td>\n",
       "      <td>627be35de16dc8fa1bbb384f46cf9a63c1843d7d24b51d...</td>\n",
       "      <td>node_library/math/Sin</td>\n",
       "      <td>2024-06-15 13:05:02.263759</td>\n",
       "      <td>{'x': '[11]'}</td>\n",
       "      <td>True</td>\n",
       "      <td>node_library/math/Sin/5</td>\n",
       "    </tr>\n",
       "  </tbody>\n",
       "</table>\n",
       "</div>"
      ],
      "text/plain": [
       "   node_id name                                         hash_value  \\\n",
       "0        2       da5ce3a27254d1f118ad19a64728e063f5508e53870da3...   \n",
       "1        3       ad5107dc887ec851fadc22a9d63ec7bfafa518f79ec3d7...   \n",
       "2        4       c16d79b83fad085c61d52223687f65ac5f258005921c83...   \n",
       "3        5       627be35de16dc8fa1bbb384f46cf9a63c1843d7d24b51d...   \n",
       "\n",
       "                lib_path              creation_date           data  \\\n",
       "0  node_library/math/Sin 2024-06-15 09:54:25.239067   {'x': '[8]'}   \n",
       "1  node_library/math/Sin 2024-06-15 09:57:19.661584   {'x': '[7]'}   \n",
       "2  node_library/math/Sin 2024-06-15 12:51:12.179914  {'x': '[17]'}   \n",
       "3  node_library/math/Sin 2024-06-15 13:05:02.263759  {'x': '[11]'}   \n",
       "\n",
       "   output_ready                file_path  \n",
       "0         False                           \n",
       "1          True  node_library/math/Sin/3  \n",
       "2          True  node_library/math/Sin/4  \n",
       "3          True  node_library/math/Sin/5  "
      ]
     },
     "execution_count": 7,
     "metadata": {},
     "output_type": "execute_result"
    }
   ],
   "source": [
    "hs.list_table(db)"
   ]
  },
  {
   "cell_type": "code",
   "execution_count": 8,
   "id": "a2be3618-5b58-4b00-a0a2-01abd0c82de9",
   "metadata": {},
   "outputs": [],
   "source": [
    "hs.remove_nodes_from_db(db, indices=[1, 15]);"
   ]
  },
  {
   "cell_type": "code",
   "execution_count": 9,
   "id": "4309219b-8ce1-4078-8823-460b07fc6851",
   "metadata": {},
   "outputs": [
    {
     "data": {
      "text/html": [
       "<div>\n",
       "<style scoped>\n",
       "    .dataframe tbody tr th:only-of-type {\n",
       "        vertical-align: middle;\n",
       "    }\n",
       "\n",
       "    .dataframe tbody tr th {\n",
       "        vertical-align: top;\n",
       "    }\n",
       "\n",
       "    .dataframe thead th {\n",
       "        text-align: right;\n",
       "    }\n",
       "</style>\n",
       "<table border=\"1\" class=\"dataframe\">\n",
       "  <thead>\n",
       "    <tr style=\"text-align: right;\">\n",
       "      <th></th>\n",
       "      <th>node_id</th>\n",
       "      <th>name</th>\n",
       "      <th>hash_value</th>\n",
       "      <th>lib_path</th>\n",
       "      <th>creation_date</th>\n",
       "      <th>data</th>\n",
       "      <th>output_ready</th>\n",
       "      <th>file_path</th>\n",
       "    </tr>\n",
       "  </thead>\n",
       "  <tbody>\n",
       "    <tr>\n",
       "      <th>0</th>\n",
       "      <td>2</td>\n",
       "      <td></td>\n",
       "      <td>da5ce3a27254d1f118ad19a64728e063f5508e53870da3...</td>\n",
       "      <td>node_library/math/Sin</td>\n",
       "      <td>2024-06-15 09:54:25.239067</td>\n",
       "      <td>{'x': '[8]'}</td>\n",
       "      <td>False</td>\n",
       "      <td></td>\n",
       "    </tr>\n",
       "    <tr>\n",
       "      <th>1</th>\n",
       "      <td>3</td>\n",
       "      <td></td>\n",
       "      <td>ad5107dc887ec851fadc22a9d63ec7bfafa518f79ec3d7...</td>\n",
       "      <td>node_library/math/Sin</td>\n",
       "      <td>2024-06-15 09:57:19.661584</td>\n",
       "      <td>{'x': '[7]'}</td>\n",
       "      <td>True</td>\n",
       "      <td>node_library/math/Sin/3</td>\n",
       "    </tr>\n",
       "    <tr>\n",
       "      <th>2</th>\n",
       "      <td>4</td>\n",
       "      <td></td>\n",
       "      <td>c16d79b83fad085c61d52223687f65ac5f258005921c83...</td>\n",
       "      <td>node_library/math/Sin</td>\n",
       "      <td>2024-06-15 12:51:12.179914</td>\n",
       "      <td>{'x': '[17]'}</td>\n",
       "      <td>True</td>\n",
       "      <td>node_library/math/Sin/4</td>\n",
       "    </tr>\n",
       "    <tr>\n",
       "      <th>3</th>\n",
       "      <td>5</td>\n",
       "      <td></td>\n",
       "      <td>627be35de16dc8fa1bbb384f46cf9a63c1843d7d24b51d...</td>\n",
       "      <td>node_library/math/Sin</td>\n",
       "      <td>2024-06-15 13:05:02.263759</td>\n",
       "      <td>{'x': '[11]'}</td>\n",
       "      <td>True</td>\n",
       "      <td>node_library/math/Sin/5</td>\n",
       "    </tr>\n",
       "  </tbody>\n",
       "</table>\n",
       "</div>"
      ],
      "text/plain": [
       "   node_id name                                         hash_value  \\\n",
       "0        2       da5ce3a27254d1f118ad19a64728e063f5508e53870da3...   \n",
       "1        3       ad5107dc887ec851fadc22a9d63ec7bfafa518f79ec3d7...   \n",
       "2        4       c16d79b83fad085c61d52223687f65ac5f258005921c83...   \n",
       "3        5       627be35de16dc8fa1bbb384f46cf9a63c1843d7d24b51d...   \n",
       "\n",
       "                lib_path              creation_date           data  \\\n",
       "0  node_library/math/Sin 2024-06-15 09:54:25.239067   {'x': '[8]'}   \n",
       "1  node_library/math/Sin 2024-06-15 09:57:19.661584   {'x': '[7]'}   \n",
       "2  node_library/math/Sin 2024-06-15 12:51:12.179914  {'x': '[17]'}   \n",
       "3  node_library/math/Sin 2024-06-15 13:05:02.263759  {'x': '[11]'}   \n",
       "\n",
       "   output_ready                file_path  \n",
       "0         False                           \n",
       "1          True  node_library/math/Sin/3  \n",
       "2          True  node_library/math/Sin/4  \n",
       "3          True  node_library/math/Sin/5  "
      ]
     },
     "execution_count": 9,
     "metadata": {},
     "output_type": "execute_result"
    }
   ],
   "source": [
    "df = hs.list_table(db)\n",
    "df"
   ]
  },
  {
   "cell_type": "code",
   "execution_count": 10,
   "id": "c2237626-dcb0-4eb6-adf9-96e312a5d39f",
   "metadata": {},
   "outputs": [
    {
     "data": {
      "text/html": [
       "<div>\n",
       "<style scoped>\n",
       "    .dataframe tbody tr th:only-of-type {\n",
       "        vertical-align: middle;\n",
       "    }\n",
       "\n",
       "    .dataframe tbody tr th {\n",
       "        vertical-align: top;\n",
       "    }\n",
       "\n",
       "    .dataframe thead th {\n",
       "        text-align: right;\n",
       "    }\n",
       "</style>\n",
       "<table border=\"1\" class=\"dataframe\">\n",
       "  <thead>\n",
       "    <tr style=\"text-align: right;\">\n",
       "      <th></th>\n",
       "      <th>node_id</th>\n",
       "      <th>name</th>\n",
       "      <th>hash_value</th>\n",
       "      <th>lib_path</th>\n",
       "      <th>creation_date</th>\n",
       "      <th>output_ready</th>\n",
       "      <th>file_path</th>\n",
       "      <th>x</th>\n",
       "    </tr>\n",
       "  </thead>\n",
       "  <tbody>\n",
       "    <tr>\n",
       "      <th>0</th>\n",
       "      <td>2</td>\n",
       "      <td></td>\n",
       "      <td>da5ce3a27254d1f118ad19a64728e063f5508e53870da3...</td>\n",
       "      <td>node_library/math/Sin</td>\n",
       "      <td>2024-06-15 09:54:25.239067</td>\n",
       "      <td>False</td>\n",
       "      <td></td>\n",
       "      <td>[8]</td>\n",
       "    </tr>\n",
       "    <tr>\n",
       "      <th>1</th>\n",
       "      <td>3</td>\n",
       "      <td></td>\n",
       "      <td>ad5107dc887ec851fadc22a9d63ec7bfafa518f79ec3d7...</td>\n",
       "      <td>node_library/math/Sin</td>\n",
       "      <td>2024-06-15 09:57:19.661584</td>\n",
       "      <td>True</td>\n",
       "      <td>node_library/math/Sin/3</td>\n",
       "      <td>[7]</td>\n",
       "    </tr>\n",
       "    <tr>\n",
       "      <th>2</th>\n",
       "      <td>4</td>\n",
       "      <td></td>\n",
       "      <td>c16d79b83fad085c61d52223687f65ac5f258005921c83...</td>\n",
       "      <td>node_library/math/Sin</td>\n",
       "      <td>2024-06-15 12:51:12.179914</td>\n",
       "      <td>True</td>\n",
       "      <td>node_library/math/Sin/4</td>\n",
       "      <td>[17]</td>\n",
       "    </tr>\n",
       "    <tr>\n",
       "      <th>3</th>\n",
       "      <td>5</td>\n",
       "      <td></td>\n",
       "      <td>627be35de16dc8fa1bbb384f46cf9a63c1843d7d24b51d...</td>\n",
       "      <td>node_library/math/Sin</td>\n",
       "      <td>2024-06-15 13:05:02.263759</td>\n",
       "      <td>True</td>\n",
       "      <td>node_library/math/Sin/5</td>\n",
       "      <td>[11]</td>\n",
       "    </tr>\n",
       "  </tbody>\n",
       "</table>\n",
       "</div>"
      ],
      "text/plain": [
       "   node_id name                                         hash_value  \\\n",
       "0        2       da5ce3a27254d1f118ad19a64728e063f5508e53870da3...   \n",
       "1        3       ad5107dc887ec851fadc22a9d63ec7bfafa518f79ec3d7...   \n",
       "2        4       c16d79b83fad085c61d52223687f65ac5f258005921c83...   \n",
       "3        5       627be35de16dc8fa1bbb384f46cf9a63c1843d7d24b51d...   \n",
       "\n",
       "                lib_path              creation_date  output_ready  \\\n",
       "0  node_library/math/Sin 2024-06-15 09:54:25.239067         False   \n",
       "1  node_library/math/Sin 2024-06-15 09:57:19.661584          True   \n",
       "2  node_library/math/Sin 2024-06-15 12:51:12.179914          True   \n",
       "3  node_library/math/Sin 2024-06-15 13:05:02.263759          True   \n",
       "\n",
       "                 file_path     x  \n",
       "0                            [8]  \n",
       "1  node_library/math/Sin/3   [7]  \n",
       "2  node_library/math/Sin/4  [17]  \n",
       "3  node_library/math/Sin/5  [11]  "
      ]
     },
     "execution_count": 10,
     "metadata": {},
     "output_type": "execute_result"
    }
   ],
   "source": [
    "hs.transform_data_column(df)"
   ]
  },
  {
   "cell_type": "code",
   "execution_count": 11,
   "id": "97bce6d3-7c70-4aa2-ad6f-04d25a769a11",
   "metadata": {},
   "outputs": [
    {
     "data": {
      "text/html": [
       "<div>\n",
       "<style scoped>\n",
       "    .dataframe tbody tr th:only-of-type {\n",
       "        vertical-align: middle;\n",
       "    }\n",
       "\n",
       "    .dataframe tbody tr th {\n",
       "        vertical-align: top;\n",
       "    }\n",
       "\n",
       "    .dataframe thead th {\n",
       "        text-align: right;\n",
       "    }\n",
       "</style>\n",
       "<table border=\"1\" class=\"dataframe\">\n",
       "  <thead>\n",
       "    <tr style=\"text-align: right;\">\n",
       "      <th></th>\n",
       "    </tr>\n",
       "  </thead>\n",
       "  <tbody>\n",
       "  </tbody>\n",
       "</table>\n",
       "</div>"
      ],
      "text/plain": [
       "Empty DataFrame\n",
       "Columns: []\n",
       "Index: []"
      ]
     },
     "execution_count": 11,
     "metadata": {},
     "output_type": "execute_result"
    }
   ],
   "source": [
    "hs.db_query_dict(db, x='[1]')"
   ]
  },
  {
   "cell_type": "markdown",
   "id": "376ec23a-f730-4f13-a423-85d4a94a4715",
   "metadata": {},
   "source": [
    "### Connect to pyiron_workflow"
   ]
  },
  {
   "cell_type": "code",
   "execution_count": 12,
   "id": "7f721e8b-b96e-4d41-adcd-b86d087694c6",
   "metadata": {},
   "outputs": [],
   "source": [
    "from pyiron_workflow import Workflow"
   ]
  },
  {
   "cell_type": "code",
   "execution_count": 13,
   "id": "d710c442-dded-453e-b8d6-f0d2084b6c1d",
   "metadata": {},
   "outputs": [],
   "source": [
    "# Register the necessary node packages                                                                        \n",
    "Workflow.register(\"node_library.math\", \"math\")"
   ]
  },
  {
   "cell_type": "code",
   "execution_count": 14,
   "id": "728fc684-0916-4c9b-90ea-808ff5143f9b",
   "metadata": {},
   "outputs": [
    {
     "data": {
      "text/plain": [
       "NOT_DATA"
      ]
     },
     "execution_count": 14,
     "metadata": {},
     "output_type": "execute_result"
    }
   ],
   "source": [
    "sin = Workflow.create.math.Sin(x=[17])\n",
    "sin.outputs.sin.value"
   ]
  },
  {
   "cell_type": "code",
   "execution_count": 15,
   "id": "99c2f022-5d69-42f2-ab01-066ba6585ac5",
   "metadata": {},
   "outputs": [
    {
     "data": {
      "text/html": [
       "<div>\n",
       "<style scoped>\n",
       "    .dataframe tbody tr th:only-of-type {\n",
       "        vertical-align: middle;\n",
       "    }\n",
       "\n",
       "    .dataframe tbody tr th {\n",
       "        vertical-align: top;\n",
       "    }\n",
       "\n",
       "    .dataframe thead th {\n",
       "        text-align: right;\n",
       "    }\n",
       "</style>\n",
       "<table border=\"1\" class=\"dataframe\">\n",
       "  <thead>\n",
       "    <tr style=\"text-align: right;\">\n",
       "      <th></th>\n",
       "      <th>node_id</th>\n",
       "      <th>name</th>\n",
       "      <th>hash_value</th>\n",
       "      <th>lib_path</th>\n",
       "      <th>creation_date</th>\n",
       "      <th>data</th>\n",
       "      <th>output_ready</th>\n",
       "      <th>file_path</th>\n",
       "    </tr>\n",
       "  </thead>\n",
       "  <tbody>\n",
       "    <tr>\n",
       "      <th>0</th>\n",
       "      <td>2</td>\n",
       "      <td></td>\n",
       "      <td>da5ce3a27254d1f118ad19a64728e063f5508e53870da3...</td>\n",
       "      <td>node_library/math/Sin</td>\n",
       "      <td>2024-06-15 09:54:25.239067</td>\n",
       "      <td>{'x': '[8]'}</td>\n",
       "      <td>False</td>\n",
       "      <td></td>\n",
       "    </tr>\n",
       "    <tr>\n",
       "      <th>1</th>\n",
       "      <td>3</td>\n",
       "      <td></td>\n",
       "      <td>ad5107dc887ec851fadc22a9d63ec7bfafa518f79ec3d7...</td>\n",
       "      <td>node_library/math/Sin</td>\n",
       "      <td>2024-06-15 09:57:19.661584</td>\n",
       "      <td>{'x': '[7]'}</td>\n",
       "      <td>True</td>\n",
       "      <td>node_library/math/Sin/3</td>\n",
       "    </tr>\n",
       "    <tr>\n",
       "      <th>2</th>\n",
       "      <td>4</td>\n",
       "      <td></td>\n",
       "      <td>c16d79b83fad085c61d52223687f65ac5f258005921c83...</td>\n",
       "      <td>node_library/math/Sin</td>\n",
       "      <td>2024-06-15 12:51:12.179914</td>\n",
       "      <td>{'x': '[17]'}</td>\n",
       "      <td>True</td>\n",
       "      <td>node_library/math/Sin/4</td>\n",
       "    </tr>\n",
       "    <tr>\n",
       "      <th>3</th>\n",
       "      <td>5</td>\n",
       "      <td></td>\n",
       "      <td>627be35de16dc8fa1bbb384f46cf9a63c1843d7d24b51d...</td>\n",
       "      <td>node_library/math/Sin</td>\n",
       "      <td>2024-06-15 13:05:02.263759</td>\n",
       "      <td>{'x': '[11]'}</td>\n",
       "      <td>True</td>\n",
       "      <td>node_library/math/Sin/5</td>\n",
       "    </tr>\n",
       "  </tbody>\n",
       "</table>\n",
       "</div>"
      ],
      "text/plain": [
       "   node_id name                                         hash_value  \\\n",
       "0        2       da5ce3a27254d1f118ad19a64728e063f5508e53870da3...   \n",
       "1        3       ad5107dc887ec851fadc22a9d63ec7bfafa518f79ec3d7...   \n",
       "2        4       c16d79b83fad085c61d52223687f65ac5f258005921c83...   \n",
       "3        5       627be35de16dc8fa1bbb384f46cf9a63c1843d7d24b51d...   \n",
       "\n",
       "                lib_path              creation_date           data  \\\n",
       "0  node_library/math/Sin 2024-06-15 09:54:25.239067   {'x': '[8]'}   \n",
       "1  node_library/math/Sin 2024-06-15 09:57:19.661584   {'x': '[7]'}   \n",
       "2  node_library/math/Sin 2024-06-15 12:51:12.179914  {'x': '[17]'}   \n",
       "3  node_library/math/Sin 2024-06-15 13:05:02.263759  {'x': '[11]'}   \n",
       "\n",
       "   output_ready                file_path  \n",
       "0         False                           \n",
       "1          True  node_library/math/Sin/3  \n",
       "2          True  node_library/math/Sin/4  \n",
       "3          True  node_library/math/Sin/5  "
      ]
     },
     "execution_count": 15,
     "metadata": {},
     "output_type": "execute_result"
    }
   ],
   "source": [
    "df = hs.list_table(db)\n",
    "df"
   ]
  },
  {
   "cell_type": "code",
   "execution_count": 16,
   "id": "5b2af720-72fc-458c-85be-36e64b1b490c",
   "metadata": {},
   "outputs": [
    {
     "name": "stdout",
     "output_type": "stream",
     "text": [
      "save path:  /Users/joerg/python_projects/git_libs/pyiron_nodes/notebooks/node_library/math/Sin/4/project.h5\n"
     ]
    },
    {
     "data": {
      "text/plain": [
       "4"
      ]
     },
     "execution_count": 16,
     "metadata": {},
     "output_type": "execute_result"
    }
   ],
   "source": [
    "hs.save_node(sin, db) "
   ]
  },
  {
   "cell_type": "code",
   "execution_count": 17,
   "id": "ecc990ab-160b-4fe0-834c-99acf4c73820",
   "metadata": {},
   "outputs": [
    {
     "data": {
      "text/plain": [
       "([7], array([0.6569866]))"
      ]
     },
     "execution_count": 17,
     "metadata": {},
     "output_type": "execute_result"
    }
   ],
   "source": [
    "sin2 = hs.get_node_from_db_id(3, db)\n",
    "sin2.inputs.x.value, sin2.outputs.sin.value"
   ]
  },
  {
   "cell_type": "code",
   "execution_count": 18,
   "id": "e823de8b-5097-4e75-8b35-c2a6ef1140f8",
   "metadata": {},
   "outputs": [
    {
     "data": {
      "text/html": [
       "<div>\n",
       "<style scoped>\n",
       "    .dataframe tbody tr th:only-of-type {\n",
       "        vertical-align: middle;\n",
       "    }\n",
       "\n",
       "    .dataframe tbody tr th {\n",
       "        vertical-align: top;\n",
       "    }\n",
       "\n",
       "    .dataframe thead th {\n",
       "        text-align: right;\n",
       "    }\n",
       "</style>\n",
       "<table border=\"1\" class=\"dataframe\">\n",
       "  <thead>\n",
       "    <tr style=\"text-align: right;\">\n",
       "      <th></th>\n",
       "      <th>node_id</th>\n",
       "      <th>name</th>\n",
       "      <th>hash_value</th>\n",
       "      <th>lib_path</th>\n",
       "      <th>creation_date</th>\n",
       "      <th>data</th>\n",
       "      <th>output_ready</th>\n",
       "      <th>file_path</th>\n",
       "    </tr>\n",
       "  </thead>\n",
       "  <tbody>\n",
       "    <tr>\n",
       "      <th>0</th>\n",
       "      <td>2</td>\n",
       "      <td></td>\n",
       "      <td>da5ce3a27254d1f118ad19a64728e063f5508e53870da3...</td>\n",
       "      <td>node_library/math/Sin</td>\n",
       "      <td>2024-06-15 09:54:25.239067</td>\n",
       "      <td>{'x': '[8]'}</td>\n",
       "      <td>False</td>\n",
       "      <td></td>\n",
       "    </tr>\n",
       "    <tr>\n",
       "      <th>1</th>\n",
       "      <td>3</td>\n",
       "      <td></td>\n",
       "      <td>ad5107dc887ec851fadc22a9d63ec7bfafa518f79ec3d7...</td>\n",
       "      <td>node_library/math/Sin</td>\n",
       "      <td>2024-06-15 09:57:19.661584</td>\n",
       "      <td>{'x': '[7]'}</td>\n",
       "      <td>True</td>\n",
       "      <td>node_library/math/Sin/3</td>\n",
       "    </tr>\n",
       "    <tr>\n",
       "      <th>2</th>\n",
       "      <td>4</td>\n",
       "      <td></td>\n",
       "      <td>c16d79b83fad085c61d52223687f65ac5f258005921c83...</td>\n",
       "      <td>node_library/math/Sin</td>\n",
       "      <td>2024-06-15 12:51:12.179914</td>\n",
       "      <td>{'x': '[17]'}</td>\n",
       "      <td>True</td>\n",
       "      <td>node_library/math/Sin/4</td>\n",
       "    </tr>\n",
       "    <tr>\n",
       "      <th>3</th>\n",
       "      <td>5</td>\n",
       "      <td></td>\n",
       "      <td>627be35de16dc8fa1bbb384f46cf9a63c1843d7d24b51d...</td>\n",
       "      <td>node_library/math/Sin</td>\n",
       "      <td>2024-06-15 13:05:02.263759</td>\n",
       "      <td>{'x': '[11]'}</td>\n",
       "      <td>True</td>\n",
       "      <td>node_library/math/Sin/5</td>\n",
       "    </tr>\n",
       "  </tbody>\n",
       "</table>\n",
       "</div>"
      ],
      "text/plain": [
       "   node_id name                                         hash_value  \\\n",
       "0        2       da5ce3a27254d1f118ad19a64728e063f5508e53870da3...   \n",
       "1        3       ad5107dc887ec851fadc22a9d63ec7bfafa518f79ec3d7...   \n",
       "2        4       c16d79b83fad085c61d52223687f65ac5f258005921c83...   \n",
       "3        5       627be35de16dc8fa1bbb384f46cf9a63c1843d7d24b51d...   \n",
       "\n",
       "                lib_path              creation_date           data  \\\n",
       "0  node_library/math/Sin 2024-06-15 09:54:25.239067   {'x': '[8]'}   \n",
       "1  node_library/math/Sin 2024-06-15 09:57:19.661584   {'x': '[7]'}   \n",
       "2  node_library/math/Sin 2024-06-15 12:51:12.179914  {'x': '[17]'}   \n",
       "3  node_library/math/Sin 2024-06-15 13:05:02.263759  {'x': '[11]'}   \n",
       "\n",
       "   output_ready                file_path  \n",
       "0         False                           \n",
       "1          True  node_library/math/Sin/3  \n",
       "2          True  node_library/math/Sin/4  \n",
       "3          True  node_library/math/Sin/5  "
      ]
     },
     "execution_count": 18,
     "metadata": {},
     "output_type": "execute_result"
    }
   ],
   "source": [
    "hs.list_table(db)"
   ]
  },
  {
   "cell_type": "code",
   "execution_count": 19,
   "id": "fce6551d-5591-4479-adaa-5d595bd1513c",
   "metadata": {},
   "outputs": [
    {
     "name": "stdout",
     "output_type": "stream",
     "text": [
      "save path:  /Users/joerg/python_projects/git_libs/pyiron_nodes/notebooks/node_library/math/Sin/6/project.h5\n"
     ]
    }
   ],
   "source": [
    "sin = Workflow.create.math.Sin(x=[12])\n",
    "sin12 = hs.run_node(sin, db, verbose=True)"
   ]
  },
  {
   "cell_type": "code",
   "execution_count": 20,
   "id": "9ef54781-b6fb-48e9-b67f-cc4c93e924c8",
   "metadata": {},
   "outputs": [
    {
     "data": {
      "application/json": {
       "connected": false,
       "fully_connected": false,
       "inputs": {
        "channels": {
         "x": {
          "connected": false,
          "connections": [],
          "label": "x",
          "ready": true,
          "type_hint": "typing.Union[list, numpy.ndarray, NoneType]",
          "value": "[12]"
         }
        },
        "connected": false,
        "fully_connected": false,
        "label": "Inputs",
        "ready": true
       },
       "label": "Sin",
       "outputs": {
        "channels": {
         "sin": {
          "connected": false,
          "connections": [],
          "label": "sin",
          "ready": true,
          "type_hint": "None",
          "value": "array([-0.53657292])"
         }
        },
        "connected": false,
        "fully_connected": false,
        "label": "OutputsWithInjection",
        "ready": true
       },
       "ready": true,
       "signals": {
        "input": {
         "channels": {
          "accumulate_and_run": {
           "callback": "run",
           "connected": false,
           "connections": [],
           "label": "accumulate_and_run"
          },
          "run": {
           "callback": "run",
           "connected": false,
           "connections": [],
           "label": "run"
          }
         },
         "connected": false,
         "fully_connected": false,
         "label": "InputSignals"
        },
        "output": {
         "channels": {
          "ran": {
           "connected": false,
           "connections": [],
           "label": "ran"
          }
         },
         "connected": false,
         "fully_connected": false,
         "label": "OutputSignals"
        }
       }
      },
      "text/plain": [
       "<node_library.math.Sin at 0x177074890>"
      ]
     },
     "execution_count": 20,
     "metadata": {},
     "output_type": "execute_result"
    }
   ],
   "source": [
    "sin"
   ]
  },
  {
   "cell_type": "code",
   "execution_count": 21,
   "id": "374ce891-c254-4187-aec7-e9ad0a9d137f",
   "metadata": {},
   "outputs": [
    {
     "data": {
      "application/json": {
       "connected": false,
       "connections": [],
       "label": "sin",
       "ready": true,
       "type_hint": "None",
       "value": "array([-0.53657292])"
      },
      "text/plain": [
       "<pyiron_workflow.injection.OutputDataWithInjection at 0x1770804d0>"
      ]
     },
     "execution_count": 21,
     "metadata": {},
     "output_type": "execute_result"
    }
   ],
   "source": [
    "sin.outputs.sin"
   ]
  },
  {
   "cell_type": "code",
   "execution_count": 24,
   "id": "d1d4ba3b-78e9-4960-9f58-2cd40b7aba28",
   "metadata": {},
   "outputs": [
    {
     "name": "stdout",
     "output_type": "stream",
     "text": [
      "Node id: 0 does not exist\n",
      "Node id: 1 does not exist\n",
      "Node id: 2, inputs: [8], outputs: NOT_DATA\n",
      "Node id: 3, inputs: [7], outputs: [0.6569866]\n",
      "Node id: 4, inputs: [17], outputs: [-0.96139749]\n",
      "Node id: 5, inputs: [11], outputs: [-0.99999021]\n",
      "Node id: 6, inputs: [12], outputs: [-0.53657292]\n",
      "Node id: 7 does not exist\n"
     ]
    }
   ],
   "source": [
    "for node_id in range(8):\n",
    "    sin2 = hs.get_node_from_db_id(node_id, db)\n",
    "    if sin2 is not None:\n",
    "        print (f'Node id: {node_id}, inputs: {sin2.inputs.x.value}, outputs: {sin2.outputs.sin.value}')\n",
    "    else:\n",
    "        print (f'Node id: {node_id} does not exist')"
   ]
  },
  {
   "cell_type": "markdown",
   "id": "041d392f-9c2c-459c-ab3c-7db65b2bf2c7",
   "metadata": {},
   "source": [
    "### Real world example"
   ]
  },
  {
   "cell_type": "code",
   "execution_count": null,
   "id": "4c36428a-58ad-44a7-ac1f-37b9e441fcb2",
   "metadata": {},
   "outputs": [],
   "source": []
  }
 ],
 "metadata": {
  "kernelspec": {
   "display_name": "Python 3 (ipykernel)",
   "language": "python",
   "name": "python3"
  },
  "language_info": {
   "codemirror_mode": {
    "name": "ipython",
    "version": 3
   },
   "file_extension": ".py",
   "mimetype": "text/x-python",
   "name": "python",
   "nbconvert_exporter": "python",
   "pygments_lexer": "ipython3",
   "version": "3.11.7"
  }
 },
 "nbformat": 4,
 "nbformat_minor": 5
}
