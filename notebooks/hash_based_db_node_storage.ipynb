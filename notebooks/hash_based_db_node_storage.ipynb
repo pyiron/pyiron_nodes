{
 "cells": [
  {
   "cell_type": "markdown",
   "id": "1556a45d-18a5-41ba-b868-7a86c32feab7",
   "metadata": {},
   "source": [
    "# Develop and test hash based node storage"
   ]
  },
  {
   "cell_type": "markdown",
   "id": "36a4ccfd-47b3-4614-a902-f374b170e614",
   "metadata": {},
   "source": [
    "The following implementation requires a postgres database, to work and query json data types. To run this notebook requires therefore to setup a postgres server. I use the following tool, which however works only on a Mac: [https://postgresapp.com](https://postgresapp.com)\n",
    "\n",
    "Add in pyiron_workflows in function.py in def function_node_factory the following code line:\n",
    "\n",
    "    \"__annotate__\": node_function.__annotate if hasattr(node_function, '__annotate__') else None,"
   ]
  },
  {
   "cell_type": "markdown",
   "id": "3ac6c73a-88d5-46da-83f1-96e99bcdc78a",
   "metadata": {},
   "source": [
    "### Set path, import etc."
   ]
  },
  {
   "cell_type": "code",
   "execution_count": 1,
   "id": "032b844f-e91c-49c2-b90f-88a0beb2a06b",
   "metadata": {},
   "outputs": [],
   "source": [
    "import sys\n",
    "from pathlib import Path\n",
    "sys.path.insert(0, str(Path(Path.cwd()).parent))"
   ]
  },
  {
   "cell_type": "code",
   "execution_count": 2,
   "id": "69ea92b2-b2e6-4cb8-b193-ddc443db6b18",
   "metadata": {},
   "outputs": [],
   "source": [
    "import warnings\n",
    "warnings.filterwarnings(\"ignore\")\n",
    "\n",
    "%config IPCompleter.evaluation='unsafe'"
   ]
  },
  {
   "cell_type": "code",
   "execution_count": 3,
   "id": "69f6418c-d5e8-4e8c-b0c7-0d5150bf34f7",
   "metadata": {},
   "outputs": [
    {
     "data": {
      "application/vnd.jupyter.widget-view+json": {
       "model_id": "d26a640513fe4b6896c57067d319aae6",
       "version_major": 2,
       "version_minor": 0
      },
      "text/plain": []
     },
     "metadata": {},
     "output_type": "display_data"
    }
   ],
   "source": [
    "from pyiron_nodes.development import hash_based_storage as hs"
   ]
  },
  {
   "cell_type": "markdown",
   "id": "e5bd2b13-70f7-4498-9600-238b12a6c1bf",
   "metadata": {},
   "source": [
    "### Perform a few tests for the hash_based_storage module"
   ]
  },
  {
   "cell_type": "code",
   "execution_count": 4,
   "id": "64b4d5be-ce75-4977-a563-b02c6b1b2d26",
   "metadata": {},
   "outputs": [],
   "source": [
    "db = hs.create_nodes_table(echo=False)"
   ]
  },
  {
   "cell_type": "code",
   "execution_count": 5,
   "id": "6ba106e0-bb21-417f-8c6c-5686ccbc1e44",
   "metadata": {},
   "outputs": [
    {
     "data": {
      "text/plain": [
       "['node_id',\n",
       " 'name',\n",
       " 'hash_value',\n",
       " 'lib_path',\n",
       " 'creation_date',\n",
       " 'inputs',\n",
       " 'outputs',\n",
       " 'output_ready',\n",
       " 'file_path']"
      ]
     },
     "execution_count": 5,
     "metadata": {},
     "output_type": "execute_result"
    }
   ],
   "source": [
    "hs.list_column_names(db, 'node')"
   ]
  },
  {
   "cell_type": "markdown",
   "id": "1af4e2d5-a2bb-4a68-b5f6-c3b0827a96a1",
   "metadata": {},
   "source": [
    "**Note:** Uncomment the following line if you have modified the table structure. After deleting the table comment this block and rerun the notebook (to run create_nodes_table)"
   ]
  },
  {
   "cell_type": "code",
   "execution_count": 6,
   "id": "c1a2619d-0d3c-4343-bc0a-fcebcba36cbb",
   "metadata": {},
   "outputs": [],
   "source": [
    "hs.drop_table(db, 'node')\n",
    "# hs.list_column_names(db, 'node')\n",
    "db = hs.create_nodes_table(echo=False)"
   ]
  },
  {
   "cell_type": "code",
   "execution_count": 7,
   "id": "e689dd0b-f953-4789-b447-629782fa6580",
   "metadata": {},
   "outputs": [
    {
     "data": {
      "text/html": [
       "<div>\n",
       "<style scoped>\n",
       "    .dataframe tbody tr th:only-of-type {\n",
       "        vertical-align: middle;\n",
       "    }\n",
       "\n",
       "    .dataframe tbody tr th {\n",
       "        vertical-align: top;\n",
       "    }\n",
       "\n",
       "    .dataframe thead th {\n",
       "        text-align: right;\n",
       "    }\n",
       "</style>\n",
       "<table border=\"1\" class=\"dataframe\">\n",
       "  <thead>\n",
       "    <tr style=\"text-align: right;\">\n",
       "      <th></th>\n",
       "      <th>node_id</th>\n",
       "      <th>name</th>\n",
       "      <th>hash_value</th>\n",
       "      <th>lib_path</th>\n",
       "      <th>creation_date</th>\n",
       "      <th>inputs</th>\n",
       "      <th>outputs</th>\n",
       "      <th>output_ready</th>\n",
       "      <th>file_path</th>\n",
       "    </tr>\n",
       "  </thead>\n",
       "  <tbody>\n",
       "  </tbody>\n",
       "</table>\n",
       "</div>"
      ],
      "text/plain": [
       "Empty DataFrame\n",
       "Columns: [node_id, name, hash_value, lib_path, creation_date, inputs, outputs, output_ready, file_path]\n",
       "Index: []"
      ]
     },
     "execution_count": 7,
     "metadata": {},
     "output_type": "execute_result"
    }
   ],
   "source": [
    "hs.list_table(db)"
   ]
  },
  {
   "cell_type": "code",
   "execution_count": 8,
   "id": "a2be3618-5b58-4b00-a0a2-01abd0c82de9",
   "metadata": {},
   "outputs": [],
   "source": [
    "hs.remove_nodes_from_db(db, indices=[12, 13]);"
   ]
  },
  {
   "cell_type": "code",
   "execution_count": 9,
   "id": "4309219b-8ce1-4078-8823-460b07fc6851",
   "metadata": {},
   "outputs": [
    {
     "data": {
      "text/html": [
       "<div>\n",
       "<style scoped>\n",
       "    .dataframe tbody tr th:only-of-type {\n",
       "        vertical-align: middle;\n",
       "    }\n",
       "\n",
       "    .dataframe tbody tr th {\n",
       "        vertical-align: top;\n",
       "    }\n",
       "\n",
       "    .dataframe thead th {\n",
       "        text-align: right;\n",
       "    }\n",
       "</style>\n",
       "<table border=\"1\" class=\"dataframe\">\n",
       "  <thead>\n",
       "    <tr style=\"text-align: right;\">\n",
       "      <th></th>\n",
       "      <th>node_id</th>\n",
       "      <th>name</th>\n",
       "      <th>hash_value</th>\n",
       "      <th>lib_path</th>\n",
       "      <th>creation_date</th>\n",
       "      <th>inputs</th>\n",
       "      <th>outputs</th>\n",
       "      <th>output_ready</th>\n",
       "      <th>file_path</th>\n",
       "    </tr>\n",
       "  </thead>\n",
       "  <tbody>\n",
       "  </tbody>\n",
       "</table>\n",
       "</div>"
      ],
      "text/plain": [
       "Empty DataFrame\n",
       "Columns: [node_id, name, hash_value, lib_path, creation_date, inputs, outputs, output_ready, file_path]\n",
       "Index: []"
      ]
     },
     "execution_count": 9,
     "metadata": {},
     "output_type": "execute_result"
    }
   ],
   "source": [
    "df = hs.list_table(db)\n",
    "df"
   ]
  },
  {
   "cell_type": "code",
   "execution_count": 10,
   "id": "c2237626-dcb0-4eb6-adf9-96e312a5d39f",
   "metadata": {},
   "outputs": [
    {
     "data": {
      "text/html": [
       "<div>\n",
       "<style scoped>\n",
       "    .dataframe tbody tr th:only-of-type {\n",
       "        vertical-align: middle;\n",
       "    }\n",
       "\n",
       "    .dataframe tbody tr th {\n",
       "        vertical-align: top;\n",
       "    }\n",
       "\n",
       "    .dataframe thead th {\n",
       "        text-align: right;\n",
       "    }\n",
       "</style>\n",
       "<table border=\"1\" class=\"dataframe\">\n",
       "  <thead>\n",
       "    <tr style=\"text-align: right;\">\n",
       "      <th></th>\n",
       "      <th>node_id</th>\n",
       "      <th>name</th>\n",
       "      <th>hash_value</th>\n",
       "      <th>lib_path</th>\n",
       "      <th>creation_date</th>\n",
       "      <th>outputs</th>\n",
       "      <th>output_ready</th>\n",
       "      <th>file_path</th>\n",
       "    </tr>\n",
       "  </thead>\n",
       "  <tbody>\n",
       "  </tbody>\n",
       "</table>\n",
       "</div>"
      ],
      "text/plain": [
       "Empty DataFrame\n",
       "Columns: [node_id, name, hash_value, lib_path, creation_date, outputs, output_ready, file_path]\n",
       "Index: []"
      ]
     },
     "execution_count": 10,
     "metadata": {},
     "output_type": "execute_result"
    }
   ],
   "source": [
    "hs.transform_data_column(df)"
   ]
  },
  {
   "cell_type": "code",
   "execution_count": 11,
   "id": "97bce6d3-7c70-4aa2-ad6f-04d25a769a11",
   "metadata": {},
   "outputs": [
    {
     "data": {
      "text/html": [
       "<div>\n",
       "<style scoped>\n",
       "    .dataframe tbody tr th:only-of-type {\n",
       "        vertical-align: middle;\n",
       "    }\n",
       "\n",
       "    .dataframe tbody tr th {\n",
       "        vertical-align: top;\n",
       "    }\n",
       "\n",
       "    .dataframe thead th {\n",
       "        text-align: right;\n",
       "    }\n",
       "</style>\n",
       "<table border=\"1\" class=\"dataframe\">\n",
       "  <thead>\n",
       "    <tr style=\"text-align: right;\">\n",
       "      <th></th>\n",
       "    </tr>\n",
       "  </thead>\n",
       "  <tbody>\n",
       "  </tbody>\n",
       "</table>\n",
       "</div>"
      ],
      "text/plain": [
       "Empty DataFrame\n",
       "Columns: []\n",
       "Index: []"
      ]
     },
     "execution_count": 11,
     "metadata": {},
     "output_type": "execute_result"
    }
   ],
   "source": [
    "hs.db_query_dict(db, x='[17]')"
   ]
  },
  {
   "cell_type": "markdown",
   "id": "376ec23a-f730-4f13-a423-85d4a94a4715",
   "metadata": {},
   "source": [
    "### Connect to pyiron_workflow"
   ]
  },
  {
   "cell_type": "code",
   "execution_count": 12,
   "id": "02139598-8ca8-49f6-853a-d5a203d667f9",
   "metadata": {},
   "outputs": [],
   "source": [
    "from pyiron_workflow import Workflow\n",
    "import pyiron_nodes as pn"
   ]
  },
  {
   "cell_type": "code",
   "execution_count": 13,
   "id": "728fc684-0916-4c9b-90ea-808ff5143f9b",
   "metadata": {},
   "outputs": [
    {
     "data": {
      "text/plain": [
       "NOT_DATA"
      ]
     },
     "execution_count": 13,
     "metadata": {},
     "output_type": "execute_result"
    }
   ],
   "source": [
    "sin = pn.math.Sin(x=[16])\n",
    "sin.outputs.sin.value"
   ]
  },
  {
   "cell_type": "code",
   "execution_count": 14,
   "id": "99c2f022-5d69-42f2-ab01-066ba6585ac5",
   "metadata": {},
   "outputs": [
    {
     "data": {
      "text/html": [
       "<div>\n",
       "<style scoped>\n",
       "    .dataframe tbody tr th:only-of-type {\n",
       "        vertical-align: middle;\n",
       "    }\n",
       "\n",
       "    .dataframe tbody tr th {\n",
       "        vertical-align: top;\n",
       "    }\n",
       "\n",
       "    .dataframe thead th {\n",
       "        text-align: right;\n",
       "    }\n",
       "</style>\n",
       "<table border=\"1\" class=\"dataframe\">\n",
       "  <thead>\n",
       "    <tr style=\"text-align: right;\">\n",
       "      <th></th>\n",
       "      <th>node_id</th>\n",
       "      <th>name</th>\n",
       "      <th>hash_value</th>\n",
       "      <th>lib_path</th>\n",
       "      <th>creation_date</th>\n",
       "      <th>inputs</th>\n",
       "      <th>outputs</th>\n",
       "      <th>output_ready</th>\n",
       "      <th>file_path</th>\n",
       "    </tr>\n",
       "  </thead>\n",
       "  <tbody>\n",
       "  </tbody>\n",
       "</table>\n",
       "</div>"
      ],
      "text/plain": [
       "Empty DataFrame\n",
       "Columns: [node_id, name, hash_value, lib_path, creation_date, inputs, outputs, output_ready, file_path]\n",
       "Index: []"
      ]
     },
     "execution_count": 14,
     "metadata": {},
     "output_type": "execute_result"
    }
   ],
   "source": [
    "df = hs.list_table(db)\n",
    "df"
   ]
  },
  {
   "cell_type": "code",
   "execution_count": 15,
   "id": "556729ab-864a-4ce1-bf25-f9f903e9a6c1",
   "metadata": {},
   "outputs": [
    {
     "data": {
      "text/plain": [
       "{'sin': 'NOT_DATA'}"
      ]
     },
     "execution_count": 15,
     "metadata": {},
     "output_type": "execute_result"
    }
   ],
   "source": [
    "# hs.get_json_size(hs.extract_node_output(sin))# , \n",
    "hs.extract_node_output(sin)"
   ]
  },
  {
   "cell_type": "code",
   "execution_count": 16,
   "id": "99f762d2-6337-46b2-ab49-e75276f7aeff",
   "metadata": {},
   "outputs": [
    {
     "data": {
      "text/plain": [
       "[]"
      ]
     },
     "execution_count": 16,
     "metadata": {},
     "output_type": "execute_result"
    }
   ],
   "source": [
    "sin.inputs['x'].connections"
   ]
  },
  {
   "cell_type": "code",
   "execution_count": 17,
   "id": "8cbab16c-3b35-43a4-b127-3222d3ad7582",
   "metadata": {},
   "outputs": [
    {
     "data": {
      "text/plain": [
       "{'sin': 'NOT_DATA'}"
      ]
     },
     "execution_count": 17,
     "metadata": {},
     "output_type": "execute_result"
    }
   ],
   "source": [
    "hs.extract_node_output(sin, as_string=True)"
   ]
  },
  {
   "cell_type": "code",
   "execution_count": 18,
   "id": "bbb8c042-4560-4f86-a9db-2265648f4c51",
   "metadata": {},
   "outputs": [
    {
     "name": "stdout",
     "output_type": "stream",
     "text": [
      "False\n"
     ]
    }
   ],
   "source": [
    "# hs.get_all_connected_input_nodes(sin)\n",
    "sin.inputs['x'].connections\n",
    "id(sin)\n",
    "for label in sin.inputs.labels:\n",
    "    print (sin.inputs[label].connected)"
   ]
  },
  {
   "cell_type": "code",
   "execution_count": 19,
   "id": "5b2af720-72fc-458c-85be-36e64b1b490c",
   "metadata": {},
   "outputs": [
    {
     "data": {
      "text/plain": [
       "1"
      ]
     },
     "execution_count": 19,
     "metadata": {},
     "output_type": "execute_result"
    }
   ],
   "source": [
    "hs.save_node(sin, db) "
   ]
  },
  {
   "cell_type": "code",
   "execution_count": 20,
   "id": "c26bdf7c-3d18-4d7c-9592-144b5dae5a74",
   "metadata": {},
   "outputs": [
    {
     "data": {
      "text/plain": [
       "'pyiron_nodes/math/Sin'"
      ]
     },
     "execution_count": 20,
     "metadata": {},
     "output_type": "execute_result"
    }
   ],
   "source": [
    "hs.get_node_storage_path(sin)"
   ]
  },
  {
   "cell_type": "code",
   "execution_count": 21,
   "id": "e823de8b-5097-4e75-8b35-c2a6ef1140f8",
   "metadata": {},
   "outputs": [
    {
     "data": {
      "text/html": [
       "<div>\n",
       "<style scoped>\n",
       "    .dataframe tbody tr th:only-of-type {\n",
       "        vertical-align: middle;\n",
       "    }\n",
       "\n",
       "    .dataframe tbody tr th {\n",
       "        vertical-align: top;\n",
       "    }\n",
       "\n",
       "    .dataframe thead th {\n",
       "        text-align: right;\n",
       "    }\n",
       "</style>\n",
       "<table border=\"1\" class=\"dataframe\">\n",
       "  <thead>\n",
       "    <tr style=\"text-align: right;\">\n",
       "      <th></th>\n",
       "      <th>node_id</th>\n",
       "      <th>name</th>\n",
       "      <th>hash_value</th>\n",
       "      <th>lib_path</th>\n",
       "      <th>creation_date</th>\n",
       "      <th>inputs</th>\n",
       "      <th>outputs</th>\n",
       "      <th>output_ready</th>\n",
       "      <th>file_path</th>\n",
       "    </tr>\n",
       "  </thead>\n",
       "  <tbody>\n",
       "    <tr>\n",
       "      <th>0</th>\n",
       "      <td>1</td>\n",
       "      <td></td>\n",
       "      <td>7b760e45dd171478eccbca742bfe01fe13ee15dd5ae35b...</td>\n",
       "      <td>pyiron_nodes/math/Sin</td>\n",
       "      <td>2024-10-14 18:36:36.484960</td>\n",
       "      <td>{'x': '[16]'}</td>\n",
       "      <td>{'sin': '[-0.28790332]'}</td>\n",
       "      <td>True</td>\n",
       "      <td></td>\n",
       "    </tr>\n",
       "  </tbody>\n",
       "</table>\n",
       "</div>"
      ],
      "text/plain": [
       "   node_id name                                         hash_value  \\\n",
       "0        1       7b760e45dd171478eccbca742bfe01fe13ee15dd5ae35b...   \n",
       "\n",
       "                lib_path              creation_date         inputs  \\\n",
       "0  pyiron_nodes/math/Sin 2024-10-14 18:36:36.484960  {'x': '[16]'}   \n",
       "\n",
       "                    outputs  output_ready file_path  \n",
       "0  {'sin': '[-0.28790332]'}          True            "
      ]
     },
     "execution_count": 21,
     "metadata": {},
     "output_type": "execute_result"
    }
   ],
   "source": [
    "hs.list_table(db)"
   ]
  },
  {
   "cell_type": "code",
   "execution_count": 22,
   "id": "fce6551d-5591-4479-adaa-5d595bd1513c",
   "metadata": {},
   "outputs": [],
   "source": [
    "sin = pn.math.Sin(x=[12])\n",
    "\n",
    "# sin12 = hs.run_node(sin, db, verbose=True)"
   ]
  },
  {
   "cell_type": "code",
   "execution_count": 23,
   "id": "1e749867-bc2d-4265-8739-5ffe469020ab",
   "metadata": {},
   "outputs": [
    {
     "data": {
      "application/json": {
       "checkpoint": "null",
       "executor": "null",
       "failed": "false",
       "future": "null",
       "inputs": {
        "x": {
         "connections": "[]",
         "default": "\"NOT_DATA\"",
         "owner": "\"/Sin\"",
         "strict_hints": "true",
         "type_hint": "\"list | numpy.ndarray | float | int\"",
         "value": "\"NOT_DATA\""
        }
       },
       "outputs": {
        "sin": {
         "connections": "[]",
         "default": "\"NOT_DATA\"",
         "owner": "\"/Sin\"",
         "strict_hints": "true",
         "type_hint": "null",
         "value": "\"NOT_DATA\""
        }
       },
       "recovery": "\"pickle\"",
       "running": "false",
       "signals": {
        "input": {
         "accumulate_and_run": {
          "connections": "[]",
          "owner": "\"/Sin\"",
          "received_signals": "\"set()\""
         },
         "run": {
          "connections": "[]",
          "owner": "\"/Sin\""
         }
        },
        "output": {
         "failed": {
          "connections": "[]",
          "owner": "\"/Sin\""
         },
         "ran": {
          "connections": "[]",
          "owner": "\"/Sin\""
         }
        }
       }
      },
      "text/plain": [
       "<pyiron_nodes.math.Sin at 0x147a25340>"
      ]
     },
     "execution_count": 23,
     "metadata": {},
     "output_type": "execute_result"
    }
   ],
   "source": [
    "sin_new = hs.create_node('pyiron_nodes.math.Sin')\n",
    "sin_new"
   ]
  },
  {
   "cell_type": "code",
   "execution_count": 24,
   "id": "d1d4ba3b-78e9-4960-9f58-2cd40b7aba28",
   "metadata": {},
   "outputs": [
    {
     "name": "stdout",
     "output_type": "stream",
     "text": [
      "Node id: 0 does not exist\n",
      "Node id: 1, inputs: [16], outputs: [-0.28790332]\n",
      "Node id: 2 does not exist\n",
      "CPU times: user 1.64 ms, sys: 454 μs, total: 2.1 ms\n",
      "Wall time: 2.5 ms\n"
     ]
    }
   ],
   "source": [
    "%%time\n",
    "for node_id in range(3):\n",
    "    sin2 = hs.get_node_from_db_id(node_id, db)\n",
    "    if sin2 is not None:\n",
    "        print (f'Node id: {node_id}, inputs: {sin2.inputs.x.value}, outputs: {sin2.outputs.sin.value}')\n",
    "    else:\n",
    "        print (f'Node id: {node_id} does not exist')"
   ]
  },
  {
   "cell_type": "markdown",
   "id": "041d392f-9c2c-459c-ab3c-7db65b2bf2c7",
   "metadata": {},
   "source": [
    "### Real world example"
   ]
  },
  {
   "cell_type": "code",
   "execution_count": 25,
   "id": "11cc7a4a-ff6f-4452-bc21-1ea9c8171bc2",
   "metadata": {},
   "outputs": [],
   "source": [
    "from pyiron_workflow import Workflow                                                                        \n",
    "import pyiron_nodes as pn"
   ]
  },
  {
   "cell_type": "code",
   "execution_count": null,
   "id": "6f778c84-a09b-4397-abf2-43f885f338d0",
   "metadata": {},
   "outputs": [],
   "source": []
  },
  {
   "cell_type": "code",
   "execution_count": 26,
   "id": "cf276c2a-ede2-4506-8762-a5c15ee55a17",
   "metadata": {},
   "outputs": [
    {
     "data": {
      "text/plain": [
       "{'chemical_potential': -0.00012460841212025286}"
      ]
     },
     "execution_count": 26,
     "metadata": {},
     "output_type": "execute_result"
    }
   ],
   "source": [
    "get_pot = pn.atomistic.property.thermodynamics.GetChemicalPotential(element='Pt')\n",
    "get_pot.run()"
   ]
  },
  {
   "cell_type": "code",
   "execution_count": 27,
   "id": "fcd0a6fe-8b9f-4175-91e4-dc4886d46b8e",
   "metadata": {},
   "outputs": [
    {
     "data": {
      "application/json": {
       "bulk": {
        "checkpoint": "null",
        "executor": "null",
        "failed": "false",
        "future": "null",
        "inputs": {
         "a": {
          "connections": "[]",
          "default": "null",
          "owner": "\"/GetChemicalPotential/bulk\"",
          "strict_hints": "true",
          "type_hint": "\"typing.Union[float, int, NoneType]\"",
          "value": "null"
         },
         "c": {
          "connections": "[]",
          "default": "null",
          "owner": "\"/GetChemicalPotential/bulk\"",
          "strict_hints": "true",
          "type_hint": "\"typing.Union[float, int, NoneType]\"",
          "value": "null"
         },
         "c_over_a": {
          "connections": "[]",
          "default": "null",
          "owner": "\"/GetChemicalPotential/bulk\"",
          "strict_hints": "true",
          "type_hint": "\"typing.Union[float, NoneType, int]\"",
          "value": "null"
         },
         "crystalstructure": {
          "connections": "[]",
          "default": "null",
          "owner": "\"/GetChemicalPotential/bulk\"",
          "strict_hints": "true",
          "type_hint": "\"typing.Optional[str]\"",
          "value": "null"
         },
         "cubic": {
          "connections": "[]",
          "default": "false",
          "owner": "\"/GetChemicalPotential/bulk\"",
          "strict_hints": "true",
          "type_hint": "\"<class 'bool'>\"",
          "value": "false"
         },
         "name": {
          "connections": "[]",
          "default": "\"NOT_DATA\"",
          "owner": "\"/GetChemicalPotential/bulk\"",
          "strict_hints": "true",
          "type_hint": "\"<class 'str'>\"",
          "value": "\"Pt\""
         },
         "orthorhombic": {
          "connections": "[]",
          "default": "false",
          "owner": "\"/GetChemicalPotential/bulk\"",
          "strict_hints": "true",
          "type_hint": "\"<class 'bool'>\"",
          "value": "false"
         },
         "u": {
          "connections": "[]",
          "default": "null",
          "owner": "\"/GetChemicalPotential/bulk\"",
          "strict_hints": "true",
          "type_hint": "\"typing.Union[float, int, NoneType]\"",
          "value": "null"
         }
        },
        "outputs": {
         "structure": {
          "connections": "[\"/GetChemicalPotential/n_atoms.structure\", \"/GetChemicalPotential/minimize.structure\"]",
          "default": "\"NOT_DATA\"",
          "owner": "\"/GetChemicalPotential/bulk\"",
          "strict_hints": "true",
          "type_hint": "null",
          "value": "\"Pt\""
         }
        },
        "parent": "\"/GetChemicalPotential\"",
        "recovery": "\"pickle\"",
        "running": "false",
        "signals": {
         "input": {
          "accumulate_and_run": {
           "connections": "[]",
           "owner": "\"/GetChemicalPotential/bulk\"",
           "received_signals": "\"set()\""
          },
          "run": {
           "connections": "[]",
           "owner": "\"/GetChemicalPotential/bulk\""
          }
         },
         "output": {
          "failed": {
           "connections": "[]",
           "owner": "\"/GetChemicalPotential/bulk\""
          },
          "ran": {
           "connections": "[\"/GetChemicalPotential/n_atoms.accumulate_and_run\", \"/GetChemicalPotential/minimize.accumulate_and_run\"]",
           "owner": "\"/GetChemicalPotential/bulk\""
          }
         }
        }
       },
       "checkpoint": "null",
       "child_labels": "[\"bulk\", \"minimize\", \"n_atoms\", \"energy\", \"injected_Divide_2439326470000394577\"]",
       "energy": {
        "checkpoint": "null",
        "executor": "null",
        "failed": "false",
        "future": "null",
        "inputs": {
         "calculator": {
          "connections": "[\"/GetChemicalPotential/minimize.out\"]",
          "default": "null",
          "owner": "\"/GetChemicalPotential/energy\"",
          "strict_hints": "true",
          "type_hint": "\"typing.Union[pyiron_nodes.atomistic.calculator.data.OutputCalcMinimize, pyiron_nodes.atomistic.calculator.data.OutputCalcStatic, NoneType]\"",
          "value": "\"OutputCalcMinimize(initial=OutputCalcStatic(energy=-0.00012460841212025286, force=None, stress=None, structure=None, atomic_energies=None), final=OutputCalcStatic(energy=-0.00012460841212025286, force=None, stress=None, structure=Atoms(symbols='Pt', pbc=True, cell=[[0.0, 1.96, 1.96], [1.96, 0.0, 1.96], [1.96, 1.96, 0.0]]), atomic_energies=None), is_converged=True, iter_steps=0)\""
         }
        },
        "outputs": {
         "energy_last": {
          "connections": "[\"/GetChemicalPotential/injected_Divide_2439326470000394577.obj\"]",
          "default": "\"NOT_DATA\"",
          "owner": "\"/GetChemicalPotential/energy\"",
          "strict_hints": "true",
          "type_hint": "\"<class 'float'>\"",
          "value": "-0.00012460841212025286"
         }
        },
        "parent": "\"/GetChemicalPotential\"",
        "recovery": "\"pickle\"",
        "running": "false",
        "signals": {
         "input": {
          "accumulate_and_run": {
           "connections": "[\"/GetChemicalPotential/minimize.ran\"]",
           "owner": "\"/GetChemicalPotential/energy\"",
           "received_signals": "\"set()\""
          },
          "run": {
           "connections": "[]",
           "owner": "\"/GetChemicalPotential/energy\""
          }
         },
         "output": {
          "failed": {
           "connections": "[]",
           "owner": "\"/GetChemicalPotential/energy\""
          },
          "ran": {
           "connections": "[\"/GetChemicalPotential/injected_Divide_2439326470000394577.accumulate_and_run\"]",
           "owner": "\"/GetChemicalPotential/energy\""
          }
         }
        }
       },
       "executor": "null",
       "failed": "false",
       "future": "null",
       "injected_Divide_2439326470000394577": {
        "checkpoint": "null",
        "executor": "null",
        "failed": "false",
        "future": "null",
        "inputs": {
         "obj": {
          "connections": "[\"/GetChemicalPotential/energy.energy_last\"]",
          "default": "\"NOT_DATA\"",
          "owner": "\"/GetChemicalPotential/injected_Divide_2439326470000394577\"",
          "strict_hints": "true",
          "type_hint": "null",
          "value": "-0.00012460841212025286"
         },
         "other": {
          "connections": "[\"/GetChemicalPotential/n_atoms.number_of_atoms\"]",
          "default": "\"NOT_DATA\"",
          "owner": "\"/GetChemicalPotential/injected_Divide_2439326470000394577\"",
          "strict_hints": "true",
          "type_hint": "null",
          "value": "1"
         }
        },
        "outputs": {
         "truediv": {
          "connections": "[]",
          "default": "\"NOT_DATA\"",
          "owner": "\"/GetChemicalPotential/injected_Divide_2439326470000394577\"",
          "strict_hints": "true",
          "type_hint": "null",
          "value": "-0.00012460841212025286"
         }
        },
        "parent": "\"/GetChemicalPotential\"",
        "recovery": "\"pickle\"",
        "running": "false",
        "signals": {
         "input": {
          "accumulate_and_run": {
           "connections": "[\"/GetChemicalPotential/n_atoms.ran\", \"/GetChemicalPotential/energy.ran\"]",
           "owner": "\"/GetChemicalPotential/injected_Divide_2439326470000394577\"",
           "received_signals": "\"set()\""
          },
          "run": {
           "connections": "[]",
           "owner": "\"/GetChemicalPotential/injected_Divide_2439326470000394577\""
          }
         },
         "output": {
          "failed": {
           "connections": "[]",
           "owner": "\"/GetChemicalPotential/injected_Divide_2439326470000394577\""
          },
          "ran": {
           "connections": "[]",
           "owner": "\"/GetChemicalPotential/injected_Divide_2439326470000394577\""
          }
         }
        }
       },
       "inputs": {
        "element": {
         "connections": "[]",
         "default": "\"NOT_DATA\"",
         "owner": "\"/GetChemicalPotential\"",
         "strict_hints": "true",
         "type_hint": "\"<class 'str'>\"",
         "value": "\"Pt\""
        },
        "engine": {
         "connections": "[]",
         "default": "null",
         "owner": "\"/GetChemicalPotential\"",
         "strict_hints": "true",
         "type_hint": "null",
         "value": "null"
        }
       },
       "minimize": {
        "checkpoint": "null",
        "executor": "null",
        "failed": "false",
        "future": "null",
        "inputs": {
         "engine": {
          "connections": "[]",
          "default": "null",
          "owner": "\"/GetChemicalPotential/minimize\"",
          "strict_hints": "true",
          "type_hint": "null",
          "value": "null"
         },
         "fmax": {
          "connections": "[]",
          "default": "0.005",
          "owner": "\"/GetChemicalPotential/minimize\"",
          "strict_hints": "true",
          "type_hint": "null",
          "value": "0.005"
         },
         "log_file": {
          "connections": "[]",
          "default": "\"tmp.log\"",
          "owner": "\"/GetChemicalPotential/minimize\"",
          "strict_hints": "true",
          "type_hint": "null",
          "value": "\"tmp.log\""
         },
         "structure": {
          "connections": "[\"/GetChemicalPotential/bulk.structure\"]",
          "default": "null",
          "owner": "\"/GetChemicalPotential/minimize\"",
          "strict_hints": "true",
          "type_hint": "null",
          "value": "\"Pt\""
         }
        },
        "outputs": {
         "out": {
          "connections": "[\"/GetChemicalPotential/energy.calculator\"]",
          "default": "\"NOT_DATA\"",
          "owner": "\"/GetChemicalPotential/minimize\"",
          "strict_hints": "true",
          "type_hint": "null",
          "value": "\"OutputCalcMinimize(initial=OutputCalcStatic(energy=-0.00012460841212025286, force=None, stress=None, structure=None, atomic_energies=None), final=OutputCalcStatic(energy=-0.00012460841212025286, force=None, stress=None, structure=Atoms(symbols='Pt', pbc=True, cell=[[0.0, 1.96, 1.96], [1.96, 0.0, 1.96], [1.96, 1.96, 0.0]]), atomic_energies=None), is_converged=True, iter_steps=0)\""
         }
        },
        "parent": "\"/GetChemicalPotential\"",
        "recovery": "\"pickle\"",
        "running": "false",
        "signals": {
         "input": {
          "accumulate_and_run": {
           "connections": "[\"/GetChemicalPotential/bulk.ran\"]",
           "owner": "\"/GetChemicalPotential/minimize\"",
           "received_signals": "\"set()\""
          },
          "run": {
           "connections": "[]",
           "owner": "\"/GetChemicalPotential/minimize\""
          }
         },
         "output": {
          "failed": {
           "connections": "[]",
           "owner": "\"/GetChemicalPotential/minimize\""
          },
          "ran": {
           "connections": "[\"/GetChemicalPotential/energy.accumulate_and_run\"]",
           "owner": "\"/GetChemicalPotential/minimize\""
          }
         }
        }
       },
       "n_atoms": {
        "checkpoint": "null",
        "executor": "null",
        "failed": "false",
        "future": "null",
        "inputs": {
         "structure": {
          "connections": "[\"/GetChemicalPotential/bulk.structure\"]",
          "default": "null",
          "owner": "\"/GetChemicalPotential/n_atoms\"",
          "strict_hints": "true",
          "type_hint": "\"typing.Optional[ase.atoms.Atoms]\"",
          "value": "\"Pt\""
         }
        },
        "outputs": {
         "number_of_atoms": {
          "connections": "[\"/GetChemicalPotential/injected_Divide_2439326470000394577.other\"]",
          "default": "\"NOT_DATA\"",
          "owner": "\"/GetChemicalPotential/n_atoms\"",
          "strict_hints": "true",
          "type_hint": "\"<class 'int'>\"",
          "value": "1"
         }
        },
        "parent": "\"/GetChemicalPotential\"",
        "recovery": "\"pickle\"",
        "running": "false",
        "signals": {
         "input": {
          "accumulate_and_run": {
           "connections": "[\"/GetChemicalPotential/bulk.ran\"]",
           "owner": "\"/GetChemicalPotential/n_atoms\"",
           "received_signals": "\"set()\""
          },
          "run": {
           "connections": "[]",
           "owner": "\"/GetChemicalPotential/n_atoms\""
          }
         },
         "output": {
          "failed": {
           "connections": "[]",
           "owner": "\"/GetChemicalPotential/n_atoms\""
          },
          "ran": {
           "connections": "[\"/GetChemicalPotential/injected_Divide_2439326470000394577.accumulate_and_run\"]",
           "owner": "\"/GetChemicalPotential/n_atoms\""
          }
         }
        }
       },
       "outputs": {
        "chemical_potential": {
         "connections": "[]",
         "default": "\"NOT_DATA\"",
         "owner": "\"/GetChemicalPotential\"",
         "strict_hints": "true",
         "type_hint": "null",
         "value": "-0.00012460841212025286"
        }
       },
       "provenance_by_completion": "[\"bulk\", \"n_atoms\", \"minimize\", \"energy\", \"injected_Divide_2439326470000394577\"]",
       "provenance_by_execution": "[\"bulk\", \"n_atoms\", \"minimize\", \"energy\", \"injected_Divide_2439326470000394577\"]",
       "recovery": "\"pickle\"",
       "running": "false",
       "running_children": "[]",
       "signal_queue": "[]",
       "signals": {
        "input": {
         "accumulate_and_run": {
          "connections": "[]",
          "owner": "\"/GetChemicalPotential\"",
          "received_signals": "\"set()\""
         },
         "run": {
          "connections": "[]",
          "owner": "\"/GetChemicalPotential\""
         }
        },
        "output": {
         "failed": {
          "connections": "[]",
          "owner": "\"/GetChemicalPotential\""
         },
         "ran": {
          "connections": "[]",
          "owner": "\"/GetChemicalPotential\""
         }
        }
       },
       "strict_naming": "true"
      },
      "text/plain": [
       "<pyiron_nodes.atomistic.property.thermodynamics.GetChemicalPotential at 0x146fb6ea0>"
      ]
     },
     "execution_count": 27,
     "metadata": {},
     "output_type": "execute_result"
    }
   ],
   "source": [
    "get_pot  # why are inputs/outputs for macro not visible?"
   ]
  },
  {
   "cell_type": "code",
   "execution_count": 28,
   "id": "da543ab2-874b-4c48-ab3e-a226ef335119",
   "metadata": {},
   "outputs": [
    {
     "data": {
      "text/plain": [
       "2"
      ]
     },
     "execution_count": 28,
     "metadata": {},
     "output_type": "execute_result"
    }
   ],
   "source": [
    "hs.save_node(get_pot, db)"
   ]
  },
  {
   "cell_type": "code",
   "execution_count": 29,
   "id": "0ce87c3e-25e3-44a2-b5ee-893b0f075537",
   "metadata": {},
   "outputs": [
    {
     "data": {
      "text/html": [
       "<div>\n",
       "<style scoped>\n",
       "    .dataframe tbody tr th:only-of-type {\n",
       "        vertical-align: middle;\n",
       "    }\n",
       "\n",
       "    .dataframe tbody tr th {\n",
       "        vertical-align: top;\n",
       "    }\n",
       "\n",
       "    .dataframe thead th {\n",
       "        text-align: right;\n",
       "    }\n",
       "</style>\n",
       "<table border=\"1\" class=\"dataframe\">\n",
       "  <thead>\n",
       "    <tr style=\"text-align: right;\">\n",
       "      <th></th>\n",
       "      <th>node_id</th>\n",
       "      <th>name</th>\n",
       "      <th>hash_value</th>\n",
       "      <th>lib_path</th>\n",
       "      <th>creation_date</th>\n",
       "      <th>inputs</th>\n",
       "      <th>outputs</th>\n",
       "      <th>output_ready</th>\n",
       "      <th>file_path</th>\n",
       "    </tr>\n",
       "  </thead>\n",
       "  <tbody>\n",
       "    <tr>\n",
       "      <th>0</th>\n",
       "      <td>1</td>\n",
       "      <td></td>\n",
       "      <td>7b760e45dd171478eccbca742bfe01fe13ee15dd5ae35b...</td>\n",
       "      <td>pyiron_nodes/math/Sin</td>\n",
       "      <td>2024-10-14 18:36:36.484960</td>\n",
       "      <td>{'x': '[16]'}</td>\n",
       "      <td>{'sin': '[-0.28790332]'}</td>\n",
       "      <td>True</td>\n",
       "      <td></td>\n",
       "    </tr>\n",
       "    <tr>\n",
       "      <th>1</th>\n",
       "      <td>2</td>\n",
       "      <td></td>\n",
       "      <td>87aa77c6dc5c0e95104ad993eaa7cec21665162d8d2cd3...</td>\n",
       "      <td>pyiron_nodes/atomistic/property/thermodynamics...</td>\n",
       "      <td>2024-10-14 18:36:36.818958</td>\n",
       "      <td>{'element': 'Pt', 'engine': 'None'}</td>\n",
       "      <td>{'chemical_potential': '-0.00012460841212025286'}</td>\n",
       "      <td>True</td>\n",
       "      <td></td>\n",
       "    </tr>\n",
       "  </tbody>\n",
       "</table>\n",
       "</div>"
      ],
      "text/plain": [
       "   node_id name                                         hash_value  \\\n",
       "0        1       7b760e45dd171478eccbca742bfe01fe13ee15dd5ae35b...   \n",
       "1        2       87aa77c6dc5c0e95104ad993eaa7cec21665162d8d2cd3...   \n",
       "\n",
       "                                            lib_path  \\\n",
       "0                              pyiron_nodes/math/Sin   \n",
       "1  pyiron_nodes/atomistic/property/thermodynamics...   \n",
       "\n",
       "               creation_date                               inputs  \\\n",
       "0 2024-10-14 18:36:36.484960                        {'x': '[16]'}   \n",
       "1 2024-10-14 18:36:36.818958  {'element': 'Pt', 'engine': 'None'}   \n",
       "\n",
       "                                             outputs  output_ready file_path  \n",
       "0                           {'sin': '[-0.28790332]'}          True            \n",
       "1  {'chemical_potential': '-0.00012460841212025286'}          True            "
      ]
     },
     "execution_count": 29,
     "metadata": {},
     "output_type": "execute_result"
    }
   ],
   "source": [
    "hs.list_table(db)"
   ]
  },
  {
   "cell_type": "code",
   "execution_count": 30,
   "id": "05736de9-b56b-4629-aec1-ee011864cf78",
   "metadata": {},
   "outputs": [],
   "source": [
    "# hs.remove_nodes_from_db(db, [26])"
   ]
  },
  {
   "cell_type": "code",
   "execution_count": 31,
   "id": "97aada44-3954-4c64-b235-e4840fd03257",
   "metadata": {},
   "outputs": [],
   "source": [
    "get_pot2 = pn.atomistic.property.thermodynamics.GetChemicalPotential(element='Pd')"
   ]
  },
  {
   "cell_type": "code",
   "execution_count": 32,
   "id": "0baeb3b6-59d7-4d2c-aa21-d34be592a24c",
   "metadata": {},
   "outputs": [
    {
     "data": {
      "text/plain": [
       "'Pd'"
      ]
     },
     "execution_count": 32,
     "metadata": {},
     "output_type": "execute_result"
    }
   ],
   "source": [
    "node = hs.run_node(get_pot2, db, verbose=True)\n",
    "node.inputs.element.value"
   ]
  },
  {
   "cell_type": "markdown",
   "id": "87ffcd8a-256c-4ca2-b47a-4f27a9d0f4b6",
   "metadata": {},
   "source": [
    "## Workflow with node as input (convert input node rather than its output to hash)"
   ]
  },
  {
   "cell_type": "markdown",
   "id": "a3d006fe-2e50-4e5d-aea9-2b0fd3177dd3",
   "metadata": {},
   "source": [
    "### Structure-repeat example"
   ]
  },
  {
   "cell_type": "code",
   "execution_count": 33,
   "id": "eaf8835d-b4d5-4c0c-be2b-195df3089690",
   "metadata": {},
   "outputs": [],
   "source": [
    "Al = pn.atomistic.structure.build.Bulk('Al')\n",
    "repeat = pn.atomistic.structure.transform.Repeat(structure=Al, repeat_scalar=3)\n",
    "out = repeat.pull()"
   ]
  },
  {
   "cell_type": "code",
   "execution_count": 34,
   "id": "28d042c7-81c8-4a2c-a513-acf67da02ac0",
   "metadata": {},
   "outputs": [
    {
     "data": {
      "text/plain": [
       "'pyiron_nodes.atomistic.structure.transform.Repeat'"
      ]
     },
     "execution_count": 34,
     "metadata": {},
     "output_type": "execute_result"
    }
   ],
   "source": [
    "hs.get_import_path(repeat)"
   ]
  },
  {
   "cell_type": "code",
   "execution_count": 35,
   "id": "69c84117-0512-4627-96b9-b1d044c89703",
   "metadata": {},
   "outputs": [
    {
     "data": {
      "text/plain": [
       "'pyiron_nodes.atomistic.structure.build.Bulk'"
      ]
     },
     "execution_count": 35,
     "metadata": {},
     "output_type": "execute_result"
    }
   ],
   "source": [
    "nodes = hs.get_all_connected_input_nodes(repeat)\n",
    "hs.get_import_path(nodes['structure'])"
   ]
  },
  {
   "cell_type": "code",
   "execution_count": 36,
   "id": "1c623706-864d-4d81-af65-dc78aa0f5bfe",
   "metadata": {},
   "outputs": [
    {
     "data": {
      "text/plain": [
       "'13cd1fc92443dc022115e14186c183aa1d676f1460961c23067c883916944e30'"
      ]
     },
     "execution_count": 36,
     "metadata": {},
     "output_type": "execute_result"
    }
   ],
   "source": [
    "inp_node = hs.get_all_connected_input_nodes(repeat)['structure']\n",
    "inp_node.owner\n",
    "hs.get_node_hash(inp_node.owner, db)"
   ]
  },
  {
   "cell_type": "markdown",
   "id": "e72c9b90-5c8f-4245-a4ba-772deae128b7",
   "metadata": {},
   "source": [
    "### Chemical potential - engine example"
   ]
  },
  {
   "cell_type": "code",
   "execution_count": 37,
   "id": "1296e25d-6e88-4bdc-902a-bb9945226373",
   "metadata": {
    "scrolled": true
   },
   "outputs": [],
   "source": [
    "engine = pn.atomistic.engine.ase.M3GNet()"
   ]
  },
  {
   "cell_type": "code",
   "execution_count": 38,
   "id": "df47d5e2-caea-48fa-9af3-a9ffa9cae166",
   "metadata": {},
   "outputs": [],
   "source": [
    "elastic_M3GNet = pn.atomistic.property.thermodynamics.GetChemicalPotential(element='Pt', engine=engine)"
   ]
  },
  {
   "cell_type": "code",
   "execution_count": 39,
   "id": "a47f2819-8448-4828-ab9c-83872e04db0d",
   "metadata": {},
   "outputs": [
    {
     "data": {
      "text/plain": [
       "5"
      ]
     },
     "execution_count": 39,
     "metadata": {},
     "output_type": "execute_result"
    }
   ],
   "source": [
    "hs.save_node(elastic_M3GNet, db) "
   ]
  },
  {
   "cell_type": "code",
   "execution_count": 40,
   "id": "7240fcea-840d-41cf-bbe5-98bac67956a6",
   "metadata": {},
   "outputs": [
    {
     "data": {
      "text/plain": [
       "{'chemical_potential': '-6.065089225769043'}"
      ]
     },
     "execution_count": 40,
     "metadata": {},
     "output_type": "execute_result"
    }
   ],
   "source": [
    "new_node = hs.get_node_from_db_id(5, db)\n",
    "hs.extract_node_output(new_node)"
   ]
  },
  {
   "cell_type": "code",
   "execution_count": 41,
   "id": "149c3dd7-985b-4560-8801-978f31dbad00",
   "metadata": {},
   "outputs": [
    {
     "data": {
      "text/plain": [
       "{'chemical_potential': '-6.065089225769043'}"
      ]
     },
     "execution_count": 41,
     "metadata": {},
     "output_type": "execute_result"
    }
   ],
   "source": [
    "hs.extract_node_output(hs.run_node(new_node, db))"
   ]
  },
  {
   "cell_type": "markdown",
   "id": "b0d9549e-137b-4dbc-8cf4-d382cda3b64e",
   "metadata": {},
   "source": [
    "#### Some TODO issues"
   ]
  },
  {
   "cell_type": "code",
   "execution_count": 42,
   "id": "21eded50-d33b-416d-9e95-9fddb3881c7c",
   "metadata": {},
   "outputs": [
    {
     "data": {
      "text/plain": [
       "{'element': 'Pt',\n",
       " 'engine': 'hash_9447c7f7d5b2506b782b0bef46506999ada65d71a795d3ac8c32d4fbf6eed13e'}"
      ]
     },
     "execution_count": 42,
     "metadata": {},
     "output_type": "execute_result"
    }
   ],
   "source": [
    "# TODO: replace hash by node value (it works but is confusing)\n",
    "\n",
    "hs.extract_node_input(new_node, db)"
   ]
  },
  {
   "cell_type": "code",
   "execution_count": 43,
   "id": "be4bcb4d-801a-408d-b14f-0886b6e3ff1b",
   "metadata": {},
   "outputs": [
    {
     "data": {
      "application/json": {
       "connections": "[]",
       "default": "null",
       "owner": "\"/GetChemicalPotential\"",
       "strict_hints": "true",
       "type_hint": "null",
       "value": "null"
      },
      "text/plain": [
       "<pyiron_workflow.channels.InputData at 0x155585610>"
      ]
     },
     "execution_count": 43,
     "metadata": {},
     "output_type": "execute_result"
    }
   ],
   "source": [
    "node = hs.get_node_from_db_id(3, db)\n",
    "node.inputs.engine"
   ]
  },
  {
   "cell_type": "code",
   "execution_count": null,
   "id": "8c0013ac-68ae-43a8-bcfd-a28a7e42bad6",
   "metadata": {},
   "outputs": [],
   "source": []
  },
  {
   "cell_type": "code",
   "execution_count": 44,
   "id": "aa4cdb65-d4ca-497b-b141-0e8d4885ea02",
   "metadata": {},
   "outputs": [],
   "source": [
    "node = hs.get_node_from_db_id(5, db)\n",
    "hash = hs.extract_node_input(node, db)['engine']\n",
    "engine_node = hs.eval_db_value(hash, db).pull()\n"
   ]
  },
  {
   "cell_type": "code",
   "execution_count": 45,
   "id": "d0c9be66-56d1-4385-894d-398f6abf75a9",
   "metadata": {},
   "outputs": [],
   "source": [
    "elastic_M3GNet.inputs.engine = hs.extract_node_input(hs.get_node_from_db_id(5, db), db)['engine']"
   ]
  },
  {
   "cell_type": "code",
   "execution_count": 46,
   "id": "0f38b65c-f3f4-48fe-a79d-190e19ca3e1f",
   "metadata": {},
   "outputs": [],
   "source": [
    "# it looks like the following assignment/connection does not work \n",
    "\n",
    "elastic_M3GNet.inputs.engine = engine_node"
   ]
  },
  {
   "cell_type": "code",
   "execution_count": 47,
   "id": "83484806-0e84-4f77-9ad6-ea6bc70f2fb1",
   "metadata": {},
   "outputs": [
    {
     "data": {
      "application/json": {
       "connections": "[\"/M3GNet.engine\"]",
       "default": "null",
       "owner": "\"/GetChemicalPotential\"",
       "strict_hints": "true",
       "type_hint": "null",
       "value": "null"
      },
      "text/plain": [
       "<pyiron_workflow.channels.InputData at 0x155285a00>"
      ]
     },
     "execution_count": 47,
     "metadata": {},
     "output_type": "execute_result"
    }
   ],
   "source": [
    "new_node.inputs.engine"
   ]
  },
  {
   "cell_type": "markdown",
   "id": "5ca0e7dc-9e36-40e5-a2a1-2eb6a8150d5d",
   "metadata": {},
   "source": [
    "### Elastic constants"
   ]
  },
  {
   "cell_type": "markdown",
   "id": "4ba84435-c0b4-4897-98ab-7b596f3e369b",
   "metadata": {},
   "source": [
    "#### With locally defined macro "
   ]
  },
  {
   "cell_type": "code",
   "execution_count": 48,
   "id": "f4580ee9-5da3-43d4-b710-5d0f04536cf8",
   "metadata": {},
   "outputs": [
    {
     "name": "stderr",
     "output_type": "stream",
     "text": [
      "/Users/joerg/miniforge3/envs/py12/lib/python3.12/site-packages/spglib/spglib.py:115: DeprecationWarning: dict interface (SpglibDataset['number']) is deprecated.Use attribute interface ({self.__class__.__name__}.{key}) instead\n",
      "  warnings.warn(\n"
     ]
    },
    {
     "name": "stdout",
     "output_type": "stream",
     "text": [
      "Bulkmodulus: 53.492619696968546 GPa\n"
     ]
    }
   ],
   "source": [
    "from pyiron_workflow import Workflow\n",
    "\n",
    "wf = Workflow(\"elastic_constants\") \n",
    "atomistic = pn.atomistic\n",
    "from pyiron_nodes.atomistic.property.elastic import InputElasticTensor\n",
    "\n",
    "wf.engine = atomistic.engine.ase.M3GNet() \n",
    "wf.supercell = atomistic.structure.build.CubicBulkCell(element='Al', cell_size=3, vacancy_index=0)\n",
    "wf.calc = atomistic.calculator.ase.Static(structure=wf.supercell, engine=wf.engine)\n",
    "wf.elastic = atomistic.property.elastic.ElasticConstants(structure=wf.supercell, \n",
    "                                                         engine=wf.engine, \n",
    "                                                         parameters=InputElasticTensor.dataclass(eps_range=0.01))\n",
    "out = wf.run()\n",
    "\n",
    "print (f'Bulkmodulus: {out.elastic__elastic.BV} GPa')"
   ]
  },
  {
   "cell_type": "code",
   "execution_count": 49,
   "id": "0d7fc199-ee83-4f37-b7df-66aa8daa1070",
   "metadata": {},
   "outputs": [
    {
     "data": {
      "text/plain": [
       "{'BV': 207.853238427253}"
      ]
     },
     "execution_count": 49,
     "metadata": {},
     "output_type": "execute_result"
    }
   ],
   "source": [
    "from pyiron_workflow import Workflow\n",
    "import pyiron_nodes as pn\n",
    "atomistic = pn.atomistic\n",
    "from pyiron_nodes.atomistic.property.elastic import InputElasticTensor\n",
    "\n",
    "@Workflow.wrap.as_macro_node('BV')\n",
    "def compute_elastic_constants(wf, element='Fe', parameters=InputElasticTensor.dataclass(eps_range=0.02)): \n",
    "    \n",
    "    wf.engine = atomistic.engine.ase.M3GNet()\n",
    "    wf.supercell = atomistic.structure.build.CubicBulkCell(element=element, cell_size=3, vacancy_index=0)\n",
    "    wf.calc = atomistic.calculator.ase.Static(structure=wf.supercell, engine=wf.engine)\n",
    "    wf.elastic = atomistic.property.elastic.ElasticConstants(structure=wf.supercell, engine=wf.engine, parameters=parameters)\n",
    "    return wf.elastic.outputs.elastic.BV\n",
    "    \n",
    "out = compute_elastic_constants(element='Ni').pull() #iter(eps_range=np.linspace(1e-4, 1, 11))\n",
    "out"
   ]
  },
  {
   "cell_type": "code",
   "execution_count": 50,
   "id": "b4ea3222-5e7e-473c-98c9-5047d73bbdbb",
   "metadata": {},
   "outputs": [
    {
     "data": {
      "text/plain": [
       "{'BV': 207.853238427253}"
      ]
     },
     "execution_count": 50,
     "metadata": {},
     "output_type": "execute_result"
    }
   ],
   "source": [
    "out"
   ]
  },
  {
   "cell_type": "code",
   "execution_count": 51,
   "id": "14b8326d-a270-4150-ae44-d63c03a0a299",
   "metadata": {},
   "outputs": [],
   "source": [
    "for el in ['Ni', 'Al', 'Fe']:\n",
    "    elastic_node = compute_elastic_constants(element=el, parameters=InputElasticTensor(eps_range=0.001))\n",
    "    hs.run_node(elastic_node, db)"
   ]
  },
  {
   "cell_type": "markdown",
   "id": "924a7f1e-d73a-442e-b087-8e4baeab8bce",
   "metadata": {},
   "source": [
    "Note: \n",
    "- Works well\n",
    "- But: for workflows/functions defined in notebook the node cannot be recreated (this is a fundamental issue, save code in db?)"
   ]
  },
  {
   "cell_type": "markdown",
   "id": "0ae8b9e2-50ac-4af3-b70c-2ea7d9e6dfee",
   "metadata": {},
   "source": [
    "#### With a node defined in the library"
   ]
  },
  {
   "cell_type": "code",
   "execution_count": 52,
   "id": "ad261120-79d9-49cb-906e-4f1eb932b839",
   "metadata": {},
   "outputs": [],
   "source": [
    "engine = pn.atomistic.engine.ase.M3GNet()\n",
    "structure = pn.atomistic.structure.build.Bulk('Pb', cubic=True)\n",
    "elastic = pn.atomistic.property.elastic.ElasticConstants(structure=structure, engine=engine) #, parameters=parameters)\n",
    "out = elastic.pull()"
   ]
  },
  {
   "cell_type": "markdown",
   "id": "d1c91277-0123-4543-863f-66c4b640aba7",
   "metadata": {},
   "source": [
    "The following line failes since the node cannot resolve the dataclass import and thus fails to be loaded. A simple yet elegant approach \n",
    "to achieve this would be to transfer the dataclass into a node, which behaves exactly like function_nodes. Then the entire machinery of hash \n",
    "based node imports/loading would work. The present formulation of dataclass_nodes fails. A simple approach to achieve this is shown below. "
   ]
  },
  {
   "cell_type": "code",
   "execution_count": 53,
   "id": "ffc2a91e-8b37-4278-bab9-d4f189302aac",
   "metadata": {},
   "outputs": [],
   "source": [
    "# hs.run_node(elastic, db)"
   ]
  },
  {
   "cell_type": "code",
   "execution_count": 54,
   "id": "880d2466-ecc9-4eaa-8e76-b29cc4763e6c",
   "metadata": {},
   "outputs": [
    {
     "data": {
      "text/plain": [
       "2"
      ]
     },
     "execution_count": 54,
     "metadata": {},
     "output_type": "execute_result"
    }
   ],
   "source": [
    "hs.save_node(get_pot, db)"
   ]
  },
  {
   "cell_type": "code",
   "execution_count": 55,
   "id": "f334dc6d-14e1-4014-8bf7-216e782d3fce",
   "metadata": {},
   "outputs": [
    {
     "data": {
      "text/html": [
       "<div>\n",
       "<style scoped>\n",
       "    .dataframe tbody tr th:only-of-type {\n",
       "        vertical-align: middle;\n",
       "    }\n",
       "\n",
       "    .dataframe tbody tr th {\n",
       "        vertical-align: top;\n",
       "    }\n",
       "\n",
       "    .dataframe thead th {\n",
       "        text-align: right;\n",
       "    }\n",
       "</style>\n",
       "<table border=\"1\" class=\"dataframe\">\n",
       "  <thead>\n",
       "    <tr style=\"text-align: right;\">\n",
       "      <th></th>\n",
       "      <th>node_id</th>\n",
       "      <th>name</th>\n",
       "      <th>hash_value</th>\n",
       "      <th>lib_path</th>\n",
       "      <th>creation_date</th>\n",
       "      <th>inputs</th>\n",
       "      <th>outputs</th>\n",
       "      <th>output_ready</th>\n",
       "      <th>file_path</th>\n",
       "    </tr>\n",
       "  </thead>\n",
       "  <tbody>\n",
       "    <tr>\n",
       "      <th>0</th>\n",
       "      <td>1</td>\n",
       "      <td></td>\n",
       "      <td>7b760e45dd171478eccbca742bfe01fe13ee15dd5ae35b...</td>\n",
       "      <td>pyiron_nodes/math/Sin</td>\n",
       "      <td>2024-10-14 18:36:36.484960</td>\n",
       "      <td>{'x': '[16]'}</td>\n",
       "      <td>{'sin': '[-0.28790332]'}</td>\n",
       "      <td>True</td>\n",
       "      <td></td>\n",
       "    </tr>\n",
       "    <tr>\n",
       "      <th>1</th>\n",
       "      <td>2</td>\n",
       "      <td></td>\n",
       "      <td>87aa77c6dc5c0e95104ad993eaa7cec21665162d8d2cd3...</td>\n",
       "      <td>pyiron_nodes/atomistic/property/thermodynamics...</td>\n",
       "      <td>2024-10-14 18:36:36.818958</td>\n",
       "      <td>{'element': 'Pt', 'engine': 'None'}</td>\n",
       "      <td>{'chemical_potential': '-0.00012460841212025286'}</td>\n",
       "      <td>True</td>\n",
       "      <td></td>\n",
       "    </tr>\n",
       "    <tr>\n",
       "      <th>2</th>\n",
       "      <td>3</td>\n",
       "      <td></td>\n",
       "      <td>f58795c05b53020fb6dd04145e9c944d33dee5f1a335cd...</td>\n",
       "      <td>pyiron_nodes/atomistic/property/thermodynamics...</td>\n",
       "      <td>2024-10-14 18:36:36.902004</td>\n",
       "      <td>{'element': 'Pd', 'engine': 'None'}</td>\n",
       "      <td>{'chemical_potential': '0.00034226253730329503'}</td>\n",
       "      <td>True</td>\n",
       "      <td></td>\n",
       "    </tr>\n",
       "    <tr>\n",
       "      <th>3</th>\n",
       "      <td>4</td>\n",
       "      <td></td>\n",
       "      <td>9447c7f7d5b2506b782b0bef46506999ada65d71a795d3...</td>\n",
       "      <td>pyiron_nodes/atomistic/engine/ase/M3GNet</td>\n",
       "      <td>2024-10-14 18:36:36.941626</td>\n",
       "      <td>{}</td>\n",
       "      <td>None</td>\n",
       "      <td>False</td>\n",
       "      <td></td>\n",
       "    </tr>\n",
       "    <tr>\n",
       "      <th>4</th>\n",
       "      <td>5</td>\n",
       "      <td></td>\n",
       "      <td>6df6cbc74ca4803190726aa36c509319321d977f51d5f6...</td>\n",
       "      <td>pyiron_nodes/atomistic/property/thermodynamics...</td>\n",
       "      <td>2024-10-14 18:36:37.011704</td>\n",
       "      <td>{'element': 'Pt', 'engine': 'hash_9447c7f7d5b2...</td>\n",
       "      <td>{'chemical_potential': '-6.065089225769043'}</td>\n",
       "      <td>True</td>\n",
       "      <td></td>\n",
       "    </tr>\n",
       "    <tr>\n",
       "      <th>5</th>\n",
       "      <td>6</td>\n",
       "      <td></td>\n",
       "      <td>e53d422081270f966e7cdd5206baec55cbf16174fa31b7...</td>\n",
       "      <td>pyiron_nodes/atomistic/property/elastic/InputE...</td>\n",
       "      <td>2024-10-14 18:36:44.326661</td>\n",
       "      <td>{'num_of_point': '5', 'eps_range': '0.001', 's...</td>\n",
       "      <td>None</td>\n",
       "      <td>False</td>\n",
       "      <td></td>\n",
       "    </tr>\n",
       "    <tr>\n",
       "      <th>6</th>\n",
       "      <td>7</td>\n",
       "      <td></td>\n",
       "      <td>cd0e1c9d548e217028cc43761fdd2d6c9f45dc7038a6df...</td>\n",
       "      <td>__main__/compute_elastic_constants</td>\n",
       "      <td>2024-10-14 18:36:46.832923</td>\n",
       "      <td>{'element': 'Ni', 'parameters': 'hash_e53d4220...</td>\n",
       "      <td>{'BV': '207.853238427253'}</td>\n",
       "      <td>True</td>\n",
       "      <td></td>\n",
       "    </tr>\n",
       "    <tr>\n",
       "      <th>7</th>\n",
       "      <td>8</td>\n",
       "      <td></td>\n",
       "      <td>4163ac27de2ece234587c70408474b0e4d9c4ab91acf39...</td>\n",
       "      <td>__main__/compute_elastic_constants</td>\n",
       "      <td>2024-10-14 18:36:49.079986</td>\n",
       "      <td>{'element': 'Al', 'parameters': 'hash_e53d4220...</td>\n",
       "      <td>{'BV': '52.969913065616915'}</td>\n",
       "      <td>True</td>\n",
       "      <td></td>\n",
       "    </tr>\n",
       "    <tr>\n",
       "      <th>8</th>\n",
       "      <td>9</td>\n",
       "      <td></td>\n",
       "      <td>baa1f2a9a1a3dea4fedb0e06969bbdd4e351e293d428e2...</td>\n",
       "      <td>__main__/compute_elastic_constants</td>\n",
       "      <td>2024-10-14 18:36:50.984078</td>\n",
       "      <td>{'element': 'Fe', 'parameters': 'hash_e53d4220...</td>\n",
       "      <td>{'BV': '94.53896702387108'}</td>\n",
       "      <td>True</td>\n",
       "      <td></td>\n",
       "    </tr>\n",
       "  </tbody>\n",
       "</table>\n",
       "</div>"
      ],
      "text/plain": [
       "   node_id name                                         hash_value  \\\n",
       "0        1       7b760e45dd171478eccbca742bfe01fe13ee15dd5ae35b...   \n",
       "1        2       87aa77c6dc5c0e95104ad993eaa7cec21665162d8d2cd3...   \n",
       "2        3       f58795c05b53020fb6dd04145e9c944d33dee5f1a335cd...   \n",
       "3        4       9447c7f7d5b2506b782b0bef46506999ada65d71a795d3...   \n",
       "4        5       6df6cbc74ca4803190726aa36c509319321d977f51d5f6...   \n",
       "5        6       e53d422081270f966e7cdd5206baec55cbf16174fa31b7...   \n",
       "6        7       cd0e1c9d548e217028cc43761fdd2d6c9f45dc7038a6df...   \n",
       "7        8       4163ac27de2ece234587c70408474b0e4d9c4ab91acf39...   \n",
       "8        9       baa1f2a9a1a3dea4fedb0e06969bbdd4e351e293d428e2...   \n",
       "\n",
       "                                            lib_path  \\\n",
       "0                              pyiron_nodes/math/Sin   \n",
       "1  pyiron_nodes/atomistic/property/thermodynamics...   \n",
       "2  pyiron_nodes/atomistic/property/thermodynamics...   \n",
       "3           pyiron_nodes/atomistic/engine/ase/M3GNet   \n",
       "4  pyiron_nodes/atomistic/property/thermodynamics...   \n",
       "5  pyiron_nodes/atomistic/property/elastic/InputE...   \n",
       "6                 __main__/compute_elastic_constants   \n",
       "7                 __main__/compute_elastic_constants   \n",
       "8                 __main__/compute_elastic_constants   \n",
       "\n",
       "               creation_date  \\\n",
       "0 2024-10-14 18:36:36.484960   \n",
       "1 2024-10-14 18:36:36.818958   \n",
       "2 2024-10-14 18:36:36.902004   \n",
       "3 2024-10-14 18:36:36.941626   \n",
       "4 2024-10-14 18:36:37.011704   \n",
       "5 2024-10-14 18:36:44.326661   \n",
       "6 2024-10-14 18:36:46.832923   \n",
       "7 2024-10-14 18:36:49.079986   \n",
       "8 2024-10-14 18:36:50.984078   \n",
       "\n",
       "                                              inputs  \\\n",
       "0                                      {'x': '[16]'}   \n",
       "1                {'element': 'Pt', 'engine': 'None'}   \n",
       "2                {'element': 'Pd', 'engine': 'None'}   \n",
       "3                                                 {}   \n",
       "4  {'element': 'Pt', 'engine': 'hash_9447c7f7d5b2...   \n",
       "5  {'num_of_point': '5', 'eps_range': '0.001', 's...   \n",
       "6  {'element': 'Ni', 'parameters': 'hash_e53d4220...   \n",
       "7  {'element': 'Al', 'parameters': 'hash_e53d4220...   \n",
       "8  {'element': 'Fe', 'parameters': 'hash_e53d4220...   \n",
       "\n",
       "                                             outputs  output_ready file_path  \n",
       "0                           {'sin': '[-0.28790332]'}          True            \n",
       "1  {'chemical_potential': '-0.00012460841212025286'}          True            \n",
       "2   {'chemical_potential': '0.00034226253730329503'}          True            \n",
       "3                                               None         False            \n",
       "4       {'chemical_potential': '-6.065089225769043'}          True            \n",
       "5                                               None         False            \n",
       "6                         {'BV': '207.853238427253'}          True            \n",
       "7                       {'BV': '52.969913065616915'}          True            \n",
       "8                        {'BV': '94.53896702387108'}          True            "
      ]
     },
     "execution_count": 55,
     "metadata": {},
     "output_type": "execute_result"
    }
   ],
   "source": [
    "hs.list_table(db)"
   ]
  },
  {
   "cell_type": "code",
   "execution_count": null,
   "id": "1f81c6b3-576b-4bc5-84c8-b7811287c04e",
   "metadata": {},
   "outputs": [],
   "source": []
  }
 ],
 "metadata": {
  "kernelspec": {
   "display_name": "Python 3 (ipykernel)",
   "language": "python",
   "name": "python3"
  },
  "language_info": {
   "codemirror_mode": {
    "name": "ipython",
    "version": 3
   },
   "file_extension": ".py",
   "mimetype": "text/x-python",
   "name": "python",
   "nbconvert_exporter": "python",
   "pygments_lexer": "ipython3",
   "version": "3.12.4"
  }
 },
 "nbformat": 4,
 "nbformat_minor": 5
}
