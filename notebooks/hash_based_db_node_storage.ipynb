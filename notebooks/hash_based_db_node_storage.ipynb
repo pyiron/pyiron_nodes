{
 "cells": [
  {
   "cell_type": "markdown",
   "id": "1556a45d-18a5-41ba-b868-7a86c32feab7",
   "metadata": {},
   "source": [
    "# Develop and test hash based node storage"
   ]
  },
  {
   "cell_type": "code",
   "execution_count": 1,
   "id": "032b844f-e91c-49c2-b90f-88a0beb2a06b",
   "metadata": {},
   "outputs": [],
   "source": [
    "import sys\n",
    "from pathlib import Path\n",
    "sys.path.insert(0, str(Path(Path.cwd()).parent))"
   ]
  },
  {
   "cell_type": "code",
   "execution_count": 2,
   "id": "69ea92b2-b2e6-4cb8-b193-ddc443db6b18",
   "metadata": {},
   "outputs": [],
   "source": [
    "import warnings\n",
    "warnings.filterwarnings(\"ignore\")\n",
    "\n",
    "%config IPCompleter.evaluation='unsafe'"
   ]
  },
  {
   "cell_type": "code",
   "execution_count": 3,
   "id": "69f6418c-d5e8-4e8c-b0c7-0d5150bf34f7",
   "metadata": {},
   "outputs": [],
   "source": [
    "from node_library.development import hash_based_storage as hs"
   ]
  },
  {
   "cell_type": "markdown",
   "id": "e5bd2b13-70f7-4498-9600-238b12a6c1bf",
   "metadata": {},
   "source": [
    "### Perform a few tests for the hash_based_storage module"
   ]
  },
  {
   "cell_type": "code",
   "execution_count": 4,
   "id": "64b4d5be-ce75-4977-a563-b02c6b1b2d26",
   "metadata": {},
   "outputs": [],
   "source": [
    "db = hs.create_nodes_table(echo=False)"
   ]
  },
  {
   "cell_type": "code",
   "execution_count": 5,
   "id": "6ba106e0-bb21-417f-8c6c-5686ccbc1e44",
   "metadata": {},
   "outputs": [
    {
     "data": {
      "text/plain": [
       "['node_id',\n",
       " 'name',\n",
       " 'hash_value',\n",
       " 'lib_path',\n",
       " 'creation_date',\n",
       " 'inputs',\n",
       " 'outputs',\n",
       " 'output_ready',\n",
       " 'file_path']"
      ]
     },
     "execution_count": 5,
     "metadata": {},
     "output_type": "execute_result"
    }
   ],
   "source": [
    "hs.list_column_names(db, 'node')"
   ]
  },
  {
   "cell_type": "markdown",
   "id": "1af4e2d5-a2bb-4a68-b5f6-c3b0827a96a1",
   "metadata": {},
   "source": [
    "**Note:** Uncomment the following line if you have modified the table structure. After deleting the table comment this block and rerun the notebook (to run create_nodes_table)"
   ]
  },
  {
   "cell_type": "code",
   "execution_count": 6,
   "id": "c1a2619d-0d3c-4343-bc0a-fcebcba36cbb",
   "metadata": {},
   "outputs": [],
   "source": [
    "# hs.drop_table(db, 'node')\n",
    "# hs.list_column_names(db, 'node')"
   ]
  },
  {
   "cell_type": "code",
   "execution_count": 7,
   "id": "e689dd0b-f953-4789-b447-629782fa6580",
   "metadata": {},
   "outputs": [
    {
     "data": {
      "text/html": [
       "<div>\n",
       "<style scoped>\n",
       "    .dataframe tbody tr th:only-of-type {\n",
       "        vertical-align: middle;\n",
       "    }\n",
       "\n",
       "    .dataframe tbody tr th {\n",
       "        vertical-align: top;\n",
       "    }\n",
       "\n",
       "    .dataframe thead th {\n",
       "        text-align: right;\n",
       "    }\n",
       "</style>\n",
       "<table border=\"1\" class=\"dataframe\">\n",
       "  <thead>\n",
       "    <tr style=\"text-align: right;\">\n",
       "      <th></th>\n",
       "      <th>node_id</th>\n",
       "      <th>name</th>\n",
       "      <th>hash_value</th>\n",
       "      <th>lib_path</th>\n",
       "      <th>creation_date</th>\n",
       "      <th>inputs</th>\n",
       "      <th>outputs</th>\n",
       "      <th>output_ready</th>\n",
       "      <th>file_path</th>\n",
       "    </tr>\n",
       "  </thead>\n",
       "  <tbody>\n",
       "    <tr>\n",
       "      <th>0</th>\n",
       "      <td>1</td>\n",
       "      <td></td>\n",
       "      <td>c16d79b83fad085c61d52223687f65ac5f258005921c83...</td>\n",
       "      <td>node_library/math/Sin</td>\n",
       "      <td>2024-07-07 14:12:05.015249</td>\n",
       "      <td>{'x': '[17]'}</td>\n",
       "      <td>{'sin': '[-0.96139749]'}</td>\n",
       "      <td>True</td>\n",
       "      <td></td>\n",
       "    </tr>\n",
       "    <tr>\n",
       "      <th>1</th>\n",
       "      <td>2</td>\n",
       "      <td></td>\n",
       "      <td>3d4f127b05459a1d1dda98bc3e6f10176e09f27f3ab9b1...</td>\n",
       "      <td>node_library/math/Sin</td>\n",
       "      <td>2024-07-07 14:12:05.191476</td>\n",
       "      <td>{'x': '[12]'}</td>\n",
       "      <td>{'sin': '[-0.53657292]'}</td>\n",
       "      <td>True</td>\n",
       "      <td></td>\n",
       "    </tr>\n",
       "    <tr>\n",
       "      <th>2</th>\n",
       "      <td>3</td>\n",
       "      <td></td>\n",
       "      <td>12201da17c241990e5b7725a62de4189bea0cf57ad462c...</td>\n",
       "      <td>node_library/atomistic/property/thermodynamics...</td>\n",
       "      <td>2024-07-07 14:12:05.605083</td>\n",
       "      <td>{'element': ''Pt'', 'engine': 'None'}</td>\n",
       "      <td>{'chemical_potential': '-0.00012460841212025286'}</td>\n",
       "      <td>True</td>\n",
       "      <td></td>\n",
       "    </tr>\n",
       "    <tr>\n",
       "      <th>3</th>\n",
       "      <td>4</td>\n",
       "      <td></td>\n",
       "      <td>0b26dce95241b25be07d968f3a10863d08d1edace00830...</td>\n",
       "      <td>node_library/atomistic/property/thermodynamics...</td>\n",
       "      <td>2024-07-07 14:12:05.793974</td>\n",
       "      <td>{'element': ''Pd'', 'engine': 'None'}</td>\n",
       "      <td>{'chemical_potential': '0.00034226253730329503'}</td>\n",
       "      <td>True</td>\n",
       "      <td></td>\n",
       "    </tr>\n",
       "    <tr>\n",
       "      <th>4</th>\n",
       "      <td>5</td>\n",
       "      <td></td>\n",
       "      <td>d87d4a45cd97ce5e8787c85826781fbc3adf72afc7cef3...</td>\n",
       "      <td>node_library/atomistic/engine/ase/M3GNet</td>\n",
       "      <td>2024-07-07 14:12:05.930900</td>\n",
       "      <td>{}</td>\n",
       "      <td>None</td>\n",
       "      <td>False</td>\n",
       "      <td></td>\n",
       "    </tr>\n",
       "    <tr>\n",
       "      <th>5</th>\n",
       "      <td>6</td>\n",
       "      <td></td>\n",
       "      <td>4aa32e7e995920ffee1b936fdc0b3e570ffa586fc14080...</td>\n",
       "      <td>node_library/atomistic/property/thermodynamics...</td>\n",
       "      <td>2024-07-07 14:12:05.933554</td>\n",
       "      <td>{'element': ''Pt'', 'engine': 'hash_d87d4a45cd...</td>\n",
       "      <td>{'chemical_potential': '-6.065089225769043'}</td>\n",
       "      <td>True</td>\n",
       "      <td></td>\n",
       "    </tr>\n",
       "    <tr>\n",
       "      <th>6</th>\n",
       "      <td>7</td>\n",
       "      <td></td>\n",
       "      <td>7efde22c8ae69d7da09b577b69ee74e0b74fe3f891cea9...</td>\n",
       "      <td>None/compute_elastic_constants</td>\n",
       "      <td>2024-07-07 14:30:59.551093</td>\n",
       "      <td>{'element': ''Ni'', 'parameters': 'InputElasti...</td>\n",
       "      <td>{'BV': '215.6460213089325'}</td>\n",
       "      <td>True</td>\n",
       "      <td></td>\n",
       "    </tr>\n",
       "    <tr>\n",
       "      <th>7</th>\n",
       "      <td>8</td>\n",
       "      <td></td>\n",
       "      <td>33682b8b2bd1d646f08081acca6ed97bca54d3ab8730a0...</td>\n",
       "      <td>None/compute_elastic_constants</td>\n",
       "      <td>2024-07-07 14:31:07.122162</td>\n",
       "      <td>{'element': ''Al'', 'parameters': 'InputElasti...</td>\n",
       "      <td>{'BV': '55.03996979198493'}</td>\n",
       "      <td>True</td>\n",
       "      <td></td>\n",
       "    </tr>\n",
       "    <tr>\n",
       "      <th>8</th>\n",
       "      <td>9</td>\n",
       "      <td></td>\n",
       "      <td>f0af82047d99aa91807ce7ab1b36a92d986a996793cef4...</td>\n",
       "      <td>None/compute_elastic_constants</td>\n",
       "      <td>2024-07-07 14:31:14.109285</td>\n",
       "      <td>{'element': ''Fe'', 'parameters': 'InputElasti...</td>\n",
       "      <td>{'BV': '93.38382852298619'}</td>\n",
       "      <td>True</td>\n",
       "      <td></td>\n",
       "    </tr>\n",
       "    <tr>\n",
       "      <th>9</th>\n",
       "      <td>10</td>\n",
       "      <td></td>\n",
       "      <td>f9798e0c90c6723adb8974f8d45cb43b8feeaad4053b0a...</td>\n",
       "      <td>node_library/atomistic/structure/build/cubic_b...</td>\n",
       "      <td>2024-07-07 14:56:24.815800</td>\n",
       "      <td>{'element': ''Al'', 'cell_size': '3', 'vacancy...</td>\n",
       "      <td>None</td>\n",
       "      <td>False</td>\n",
       "      <td></td>\n",
       "    </tr>\n",
       "    <tr>\n",
       "      <th>10</th>\n",
       "      <td>11</td>\n",
       "      <td></td>\n",
       "      <td>45a8ab7b1925cfabdfbf04f83ab4ba32ccb852198ba171...</td>\n",
       "      <td>None/InputElasticTensorNode</td>\n",
       "      <td>2024-07-07 14:56:24.819566</td>\n",
       "      <td>{'num_of_point': '11', 'eps_range': '0.005'}</td>\n",
       "      <td>None</td>\n",
       "      <td>False</td>\n",
       "      <td></td>\n",
       "    </tr>\n",
       "    <tr>\n",
       "      <th>11</th>\n",
       "      <td>17</td>\n",
       "      <td></td>\n",
       "      <td>e68957cde9cde67870e03b7c65cb5c6fff30484978fd2a...</td>\n",
       "      <td>node_library/atomistic/property/elastic/elasti...</td>\n",
       "      <td>2024-07-07 17:00:10.275206</td>\n",
       "      <td>{'structure': 'hash_a971878fcfbd90b7f7770a9b3b...</td>\n",
       "      <td>None</td>\n",
       "      <td>True</td>\n",
       "      <td>node_library/atomistic/property/elastic/elasti...</td>\n",
       "    </tr>\n",
       "    <tr>\n",
       "      <th>12</th>\n",
       "      <td>14</td>\n",
       "      <td></td>\n",
       "      <td>b0b53de01794273ec0105f4c85caf1a2ebed6b9690bd87...</td>\n",
       "      <td>node_library/atomistic/property/elastic/genera...</td>\n",
       "      <td>2024-07-07 15:22:31.316911</td>\n",
       "      <td>{'structure': 'hash_f9798e0c90c6723adb8974f8d4...</td>\n",
       "      <td>None</td>\n",
       "      <td>False</td>\n",
       "      <td></td>\n",
       "    </tr>\n",
       "    <tr>\n",
       "      <th>13</th>\n",
       "      <td>15</td>\n",
       "      <td></td>\n",
       "      <td>a971878fcfbd90b7f7770a9b3b7e276e3809f1ff0e1d1c...</td>\n",
       "      <td>node_library/atomistic/structure/build/cubic_b...</td>\n",
       "      <td>2024-07-07 15:36:53.714292</td>\n",
       "      <td>{'element': ''Ni'', 'cell_size': '3', 'vacancy...</td>\n",
       "      <td>None</td>\n",
       "      <td>False</td>\n",
       "      <td></td>\n",
       "    </tr>\n",
       "    <tr>\n",
       "      <th>14</th>\n",
       "      <td>16</td>\n",
       "      <td></td>\n",
       "      <td>cd859a15e91d320672dd57adfb99fad1927c95140c9155...</td>\n",
       "      <td>node_library/atomistic/property/elastic/genera...</td>\n",
       "      <td>2024-07-07 15:36:53.796954</td>\n",
       "      <td>{'structure': 'hash_a971878fcfbd90b7f7770a9b3b...</td>\n",
       "      <td>None</td>\n",
       "      <td>True</td>\n",
       "      <td>node_library/atomistic/property/elastic/genera...</td>\n",
       "    </tr>\n",
       "  </tbody>\n",
       "</table>\n",
       "</div>"
      ],
      "text/plain": [
       "    node_id name                                         hash_value  \\\n",
       "0         1       c16d79b83fad085c61d52223687f65ac5f258005921c83...   \n",
       "1         2       3d4f127b05459a1d1dda98bc3e6f10176e09f27f3ab9b1...   \n",
       "2         3       12201da17c241990e5b7725a62de4189bea0cf57ad462c...   \n",
       "3         4       0b26dce95241b25be07d968f3a10863d08d1edace00830...   \n",
       "4         5       d87d4a45cd97ce5e8787c85826781fbc3adf72afc7cef3...   \n",
       "5         6       4aa32e7e995920ffee1b936fdc0b3e570ffa586fc14080...   \n",
       "6         7       7efde22c8ae69d7da09b577b69ee74e0b74fe3f891cea9...   \n",
       "7         8       33682b8b2bd1d646f08081acca6ed97bca54d3ab8730a0...   \n",
       "8         9       f0af82047d99aa91807ce7ab1b36a92d986a996793cef4...   \n",
       "9        10       f9798e0c90c6723adb8974f8d45cb43b8feeaad4053b0a...   \n",
       "10       11       45a8ab7b1925cfabdfbf04f83ab4ba32ccb852198ba171...   \n",
       "11       17       e68957cde9cde67870e03b7c65cb5c6fff30484978fd2a...   \n",
       "12       14       b0b53de01794273ec0105f4c85caf1a2ebed6b9690bd87...   \n",
       "13       15       a971878fcfbd90b7f7770a9b3b7e276e3809f1ff0e1d1c...   \n",
       "14       16       cd859a15e91d320672dd57adfb99fad1927c95140c9155...   \n",
       "\n",
       "                                             lib_path  \\\n",
       "0                               node_library/math/Sin   \n",
       "1                               node_library/math/Sin   \n",
       "2   node_library/atomistic/property/thermodynamics...   \n",
       "3   node_library/atomistic/property/thermodynamics...   \n",
       "4            node_library/atomistic/engine/ase/M3GNet   \n",
       "5   node_library/atomistic/property/thermodynamics...   \n",
       "6                      None/compute_elastic_constants   \n",
       "7                      None/compute_elastic_constants   \n",
       "8                      None/compute_elastic_constants   \n",
       "9   node_library/atomistic/structure/build/cubic_b...   \n",
       "10                        None/InputElasticTensorNode   \n",
       "11  node_library/atomistic/property/elastic/elasti...   \n",
       "12  node_library/atomistic/property/elastic/genera...   \n",
       "13  node_library/atomistic/structure/build/cubic_b...   \n",
       "14  node_library/atomistic/property/elastic/genera...   \n",
       "\n",
       "                creation_date  \\\n",
       "0  2024-07-07 14:12:05.015249   \n",
       "1  2024-07-07 14:12:05.191476   \n",
       "2  2024-07-07 14:12:05.605083   \n",
       "3  2024-07-07 14:12:05.793974   \n",
       "4  2024-07-07 14:12:05.930900   \n",
       "5  2024-07-07 14:12:05.933554   \n",
       "6  2024-07-07 14:30:59.551093   \n",
       "7  2024-07-07 14:31:07.122162   \n",
       "8  2024-07-07 14:31:14.109285   \n",
       "9  2024-07-07 14:56:24.815800   \n",
       "10 2024-07-07 14:56:24.819566   \n",
       "11 2024-07-07 17:00:10.275206   \n",
       "12 2024-07-07 15:22:31.316911   \n",
       "13 2024-07-07 15:36:53.714292   \n",
       "14 2024-07-07 15:36:53.796954   \n",
       "\n",
       "                                               inputs  \\\n",
       "0                                       {'x': '[17]'}   \n",
       "1                                       {'x': '[12]'}   \n",
       "2               {'element': ''Pt'', 'engine': 'None'}   \n",
       "3               {'element': ''Pd'', 'engine': 'None'}   \n",
       "4                                                  {}   \n",
       "5   {'element': ''Pt'', 'engine': 'hash_d87d4a45cd...   \n",
       "6   {'element': ''Ni'', 'parameters': 'InputElasti...   \n",
       "7   {'element': ''Al'', 'parameters': 'InputElasti...   \n",
       "8   {'element': ''Fe'', 'parameters': 'InputElasti...   \n",
       "9   {'element': ''Al'', 'cell_size': '3', 'vacancy...   \n",
       "10       {'num_of_point': '11', 'eps_range': '0.005'}   \n",
       "11  {'structure': 'hash_a971878fcfbd90b7f7770a9b3b...   \n",
       "12  {'structure': 'hash_f9798e0c90c6723adb8974f8d4...   \n",
       "13  {'element': ''Ni'', 'cell_size': '3', 'vacancy...   \n",
       "14  {'structure': 'hash_a971878fcfbd90b7f7770a9b3b...   \n",
       "\n",
       "                                              outputs  output_ready  \\\n",
       "0                            {'sin': '[-0.96139749]'}          True   \n",
       "1                            {'sin': '[-0.53657292]'}          True   \n",
       "2   {'chemical_potential': '-0.00012460841212025286'}          True   \n",
       "3    {'chemical_potential': '0.00034226253730329503'}          True   \n",
       "4                                                None         False   \n",
       "5        {'chemical_potential': '-6.065089225769043'}          True   \n",
       "6                         {'BV': '215.6460213089325'}          True   \n",
       "7                         {'BV': '55.03996979198493'}          True   \n",
       "8                         {'BV': '93.38382852298619'}          True   \n",
       "9                                                None         False   \n",
       "10                                               None         False   \n",
       "11                                               None          True   \n",
       "12                                               None         False   \n",
       "13                                               None         False   \n",
       "14                                               None          True   \n",
       "\n",
       "                                            file_path  \n",
       "0                                                      \n",
       "1                                                      \n",
       "2                                                      \n",
       "3                                                      \n",
       "4                                                      \n",
       "5                                                      \n",
       "6                                                      \n",
       "7                                                      \n",
       "8                                                      \n",
       "9                                                      \n",
       "10                                                     \n",
       "11  node_library/atomistic/property/elastic/elasti...  \n",
       "12                                                     \n",
       "13                                                     \n",
       "14  node_library/atomistic/property/elastic/genera...  "
      ]
     },
     "execution_count": 7,
     "metadata": {},
     "output_type": "execute_result"
    }
   ],
   "source": [
    "hs.list_table(db)"
   ]
  },
  {
   "cell_type": "code",
   "execution_count": 8,
   "id": "a2be3618-5b58-4b00-a0a2-01abd0c82de9",
   "metadata": {},
   "outputs": [],
   "source": [
    "hs.remove_nodes_from_db(db, indices=[12, 13]);"
   ]
  },
  {
   "cell_type": "code",
   "execution_count": 9,
   "id": "4309219b-8ce1-4078-8823-460b07fc6851",
   "metadata": {},
   "outputs": [
    {
     "data": {
      "text/html": [
       "<div>\n",
       "<style scoped>\n",
       "    .dataframe tbody tr th:only-of-type {\n",
       "        vertical-align: middle;\n",
       "    }\n",
       "\n",
       "    .dataframe tbody tr th {\n",
       "        vertical-align: top;\n",
       "    }\n",
       "\n",
       "    .dataframe thead th {\n",
       "        text-align: right;\n",
       "    }\n",
       "</style>\n",
       "<table border=\"1\" class=\"dataframe\">\n",
       "  <thead>\n",
       "    <tr style=\"text-align: right;\">\n",
       "      <th></th>\n",
       "      <th>node_id</th>\n",
       "      <th>name</th>\n",
       "      <th>hash_value</th>\n",
       "      <th>lib_path</th>\n",
       "      <th>creation_date</th>\n",
       "      <th>inputs</th>\n",
       "      <th>outputs</th>\n",
       "      <th>output_ready</th>\n",
       "      <th>file_path</th>\n",
       "    </tr>\n",
       "  </thead>\n",
       "  <tbody>\n",
       "    <tr>\n",
       "      <th>0</th>\n",
       "      <td>1</td>\n",
       "      <td></td>\n",
       "      <td>c16d79b83fad085c61d52223687f65ac5f258005921c83...</td>\n",
       "      <td>node_library/math/Sin</td>\n",
       "      <td>2024-07-07 14:12:05.015249</td>\n",
       "      <td>{'x': '[17]'}</td>\n",
       "      <td>{'sin': '[-0.96139749]'}</td>\n",
       "      <td>True</td>\n",
       "      <td></td>\n",
       "    </tr>\n",
       "    <tr>\n",
       "      <th>1</th>\n",
       "      <td>2</td>\n",
       "      <td></td>\n",
       "      <td>3d4f127b05459a1d1dda98bc3e6f10176e09f27f3ab9b1...</td>\n",
       "      <td>node_library/math/Sin</td>\n",
       "      <td>2024-07-07 14:12:05.191476</td>\n",
       "      <td>{'x': '[12]'}</td>\n",
       "      <td>{'sin': '[-0.53657292]'}</td>\n",
       "      <td>True</td>\n",
       "      <td></td>\n",
       "    </tr>\n",
       "    <tr>\n",
       "      <th>2</th>\n",
       "      <td>3</td>\n",
       "      <td></td>\n",
       "      <td>12201da17c241990e5b7725a62de4189bea0cf57ad462c...</td>\n",
       "      <td>node_library/atomistic/property/thermodynamics...</td>\n",
       "      <td>2024-07-07 14:12:05.605083</td>\n",
       "      <td>{'element': ''Pt'', 'engine': 'None'}</td>\n",
       "      <td>{'chemical_potential': '-0.00012460841212025286'}</td>\n",
       "      <td>True</td>\n",
       "      <td></td>\n",
       "    </tr>\n",
       "    <tr>\n",
       "      <th>3</th>\n",
       "      <td>4</td>\n",
       "      <td></td>\n",
       "      <td>0b26dce95241b25be07d968f3a10863d08d1edace00830...</td>\n",
       "      <td>node_library/atomistic/property/thermodynamics...</td>\n",
       "      <td>2024-07-07 14:12:05.793974</td>\n",
       "      <td>{'element': ''Pd'', 'engine': 'None'}</td>\n",
       "      <td>{'chemical_potential': '0.00034226253730329503'}</td>\n",
       "      <td>True</td>\n",
       "      <td></td>\n",
       "    </tr>\n",
       "    <tr>\n",
       "      <th>4</th>\n",
       "      <td>5</td>\n",
       "      <td></td>\n",
       "      <td>d87d4a45cd97ce5e8787c85826781fbc3adf72afc7cef3...</td>\n",
       "      <td>node_library/atomistic/engine/ase/M3GNet</td>\n",
       "      <td>2024-07-07 14:12:05.930900</td>\n",
       "      <td>{}</td>\n",
       "      <td>None</td>\n",
       "      <td>False</td>\n",
       "      <td></td>\n",
       "    </tr>\n",
       "    <tr>\n",
       "      <th>5</th>\n",
       "      <td>6</td>\n",
       "      <td></td>\n",
       "      <td>4aa32e7e995920ffee1b936fdc0b3e570ffa586fc14080...</td>\n",
       "      <td>node_library/atomistic/property/thermodynamics...</td>\n",
       "      <td>2024-07-07 14:12:05.933554</td>\n",
       "      <td>{'element': ''Pt'', 'engine': 'hash_d87d4a45cd...</td>\n",
       "      <td>{'chemical_potential': '-6.065089225769043'}</td>\n",
       "      <td>True</td>\n",
       "      <td></td>\n",
       "    </tr>\n",
       "    <tr>\n",
       "      <th>6</th>\n",
       "      <td>7</td>\n",
       "      <td></td>\n",
       "      <td>7efde22c8ae69d7da09b577b69ee74e0b74fe3f891cea9...</td>\n",
       "      <td>None/compute_elastic_constants</td>\n",
       "      <td>2024-07-07 14:30:59.551093</td>\n",
       "      <td>{'element': ''Ni'', 'parameters': 'InputElasti...</td>\n",
       "      <td>{'BV': '215.6460213089325'}</td>\n",
       "      <td>True</td>\n",
       "      <td></td>\n",
       "    </tr>\n",
       "    <tr>\n",
       "      <th>7</th>\n",
       "      <td>8</td>\n",
       "      <td></td>\n",
       "      <td>33682b8b2bd1d646f08081acca6ed97bca54d3ab8730a0...</td>\n",
       "      <td>None/compute_elastic_constants</td>\n",
       "      <td>2024-07-07 14:31:07.122162</td>\n",
       "      <td>{'element': ''Al'', 'parameters': 'InputElasti...</td>\n",
       "      <td>{'BV': '55.03996979198493'}</td>\n",
       "      <td>True</td>\n",
       "      <td></td>\n",
       "    </tr>\n",
       "    <tr>\n",
       "      <th>8</th>\n",
       "      <td>9</td>\n",
       "      <td></td>\n",
       "      <td>f0af82047d99aa91807ce7ab1b36a92d986a996793cef4...</td>\n",
       "      <td>None/compute_elastic_constants</td>\n",
       "      <td>2024-07-07 14:31:14.109285</td>\n",
       "      <td>{'element': ''Fe'', 'parameters': 'InputElasti...</td>\n",
       "      <td>{'BV': '93.38382852298619'}</td>\n",
       "      <td>True</td>\n",
       "      <td></td>\n",
       "    </tr>\n",
       "    <tr>\n",
       "      <th>9</th>\n",
       "      <td>10</td>\n",
       "      <td></td>\n",
       "      <td>f9798e0c90c6723adb8974f8d45cb43b8feeaad4053b0a...</td>\n",
       "      <td>node_library/atomistic/structure/build/cubic_b...</td>\n",
       "      <td>2024-07-07 14:56:24.815800</td>\n",
       "      <td>{'element': ''Al'', 'cell_size': '3', 'vacancy...</td>\n",
       "      <td>None</td>\n",
       "      <td>False</td>\n",
       "      <td></td>\n",
       "    </tr>\n",
       "    <tr>\n",
       "      <th>10</th>\n",
       "      <td>11</td>\n",
       "      <td></td>\n",
       "      <td>45a8ab7b1925cfabdfbf04f83ab4ba32ccb852198ba171...</td>\n",
       "      <td>None/InputElasticTensorNode</td>\n",
       "      <td>2024-07-07 14:56:24.819566</td>\n",
       "      <td>{'num_of_point': '11', 'eps_range': '0.005'}</td>\n",
       "      <td>None</td>\n",
       "      <td>False</td>\n",
       "      <td></td>\n",
       "    </tr>\n",
       "    <tr>\n",
       "      <th>11</th>\n",
       "      <td>17</td>\n",
       "      <td></td>\n",
       "      <td>e68957cde9cde67870e03b7c65cb5c6fff30484978fd2a...</td>\n",
       "      <td>node_library/atomistic/property/elastic/elasti...</td>\n",
       "      <td>2024-07-07 17:00:10.275206</td>\n",
       "      <td>{'structure': 'hash_a971878fcfbd90b7f7770a9b3b...</td>\n",
       "      <td>None</td>\n",
       "      <td>True</td>\n",
       "      <td>node_library/atomistic/property/elastic/elasti...</td>\n",
       "    </tr>\n",
       "    <tr>\n",
       "      <th>12</th>\n",
       "      <td>14</td>\n",
       "      <td></td>\n",
       "      <td>b0b53de01794273ec0105f4c85caf1a2ebed6b9690bd87...</td>\n",
       "      <td>node_library/atomistic/property/elastic/genera...</td>\n",
       "      <td>2024-07-07 15:22:31.316911</td>\n",
       "      <td>{'structure': 'hash_f9798e0c90c6723adb8974f8d4...</td>\n",
       "      <td>None</td>\n",
       "      <td>False</td>\n",
       "      <td></td>\n",
       "    </tr>\n",
       "    <tr>\n",
       "      <th>13</th>\n",
       "      <td>15</td>\n",
       "      <td></td>\n",
       "      <td>a971878fcfbd90b7f7770a9b3b7e276e3809f1ff0e1d1c...</td>\n",
       "      <td>node_library/atomistic/structure/build/cubic_b...</td>\n",
       "      <td>2024-07-07 15:36:53.714292</td>\n",
       "      <td>{'element': ''Ni'', 'cell_size': '3', 'vacancy...</td>\n",
       "      <td>None</td>\n",
       "      <td>False</td>\n",
       "      <td></td>\n",
       "    </tr>\n",
       "    <tr>\n",
       "      <th>14</th>\n",
       "      <td>16</td>\n",
       "      <td></td>\n",
       "      <td>cd859a15e91d320672dd57adfb99fad1927c95140c9155...</td>\n",
       "      <td>node_library/atomistic/property/elastic/genera...</td>\n",
       "      <td>2024-07-07 15:36:53.796954</td>\n",
       "      <td>{'structure': 'hash_a971878fcfbd90b7f7770a9b3b...</td>\n",
       "      <td>None</td>\n",
       "      <td>True</td>\n",
       "      <td>node_library/atomistic/property/elastic/genera...</td>\n",
       "    </tr>\n",
       "  </tbody>\n",
       "</table>\n",
       "</div>"
      ],
      "text/plain": [
       "    node_id name                                         hash_value  \\\n",
       "0         1       c16d79b83fad085c61d52223687f65ac5f258005921c83...   \n",
       "1         2       3d4f127b05459a1d1dda98bc3e6f10176e09f27f3ab9b1...   \n",
       "2         3       12201da17c241990e5b7725a62de4189bea0cf57ad462c...   \n",
       "3         4       0b26dce95241b25be07d968f3a10863d08d1edace00830...   \n",
       "4         5       d87d4a45cd97ce5e8787c85826781fbc3adf72afc7cef3...   \n",
       "5         6       4aa32e7e995920ffee1b936fdc0b3e570ffa586fc14080...   \n",
       "6         7       7efde22c8ae69d7da09b577b69ee74e0b74fe3f891cea9...   \n",
       "7         8       33682b8b2bd1d646f08081acca6ed97bca54d3ab8730a0...   \n",
       "8         9       f0af82047d99aa91807ce7ab1b36a92d986a996793cef4...   \n",
       "9        10       f9798e0c90c6723adb8974f8d45cb43b8feeaad4053b0a...   \n",
       "10       11       45a8ab7b1925cfabdfbf04f83ab4ba32ccb852198ba171...   \n",
       "11       17       e68957cde9cde67870e03b7c65cb5c6fff30484978fd2a...   \n",
       "12       14       b0b53de01794273ec0105f4c85caf1a2ebed6b9690bd87...   \n",
       "13       15       a971878fcfbd90b7f7770a9b3b7e276e3809f1ff0e1d1c...   \n",
       "14       16       cd859a15e91d320672dd57adfb99fad1927c95140c9155...   \n",
       "\n",
       "                                             lib_path  \\\n",
       "0                               node_library/math/Sin   \n",
       "1                               node_library/math/Sin   \n",
       "2   node_library/atomistic/property/thermodynamics...   \n",
       "3   node_library/atomistic/property/thermodynamics...   \n",
       "4            node_library/atomistic/engine/ase/M3GNet   \n",
       "5   node_library/atomistic/property/thermodynamics...   \n",
       "6                      None/compute_elastic_constants   \n",
       "7                      None/compute_elastic_constants   \n",
       "8                      None/compute_elastic_constants   \n",
       "9   node_library/atomistic/structure/build/cubic_b...   \n",
       "10                        None/InputElasticTensorNode   \n",
       "11  node_library/atomistic/property/elastic/elasti...   \n",
       "12  node_library/atomistic/property/elastic/genera...   \n",
       "13  node_library/atomistic/structure/build/cubic_b...   \n",
       "14  node_library/atomistic/property/elastic/genera...   \n",
       "\n",
       "                creation_date  \\\n",
       "0  2024-07-07 14:12:05.015249   \n",
       "1  2024-07-07 14:12:05.191476   \n",
       "2  2024-07-07 14:12:05.605083   \n",
       "3  2024-07-07 14:12:05.793974   \n",
       "4  2024-07-07 14:12:05.930900   \n",
       "5  2024-07-07 14:12:05.933554   \n",
       "6  2024-07-07 14:30:59.551093   \n",
       "7  2024-07-07 14:31:07.122162   \n",
       "8  2024-07-07 14:31:14.109285   \n",
       "9  2024-07-07 14:56:24.815800   \n",
       "10 2024-07-07 14:56:24.819566   \n",
       "11 2024-07-07 17:00:10.275206   \n",
       "12 2024-07-07 15:22:31.316911   \n",
       "13 2024-07-07 15:36:53.714292   \n",
       "14 2024-07-07 15:36:53.796954   \n",
       "\n",
       "                                               inputs  \\\n",
       "0                                       {'x': '[17]'}   \n",
       "1                                       {'x': '[12]'}   \n",
       "2               {'element': ''Pt'', 'engine': 'None'}   \n",
       "3               {'element': ''Pd'', 'engine': 'None'}   \n",
       "4                                                  {}   \n",
       "5   {'element': ''Pt'', 'engine': 'hash_d87d4a45cd...   \n",
       "6   {'element': ''Ni'', 'parameters': 'InputElasti...   \n",
       "7   {'element': ''Al'', 'parameters': 'InputElasti...   \n",
       "8   {'element': ''Fe'', 'parameters': 'InputElasti...   \n",
       "9   {'element': ''Al'', 'cell_size': '3', 'vacancy...   \n",
       "10       {'num_of_point': '11', 'eps_range': '0.005'}   \n",
       "11  {'structure': 'hash_a971878fcfbd90b7f7770a9b3b...   \n",
       "12  {'structure': 'hash_f9798e0c90c6723adb8974f8d4...   \n",
       "13  {'element': ''Ni'', 'cell_size': '3', 'vacancy...   \n",
       "14  {'structure': 'hash_a971878fcfbd90b7f7770a9b3b...   \n",
       "\n",
       "                                              outputs  output_ready  \\\n",
       "0                            {'sin': '[-0.96139749]'}          True   \n",
       "1                            {'sin': '[-0.53657292]'}          True   \n",
       "2   {'chemical_potential': '-0.00012460841212025286'}          True   \n",
       "3    {'chemical_potential': '0.00034226253730329503'}          True   \n",
       "4                                                None         False   \n",
       "5        {'chemical_potential': '-6.065089225769043'}          True   \n",
       "6                         {'BV': '215.6460213089325'}          True   \n",
       "7                         {'BV': '55.03996979198493'}          True   \n",
       "8                         {'BV': '93.38382852298619'}          True   \n",
       "9                                                None         False   \n",
       "10                                               None         False   \n",
       "11                                               None          True   \n",
       "12                                               None         False   \n",
       "13                                               None         False   \n",
       "14                                               None          True   \n",
       "\n",
       "                                            file_path  \n",
       "0                                                      \n",
       "1                                                      \n",
       "2                                                      \n",
       "3                                                      \n",
       "4                                                      \n",
       "5                                                      \n",
       "6                                                      \n",
       "7                                                      \n",
       "8                                                      \n",
       "9                                                      \n",
       "10                                                     \n",
       "11  node_library/atomistic/property/elastic/elasti...  \n",
       "12                                                     \n",
       "13                                                     \n",
       "14  node_library/atomistic/property/elastic/genera...  "
      ]
     },
     "execution_count": 9,
     "metadata": {},
     "output_type": "execute_result"
    }
   ],
   "source": [
    "df = hs.list_table(db)\n",
    "df"
   ]
  },
  {
   "cell_type": "code",
   "execution_count": 10,
   "id": "c2237626-dcb0-4eb6-adf9-96e312a5d39f",
   "metadata": {},
   "outputs": [
    {
     "data": {
      "text/html": [
       "<div>\n",
       "<style scoped>\n",
       "    .dataframe tbody tr th:only-of-type {\n",
       "        vertical-align: middle;\n",
       "    }\n",
       "\n",
       "    .dataframe tbody tr th {\n",
       "        vertical-align: top;\n",
       "    }\n",
       "\n",
       "    .dataframe thead th {\n",
       "        text-align: right;\n",
       "    }\n",
       "</style>\n",
       "<table border=\"1\" class=\"dataframe\">\n",
       "  <thead>\n",
       "    <tr style=\"text-align: right;\">\n",
       "      <th></th>\n",
       "      <th>node_id</th>\n",
       "      <th>name</th>\n",
       "      <th>hash_value</th>\n",
       "      <th>lib_path</th>\n",
       "      <th>creation_date</th>\n",
       "      <th>outputs</th>\n",
       "      <th>output_ready</th>\n",
       "      <th>file_path</th>\n",
       "      <th>x</th>\n",
       "      <th>element</th>\n",
       "      <th>engine</th>\n",
       "      <th>parameters</th>\n",
       "      <th>cell_size</th>\n",
       "      <th>vacancy_index</th>\n",
       "      <th>num_of_point</th>\n",
       "      <th>eps_range</th>\n",
       "      <th>structure</th>\n",
       "      <th>calculator</th>\n",
       "    </tr>\n",
       "  </thead>\n",
       "  <tbody>\n",
       "    <tr>\n",
       "      <th>0</th>\n",
       "      <td>1</td>\n",
       "      <td></td>\n",
       "      <td>c16d79b83fad085c61d52223687f65ac5f258005921c83...</td>\n",
       "      <td>node_library/math/Sin</td>\n",
       "      <td>2024-07-07 14:12:05.015249</td>\n",
       "      <td>{'sin': '[-0.96139749]'}</td>\n",
       "      <td>True</td>\n",
       "      <td></td>\n",
       "      <td>[17]</td>\n",
       "      <td>NaN</td>\n",
       "      <td>NaN</td>\n",
       "      <td>NaN</td>\n",
       "      <td>NaN</td>\n",
       "      <td>NaN</td>\n",
       "      <td>NaN</td>\n",
       "      <td>NaN</td>\n",
       "      <td>NaN</td>\n",
       "      <td>NaN</td>\n",
       "    </tr>\n",
       "    <tr>\n",
       "      <th>1</th>\n",
       "      <td>2</td>\n",
       "      <td></td>\n",
       "      <td>3d4f127b05459a1d1dda98bc3e6f10176e09f27f3ab9b1...</td>\n",
       "      <td>node_library/math/Sin</td>\n",
       "      <td>2024-07-07 14:12:05.191476</td>\n",
       "      <td>{'sin': '[-0.53657292]'}</td>\n",
       "      <td>True</td>\n",
       "      <td></td>\n",
       "      <td>[12]</td>\n",
       "      <td>NaN</td>\n",
       "      <td>NaN</td>\n",
       "      <td>NaN</td>\n",
       "      <td>NaN</td>\n",
       "      <td>NaN</td>\n",
       "      <td>NaN</td>\n",
       "      <td>NaN</td>\n",
       "      <td>NaN</td>\n",
       "      <td>NaN</td>\n",
       "    </tr>\n",
       "    <tr>\n",
       "      <th>2</th>\n",
       "      <td>3</td>\n",
       "      <td></td>\n",
       "      <td>12201da17c241990e5b7725a62de4189bea0cf57ad462c...</td>\n",
       "      <td>node_library/atomistic/property/thermodynamics...</td>\n",
       "      <td>2024-07-07 14:12:05.605083</td>\n",
       "      <td>{'chemical_potential': '-0.00012460841212025286'}</td>\n",
       "      <td>True</td>\n",
       "      <td></td>\n",
       "      <td>NaN</td>\n",
       "      <td>'Pt'</td>\n",
       "      <td>None</td>\n",
       "      <td>NaN</td>\n",
       "      <td>NaN</td>\n",
       "      <td>NaN</td>\n",
       "      <td>NaN</td>\n",
       "      <td>NaN</td>\n",
       "      <td>NaN</td>\n",
       "      <td>NaN</td>\n",
       "    </tr>\n",
       "    <tr>\n",
       "      <th>3</th>\n",
       "      <td>4</td>\n",
       "      <td></td>\n",
       "      <td>0b26dce95241b25be07d968f3a10863d08d1edace00830...</td>\n",
       "      <td>node_library/atomistic/property/thermodynamics...</td>\n",
       "      <td>2024-07-07 14:12:05.793974</td>\n",
       "      <td>{'chemical_potential': '0.00034226253730329503'}</td>\n",
       "      <td>True</td>\n",
       "      <td></td>\n",
       "      <td>NaN</td>\n",
       "      <td>'Pd'</td>\n",
       "      <td>None</td>\n",
       "      <td>NaN</td>\n",
       "      <td>NaN</td>\n",
       "      <td>NaN</td>\n",
       "      <td>NaN</td>\n",
       "      <td>NaN</td>\n",
       "      <td>NaN</td>\n",
       "      <td>NaN</td>\n",
       "    </tr>\n",
       "    <tr>\n",
       "      <th>4</th>\n",
       "      <td>5</td>\n",
       "      <td></td>\n",
       "      <td>d87d4a45cd97ce5e8787c85826781fbc3adf72afc7cef3...</td>\n",
       "      <td>node_library/atomistic/engine/ase/M3GNet</td>\n",
       "      <td>2024-07-07 14:12:05.930900</td>\n",
       "      <td>None</td>\n",
       "      <td>False</td>\n",
       "      <td></td>\n",
       "      <td>NaN</td>\n",
       "      <td>NaN</td>\n",
       "      <td>NaN</td>\n",
       "      <td>NaN</td>\n",
       "      <td>NaN</td>\n",
       "      <td>NaN</td>\n",
       "      <td>NaN</td>\n",
       "      <td>NaN</td>\n",
       "      <td>NaN</td>\n",
       "      <td>NaN</td>\n",
       "    </tr>\n",
       "    <tr>\n",
       "      <th>5</th>\n",
       "      <td>6</td>\n",
       "      <td></td>\n",
       "      <td>4aa32e7e995920ffee1b936fdc0b3e570ffa586fc14080...</td>\n",
       "      <td>node_library/atomistic/property/thermodynamics...</td>\n",
       "      <td>2024-07-07 14:12:05.933554</td>\n",
       "      <td>{'chemical_potential': '-6.065089225769043'}</td>\n",
       "      <td>True</td>\n",
       "      <td></td>\n",
       "      <td>NaN</td>\n",
       "      <td>'Pt'</td>\n",
       "      <td>hash_d87d4a45cd97ce5e8787c85826781fbc3adf72afc...</td>\n",
       "      <td>NaN</td>\n",
       "      <td>NaN</td>\n",
       "      <td>NaN</td>\n",
       "      <td>NaN</td>\n",
       "      <td>NaN</td>\n",
       "      <td>NaN</td>\n",
       "      <td>NaN</td>\n",
       "    </tr>\n",
       "    <tr>\n",
       "      <th>6</th>\n",
       "      <td>7</td>\n",
       "      <td></td>\n",
       "      <td>7efde22c8ae69d7da09b577b69ee74e0b74fe3f891cea9...</td>\n",
       "      <td>None/compute_elastic_constants</td>\n",
       "      <td>2024-07-07 14:30:59.551093</td>\n",
       "      <td>{'BV': '215.6460213089325'}</td>\n",
       "      <td>True</td>\n",
       "      <td></td>\n",
       "      <td>NaN</td>\n",
       "      <td>'Ni'</td>\n",
       "      <td>NaN</td>\n",
       "      <td>InputElasticTensor(num_of_point=5, eps_range=0...</td>\n",
       "      <td>NaN</td>\n",
       "      <td>NaN</td>\n",
       "      <td>NaN</td>\n",
       "      <td>NaN</td>\n",
       "      <td>NaN</td>\n",
       "      <td>NaN</td>\n",
       "    </tr>\n",
       "    <tr>\n",
       "      <th>7</th>\n",
       "      <td>8</td>\n",
       "      <td></td>\n",
       "      <td>33682b8b2bd1d646f08081acca6ed97bca54d3ab8730a0...</td>\n",
       "      <td>None/compute_elastic_constants</td>\n",
       "      <td>2024-07-07 14:31:07.122162</td>\n",
       "      <td>{'BV': '55.03996979198493'}</td>\n",
       "      <td>True</td>\n",
       "      <td></td>\n",
       "      <td>NaN</td>\n",
       "      <td>'Al'</td>\n",
       "      <td>NaN</td>\n",
       "      <td>InputElasticTensor(num_of_point=5, eps_range=0...</td>\n",
       "      <td>NaN</td>\n",
       "      <td>NaN</td>\n",
       "      <td>NaN</td>\n",
       "      <td>NaN</td>\n",
       "      <td>NaN</td>\n",
       "      <td>NaN</td>\n",
       "    </tr>\n",
       "    <tr>\n",
       "      <th>8</th>\n",
       "      <td>9</td>\n",
       "      <td></td>\n",
       "      <td>f0af82047d99aa91807ce7ab1b36a92d986a996793cef4...</td>\n",
       "      <td>None/compute_elastic_constants</td>\n",
       "      <td>2024-07-07 14:31:14.109285</td>\n",
       "      <td>{'BV': '93.38382852298619'}</td>\n",
       "      <td>True</td>\n",
       "      <td></td>\n",
       "      <td>NaN</td>\n",
       "      <td>'Fe'</td>\n",
       "      <td>NaN</td>\n",
       "      <td>InputElasticTensor(num_of_point=5, eps_range=0...</td>\n",
       "      <td>NaN</td>\n",
       "      <td>NaN</td>\n",
       "      <td>NaN</td>\n",
       "      <td>NaN</td>\n",
       "      <td>NaN</td>\n",
       "      <td>NaN</td>\n",
       "    </tr>\n",
       "    <tr>\n",
       "      <th>9</th>\n",
       "      <td>10</td>\n",
       "      <td></td>\n",
       "      <td>f9798e0c90c6723adb8974f8d45cb43b8feeaad4053b0a...</td>\n",
       "      <td>node_library/atomistic/structure/build/cubic_b...</td>\n",
       "      <td>2024-07-07 14:56:24.815800</td>\n",
       "      <td>None</td>\n",
       "      <td>False</td>\n",
       "      <td></td>\n",
       "      <td>NaN</td>\n",
       "      <td>'Al'</td>\n",
       "      <td>NaN</td>\n",
       "      <td>NaN</td>\n",
       "      <td>3</td>\n",
       "      <td>0</td>\n",
       "      <td>NaN</td>\n",
       "      <td>NaN</td>\n",
       "      <td>NaN</td>\n",
       "      <td>NaN</td>\n",
       "    </tr>\n",
       "    <tr>\n",
       "      <th>10</th>\n",
       "      <td>11</td>\n",
       "      <td></td>\n",
       "      <td>45a8ab7b1925cfabdfbf04f83ab4ba32ccb852198ba171...</td>\n",
       "      <td>None/InputElasticTensorNode</td>\n",
       "      <td>2024-07-07 14:56:24.819566</td>\n",
       "      <td>None</td>\n",
       "      <td>False</td>\n",
       "      <td></td>\n",
       "      <td>NaN</td>\n",
       "      <td>NaN</td>\n",
       "      <td>NaN</td>\n",
       "      <td>NaN</td>\n",
       "      <td>NaN</td>\n",
       "      <td>NaN</td>\n",
       "      <td>11</td>\n",
       "      <td>0.005</td>\n",
       "      <td>NaN</td>\n",
       "      <td>NaN</td>\n",
       "    </tr>\n",
       "    <tr>\n",
       "      <th>11</th>\n",
       "      <td>17</td>\n",
       "      <td></td>\n",
       "      <td>e68957cde9cde67870e03b7c65cb5c6fff30484978fd2a...</td>\n",
       "      <td>node_library/atomistic/property/elastic/elasti...</td>\n",
       "      <td>2024-07-07 17:00:10.275206</td>\n",
       "      <td>None</td>\n",
       "      <td>True</td>\n",
       "      <td>node_library/atomistic/property/elastic/elasti...</td>\n",
       "      <td>NaN</td>\n",
       "      <td>NaN</td>\n",
       "      <td>hash_d87d4a45cd97ce5e8787c85826781fbc3adf72afc...</td>\n",
       "      <td>InputElasticTensor(num_of_point=5, eps_range=0...</td>\n",
       "      <td>NaN</td>\n",
       "      <td>NaN</td>\n",
       "      <td>NaN</td>\n",
       "      <td>NaN</td>\n",
       "      <td>hash_a971878fcfbd90b7f7770a9b3b7e276e3809f1ff0...</td>\n",
       "      <td>None</td>\n",
       "    </tr>\n",
       "    <tr>\n",
       "      <th>12</th>\n",
       "      <td>14</td>\n",
       "      <td></td>\n",
       "      <td>b0b53de01794273ec0105f4c85caf1a2ebed6b9690bd87...</td>\n",
       "      <td>node_library/atomistic/property/elastic/genera...</td>\n",
       "      <td>2024-07-07 15:22:31.316911</td>\n",
       "      <td>None</td>\n",
       "      <td>False</td>\n",
       "      <td></td>\n",
       "      <td>NaN</td>\n",
       "      <td>NaN</td>\n",
       "      <td>NaN</td>\n",
       "      <td>hash_45a8ab7b1925cfabdfbf04f83ab4ba32ccb852198...</td>\n",
       "      <td>NaN</td>\n",
       "      <td>NaN</td>\n",
       "      <td>NaN</td>\n",
       "      <td>NaN</td>\n",
       "      <td>hash_f9798e0c90c6723adb8974f8d45cb43b8feeaad40...</td>\n",
       "      <td>NaN</td>\n",
       "    </tr>\n",
       "    <tr>\n",
       "      <th>13</th>\n",
       "      <td>15</td>\n",
       "      <td></td>\n",
       "      <td>a971878fcfbd90b7f7770a9b3b7e276e3809f1ff0e1d1c...</td>\n",
       "      <td>node_library/atomistic/structure/build/cubic_b...</td>\n",
       "      <td>2024-07-07 15:36:53.714292</td>\n",
       "      <td>None</td>\n",
       "      <td>False</td>\n",
       "      <td></td>\n",
       "      <td>NaN</td>\n",
       "      <td>'Ni'</td>\n",
       "      <td>NaN</td>\n",
       "      <td>NaN</td>\n",
       "      <td>3</td>\n",
       "      <td>0</td>\n",
       "      <td>NaN</td>\n",
       "      <td>NaN</td>\n",
       "      <td>NaN</td>\n",
       "      <td>NaN</td>\n",
       "    </tr>\n",
       "    <tr>\n",
       "      <th>14</th>\n",
       "      <td>16</td>\n",
       "      <td></td>\n",
       "      <td>cd859a15e91d320672dd57adfb99fad1927c95140c9155...</td>\n",
       "      <td>node_library/atomistic/property/elastic/genera...</td>\n",
       "      <td>2024-07-07 15:36:53.796954</td>\n",
       "      <td>None</td>\n",
       "      <td>True</td>\n",
       "      <td>node_library/atomistic/property/elastic/genera...</td>\n",
       "      <td>NaN</td>\n",
       "      <td>NaN</td>\n",
       "      <td>NaN</td>\n",
       "      <td>InputElasticTensor(num_of_point=11, eps_range=...</td>\n",
       "      <td>NaN</td>\n",
       "      <td>NaN</td>\n",
       "      <td>NaN</td>\n",
       "      <td>NaN</td>\n",
       "      <td>hash_a971878fcfbd90b7f7770a9b3b7e276e3809f1ff0...</td>\n",
       "      <td>NaN</td>\n",
       "    </tr>\n",
       "  </tbody>\n",
       "</table>\n",
       "</div>"
      ],
      "text/plain": [
       "    node_id name                                         hash_value  \\\n",
       "0         1       c16d79b83fad085c61d52223687f65ac5f258005921c83...   \n",
       "1         2       3d4f127b05459a1d1dda98bc3e6f10176e09f27f3ab9b1...   \n",
       "2         3       12201da17c241990e5b7725a62de4189bea0cf57ad462c...   \n",
       "3         4       0b26dce95241b25be07d968f3a10863d08d1edace00830...   \n",
       "4         5       d87d4a45cd97ce5e8787c85826781fbc3adf72afc7cef3...   \n",
       "5         6       4aa32e7e995920ffee1b936fdc0b3e570ffa586fc14080...   \n",
       "6         7       7efde22c8ae69d7da09b577b69ee74e0b74fe3f891cea9...   \n",
       "7         8       33682b8b2bd1d646f08081acca6ed97bca54d3ab8730a0...   \n",
       "8         9       f0af82047d99aa91807ce7ab1b36a92d986a996793cef4...   \n",
       "9        10       f9798e0c90c6723adb8974f8d45cb43b8feeaad4053b0a...   \n",
       "10       11       45a8ab7b1925cfabdfbf04f83ab4ba32ccb852198ba171...   \n",
       "11       17       e68957cde9cde67870e03b7c65cb5c6fff30484978fd2a...   \n",
       "12       14       b0b53de01794273ec0105f4c85caf1a2ebed6b9690bd87...   \n",
       "13       15       a971878fcfbd90b7f7770a9b3b7e276e3809f1ff0e1d1c...   \n",
       "14       16       cd859a15e91d320672dd57adfb99fad1927c95140c9155...   \n",
       "\n",
       "                                             lib_path  \\\n",
       "0                               node_library/math/Sin   \n",
       "1                               node_library/math/Sin   \n",
       "2   node_library/atomistic/property/thermodynamics...   \n",
       "3   node_library/atomistic/property/thermodynamics...   \n",
       "4            node_library/atomistic/engine/ase/M3GNet   \n",
       "5   node_library/atomistic/property/thermodynamics...   \n",
       "6                      None/compute_elastic_constants   \n",
       "7                      None/compute_elastic_constants   \n",
       "8                      None/compute_elastic_constants   \n",
       "9   node_library/atomistic/structure/build/cubic_b...   \n",
       "10                        None/InputElasticTensorNode   \n",
       "11  node_library/atomistic/property/elastic/elasti...   \n",
       "12  node_library/atomistic/property/elastic/genera...   \n",
       "13  node_library/atomistic/structure/build/cubic_b...   \n",
       "14  node_library/atomistic/property/elastic/genera...   \n",
       "\n",
       "                creation_date  \\\n",
       "0  2024-07-07 14:12:05.015249   \n",
       "1  2024-07-07 14:12:05.191476   \n",
       "2  2024-07-07 14:12:05.605083   \n",
       "3  2024-07-07 14:12:05.793974   \n",
       "4  2024-07-07 14:12:05.930900   \n",
       "5  2024-07-07 14:12:05.933554   \n",
       "6  2024-07-07 14:30:59.551093   \n",
       "7  2024-07-07 14:31:07.122162   \n",
       "8  2024-07-07 14:31:14.109285   \n",
       "9  2024-07-07 14:56:24.815800   \n",
       "10 2024-07-07 14:56:24.819566   \n",
       "11 2024-07-07 17:00:10.275206   \n",
       "12 2024-07-07 15:22:31.316911   \n",
       "13 2024-07-07 15:36:53.714292   \n",
       "14 2024-07-07 15:36:53.796954   \n",
       "\n",
       "                                              outputs  output_ready  \\\n",
       "0                            {'sin': '[-0.96139749]'}          True   \n",
       "1                            {'sin': '[-0.53657292]'}          True   \n",
       "2   {'chemical_potential': '-0.00012460841212025286'}          True   \n",
       "3    {'chemical_potential': '0.00034226253730329503'}          True   \n",
       "4                                                None         False   \n",
       "5        {'chemical_potential': '-6.065089225769043'}          True   \n",
       "6                         {'BV': '215.6460213089325'}          True   \n",
       "7                         {'BV': '55.03996979198493'}          True   \n",
       "8                         {'BV': '93.38382852298619'}          True   \n",
       "9                                                None         False   \n",
       "10                                               None         False   \n",
       "11                                               None          True   \n",
       "12                                               None         False   \n",
       "13                                               None         False   \n",
       "14                                               None          True   \n",
       "\n",
       "                                            file_path     x element  \\\n",
       "0                                                      [17]     NaN   \n",
       "1                                                      [12]     NaN   \n",
       "2                                                       NaN    'Pt'   \n",
       "3                                                       NaN    'Pd'   \n",
       "4                                                       NaN     NaN   \n",
       "5                                                       NaN    'Pt'   \n",
       "6                                                       NaN    'Ni'   \n",
       "7                                                       NaN    'Al'   \n",
       "8                                                       NaN    'Fe'   \n",
       "9                                                       NaN    'Al'   \n",
       "10                                                      NaN     NaN   \n",
       "11  node_library/atomistic/property/elastic/elasti...   NaN     NaN   \n",
       "12                                                      NaN     NaN   \n",
       "13                                                      NaN    'Ni'   \n",
       "14  node_library/atomistic/property/elastic/genera...   NaN     NaN   \n",
       "\n",
       "                                               engine  \\\n",
       "0                                                 NaN   \n",
       "1                                                 NaN   \n",
       "2                                                None   \n",
       "3                                                None   \n",
       "4                                                 NaN   \n",
       "5   hash_d87d4a45cd97ce5e8787c85826781fbc3adf72afc...   \n",
       "6                                                 NaN   \n",
       "7                                                 NaN   \n",
       "8                                                 NaN   \n",
       "9                                                 NaN   \n",
       "10                                                NaN   \n",
       "11  hash_d87d4a45cd97ce5e8787c85826781fbc3adf72afc...   \n",
       "12                                                NaN   \n",
       "13                                                NaN   \n",
       "14                                                NaN   \n",
       "\n",
       "                                           parameters cell_size vacancy_index  \\\n",
       "0                                                 NaN       NaN           NaN   \n",
       "1                                                 NaN       NaN           NaN   \n",
       "2                                                 NaN       NaN           NaN   \n",
       "3                                                 NaN       NaN           NaN   \n",
       "4                                                 NaN       NaN           NaN   \n",
       "5                                                 NaN       NaN           NaN   \n",
       "6   InputElasticTensor(num_of_point=5, eps_range=0...       NaN           NaN   \n",
       "7   InputElasticTensor(num_of_point=5, eps_range=0...       NaN           NaN   \n",
       "8   InputElasticTensor(num_of_point=5, eps_range=0...       NaN           NaN   \n",
       "9                                                 NaN         3             0   \n",
       "10                                                NaN       NaN           NaN   \n",
       "11  InputElasticTensor(num_of_point=5, eps_range=0...       NaN           NaN   \n",
       "12  hash_45a8ab7b1925cfabdfbf04f83ab4ba32ccb852198...       NaN           NaN   \n",
       "13                                                NaN         3             0   \n",
       "14  InputElasticTensor(num_of_point=11, eps_range=...       NaN           NaN   \n",
       "\n",
       "   num_of_point eps_range                                          structure  \\\n",
       "0           NaN       NaN                                                NaN   \n",
       "1           NaN       NaN                                                NaN   \n",
       "2           NaN       NaN                                                NaN   \n",
       "3           NaN       NaN                                                NaN   \n",
       "4           NaN       NaN                                                NaN   \n",
       "5           NaN       NaN                                                NaN   \n",
       "6           NaN       NaN                                                NaN   \n",
       "7           NaN       NaN                                                NaN   \n",
       "8           NaN       NaN                                                NaN   \n",
       "9           NaN       NaN                                                NaN   \n",
       "10           11     0.005                                                NaN   \n",
       "11          NaN       NaN  hash_a971878fcfbd90b7f7770a9b3b7e276e3809f1ff0...   \n",
       "12          NaN       NaN  hash_f9798e0c90c6723adb8974f8d45cb43b8feeaad40...   \n",
       "13          NaN       NaN                                                NaN   \n",
       "14          NaN       NaN  hash_a971878fcfbd90b7f7770a9b3b7e276e3809f1ff0...   \n",
       "\n",
       "   calculator  \n",
       "0         NaN  \n",
       "1         NaN  \n",
       "2         NaN  \n",
       "3         NaN  \n",
       "4         NaN  \n",
       "5         NaN  \n",
       "6         NaN  \n",
       "7         NaN  \n",
       "8         NaN  \n",
       "9         NaN  \n",
       "10        NaN  \n",
       "11       None  \n",
       "12        NaN  \n",
       "13        NaN  \n",
       "14        NaN  "
      ]
     },
     "execution_count": 10,
     "metadata": {},
     "output_type": "execute_result"
    }
   ],
   "source": [
    "hs.transform_data_column(df)"
   ]
  },
  {
   "cell_type": "code",
   "execution_count": 11,
   "id": "97bce6d3-7c70-4aa2-ad6f-04d25a769a11",
   "metadata": {},
   "outputs": [
    {
     "data": {
      "text/html": [
       "<div>\n",
       "<style scoped>\n",
       "    .dataframe tbody tr th:only-of-type {\n",
       "        vertical-align: middle;\n",
       "    }\n",
       "\n",
       "    .dataframe tbody tr th {\n",
       "        vertical-align: top;\n",
       "    }\n",
       "\n",
       "    .dataframe thead th {\n",
       "        text-align: right;\n",
       "    }\n",
       "</style>\n",
       "<table border=\"1\" class=\"dataframe\">\n",
       "  <thead>\n",
       "    <tr style=\"text-align: right;\">\n",
       "      <th></th>\n",
       "      <th>node_id</th>\n",
       "      <th>name</th>\n",
       "      <th>hash_value</th>\n",
       "      <th>lib_path</th>\n",
       "      <th>creation_date</th>\n",
       "      <th>inputs</th>\n",
       "      <th>outputs</th>\n",
       "      <th>output_ready</th>\n",
       "      <th>file_path</th>\n",
       "    </tr>\n",
       "  </thead>\n",
       "  <tbody>\n",
       "    <tr>\n",
       "      <th>0</th>\n",
       "      <td>1</td>\n",
       "      <td></td>\n",
       "      <td>c16d79b83fad085c61d52223687f65ac5f258005921c83...</td>\n",
       "      <td>node_library/math/Sin</td>\n",
       "      <td>2024-07-07 14:12:05.015249</td>\n",
       "      <td>{'x': '[17]'}</td>\n",
       "      <td>{'sin': '[-0.96139749]'}</td>\n",
       "      <td>True</td>\n",
       "      <td></td>\n",
       "    </tr>\n",
       "  </tbody>\n",
       "</table>\n",
       "</div>"
      ],
      "text/plain": [
       "   node_id name                                         hash_value  \\\n",
       "0        1       c16d79b83fad085c61d52223687f65ac5f258005921c83...   \n",
       "\n",
       "                lib_path              creation_date         inputs  \\\n",
       "0  node_library/math/Sin 2024-07-07 14:12:05.015249  {'x': '[17]'}   \n",
       "\n",
       "                    outputs  output_ready file_path  \n",
       "0  {'sin': '[-0.96139749]'}          True            "
      ]
     },
     "execution_count": 11,
     "metadata": {},
     "output_type": "execute_result"
    }
   ],
   "source": [
    "hs.db_query_dict(db, x='[17]')"
   ]
  },
  {
   "cell_type": "markdown",
   "id": "376ec23a-f730-4f13-a423-85d4a94a4715",
   "metadata": {},
   "source": [
    "### Connect to pyiron_workflow"
   ]
  },
  {
   "cell_type": "code",
   "execution_count": 12,
   "id": "02139598-8ca8-49f6-853a-d5a203d667f9",
   "metadata": {},
   "outputs": [],
   "source": [
    "from pyiron_workflow import Workflow"
   ]
  },
  {
   "cell_type": "code",
   "execution_count": 13,
   "id": "d710c442-dded-453e-b8d6-f0d2084b6c1d",
   "metadata": {},
   "outputs": [
    {
     "data": {
      "application/vnd.jupyter.widget-view+json": {
       "model_id": "2533541d79c84d97bd1de41133b7bbe1",
       "version_major": 2,
       "version_minor": 0
      },
      "text/plain": []
     },
     "metadata": {},
     "output_type": "display_data"
    }
   ],
   "source": [
    "# Register the necessary node packages                                                                        \n",
    "Workflow.register(\"node_library.math\", \"math\")\n",
    "Workflow.register(\"node_library.atomistic\", \"atomistic\") "
   ]
  },
  {
   "cell_type": "code",
   "execution_count": 14,
   "id": "728fc684-0916-4c9b-90ea-808ff5143f9b",
   "metadata": {},
   "outputs": [
    {
     "data": {
      "text/plain": [
       "NOT_DATA"
      ]
     },
     "execution_count": 14,
     "metadata": {},
     "output_type": "execute_result"
    }
   ],
   "source": [
    "sin = Workflow.create.math.Sin(x=[17])\n",
    "sin.outputs.sin.value"
   ]
  },
  {
   "cell_type": "code",
   "execution_count": 15,
   "id": "99c2f022-5d69-42f2-ab01-066ba6585ac5",
   "metadata": {},
   "outputs": [
    {
     "data": {
      "text/html": [
       "<div>\n",
       "<style scoped>\n",
       "    .dataframe tbody tr th:only-of-type {\n",
       "        vertical-align: middle;\n",
       "    }\n",
       "\n",
       "    .dataframe tbody tr th {\n",
       "        vertical-align: top;\n",
       "    }\n",
       "\n",
       "    .dataframe thead th {\n",
       "        text-align: right;\n",
       "    }\n",
       "</style>\n",
       "<table border=\"1\" class=\"dataframe\">\n",
       "  <thead>\n",
       "    <tr style=\"text-align: right;\">\n",
       "      <th></th>\n",
       "      <th>node_id</th>\n",
       "      <th>name</th>\n",
       "      <th>hash_value</th>\n",
       "      <th>lib_path</th>\n",
       "      <th>creation_date</th>\n",
       "      <th>inputs</th>\n",
       "      <th>outputs</th>\n",
       "      <th>output_ready</th>\n",
       "      <th>file_path</th>\n",
       "    </tr>\n",
       "  </thead>\n",
       "  <tbody>\n",
       "    <tr>\n",
       "      <th>0</th>\n",
       "      <td>1</td>\n",
       "      <td></td>\n",
       "      <td>c16d79b83fad085c61d52223687f65ac5f258005921c83...</td>\n",
       "      <td>node_library/math/Sin</td>\n",
       "      <td>2024-07-07 14:12:05.015249</td>\n",
       "      <td>{'x': '[17]'}</td>\n",
       "      <td>{'sin': '[-0.96139749]'}</td>\n",
       "      <td>True</td>\n",
       "      <td></td>\n",
       "    </tr>\n",
       "    <tr>\n",
       "      <th>1</th>\n",
       "      <td>2</td>\n",
       "      <td></td>\n",
       "      <td>3d4f127b05459a1d1dda98bc3e6f10176e09f27f3ab9b1...</td>\n",
       "      <td>node_library/math/Sin</td>\n",
       "      <td>2024-07-07 14:12:05.191476</td>\n",
       "      <td>{'x': '[12]'}</td>\n",
       "      <td>{'sin': '[-0.53657292]'}</td>\n",
       "      <td>True</td>\n",
       "      <td></td>\n",
       "    </tr>\n",
       "    <tr>\n",
       "      <th>2</th>\n",
       "      <td>3</td>\n",
       "      <td></td>\n",
       "      <td>12201da17c241990e5b7725a62de4189bea0cf57ad462c...</td>\n",
       "      <td>node_library/atomistic/property/thermodynamics...</td>\n",
       "      <td>2024-07-07 14:12:05.605083</td>\n",
       "      <td>{'element': ''Pt'', 'engine': 'None'}</td>\n",
       "      <td>{'chemical_potential': '-0.00012460841212025286'}</td>\n",
       "      <td>True</td>\n",
       "      <td></td>\n",
       "    </tr>\n",
       "    <tr>\n",
       "      <th>3</th>\n",
       "      <td>4</td>\n",
       "      <td></td>\n",
       "      <td>0b26dce95241b25be07d968f3a10863d08d1edace00830...</td>\n",
       "      <td>node_library/atomistic/property/thermodynamics...</td>\n",
       "      <td>2024-07-07 14:12:05.793974</td>\n",
       "      <td>{'element': ''Pd'', 'engine': 'None'}</td>\n",
       "      <td>{'chemical_potential': '0.00034226253730329503'}</td>\n",
       "      <td>True</td>\n",
       "      <td></td>\n",
       "    </tr>\n",
       "    <tr>\n",
       "      <th>4</th>\n",
       "      <td>5</td>\n",
       "      <td></td>\n",
       "      <td>d87d4a45cd97ce5e8787c85826781fbc3adf72afc7cef3...</td>\n",
       "      <td>node_library/atomistic/engine/ase/M3GNet</td>\n",
       "      <td>2024-07-07 14:12:05.930900</td>\n",
       "      <td>{}</td>\n",
       "      <td>None</td>\n",
       "      <td>False</td>\n",
       "      <td></td>\n",
       "    </tr>\n",
       "    <tr>\n",
       "      <th>5</th>\n",
       "      <td>6</td>\n",
       "      <td></td>\n",
       "      <td>4aa32e7e995920ffee1b936fdc0b3e570ffa586fc14080...</td>\n",
       "      <td>node_library/atomistic/property/thermodynamics...</td>\n",
       "      <td>2024-07-07 14:12:05.933554</td>\n",
       "      <td>{'element': ''Pt'', 'engine': 'hash_d87d4a45cd...</td>\n",
       "      <td>{'chemical_potential': '-6.065089225769043'}</td>\n",
       "      <td>True</td>\n",
       "      <td></td>\n",
       "    </tr>\n",
       "    <tr>\n",
       "      <th>6</th>\n",
       "      <td>7</td>\n",
       "      <td></td>\n",
       "      <td>7efde22c8ae69d7da09b577b69ee74e0b74fe3f891cea9...</td>\n",
       "      <td>None/compute_elastic_constants</td>\n",
       "      <td>2024-07-07 14:30:59.551093</td>\n",
       "      <td>{'element': ''Ni'', 'parameters': 'InputElasti...</td>\n",
       "      <td>{'BV': '215.6460213089325'}</td>\n",
       "      <td>True</td>\n",
       "      <td></td>\n",
       "    </tr>\n",
       "    <tr>\n",
       "      <th>7</th>\n",
       "      <td>8</td>\n",
       "      <td></td>\n",
       "      <td>33682b8b2bd1d646f08081acca6ed97bca54d3ab8730a0...</td>\n",
       "      <td>None/compute_elastic_constants</td>\n",
       "      <td>2024-07-07 14:31:07.122162</td>\n",
       "      <td>{'element': ''Al'', 'parameters': 'InputElasti...</td>\n",
       "      <td>{'BV': '55.03996979198493'}</td>\n",
       "      <td>True</td>\n",
       "      <td></td>\n",
       "    </tr>\n",
       "    <tr>\n",
       "      <th>8</th>\n",
       "      <td>9</td>\n",
       "      <td></td>\n",
       "      <td>f0af82047d99aa91807ce7ab1b36a92d986a996793cef4...</td>\n",
       "      <td>None/compute_elastic_constants</td>\n",
       "      <td>2024-07-07 14:31:14.109285</td>\n",
       "      <td>{'element': ''Fe'', 'parameters': 'InputElasti...</td>\n",
       "      <td>{'BV': '93.38382852298619'}</td>\n",
       "      <td>True</td>\n",
       "      <td></td>\n",
       "    </tr>\n",
       "    <tr>\n",
       "      <th>9</th>\n",
       "      <td>10</td>\n",
       "      <td></td>\n",
       "      <td>f9798e0c90c6723adb8974f8d45cb43b8feeaad4053b0a...</td>\n",
       "      <td>node_library/atomistic/structure/build/cubic_b...</td>\n",
       "      <td>2024-07-07 14:56:24.815800</td>\n",
       "      <td>{'element': ''Al'', 'cell_size': '3', 'vacancy...</td>\n",
       "      <td>None</td>\n",
       "      <td>False</td>\n",
       "      <td></td>\n",
       "    </tr>\n",
       "    <tr>\n",
       "      <th>10</th>\n",
       "      <td>11</td>\n",
       "      <td></td>\n",
       "      <td>45a8ab7b1925cfabdfbf04f83ab4ba32ccb852198ba171...</td>\n",
       "      <td>None/InputElasticTensorNode</td>\n",
       "      <td>2024-07-07 14:56:24.819566</td>\n",
       "      <td>{'num_of_point': '11', 'eps_range': '0.005'}</td>\n",
       "      <td>None</td>\n",
       "      <td>False</td>\n",
       "      <td></td>\n",
       "    </tr>\n",
       "    <tr>\n",
       "      <th>11</th>\n",
       "      <td>17</td>\n",
       "      <td></td>\n",
       "      <td>e68957cde9cde67870e03b7c65cb5c6fff30484978fd2a...</td>\n",
       "      <td>node_library/atomistic/property/elastic/elasti...</td>\n",
       "      <td>2024-07-07 17:00:10.275206</td>\n",
       "      <td>{'structure': 'hash_a971878fcfbd90b7f7770a9b3b...</td>\n",
       "      <td>None</td>\n",
       "      <td>True</td>\n",
       "      <td>node_library/atomistic/property/elastic/elasti...</td>\n",
       "    </tr>\n",
       "    <tr>\n",
       "      <th>12</th>\n",
       "      <td>14</td>\n",
       "      <td></td>\n",
       "      <td>b0b53de01794273ec0105f4c85caf1a2ebed6b9690bd87...</td>\n",
       "      <td>node_library/atomistic/property/elastic/genera...</td>\n",
       "      <td>2024-07-07 15:22:31.316911</td>\n",
       "      <td>{'structure': 'hash_f9798e0c90c6723adb8974f8d4...</td>\n",
       "      <td>None</td>\n",
       "      <td>False</td>\n",
       "      <td></td>\n",
       "    </tr>\n",
       "    <tr>\n",
       "      <th>13</th>\n",
       "      <td>15</td>\n",
       "      <td></td>\n",
       "      <td>a971878fcfbd90b7f7770a9b3b7e276e3809f1ff0e1d1c...</td>\n",
       "      <td>node_library/atomistic/structure/build/cubic_b...</td>\n",
       "      <td>2024-07-07 15:36:53.714292</td>\n",
       "      <td>{'element': ''Ni'', 'cell_size': '3', 'vacancy...</td>\n",
       "      <td>None</td>\n",
       "      <td>False</td>\n",
       "      <td></td>\n",
       "    </tr>\n",
       "    <tr>\n",
       "      <th>14</th>\n",
       "      <td>16</td>\n",
       "      <td></td>\n",
       "      <td>cd859a15e91d320672dd57adfb99fad1927c95140c9155...</td>\n",
       "      <td>node_library/atomistic/property/elastic/genera...</td>\n",
       "      <td>2024-07-07 15:36:53.796954</td>\n",
       "      <td>{'structure': 'hash_a971878fcfbd90b7f7770a9b3b...</td>\n",
       "      <td>None</td>\n",
       "      <td>True</td>\n",
       "      <td>node_library/atomistic/property/elastic/genera...</td>\n",
       "    </tr>\n",
       "  </tbody>\n",
       "</table>\n",
       "</div>"
      ],
      "text/plain": [
       "    node_id name                                         hash_value  \\\n",
       "0         1       c16d79b83fad085c61d52223687f65ac5f258005921c83...   \n",
       "1         2       3d4f127b05459a1d1dda98bc3e6f10176e09f27f3ab9b1...   \n",
       "2         3       12201da17c241990e5b7725a62de4189bea0cf57ad462c...   \n",
       "3         4       0b26dce95241b25be07d968f3a10863d08d1edace00830...   \n",
       "4         5       d87d4a45cd97ce5e8787c85826781fbc3adf72afc7cef3...   \n",
       "5         6       4aa32e7e995920ffee1b936fdc0b3e570ffa586fc14080...   \n",
       "6         7       7efde22c8ae69d7da09b577b69ee74e0b74fe3f891cea9...   \n",
       "7         8       33682b8b2bd1d646f08081acca6ed97bca54d3ab8730a0...   \n",
       "8         9       f0af82047d99aa91807ce7ab1b36a92d986a996793cef4...   \n",
       "9        10       f9798e0c90c6723adb8974f8d45cb43b8feeaad4053b0a...   \n",
       "10       11       45a8ab7b1925cfabdfbf04f83ab4ba32ccb852198ba171...   \n",
       "11       17       e68957cde9cde67870e03b7c65cb5c6fff30484978fd2a...   \n",
       "12       14       b0b53de01794273ec0105f4c85caf1a2ebed6b9690bd87...   \n",
       "13       15       a971878fcfbd90b7f7770a9b3b7e276e3809f1ff0e1d1c...   \n",
       "14       16       cd859a15e91d320672dd57adfb99fad1927c95140c9155...   \n",
       "\n",
       "                                             lib_path  \\\n",
       "0                               node_library/math/Sin   \n",
       "1                               node_library/math/Sin   \n",
       "2   node_library/atomistic/property/thermodynamics...   \n",
       "3   node_library/atomistic/property/thermodynamics...   \n",
       "4            node_library/atomistic/engine/ase/M3GNet   \n",
       "5   node_library/atomistic/property/thermodynamics...   \n",
       "6                      None/compute_elastic_constants   \n",
       "7                      None/compute_elastic_constants   \n",
       "8                      None/compute_elastic_constants   \n",
       "9   node_library/atomistic/structure/build/cubic_b...   \n",
       "10                        None/InputElasticTensorNode   \n",
       "11  node_library/atomistic/property/elastic/elasti...   \n",
       "12  node_library/atomistic/property/elastic/genera...   \n",
       "13  node_library/atomistic/structure/build/cubic_b...   \n",
       "14  node_library/atomistic/property/elastic/genera...   \n",
       "\n",
       "                creation_date  \\\n",
       "0  2024-07-07 14:12:05.015249   \n",
       "1  2024-07-07 14:12:05.191476   \n",
       "2  2024-07-07 14:12:05.605083   \n",
       "3  2024-07-07 14:12:05.793974   \n",
       "4  2024-07-07 14:12:05.930900   \n",
       "5  2024-07-07 14:12:05.933554   \n",
       "6  2024-07-07 14:30:59.551093   \n",
       "7  2024-07-07 14:31:07.122162   \n",
       "8  2024-07-07 14:31:14.109285   \n",
       "9  2024-07-07 14:56:24.815800   \n",
       "10 2024-07-07 14:56:24.819566   \n",
       "11 2024-07-07 17:00:10.275206   \n",
       "12 2024-07-07 15:22:31.316911   \n",
       "13 2024-07-07 15:36:53.714292   \n",
       "14 2024-07-07 15:36:53.796954   \n",
       "\n",
       "                                               inputs  \\\n",
       "0                                       {'x': '[17]'}   \n",
       "1                                       {'x': '[12]'}   \n",
       "2               {'element': ''Pt'', 'engine': 'None'}   \n",
       "3               {'element': ''Pd'', 'engine': 'None'}   \n",
       "4                                                  {}   \n",
       "5   {'element': ''Pt'', 'engine': 'hash_d87d4a45cd...   \n",
       "6   {'element': ''Ni'', 'parameters': 'InputElasti...   \n",
       "7   {'element': ''Al'', 'parameters': 'InputElasti...   \n",
       "8   {'element': ''Fe'', 'parameters': 'InputElasti...   \n",
       "9   {'element': ''Al'', 'cell_size': '3', 'vacancy...   \n",
       "10       {'num_of_point': '11', 'eps_range': '0.005'}   \n",
       "11  {'structure': 'hash_a971878fcfbd90b7f7770a9b3b...   \n",
       "12  {'structure': 'hash_f9798e0c90c6723adb8974f8d4...   \n",
       "13  {'element': ''Ni'', 'cell_size': '3', 'vacancy...   \n",
       "14  {'structure': 'hash_a971878fcfbd90b7f7770a9b3b...   \n",
       "\n",
       "                                              outputs  output_ready  \\\n",
       "0                            {'sin': '[-0.96139749]'}          True   \n",
       "1                            {'sin': '[-0.53657292]'}          True   \n",
       "2   {'chemical_potential': '-0.00012460841212025286'}          True   \n",
       "3    {'chemical_potential': '0.00034226253730329503'}          True   \n",
       "4                                                None         False   \n",
       "5        {'chemical_potential': '-6.065089225769043'}          True   \n",
       "6                         {'BV': '215.6460213089325'}          True   \n",
       "7                         {'BV': '55.03996979198493'}          True   \n",
       "8                         {'BV': '93.38382852298619'}          True   \n",
       "9                                                None         False   \n",
       "10                                               None         False   \n",
       "11                                               None          True   \n",
       "12                                               None         False   \n",
       "13                                               None         False   \n",
       "14                                               None          True   \n",
       "\n",
       "                                            file_path  \n",
       "0                                                      \n",
       "1                                                      \n",
       "2                                                      \n",
       "3                                                      \n",
       "4                                                      \n",
       "5                                                      \n",
       "6                                                      \n",
       "7                                                      \n",
       "8                                                      \n",
       "9                                                      \n",
       "10                                                     \n",
       "11  node_library/atomistic/property/elastic/elasti...  \n",
       "12                                                     \n",
       "13                                                     \n",
       "14  node_library/atomistic/property/elastic/genera...  "
      ]
     },
     "execution_count": 15,
     "metadata": {},
     "output_type": "execute_result"
    }
   ],
   "source": [
    "df = hs.list_table(db)\n",
    "df"
   ]
  },
  {
   "cell_type": "code",
   "execution_count": 16,
   "id": "556729ab-864a-4ce1-bf25-f9f903e9a6c1",
   "metadata": {},
   "outputs": [
    {
     "data": {
      "text/plain": [
       "{'sin': 'NOT_DATA'}"
      ]
     },
     "execution_count": 16,
     "metadata": {},
     "output_type": "execute_result"
    }
   ],
   "source": [
    "# hs.get_json_size(hs.extract_node_output(sin))# , \n",
    "hs.extract_node_output(sin)"
   ]
  },
  {
   "cell_type": "code",
   "execution_count": 17,
   "id": "8cbab16c-3b35-43a4-b127-3222d3ad7582",
   "metadata": {},
   "outputs": [
    {
     "data": {
      "text/plain": [
       "{'sin': 'NOT_DATA'}"
      ]
     },
     "execution_count": 17,
     "metadata": {},
     "output_type": "execute_result"
    }
   ],
   "source": [
    "hs.extract_node_output(sin, as_string=True)"
   ]
  },
  {
   "cell_type": "code",
   "execution_count": 18,
   "id": "5b2af720-72fc-458c-85be-36e64b1b490c",
   "metadata": {},
   "outputs": [
    {
     "data": {
      "text/plain": [
       "1"
      ]
     },
     "execution_count": 18,
     "metadata": {},
     "output_type": "execute_result"
    }
   ],
   "source": [
    "hs.save_node(sin, db) "
   ]
  },
  {
   "cell_type": "code",
   "execution_count": 19,
   "id": "e823de8b-5097-4e75-8b35-c2a6ef1140f8",
   "metadata": {},
   "outputs": [
    {
     "data": {
      "text/html": [
       "<div>\n",
       "<style scoped>\n",
       "    .dataframe tbody tr th:only-of-type {\n",
       "        vertical-align: middle;\n",
       "    }\n",
       "\n",
       "    .dataframe tbody tr th {\n",
       "        vertical-align: top;\n",
       "    }\n",
       "\n",
       "    .dataframe thead th {\n",
       "        text-align: right;\n",
       "    }\n",
       "</style>\n",
       "<table border=\"1\" class=\"dataframe\">\n",
       "  <thead>\n",
       "    <tr style=\"text-align: right;\">\n",
       "      <th></th>\n",
       "      <th>node_id</th>\n",
       "      <th>name</th>\n",
       "      <th>hash_value</th>\n",
       "      <th>lib_path</th>\n",
       "      <th>creation_date</th>\n",
       "      <th>inputs</th>\n",
       "      <th>outputs</th>\n",
       "      <th>output_ready</th>\n",
       "      <th>file_path</th>\n",
       "    </tr>\n",
       "  </thead>\n",
       "  <tbody>\n",
       "    <tr>\n",
       "      <th>0</th>\n",
       "      <td>1</td>\n",
       "      <td></td>\n",
       "      <td>c16d79b83fad085c61d52223687f65ac5f258005921c83...</td>\n",
       "      <td>node_library/math/Sin</td>\n",
       "      <td>2024-07-07 14:12:05.015249</td>\n",
       "      <td>{'x': '[17]'}</td>\n",
       "      <td>{'sin': '[-0.96139749]'}</td>\n",
       "      <td>True</td>\n",
       "      <td></td>\n",
       "    </tr>\n",
       "    <tr>\n",
       "      <th>1</th>\n",
       "      <td>2</td>\n",
       "      <td></td>\n",
       "      <td>3d4f127b05459a1d1dda98bc3e6f10176e09f27f3ab9b1...</td>\n",
       "      <td>node_library/math/Sin</td>\n",
       "      <td>2024-07-07 14:12:05.191476</td>\n",
       "      <td>{'x': '[12]'}</td>\n",
       "      <td>{'sin': '[-0.53657292]'}</td>\n",
       "      <td>True</td>\n",
       "      <td></td>\n",
       "    </tr>\n",
       "    <tr>\n",
       "      <th>2</th>\n",
       "      <td>3</td>\n",
       "      <td></td>\n",
       "      <td>12201da17c241990e5b7725a62de4189bea0cf57ad462c...</td>\n",
       "      <td>node_library/atomistic/property/thermodynamics...</td>\n",
       "      <td>2024-07-07 14:12:05.605083</td>\n",
       "      <td>{'element': ''Pt'', 'engine': 'None'}</td>\n",
       "      <td>{'chemical_potential': '-0.00012460841212025286'}</td>\n",
       "      <td>True</td>\n",
       "      <td></td>\n",
       "    </tr>\n",
       "    <tr>\n",
       "      <th>3</th>\n",
       "      <td>4</td>\n",
       "      <td></td>\n",
       "      <td>0b26dce95241b25be07d968f3a10863d08d1edace00830...</td>\n",
       "      <td>node_library/atomistic/property/thermodynamics...</td>\n",
       "      <td>2024-07-07 14:12:05.793974</td>\n",
       "      <td>{'element': ''Pd'', 'engine': 'None'}</td>\n",
       "      <td>{'chemical_potential': '0.00034226253730329503'}</td>\n",
       "      <td>True</td>\n",
       "      <td></td>\n",
       "    </tr>\n",
       "    <tr>\n",
       "      <th>4</th>\n",
       "      <td>5</td>\n",
       "      <td></td>\n",
       "      <td>d87d4a45cd97ce5e8787c85826781fbc3adf72afc7cef3...</td>\n",
       "      <td>node_library/atomistic/engine/ase/M3GNet</td>\n",
       "      <td>2024-07-07 14:12:05.930900</td>\n",
       "      <td>{}</td>\n",
       "      <td>None</td>\n",
       "      <td>False</td>\n",
       "      <td></td>\n",
       "    </tr>\n",
       "    <tr>\n",
       "      <th>5</th>\n",
       "      <td>6</td>\n",
       "      <td></td>\n",
       "      <td>4aa32e7e995920ffee1b936fdc0b3e570ffa586fc14080...</td>\n",
       "      <td>node_library/atomistic/property/thermodynamics...</td>\n",
       "      <td>2024-07-07 14:12:05.933554</td>\n",
       "      <td>{'element': ''Pt'', 'engine': 'hash_d87d4a45cd...</td>\n",
       "      <td>{'chemical_potential': '-6.065089225769043'}</td>\n",
       "      <td>True</td>\n",
       "      <td></td>\n",
       "    </tr>\n",
       "    <tr>\n",
       "      <th>6</th>\n",
       "      <td>7</td>\n",
       "      <td></td>\n",
       "      <td>7efde22c8ae69d7da09b577b69ee74e0b74fe3f891cea9...</td>\n",
       "      <td>None/compute_elastic_constants</td>\n",
       "      <td>2024-07-07 14:30:59.551093</td>\n",
       "      <td>{'element': ''Ni'', 'parameters': 'InputElasti...</td>\n",
       "      <td>{'BV': '215.6460213089325'}</td>\n",
       "      <td>True</td>\n",
       "      <td></td>\n",
       "    </tr>\n",
       "    <tr>\n",
       "      <th>7</th>\n",
       "      <td>8</td>\n",
       "      <td></td>\n",
       "      <td>33682b8b2bd1d646f08081acca6ed97bca54d3ab8730a0...</td>\n",
       "      <td>None/compute_elastic_constants</td>\n",
       "      <td>2024-07-07 14:31:07.122162</td>\n",
       "      <td>{'element': ''Al'', 'parameters': 'InputElasti...</td>\n",
       "      <td>{'BV': '55.03996979198493'}</td>\n",
       "      <td>True</td>\n",
       "      <td></td>\n",
       "    </tr>\n",
       "    <tr>\n",
       "      <th>8</th>\n",
       "      <td>9</td>\n",
       "      <td></td>\n",
       "      <td>f0af82047d99aa91807ce7ab1b36a92d986a996793cef4...</td>\n",
       "      <td>None/compute_elastic_constants</td>\n",
       "      <td>2024-07-07 14:31:14.109285</td>\n",
       "      <td>{'element': ''Fe'', 'parameters': 'InputElasti...</td>\n",
       "      <td>{'BV': '93.38382852298619'}</td>\n",
       "      <td>True</td>\n",
       "      <td></td>\n",
       "    </tr>\n",
       "    <tr>\n",
       "      <th>9</th>\n",
       "      <td>10</td>\n",
       "      <td></td>\n",
       "      <td>f9798e0c90c6723adb8974f8d45cb43b8feeaad4053b0a...</td>\n",
       "      <td>node_library/atomistic/structure/build/cubic_b...</td>\n",
       "      <td>2024-07-07 14:56:24.815800</td>\n",
       "      <td>{'element': ''Al'', 'cell_size': '3', 'vacancy...</td>\n",
       "      <td>None</td>\n",
       "      <td>False</td>\n",
       "      <td></td>\n",
       "    </tr>\n",
       "    <tr>\n",
       "      <th>10</th>\n",
       "      <td>11</td>\n",
       "      <td></td>\n",
       "      <td>45a8ab7b1925cfabdfbf04f83ab4ba32ccb852198ba171...</td>\n",
       "      <td>None/InputElasticTensorNode</td>\n",
       "      <td>2024-07-07 14:56:24.819566</td>\n",
       "      <td>{'num_of_point': '11', 'eps_range': '0.005'}</td>\n",
       "      <td>None</td>\n",
       "      <td>False</td>\n",
       "      <td></td>\n",
       "    </tr>\n",
       "    <tr>\n",
       "      <th>11</th>\n",
       "      <td>17</td>\n",
       "      <td></td>\n",
       "      <td>e68957cde9cde67870e03b7c65cb5c6fff30484978fd2a...</td>\n",
       "      <td>node_library/atomistic/property/elastic/elasti...</td>\n",
       "      <td>2024-07-07 17:00:10.275206</td>\n",
       "      <td>{'structure': 'hash_a971878fcfbd90b7f7770a9b3b...</td>\n",
       "      <td>None</td>\n",
       "      <td>True</td>\n",
       "      <td>node_library/atomistic/property/elastic/elasti...</td>\n",
       "    </tr>\n",
       "    <tr>\n",
       "      <th>12</th>\n",
       "      <td>14</td>\n",
       "      <td></td>\n",
       "      <td>b0b53de01794273ec0105f4c85caf1a2ebed6b9690bd87...</td>\n",
       "      <td>node_library/atomistic/property/elastic/genera...</td>\n",
       "      <td>2024-07-07 15:22:31.316911</td>\n",
       "      <td>{'structure': 'hash_f9798e0c90c6723adb8974f8d4...</td>\n",
       "      <td>None</td>\n",
       "      <td>False</td>\n",
       "      <td></td>\n",
       "    </tr>\n",
       "    <tr>\n",
       "      <th>13</th>\n",
       "      <td>15</td>\n",
       "      <td></td>\n",
       "      <td>a971878fcfbd90b7f7770a9b3b7e276e3809f1ff0e1d1c...</td>\n",
       "      <td>node_library/atomistic/structure/build/cubic_b...</td>\n",
       "      <td>2024-07-07 15:36:53.714292</td>\n",
       "      <td>{'element': ''Ni'', 'cell_size': '3', 'vacancy...</td>\n",
       "      <td>None</td>\n",
       "      <td>False</td>\n",
       "      <td></td>\n",
       "    </tr>\n",
       "    <tr>\n",
       "      <th>14</th>\n",
       "      <td>16</td>\n",
       "      <td></td>\n",
       "      <td>cd859a15e91d320672dd57adfb99fad1927c95140c9155...</td>\n",
       "      <td>node_library/atomistic/property/elastic/genera...</td>\n",
       "      <td>2024-07-07 15:36:53.796954</td>\n",
       "      <td>{'structure': 'hash_a971878fcfbd90b7f7770a9b3b...</td>\n",
       "      <td>None</td>\n",
       "      <td>True</td>\n",
       "      <td>node_library/atomistic/property/elastic/genera...</td>\n",
       "    </tr>\n",
       "  </tbody>\n",
       "</table>\n",
       "</div>"
      ],
      "text/plain": [
       "    node_id name                                         hash_value  \\\n",
       "0         1       c16d79b83fad085c61d52223687f65ac5f258005921c83...   \n",
       "1         2       3d4f127b05459a1d1dda98bc3e6f10176e09f27f3ab9b1...   \n",
       "2         3       12201da17c241990e5b7725a62de4189bea0cf57ad462c...   \n",
       "3         4       0b26dce95241b25be07d968f3a10863d08d1edace00830...   \n",
       "4         5       d87d4a45cd97ce5e8787c85826781fbc3adf72afc7cef3...   \n",
       "5         6       4aa32e7e995920ffee1b936fdc0b3e570ffa586fc14080...   \n",
       "6         7       7efde22c8ae69d7da09b577b69ee74e0b74fe3f891cea9...   \n",
       "7         8       33682b8b2bd1d646f08081acca6ed97bca54d3ab8730a0...   \n",
       "8         9       f0af82047d99aa91807ce7ab1b36a92d986a996793cef4...   \n",
       "9        10       f9798e0c90c6723adb8974f8d45cb43b8feeaad4053b0a...   \n",
       "10       11       45a8ab7b1925cfabdfbf04f83ab4ba32ccb852198ba171...   \n",
       "11       17       e68957cde9cde67870e03b7c65cb5c6fff30484978fd2a...   \n",
       "12       14       b0b53de01794273ec0105f4c85caf1a2ebed6b9690bd87...   \n",
       "13       15       a971878fcfbd90b7f7770a9b3b7e276e3809f1ff0e1d1c...   \n",
       "14       16       cd859a15e91d320672dd57adfb99fad1927c95140c9155...   \n",
       "\n",
       "                                             lib_path  \\\n",
       "0                               node_library/math/Sin   \n",
       "1                               node_library/math/Sin   \n",
       "2   node_library/atomistic/property/thermodynamics...   \n",
       "3   node_library/atomistic/property/thermodynamics...   \n",
       "4            node_library/atomistic/engine/ase/M3GNet   \n",
       "5   node_library/atomistic/property/thermodynamics...   \n",
       "6                      None/compute_elastic_constants   \n",
       "7                      None/compute_elastic_constants   \n",
       "8                      None/compute_elastic_constants   \n",
       "9   node_library/atomistic/structure/build/cubic_b...   \n",
       "10                        None/InputElasticTensorNode   \n",
       "11  node_library/atomistic/property/elastic/elasti...   \n",
       "12  node_library/atomistic/property/elastic/genera...   \n",
       "13  node_library/atomistic/structure/build/cubic_b...   \n",
       "14  node_library/atomistic/property/elastic/genera...   \n",
       "\n",
       "                creation_date  \\\n",
       "0  2024-07-07 14:12:05.015249   \n",
       "1  2024-07-07 14:12:05.191476   \n",
       "2  2024-07-07 14:12:05.605083   \n",
       "3  2024-07-07 14:12:05.793974   \n",
       "4  2024-07-07 14:12:05.930900   \n",
       "5  2024-07-07 14:12:05.933554   \n",
       "6  2024-07-07 14:30:59.551093   \n",
       "7  2024-07-07 14:31:07.122162   \n",
       "8  2024-07-07 14:31:14.109285   \n",
       "9  2024-07-07 14:56:24.815800   \n",
       "10 2024-07-07 14:56:24.819566   \n",
       "11 2024-07-07 17:00:10.275206   \n",
       "12 2024-07-07 15:22:31.316911   \n",
       "13 2024-07-07 15:36:53.714292   \n",
       "14 2024-07-07 15:36:53.796954   \n",
       "\n",
       "                                               inputs  \\\n",
       "0                                       {'x': '[17]'}   \n",
       "1                                       {'x': '[12]'}   \n",
       "2               {'element': ''Pt'', 'engine': 'None'}   \n",
       "3               {'element': ''Pd'', 'engine': 'None'}   \n",
       "4                                                  {}   \n",
       "5   {'element': ''Pt'', 'engine': 'hash_d87d4a45cd...   \n",
       "6   {'element': ''Ni'', 'parameters': 'InputElasti...   \n",
       "7   {'element': ''Al'', 'parameters': 'InputElasti...   \n",
       "8   {'element': ''Fe'', 'parameters': 'InputElasti...   \n",
       "9   {'element': ''Al'', 'cell_size': '3', 'vacancy...   \n",
       "10       {'num_of_point': '11', 'eps_range': '0.005'}   \n",
       "11  {'structure': 'hash_a971878fcfbd90b7f7770a9b3b...   \n",
       "12  {'structure': 'hash_f9798e0c90c6723adb8974f8d4...   \n",
       "13  {'element': ''Ni'', 'cell_size': '3', 'vacancy...   \n",
       "14  {'structure': 'hash_a971878fcfbd90b7f7770a9b3b...   \n",
       "\n",
       "                                              outputs  output_ready  \\\n",
       "0                            {'sin': '[-0.96139749]'}          True   \n",
       "1                            {'sin': '[-0.53657292]'}          True   \n",
       "2   {'chemical_potential': '-0.00012460841212025286'}          True   \n",
       "3    {'chemical_potential': '0.00034226253730329503'}          True   \n",
       "4                                                None         False   \n",
       "5        {'chemical_potential': '-6.065089225769043'}          True   \n",
       "6                         {'BV': '215.6460213089325'}          True   \n",
       "7                         {'BV': '55.03996979198493'}          True   \n",
       "8                         {'BV': '93.38382852298619'}          True   \n",
       "9                                                None         False   \n",
       "10                                               None         False   \n",
       "11                                               None          True   \n",
       "12                                               None         False   \n",
       "13                                               None         False   \n",
       "14                                               None          True   \n",
       "\n",
       "                                            file_path  \n",
       "0                                                      \n",
       "1                                                      \n",
       "2                                                      \n",
       "3                                                      \n",
       "4                                                      \n",
       "5                                                      \n",
       "6                                                      \n",
       "7                                                      \n",
       "8                                                      \n",
       "9                                                      \n",
       "10                                                     \n",
       "11  node_library/atomistic/property/elastic/elasti...  \n",
       "12                                                     \n",
       "13                                                     \n",
       "14  node_library/atomistic/property/elastic/genera...  "
      ]
     },
     "execution_count": 19,
     "metadata": {},
     "output_type": "execute_result"
    }
   ],
   "source": [
    "hs.list_table(db)"
   ]
  },
  {
   "cell_type": "code",
   "execution_count": 20,
   "id": "fce6551d-5591-4479-adaa-5d595bd1513c",
   "metadata": {},
   "outputs": [
    {
     "name": "stdout",
     "output_type": "stream",
     "text": [
      "node with id=2 is loaded rather than recomputed\n"
     ]
    }
   ],
   "source": [
    "sin = Workflow.create.math.Sin(x=[12])\n",
    "sin12 = hs.run_node(sin, db, verbose=True)"
   ]
  },
  {
   "cell_type": "code",
   "execution_count": 21,
   "id": "9ef54781-b6fb-48e9-b67f-cc4c93e924c8",
   "metadata": {},
   "outputs": [
    {
     "data": {
      "application/json": {
       "connected": false,
       "fully_connected": false,
       "inputs": {
        "channels": {
         "x": {
          "connected": false,
          "connections": [],
          "label": "x",
          "ready": true,
          "type_hint": "typing.Union[list, numpy.ndarray, NoneType]",
          "value": "[12]"
         }
        },
        "connected": false,
        "fully_connected": false,
        "label": "Inputs",
        "ready": true
       },
       "label": "Sin",
       "outputs": {
        "channels": {
         "sin": {
          "connected": false,
          "connections": [],
          "label": "sin",
          "ready": false,
          "type_hint": "None",
          "value": "NOT_DATA"
         }
        },
        "connected": false,
        "fully_connected": false,
        "label": "OutputsWithInjection",
        "ready": false
       },
       "ready": true,
       "signals": {
        "input": {
         "channels": {
          "accumulate_and_run": {
           "callback": "run",
           "connected": false,
           "connections": [],
           "label": "accumulate_and_run"
          },
          "run": {
           "callback": "run",
           "connected": false,
           "connections": [],
           "label": "run"
          }
         },
         "connected": false,
         "fully_connected": false,
         "label": "InputSignals"
        },
        "output": {
         "channels": {
          "ran": {
           "connected": false,
           "connections": [],
           "label": "ran"
          }
         },
         "connected": false,
         "fully_connected": false,
         "label": "OutputSignals"
        }
       }
      },
      "text/plain": [
       "<node_library.math.Sin at 0x15225b740>"
      ]
     },
     "execution_count": 21,
     "metadata": {},
     "output_type": "execute_result"
    }
   ],
   "source": [
    "sin"
   ]
  },
  {
   "cell_type": "code",
   "execution_count": 22,
   "id": "374ce891-c254-4187-aec7-e9ad0a9d137f",
   "metadata": {},
   "outputs": [
    {
     "data": {
      "application/json": {
       "connected": false,
       "connections": [],
       "label": "sin",
       "ready": false,
       "type_hint": "None",
       "value": "NOT_DATA"
      },
      "text/plain": [
       "<pyiron_workflow.mixin.injection.OutputDataWithInjection at 0x15225a1e0>"
      ]
     },
     "execution_count": 22,
     "metadata": {},
     "output_type": "execute_result"
    }
   ],
   "source": [
    "sin.outputs.sin"
   ]
  },
  {
   "cell_type": "code",
   "execution_count": 23,
   "id": "d1d4ba3b-78e9-4960-9f58-2cd40b7aba28",
   "metadata": {},
   "outputs": [
    {
     "name": "stdout",
     "output_type": "stream",
     "text": [
      "Node id: 0 does not exist\n",
      "Node id: 1, inputs: [17], outputs: [-0.96139749]\n",
      "Node id: 2, inputs: [12], outputs: [-0.53657292]\n",
      "CPU times: user 4.93 ms, sys: 3.98 ms, total: 8.91 ms\n",
      "Wall time: 97.8 ms\n"
     ]
    }
   ],
   "source": [
    "%%time\n",
    "for node_id in range(3):\n",
    "    sin2 = hs.get_node_from_db_id(node_id, db)\n",
    "    if sin2 is not None:\n",
    "        print (f'Node id: {node_id}, inputs: {sin2.inputs.x.value}, outputs: {sin2.outputs.sin.value}')\n",
    "    else:\n",
    "        print (f'Node id: {node_id} does not exist')"
   ]
  },
  {
   "cell_type": "markdown",
   "id": "041d392f-9c2c-459c-ab3c-7db65b2bf2c7",
   "metadata": {},
   "source": [
    "### Real world example"
   ]
  },
  {
   "cell_type": "code",
   "execution_count": 24,
   "id": "11cc7a4a-ff6f-4452-bc21-1ea9c8171bc2",
   "metadata": {},
   "outputs": [],
   "source": [
    "from pyiron_workflow import Workflow                                                                        \n",
    "                                                                                                         \n",
    "# Register the necessary node packages                                                                      \n",
    "Workflow.register(\"node_library.atomistic\", \"atomistic\") "
   ]
  },
  {
   "cell_type": "code",
   "execution_count": null,
   "id": "6f778c84-a09b-4397-abf2-43f885f338d0",
   "metadata": {},
   "outputs": [],
   "source": []
  },
  {
   "cell_type": "code",
   "execution_count": 25,
   "id": "cf276c2a-ede2-4506-8762-a5c15ee55a17",
   "metadata": {},
   "outputs": [
    {
     "data": {
      "text/plain": [
       "{'chemical_potential': -0.00012460841212025286}"
      ]
     },
     "execution_count": 25,
     "metadata": {},
     "output_type": "execute_result"
    }
   ],
   "source": [
    "get_pot = Workflow.create.atomistic.property.thermodynamics.get_chemical_potential(element='Pt')\n",
    "get_pot.run()"
   ]
  },
  {
   "cell_type": "code",
   "execution_count": 26,
   "id": "fcd0a6fe-8b9f-4175-91e4-dc4886d46b8e",
   "metadata": {},
   "outputs": [
    {
     "data": {
      "application/json": {
       "label": "get_chemical_potential",
       "nodes": {
        "bulk": {
         "connected": true,
         "fully_connected": false,
         "inputs": {
          "channels": {
           "a": {
            "connected": false,
            "connections": [],
            "label": "a",
            "ready": true,
            "type_hint": "None",
            "value": "None"
           },
           "c": {
            "connected": false,
            "connections": [],
            "label": "c",
            "ready": true,
            "type_hint": "None",
            "value": "None"
           },
           "covera": {
            "connected": false,
            "connections": [],
            "label": "covera",
            "ready": true,
            "type_hint": "None",
            "value": "None"
           },
           "crystalstructure": {
            "connected": false,
            "connections": [],
            "label": "crystalstructure",
            "ready": true,
            "type_hint": "None",
            "value": "None"
           },
           "cubic": {
            "connected": false,
            "connections": [],
            "label": "cubic",
            "ready": true,
            "type_hint": "None",
            "value": "False"
           },
           "name": {
            "connected": false,
            "connections": [],
            "label": "name",
            "ready": true,
            "type_hint": "None",
            "value": "'Pt'"
           },
           "orthorhombic": {
            "connected": false,
            "connections": [],
            "label": "orthorhombic",
            "ready": true,
            "type_hint": "None",
            "value": "False"
           },
           "u": {
            "connected": false,
            "connections": [],
            "label": "u",
            "ready": true,
            "type_hint": "None",
            "value": "None"
           }
          },
          "connected": false,
          "fully_connected": false,
          "label": "Inputs",
          "ready": true
         },
         "label": "bulk",
         "outputs": {
          "channels": {
           "structure": {
            "connected": true,
            "connections": [
             "n_atoms.structure",
             "minimize.structure"
            ],
            "label": "structure",
            "ready": true,
            "type_hint": "None",
            "value": "Pt: [0. 0. 0.]\ntags: \n    indices: [0]\npbc: [ True  True  True]\ncell: \nCell([[0.0, 1.96, 1.96], [1.96, 0.0, 1.96], [1.96, 1.96, 0.0]])\n"
           }
          },
          "connected": true,
          "fully_connected": true,
          "label": "OutputsWithInjection",
          "ready": true
         },
         "ready": true,
         "signals": {
          "input": {
           "channels": {
            "accumulate_and_run": {
             "callback": "run",
             "connected": false,
             "connections": [],
             "label": "accumulate_and_run"
            },
            "run": {
             "callback": "run",
             "connected": false,
             "connections": [],
             "label": "run"
            }
           },
           "connected": false,
           "fully_connected": false,
           "label": "InputSignals"
          },
          "output": {
           "channels": {
            "ran": {
             "connected": true,
             "connections": [
              "n_atoms.accumulate_and_run",
              "minimize.accumulate_and_run"
             ],
             "label": "ran"
            }
           },
           "connected": true,
           "fully_connected": true,
           "label": "OutputSignals"
          }
         }
        },
        "energy": {
         "connected": true,
         "fully_connected": false,
         "inputs": {
          "channels": {
           "calculator": {
            "connected": true,
            "connections": [
             "minimize.out"
            ],
            "label": "calculator",
            "ready": true,
            "type_hint": "typing.Union[node_library.atomistic.calculator.data.OutputCalcMinimize, node_library.atomistic.calculator.data.OutputCalcStatic, NoneType]",
            "value": "OutputCalcMinimize(initial=OutputCalcStatic(energy=-0.00012460841212025286, force=None, stress=None, structure=None, atomic_energies=None), final=OutputCalcStatic(energy=-0.00012460841212025286, force=None, stress=None, structure=Atoms(symbols='Pt', pbc=True, cell=[[0.0, 1.96, 1.96], [1.96, 0.0, 1.96], [1.96, 1.96, 0.0]]), atomic_energies=None), is_converged=True, iter_steps=0)"
           }
          },
          "connected": true,
          "fully_connected": true,
          "label": "Inputs",
          "ready": true
         },
         "label": "energy",
         "outputs": {
          "channels": {
           "energy_last": {
            "connected": true,
            "connections": [
             "energy__energy_last_Divide_n_atoms__number_of_atoms.obj"
            ],
            "label": "energy_last",
            "ready": true,
            "type_hint": "<class 'float'>",
            "value": "-0.00012460841212025286"
           }
          },
          "connected": true,
          "fully_connected": true,
          "label": "OutputsWithInjection",
          "ready": true
         },
         "ready": true,
         "signals": {
          "input": {
           "channels": {
            "accumulate_and_run": {
             "callback": "run",
             "connected": true,
             "connections": [
              "minimize.ran"
             ],
             "label": "accumulate_and_run"
            },
            "run": {
             "callback": "run",
             "connected": false,
             "connections": [],
             "label": "run"
            }
           },
           "connected": true,
           "fully_connected": false,
           "label": "InputSignals"
          },
          "output": {
           "channels": {
            "ran": {
             "connected": true,
             "connections": [
              "energy__energy_last_Divide_n_atoms__number_of_atoms.accumulate_and_run"
             ],
             "label": "ran"
            }
           },
           "connected": true,
           "fully_connected": true,
           "label": "OutputSignals"
          }
         }
        },
        "energy__energy_last_Divide_n_atoms__number_of_atoms": {
         "connected": true,
         "fully_connected": false,
         "inputs": {
          "channels": {
           "obj": {
            "connected": true,
            "connections": [
             "energy.energy_last"
            ],
            "label": "obj",
            "ready": true,
            "type_hint": "None",
            "value": "-0.00012460841212025286"
           },
           "other": {
            "connected": true,
            "connections": [
             "n_atoms.number_of_atoms"
            ],
            "label": "other",
            "ready": true,
            "type_hint": "None",
            "value": "1"
           }
          },
          "connected": true,
          "fully_connected": true,
          "label": "Inputs",
          "ready": true
         },
         "label": "energy__energy_last_Divide_n_atoms__number_of_atoms",
         "outputs": {
          "channels": {
           "truediv": {
            "connected": false,
            "connections": [],
            "label": "truediv",
            "ready": true,
            "type_hint": "None",
            "value": "-0.00012460841212025286"
           }
          },
          "connected": false,
          "fully_connected": false,
          "label": "OutputsWithInjection",
          "ready": true
         },
         "ready": true,
         "signals": {
          "input": {
           "channels": {
            "accumulate_and_run": {
             "callback": "run",
             "connected": true,
             "connections": [
              "energy.ran",
              "n_atoms.ran"
             ],
             "label": "accumulate_and_run"
            },
            "run": {
             "callback": "run",
             "connected": false,
             "connections": [],
             "label": "run"
            }
           },
           "connected": true,
           "fully_connected": false,
           "label": "InputSignals"
          },
          "output": {
           "channels": {
            "ran": {
             "connected": false,
             "connections": [],
             "label": "ran"
            }
           },
           "connected": false,
           "fully_connected": false,
           "label": "OutputSignals"
          }
         }
        },
        "minimize": {
         "connected": true,
         "fully_connected": false,
         "inputs": {
          "channels": {
           "engine": {
            "connected": false,
            "connections": [],
            "label": "engine",
            "ready": true,
            "type_hint": "None",
            "value": "None"
           },
           "fmax": {
            "connected": false,
            "connections": [],
            "label": "fmax",
            "ready": true,
            "type_hint": "None",
            "value": "0.005"
           },
           "log_file": {
            "connected": false,
            "connections": [],
            "label": "log_file",
            "ready": true,
            "type_hint": "None",
            "value": "'tmp.log'"
           },
           "structure": {
            "connected": true,
            "connections": [
             "bulk.structure"
            ],
            "label": "structure",
            "ready": true,
            "type_hint": "None",
            "value": "Pt: [0. 0. 0.]\ntags: \n    indices: [0]\npbc: [ True  True  True]\ncell: \nCell([[0.0, 1.96, 1.96], [1.96, 0.0, 1.96], [1.96, 1.96, 0.0]])\n"
           }
          },
          "connected": true,
          "fully_connected": false,
          "label": "Inputs",
          "ready": true
         },
         "label": "minimize",
         "outputs": {
          "channels": {
           "out": {
            "connected": true,
            "connections": [
             "energy.calculator"
            ],
            "label": "out",
            "ready": true,
            "type_hint": "None",
            "value": "OutputCalcMinimize(initial=OutputCalcStatic(energy=-0.00012460841212025286, force=None, stress=None, structure=None, atomic_energies=None), final=OutputCalcStatic(energy=-0.00012460841212025286, force=None, stress=None, structure=Atoms(symbols='Pt', pbc=True, cell=[[0.0, 1.96, 1.96], [1.96, 0.0, 1.96], [1.96, 1.96, 0.0]]), atomic_energies=None), is_converged=True, iter_steps=0)"
           }
          },
          "connected": true,
          "fully_connected": true,
          "label": "OutputsWithInjection",
          "ready": true
         },
         "ready": true,
         "signals": {
          "input": {
           "channels": {
            "accumulate_and_run": {
             "callback": "run",
             "connected": true,
             "connections": [
              "bulk.ran"
             ],
             "label": "accumulate_and_run"
            },
            "run": {
             "callback": "run",
             "connected": false,
             "connections": [],
             "label": "run"
            }
           },
           "connected": true,
           "fully_connected": false,
           "label": "InputSignals"
          },
          "output": {
           "channels": {
            "ran": {
             "connected": true,
             "connections": [
              "energy.accumulate_and_run"
             ],
             "label": "ran"
            }
           },
           "connected": true,
           "fully_connected": true,
           "label": "OutputSignals"
          }
         }
        },
        "n_atoms": {
         "connected": true,
         "fully_connected": false,
         "inputs": {
          "channels": {
           "structure": {
            "connected": true,
            "connections": [
             "bulk.structure"
            ],
            "label": "structure",
            "ready": true,
            "type_hint": "typing.Optional[ase.atoms.Atoms]",
            "value": "Pt: [0. 0. 0.]\ntags: \n    indices: [0]\npbc: [ True  True  True]\ncell: \nCell([[0.0, 1.96, 1.96], [1.96, 0.0, 1.96], [1.96, 1.96, 0.0]])\n"
           }
          },
          "connected": true,
          "fully_connected": true,
          "label": "Inputs",
          "ready": true
         },
         "label": "n_atoms",
         "outputs": {
          "channels": {
           "number_of_atoms": {
            "connected": true,
            "connections": [
             "energy__energy_last_Divide_n_atoms__number_of_atoms.other"
            ],
            "label": "number_of_atoms",
            "ready": true,
            "type_hint": "<class 'int'>",
            "value": "1"
           }
          },
          "connected": true,
          "fully_connected": true,
          "label": "OutputsWithInjection",
          "ready": true
         },
         "ready": true,
         "signals": {
          "input": {
           "channels": {
            "accumulate_and_run": {
             "callback": "run",
             "connected": true,
             "connections": [
              "bulk.ran"
             ],
             "label": "accumulate_and_run"
            },
            "run": {
             "callback": "run",
             "connected": false,
             "connections": [],
             "label": "run"
            }
           },
           "connected": true,
           "fully_connected": false,
           "label": "InputSignals"
          },
          "output": {
           "channels": {
            "ran": {
             "connected": true,
             "connections": [
              "energy__energy_last_Divide_n_atoms__number_of_atoms.accumulate_and_run"
             ],
             "label": "ran"
            }
           },
           "connected": true,
           "fully_connected": true,
           "label": "OutputSignals"
          }
         }
        }
       }
      },
      "text/plain": [
       "<node_library.atomistic.property.thermodynamics.macro_node_factory.get_chemical_potential at 0x15227e210>"
      ]
     },
     "execution_count": 26,
     "metadata": {},
     "output_type": "execute_result"
    }
   ],
   "source": [
    "get_pot  # why are inputs/outputs for macro not visible?"
   ]
  },
  {
   "cell_type": "code",
   "execution_count": 27,
   "id": "da543ab2-874b-4c48-ab3e-a226ef335119",
   "metadata": {},
   "outputs": [
    {
     "data": {
      "text/plain": [
       "3"
      ]
     },
     "execution_count": 27,
     "metadata": {},
     "output_type": "execute_result"
    }
   ],
   "source": [
    "hs.save_node(get_pot, db)"
   ]
  },
  {
   "cell_type": "code",
   "execution_count": 28,
   "id": "0ce87c3e-25e3-44a2-b5ee-893b0f075537",
   "metadata": {},
   "outputs": [
    {
     "data": {
      "text/html": [
       "<div>\n",
       "<style scoped>\n",
       "    .dataframe tbody tr th:only-of-type {\n",
       "        vertical-align: middle;\n",
       "    }\n",
       "\n",
       "    .dataframe tbody tr th {\n",
       "        vertical-align: top;\n",
       "    }\n",
       "\n",
       "    .dataframe thead th {\n",
       "        text-align: right;\n",
       "    }\n",
       "</style>\n",
       "<table border=\"1\" class=\"dataframe\">\n",
       "  <thead>\n",
       "    <tr style=\"text-align: right;\">\n",
       "      <th></th>\n",
       "      <th>node_id</th>\n",
       "      <th>name</th>\n",
       "      <th>hash_value</th>\n",
       "      <th>lib_path</th>\n",
       "      <th>creation_date</th>\n",
       "      <th>inputs</th>\n",
       "      <th>outputs</th>\n",
       "      <th>output_ready</th>\n",
       "      <th>file_path</th>\n",
       "    </tr>\n",
       "  </thead>\n",
       "  <tbody>\n",
       "    <tr>\n",
       "      <th>0</th>\n",
       "      <td>1</td>\n",
       "      <td></td>\n",
       "      <td>c16d79b83fad085c61d52223687f65ac5f258005921c83...</td>\n",
       "      <td>node_library/math/Sin</td>\n",
       "      <td>2024-07-07 14:12:05.015249</td>\n",
       "      <td>{'x': '[17]'}</td>\n",
       "      <td>{'sin': '[-0.96139749]'}</td>\n",
       "      <td>True</td>\n",
       "      <td></td>\n",
       "    </tr>\n",
       "    <tr>\n",
       "      <th>1</th>\n",
       "      <td>2</td>\n",
       "      <td></td>\n",
       "      <td>3d4f127b05459a1d1dda98bc3e6f10176e09f27f3ab9b1...</td>\n",
       "      <td>node_library/math/Sin</td>\n",
       "      <td>2024-07-07 14:12:05.191476</td>\n",
       "      <td>{'x': '[12]'}</td>\n",
       "      <td>{'sin': '[-0.53657292]'}</td>\n",
       "      <td>True</td>\n",
       "      <td></td>\n",
       "    </tr>\n",
       "    <tr>\n",
       "      <th>2</th>\n",
       "      <td>3</td>\n",
       "      <td></td>\n",
       "      <td>12201da17c241990e5b7725a62de4189bea0cf57ad462c...</td>\n",
       "      <td>node_library/atomistic/property/thermodynamics...</td>\n",
       "      <td>2024-07-07 14:12:05.605083</td>\n",
       "      <td>{'element': ''Pt'', 'engine': 'None'}</td>\n",
       "      <td>{'chemical_potential': '-0.00012460841212025286'}</td>\n",
       "      <td>True</td>\n",
       "      <td></td>\n",
       "    </tr>\n",
       "    <tr>\n",
       "      <th>3</th>\n",
       "      <td>4</td>\n",
       "      <td></td>\n",
       "      <td>0b26dce95241b25be07d968f3a10863d08d1edace00830...</td>\n",
       "      <td>node_library/atomistic/property/thermodynamics...</td>\n",
       "      <td>2024-07-07 14:12:05.793974</td>\n",
       "      <td>{'element': ''Pd'', 'engine': 'None'}</td>\n",
       "      <td>{'chemical_potential': '0.00034226253730329503'}</td>\n",
       "      <td>True</td>\n",
       "      <td></td>\n",
       "    </tr>\n",
       "    <tr>\n",
       "      <th>4</th>\n",
       "      <td>5</td>\n",
       "      <td></td>\n",
       "      <td>d87d4a45cd97ce5e8787c85826781fbc3adf72afc7cef3...</td>\n",
       "      <td>node_library/atomistic/engine/ase/M3GNet</td>\n",
       "      <td>2024-07-07 14:12:05.930900</td>\n",
       "      <td>{}</td>\n",
       "      <td>None</td>\n",
       "      <td>False</td>\n",
       "      <td></td>\n",
       "    </tr>\n",
       "    <tr>\n",
       "      <th>5</th>\n",
       "      <td>6</td>\n",
       "      <td></td>\n",
       "      <td>4aa32e7e995920ffee1b936fdc0b3e570ffa586fc14080...</td>\n",
       "      <td>node_library/atomistic/property/thermodynamics...</td>\n",
       "      <td>2024-07-07 14:12:05.933554</td>\n",
       "      <td>{'element': ''Pt'', 'engine': 'hash_d87d4a45cd...</td>\n",
       "      <td>{'chemical_potential': '-6.065089225769043'}</td>\n",
       "      <td>True</td>\n",
       "      <td></td>\n",
       "    </tr>\n",
       "    <tr>\n",
       "      <th>6</th>\n",
       "      <td>7</td>\n",
       "      <td></td>\n",
       "      <td>7efde22c8ae69d7da09b577b69ee74e0b74fe3f891cea9...</td>\n",
       "      <td>None/compute_elastic_constants</td>\n",
       "      <td>2024-07-07 14:30:59.551093</td>\n",
       "      <td>{'element': ''Ni'', 'parameters': 'InputElasti...</td>\n",
       "      <td>{'BV': '215.6460213089325'}</td>\n",
       "      <td>True</td>\n",
       "      <td></td>\n",
       "    </tr>\n",
       "    <tr>\n",
       "      <th>7</th>\n",
       "      <td>8</td>\n",
       "      <td></td>\n",
       "      <td>33682b8b2bd1d646f08081acca6ed97bca54d3ab8730a0...</td>\n",
       "      <td>None/compute_elastic_constants</td>\n",
       "      <td>2024-07-07 14:31:07.122162</td>\n",
       "      <td>{'element': ''Al'', 'parameters': 'InputElasti...</td>\n",
       "      <td>{'BV': '55.03996979198493'}</td>\n",
       "      <td>True</td>\n",
       "      <td></td>\n",
       "    </tr>\n",
       "    <tr>\n",
       "      <th>8</th>\n",
       "      <td>9</td>\n",
       "      <td></td>\n",
       "      <td>f0af82047d99aa91807ce7ab1b36a92d986a996793cef4...</td>\n",
       "      <td>None/compute_elastic_constants</td>\n",
       "      <td>2024-07-07 14:31:14.109285</td>\n",
       "      <td>{'element': ''Fe'', 'parameters': 'InputElasti...</td>\n",
       "      <td>{'BV': '93.38382852298619'}</td>\n",
       "      <td>True</td>\n",
       "      <td></td>\n",
       "    </tr>\n",
       "    <tr>\n",
       "      <th>9</th>\n",
       "      <td>10</td>\n",
       "      <td></td>\n",
       "      <td>f9798e0c90c6723adb8974f8d45cb43b8feeaad4053b0a...</td>\n",
       "      <td>node_library/atomistic/structure/build/cubic_b...</td>\n",
       "      <td>2024-07-07 14:56:24.815800</td>\n",
       "      <td>{'element': ''Al'', 'cell_size': '3', 'vacancy...</td>\n",
       "      <td>None</td>\n",
       "      <td>False</td>\n",
       "      <td></td>\n",
       "    </tr>\n",
       "    <tr>\n",
       "      <th>10</th>\n",
       "      <td>11</td>\n",
       "      <td></td>\n",
       "      <td>45a8ab7b1925cfabdfbf04f83ab4ba32ccb852198ba171...</td>\n",
       "      <td>None/InputElasticTensorNode</td>\n",
       "      <td>2024-07-07 14:56:24.819566</td>\n",
       "      <td>{'num_of_point': '11', 'eps_range': '0.005'}</td>\n",
       "      <td>None</td>\n",
       "      <td>False</td>\n",
       "      <td></td>\n",
       "    </tr>\n",
       "    <tr>\n",
       "      <th>11</th>\n",
       "      <td>17</td>\n",
       "      <td></td>\n",
       "      <td>e68957cde9cde67870e03b7c65cb5c6fff30484978fd2a...</td>\n",
       "      <td>node_library/atomistic/property/elastic/elasti...</td>\n",
       "      <td>2024-07-07 17:00:10.275206</td>\n",
       "      <td>{'structure': 'hash_a971878fcfbd90b7f7770a9b3b...</td>\n",
       "      <td>None</td>\n",
       "      <td>True</td>\n",
       "      <td>node_library/atomistic/property/elastic/elasti...</td>\n",
       "    </tr>\n",
       "    <tr>\n",
       "      <th>12</th>\n",
       "      <td>14</td>\n",
       "      <td></td>\n",
       "      <td>b0b53de01794273ec0105f4c85caf1a2ebed6b9690bd87...</td>\n",
       "      <td>node_library/atomistic/property/elastic/genera...</td>\n",
       "      <td>2024-07-07 15:22:31.316911</td>\n",
       "      <td>{'structure': 'hash_f9798e0c90c6723adb8974f8d4...</td>\n",
       "      <td>None</td>\n",
       "      <td>False</td>\n",
       "      <td></td>\n",
       "    </tr>\n",
       "    <tr>\n",
       "      <th>13</th>\n",
       "      <td>15</td>\n",
       "      <td></td>\n",
       "      <td>a971878fcfbd90b7f7770a9b3b7e276e3809f1ff0e1d1c...</td>\n",
       "      <td>node_library/atomistic/structure/build/cubic_b...</td>\n",
       "      <td>2024-07-07 15:36:53.714292</td>\n",
       "      <td>{'element': ''Ni'', 'cell_size': '3', 'vacancy...</td>\n",
       "      <td>None</td>\n",
       "      <td>False</td>\n",
       "      <td></td>\n",
       "    </tr>\n",
       "    <tr>\n",
       "      <th>14</th>\n",
       "      <td>16</td>\n",
       "      <td></td>\n",
       "      <td>cd859a15e91d320672dd57adfb99fad1927c95140c9155...</td>\n",
       "      <td>node_library/atomistic/property/elastic/genera...</td>\n",
       "      <td>2024-07-07 15:36:53.796954</td>\n",
       "      <td>{'structure': 'hash_a971878fcfbd90b7f7770a9b3b...</td>\n",
       "      <td>None</td>\n",
       "      <td>True</td>\n",
       "      <td>node_library/atomistic/property/elastic/genera...</td>\n",
       "    </tr>\n",
       "  </tbody>\n",
       "</table>\n",
       "</div>"
      ],
      "text/plain": [
       "    node_id name                                         hash_value  \\\n",
       "0         1       c16d79b83fad085c61d52223687f65ac5f258005921c83...   \n",
       "1         2       3d4f127b05459a1d1dda98bc3e6f10176e09f27f3ab9b1...   \n",
       "2         3       12201da17c241990e5b7725a62de4189bea0cf57ad462c...   \n",
       "3         4       0b26dce95241b25be07d968f3a10863d08d1edace00830...   \n",
       "4         5       d87d4a45cd97ce5e8787c85826781fbc3adf72afc7cef3...   \n",
       "5         6       4aa32e7e995920ffee1b936fdc0b3e570ffa586fc14080...   \n",
       "6         7       7efde22c8ae69d7da09b577b69ee74e0b74fe3f891cea9...   \n",
       "7         8       33682b8b2bd1d646f08081acca6ed97bca54d3ab8730a0...   \n",
       "8         9       f0af82047d99aa91807ce7ab1b36a92d986a996793cef4...   \n",
       "9        10       f9798e0c90c6723adb8974f8d45cb43b8feeaad4053b0a...   \n",
       "10       11       45a8ab7b1925cfabdfbf04f83ab4ba32ccb852198ba171...   \n",
       "11       17       e68957cde9cde67870e03b7c65cb5c6fff30484978fd2a...   \n",
       "12       14       b0b53de01794273ec0105f4c85caf1a2ebed6b9690bd87...   \n",
       "13       15       a971878fcfbd90b7f7770a9b3b7e276e3809f1ff0e1d1c...   \n",
       "14       16       cd859a15e91d320672dd57adfb99fad1927c95140c9155...   \n",
       "\n",
       "                                             lib_path  \\\n",
       "0                               node_library/math/Sin   \n",
       "1                               node_library/math/Sin   \n",
       "2   node_library/atomistic/property/thermodynamics...   \n",
       "3   node_library/atomistic/property/thermodynamics...   \n",
       "4            node_library/atomistic/engine/ase/M3GNet   \n",
       "5   node_library/atomistic/property/thermodynamics...   \n",
       "6                      None/compute_elastic_constants   \n",
       "7                      None/compute_elastic_constants   \n",
       "8                      None/compute_elastic_constants   \n",
       "9   node_library/atomistic/structure/build/cubic_b...   \n",
       "10                        None/InputElasticTensorNode   \n",
       "11  node_library/atomistic/property/elastic/elasti...   \n",
       "12  node_library/atomistic/property/elastic/genera...   \n",
       "13  node_library/atomistic/structure/build/cubic_b...   \n",
       "14  node_library/atomistic/property/elastic/genera...   \n",
       "\n",
       "                creation_date  \\\n",
       "0  2024-07-07 14:12:05.015249   \n",
       "1  2024-07-07 14:12:05.191476   \n",
       "2  2024-07-07 14:12:05.605083   \n",
       "3  2024-07-07 14:12:05.793974   \n",
       "4  2024-07-07 14:12:05.930900   \n",
       "5  2024-07-07 14:12:05.933554   \n",
       "6  2024-07-07 14:30:59.551093   \n",
       "7  2024-07-07 14:31:07.122162   \n",
       "8  2024-07-07 14:31:14.109285   \n",
       "9  2024-07-07 14:56:24.815800   \n",
       "10 2024-07-07 14:56:24.819566   \n",
       "11 2024-07-07 17:00:10.275206   \n",
       "12 2024-07-07 15:22:31.316911   \n",
       "13 2024-07-07 15:36:53.714292   \n",
       "14 2024-07-07 15:36:53.796954   \n",
       "\n",
       "                                               inputs  \\\n",
       "0                                       {'x': '[17]'}   \n",
       "1                                       {'x': '[12]'}   \n",
       "2               {'element': ''Pt'', 'engine': 'None'}   \n",
       "3               {'element': ''Pd'', 'engine': 'None'}   \n",
       "4                                                  {}   \n",
       "5   {'element': ''Pt'', 'engine': 'hash_d87d4a45cd...   \n",
       "6   {'element': ''Ni'', 'parameters': 'InputElasti...   \n",
       "7   {'element': ''Al'', 'parameters': 'InputElasti...   \n",
       "8   {'element': ''Fe'', 'parameters': 'InputElasti...   \n",
       "9   {'element': ''Al'', 'cell_size': '3', 'vacancy...   \n",
       "10       {'num_of_point': '11', 'eps_range': '0.005'}   \n",
       "11  {'structure': 'hash_a971878fcfbd90b7f7770a9b3b...   \n",
       "12  {'structure': 'hash_f9798e0c90c6723adb8974f8d4...   \n",
       "13  {'element': ''Ni'', 'cell_size': '3', 'vacancy...   \n",
       "14  {'structure': 'hash_a971878fcfbd90b7f7770a9b3b...   \n",
       "\n",
       "                                              outputs  output_ready  \\\n",
       "0                            {'sin': '[-0.96139749]'}          True   \n",
       "1                            {'sin': '[-0.53657292]'}          True   \n",
       "2   {'chemical_potential': '-0.00012460841212025286'}          True   \n",
       "3    {'chemical_potential': '0.00034226253730329503'}          True   \n",
       "4                                                None         False   \n",
       "5        {'chemical_potential': '-6.065089225769043'}          True   \n",
       "6                         {'BV': '215.6460213089325'}          True   \n",
       "7                         {'BV': '55.03996979198493'}          True   \n",
       "8                         {'BV': '93.38382852298619'}          True   \n",
       "9                                                None         False   \n",
       "10                                               None         False   \n",
       "11                                               None          True   \n",
       "12                                               None         False   \n",
       "13                                               None         False   \n",
       "14                                               None          True   \n",
       "\n",
       "                                            file_path  \n",
       "0                                                      \n",
       "1                                                      \n",
       "2                                                      \n",
       "3                                                      \n",
       "4                                                      \n",
       "5                                                      \n",
       "6                                                      \n",
       "7                                                      \n",
       "8                                                      \n",
       "9                                                      \n",
       "10                                                     \n",
       "11  node_library/atomistic/property/elastic/elasti...  \n",
       "12                                                     \n",
       "13                                                     \n",
       "14  node_library/atomistic/property/elastic/genera...  "
      ]
     },
     "execution_count": 28,
     "metadata": {},
     "output_type": "execute_result"
    }
   ],
   "source": [
    "hs.list_table(db)"
   ]
  },
  {
   "cell_type": "code",
   "execution_count": 29,
   "id": "05736de9-b56b-4629-aec1-ee011864cf78",
   "metadata": {},
   "outputs": [],
   "source": [
    "# hs.remove_nodes_from_db(db, [26])"
   ]
  },
  {
   "cell_type": "code",
   "execution_count": 30,
   "id": "97aada44-3954-4c64-b235-e4840fd03257",
   "metadata": {},
   "outputs": [],
   "source": [
    "get_pot2 = Workflow.create.atomistic.property.thermodynamics.get_chemical_potential(element='Pd')"
   ]
  },
  {
   "cell_type": "code",
   "execution_count": 31,
   "id": "0baeb3b6-59d7-4d2c-aa21-d34be592a24c",
   "metadata": {},
   "outputs": [
    {
     "name": "stdout",
     "output_type": "stream",
     "text": [
      "node with id=4 is loaded rather than recomputed\n"
     ]
    },
    {
     "data": {
      "text/plain": [
       "'Pd'"
      ]
     },
     "execution_count": 31,
     "metadata": {},
     "output_type": "execute_result"
    }
   ],
   "source": [
    "node = hs.run_node(get_pot2, db, verbose=True)\n",
    "node.inputs.element.value"
   ]
  },
  {
   "cell_type": "markdown",
   "id": "87ffcd8a-256c-4ca2-b47a-4f27a9d0f4b6",
   "metadata": {},
   "source": [
    "## Workflow with node as input (convert input node rather than its output to hash)"
   ]
  },
  {
   "cell_type": "markdown",
   "id": "a3d006fe-2e50-4e5d-aea9-2b0fd3177dd3",
   "metadata": {},
   "source": [
    "### Structure-repeat example"
   ]
  },
  {
   "cell_type": "code",
   "execution_count": 32,
   "id": "eaf8835d-b4d5-4c0c-be2b-195df3089690",
   "metadata": {},
   "outputs": [],
   "source": [
    "# The following construct is not working\n",
    "# To get it working we have to execute Al.run() first\n",
    "# This appears to be a bug, works with pull (intuitive?)\n",
    "\n",
    "Al = Workflow.create.atomistic.structure.build.bulk('Al')\n",
    "repeat = Workflow.create.atomistic.structure.transform.repeat(structure=Al, repeat_scalar=3)\n",
    "out = repeat.pull()"
   ]
  },
  {
   "cell_type": "code",
   "execution_count": null,
   "id": "69c84117-0512-4627-96b9-b1d044c89703",
   "metadata": {},
   "outputs": [],
   "source": []
  },
  {
   "cell_type": "code",
   "execution_count": 33,
   "id": "1c623706-864d-4d81-af65-dc78aa0f5bfe",
   "metadata": {},
   "outputs": [
    {
     "data": {
      "text/plain": [
       "'0bfedd3665f3b1bc1e81fdd02cd09865a4aa386eafb80048a5ae1bc9c5cce816'"
      ]
     },
     "execution_count": 33,
     "metadata": {},
     "output_type": "execute_result"
    }
   ],
   "source": [
    "inp_node = hs.get_all_connected_input_nodes(repeat)['structure']\n",
    "hs.get_node_hash(inp_node, db)"
   ]
  },
  {
   "cell_type": "code",
   "execution_count": null,
   "id": "805a0320-f5ce-4183-a432-ac221eddf988",
   "metadata": {},
   "outputs": [],
   "source": []
  },
  {
   "cell_type": "markdown",
   "id": "e72c9b90-5c8f-4245-a4ba-772deae128b7",
   "metadata": {},
   "source": [
    "### Chemical potential - engine example"
   ]
  },
  {
   "cell_type": "code",
   "execution_count": 34,
   "id": "1296e25d-6e88-4bdc-902a-bb9945226373",
   "metadata": {},
   "outputs": [],
   "source": [
    "engine = Workflow.create.atomistic.engine.ase.M3GNet()"
   ]
  },
  {
   "cell_type": "code",
   "execution_count": 35,
   "id": "df47d5e2-caea-48fa-9af3-a9ffa9cae166",
   "metadata": {},
   "outputs": [],
   "source": [
    "elastic_M3GNet = Workflow.create.atomistic.property.thermodynamics.get_chemical_potential(element='Pt', engine=engine)"
   ]
  },
  {
   "cell_type": "code",
   "execution_count": 36,
   "id": "a47f2819-8448-4828-ab9c-83872e04db0d",
   "metadata": {},
   "outputs": [
    {
     "data": {
      "text/plain": [
       "6"
      ]
     },
     "execution_count": 36,
     "metadata": {},
     "output_type": "execute_result"
    }
   ],
   "source": [
    "hs.save_node(elastic_M3GNet, db) "
   ]
  },
  {
   "cell_type": "code",
   "execution_count": 37,
   "id": "7240fcea-840d-41cf-bbe5-98bac67956a6",
   "metadata": {},
   "outputs": [
    {
     "data": {
      "text/plain": [
       "{'chemical_potential': '-6.065089225769043'}"
      ]
     },
     "execution_count": 37,
     "metadata": {},
     "output_type": "execute_result"
    }
   ],
   "source": [
    "new_node = hs.get_node_from_db_id(6, db)\n",
    "hs.extract_node_output(new_node)"
   ]
  },
  {
   "cell_type": "code",
   "execution_count": 38,
   "id": "149c3dd7-985b-4560-8801-978f31dbad00",
   "metadata": {},
   "outputs": [
    {
     "data": {
      "text/plain": [
       "{'chemical_potential': '-6.065089225769043'}"
      ]
     },
     "execution_count": 38,
     "metadata": {},
     "output_type": "execute_result"
    }
   ],
   "source": [
    "hs.extract_node_output(hs.run_node(new_node, db))"
   ]
  },
  {
   "cell_type": "markdown",
   "id": "b0d9549e-137b-4dbc-8cf4-d382cda3b64e",
   "metadata": {},
   "source": [
    "#### Some TODO issues"
   ]
  },
  {
   "cell_type": "code",
   "execution_count": 39,
   "id": "21eded50-d33b-416d-9e95-9fddb3881c7c",
   "metadata": {},
   "outputs": [
    {
     "data": {
      "text/plain": [
       "{'element': \"'Pt'\",\n",
       " 'engine': 'hash_d87d4a45cd97ce5e8787c85826781fbc3adf72afc7cef33e7efd1f2b68c7b5e9'}"
      ]
     },
     "execution_count": 39,
     "metadata": {},
     "output_type": "execute_result"
    }
   ],
   "source": [
    "# TODO: replace hash by node value (it works but is confusing)\n",
    "\n",
    "hs.extract_node_input(new_node, db)"
   ]
  },
  {
   "cell_type": "code",
   "execution_count": 40,
   "id": "be4bcb4d-801a-408d-b14f-0886b6e3ff1b",
   "metadata": {},
   "outputs": [
    {
     "data": {
      "application/json": {
       "connected": false,
       "connections": [],
       "label": "engine",
       "ready": true,
       "type_hint": "None",
       "value": "None"
      },
      "text/plain": [
       "<pyiron_workflow.channels.InputData at 0x1670b6480>"
      ]
     },
     "execution_count": 40,
     "metadata": {},
     "output_type": "execute_result"
    }
   ],
   "source": [
    "node = hs.get_node_from_db_id(3, db)\n",
    "node.inputs.engine"
   ]
  },
  {
   "cell_type": "code",
   "execution_count": null,
   "id": "8c0013ac-68ae-43a8-bcfd-a28a7e42bad6",
   "metadata": {},
   "outputs": [],
   "source": []
  },
  {
   "cell_type": "code",
   "execution_count": 41,
   "id": "aa4cdb65-d4ca-497b-b141-0e8d4885ea02",
   "metadata": {},
   "outputs": [],
   "source": [
    "node = hs.get_node_from_db_id(6, db)\n",
    "hash = hs.extract_node_input(node, db)['engine']\n",
    "engine_node = hs.eval_db_value(hash, db).pull()\n"
   ]
  },
  {
   "cell_type": "code",
   "execution_count": 42,
   "id": "d0c9be66-56d1-4385-894d-398f6abf75a9",
   "metadata": {},
   "outputs": [],
   "source": [
    "elastic_M3GNet.inputs.engine = hs.extract_node_input(hs.get_node_from_db_id(6, db), db)['engine']"
   ]
  },
  {
   "cell_type": "code",
   "execution_count": 43,
   "id": "0f38b65c-f3f4-48fe-a79d-190e19ca3e1f",
   "metadata": {},
   "outputs": [],
   "source": [
    "# it looks like the following assignment/connection does not work \n",
    "\n",
    "elastic_M3GNet.inputs.engine = engine_node"
   ]
  },
  {
   "cell_type": "code",
   "execution_count": 44,
   "id": "83484806-0e84-4f77-9ad6-ea6bc70f2fb1",
   "metadata": {},
   "outputs": [
    {
     "data": {
      "application/json": {
       "connected": true,
       "connections": [
        "M3GNet.engine"
       ],
       "label": "engine",
       "ready": true,
       "type_hint": "None",
       "value": "None"
      },
      "text/plain": [
       "<pyiron_workflow.channels.InputData at 0x166f54290>"
      ]
     },
     "execution_count": 44,
     "metadata": {},
     "output_type": "execute_result"
    }
   ],
   "source": [
    "new_node.inputs.engine"
   ]
  },
  {
   "cell_type": "markdown",
   "id": "5ca0e7dc-9e36-40e5-a2a1-2eb6a8150d5d",
   "metadata": {},
   "source": [
    "### Elastic constants"
   ]
  },
  {
   "cell_type": "markdown",
   "id": "4ba84435-c0b4-4897-98ab-7b596f3e369b",
   "metadata": {},
   "source": [
    "#### With locally defined macro "
   ]
  },
  {
   "cell_type": "code",
   "execution_count": 45,
   "id": "0d7fc199-ee83-4f37-b7df-66aa8daa1070",
   "metadata": {},
   "outputs": [
    {
     "data": {
      "text/plain": [
       "{'BV': 207.853238427253}"
      ]
     },
     "execution_count": 45,
     "metadata": {},
     "output_type": "execute_result"
    }
   ],
   "source": [
    "atomistic = Workflow.create.atomistic\n",
    "from node_library.atomistic.property.elastic import InputElasticTensor\n",
    "\n",
    "@Workflow.wrap.as_macro_node('BV')\n",
    "def compute_elastic_constants(wf, element='Fe', parameters=InputElasticTensor(eps_range=0.02)): # eps_range=0.01):\n",
    "    \n",
    "    wf.engine = atomistic.engine.ase.M3GNet()\n",
    "    wf.supercell = atomistic.structure.build.cubic_bulk_cell(element=element, cell_size=3, vacancy_index=0)\n",
    "    wf.calc = atomistic.calculator.ase.static(structure=wf.supercell, engine=wf.engine)\n",
    "    wf.elastic = atomistic.property.elastic.elastic_constants(structure=wf.supercell, engine=wf.engine, parameters=parameters)\n",
    "    return wf.elastic.outputs.elastic.BV\n",
    "    \n",
    "out = compute_elastic_constants(element='Ni').pull() #iter(eps_range=np.linspace(1e-4, 1, 11))\n",
    "out"
   ]
  },
  {
   "cell_type": "code",
   "execution_count": 46,
   "id": "b4ea3222-5e7e-473c-98c9-5047d73bbdbb",
   "metadata": {},
   "outputs": [
    {
     "data": {
      "text/plain": [
       "{'BV': 207.853238427253}"
      ]
     },
     "execution_count": 46,
     "metadata": {},
     "output_type": "execute_result"
    }
   ],
   "source": [
    "out"
   ]
  },
  {
   "cell_type": "code",
   "execution_count": 47,
   "id": "14b8326d-a270-4150-ae44-d63c03a0a299",
   "metadata": {},
   "outputs": [
    {
     "name": "stdout",
     "output_type": "stream",
     "text": [
      "NodeTable(id=7): Save your node class in a node_library and/or register it!\n",
      "NodeTable(id=8): Save your node class in a node_library and/or register it!\n",
      "NodeTable(id=9): Save your node class in a node_library and/or register it!\n"
     ]
    }
   ],
   "source": [
    "for el in ['Ni', 'Al', 'Fe']:\n",
    "    elastic_node = compute_elastic_constants(element=el, parameters=InputElasticTensor(eps_range=0.001))\n",
    "    hs.run_node(elastic_node, db)"
   ]
  },
  {
   "cell_type": "markdown",
   "id": "924a7f1e-d73a-442e-b087-8e4baeab8bce",
   "metadata": {},
   "source": [
    "Note: \n",
    "- Works well\n",
    "- But: for workflows/functions defined in notebook the node cannot be recreated (this is a fundamental issue, save code in db?)"
   ]
  },
  {
   "cell_type": "code",
   "execution_count": null,
   "id": "79ff3028-a9be-4999-8df5-d303b5adcb06",
   "metadata": {},
   "outputs": [],
   "source": []
  },
  {
   "cell_type": "markdown",
   "id": "0ae8b9e2-50ac-4af3-b70c-2ea7d9e6dfee",
   "metadata": {},
   "source": [
    "#### With a node defined in the library"
   ]
  },
  {
   "cell_type": "code",
   "execution_count": 48,
   "id": "ad261120-79d9-49cb-906e-4f1eb932b839",
   "metadata": {},
   "outputs": [],
   "source": [
    "engine = Workflow.create.atomistic.engine.ase.M3GNet()\n",
    "structure = Workflow.create.atomistic.structure.build.bulk('Pb', cubic=True)\n",
    "elastic = Workflow.create.atomistic.property.elastic.elastic_constants(structure=structure, engine=engine) #, parameters=parameters)\n",
    "# out = elastic.pull()"
   ]
  },
  {
   "cell_type": "markdown",
   "id": "d1c91277-0123-4543-863f-66c4b640aba7",
   "metadata": {},
   "source": [
    "The following line failes since the node cannot resolve the dataclass import and thus fails to be loaded. A simple yet elegant approach \n",
    "to achieve this would be to transfer the dataclass into a node, which behaves exactly like function_nodes. Then the entire machinery of hash \n",
    "based node imports/loading would work. The present formulation of dataclass_nodes fails. A simple approach to achieve this is shown below. "
   ]
  },
  {
   "cell_type": "code",
   "execution_count": 49,
   "id": "ffc2a91e-8b37-4278-bab9-d4f189302aac",
   "metadata": {},
   "outputs": [],
   "source": [
    "# hs.run_node(elastic, db)"
   ]
  },
  {
   "cell_type": "markdown",
   "id": "432a6443-7fea-4494-be1c-409fa80d5ab0",
   "metadata": {},
   "source": [
    "#### Conversion of a dataclass into node (proof of concept only)"
   ]
  },
  {
   "cell_type": "code",
   "execution_count": 50,
   "id": "c06980cf-cf7a-4ac8-9c80-444d60d22b6a",
   "metadata": {},
   "outputs": [],
   "source": [
    "# dataclass nodes cannot be called via Workflow.create -> TODO\n",
    "# Workflow.create.atomistic.property.elastic.InputElasticTensor\n",
    "from pyiron_workflow import Workflow\n",
    "from node_library.atomistic.property.elastic import InputElasticTensor \n",
    "\n",
    "supercell = Workflow.create.atomistic.structure.build.cubic_bulk_cell(element='Ni', cell_size=3, vacancy_index=0)\n",
    "inp_parameters = InputElasticTensor()"
   ]
  },
  {
   "cell_type": "code",
   "execution_count": 51,
   "id": "e8462af8-1029-484e-8154-2be19b07cbe8",
   "metadata": {},
   "outputs": [],
   "source": [
    "# The following node function works (same result should be achieved by as_dataclass_node, i.e., dataclass should be converted into node that \n",
    "# can be loaded, used to construct workflows etc.)!\n",
    "# @Workflow.wrap.as_function_node('dataclass')\n",
    "# def InputElasticTensorNode(num_of_point: int = 5, eps_range: float = 0.005):\n",
    "#     return InputElasticTensor(num_of_point=num_of_point, eps_range=eps_range)"
   ]
  },
  {
   "cell_type": "code",
   "execution_count": 52,
   "id": "00a7cf67-0474-47fc-b18d-b20d89cbf078",
   "metadata": {},
   "outputs": [
    {
     "data": {
      "text/plain": [
       "True"
      ]
     },
     "execution_count": 52,
     "metadata": {},
     "output_type": "execute_result"
    }
   ],
   "source": [
    "elastic_node = Workflow.create.atomistic.property.elastic.generate_structures(structure=supercell, \n",
    "                                                                              parameters=InputElasticTensor(num_of_point=11)) \n",
    "\n",
    "# elastic_node.save()\n",
    "out = elastic_node.pull()\n",
    "hs.run_node(elastic_node, db)\n",
    "elastic_node.outputs.ready"
   ]
  },
  {
   "cell_type": "code",
   "execution_count": null,
   "id": "8e982715-8dbe-4553-9df4-ccef33f925b5",
   "metadata": {},
   "outputs": [],
   "source": []
  },
  {
   "cell_type": "code",
   "execution_count": 53,
   "id": "44e697af-a33f-4f89-a09e-93b18bf7ff53",
   "metadata": {},
   "outputs": [
    {
     "ename": "EOFError",
     "evalue": "Ran out of input",
     "output_type": "error",
     "traceback": [
      "\u001b[0;31m---------------------------------------------------------------------------\u001b[0m",
      "\u001b[0;31mEOFError\u001b[0m                                  Traceback (most recent call last)",
      "Cell \u001b[0;32mIn[53], line 10\u001b[0m\n\u001b[1;32m      3\u001b[0m elastic_constants \u001b[38;5;241m=\u001b[39m atomistic\u001b[38;5;241m.\u001b[39mproperty\u001b[38;5;241m.\u001b[39melastic\u001b[38;5;241m.\u001b[39melastic_constants(\n\u001b[1;32m      4\u001b[0m     structure\u001b[38;5;241m=\u001b[39msupercell,\n\u001b[1;32m      5\u001b[0m     engine\u001b[38;5;241m=\u001b[39mm3gnet,\n\u001b[1;32m      6\u001b[0m     parameters\u001b[38;5;241m=\u001b[39mInputElasticTensor(),\n\u001b[1;32m      7\u001b[0m )\n\u001b[1;32m      9\u001b[0m out \u001b[38;5;241m=\u001b[39m elastic_constants\u001b[38;5;241m.\u001b[39mpull()\n\u001b[0;32m---> 10\u001b[0m \u001b[43mhs\u001b[49m\u001b[38;5;241;43m.\u001b[39;49m\u001b[43mrun_node\u001b[49m\u001b[43m(\u001b[49m\u001b[43melastic_constants\u001b[49m\u001b[43m,\u001b[49m\u001b[43m \u001b[49m\u001b[43mdb\u001b[49m\u001b[43m)\u001b[49m\n",
      "File \u001b[0;32m~/python_projects/git_libs/pyiron_nodes/node_library/development/hash_based_storage.py:1039\u001b[0m, in \u001b[0;36mrun_node\u001b[0;34m(node, db, verbose)\u001b[0m\n\u001b[1;32m   1037\u001b[0m     save_node(node, db)\n\u001b[1;32m   1038\u001b[0m \u001b[38;5;28;01melse\u001b[39;00m:\n\u001b[0;32m-> 1039\u001b[0m     new_node \u001b[38;5;241m=\u001b[39m \u001b[43mget_node_from_db_id\u001b[49m\u001b[43m(\u001b[49m\u001b[43mnode_id\u001b[49m\u001b[43m,\u001b[49m\u001b[43m \u001b[49m\u001b[43mdb\u001b[49m\u001b[43m)\u001b[49m\n\u001b[1;32m   1040\u001b[0m     \u001b[38;5;28;01mif\u001b[39;00m verbose:\n\u001b[1;32m   1041\u001b[0m         \u001b[38;5;28mprint\u001b[39m(\u001b[38;5;124mf\u001b[39m\u001b[38;5;124m'\u001b[39m\u001b[38;5;124mnode with id=\u001b[39m\u001b[38;5;132;01m{\u001b[39;00mnode_id\u001b[38;5;132;01m}\u001b[39;00m\u001b[38;5;124m is loaded rather than recomputed\u001b[39m\u001b[38;5;124m'\u001b[39m)\n",
      "File \u001b[0;32m~/python_projects/git_libs/pyiron_nodes/node_library/development/hash_based_storage.py:967\u001b[0m, in \u001b[0;36mget_node_from_db_id\u001b[0;34m(node_id, db, data_only)\u001b[0m\n\u001b[1;32m    958\u001b[0m     file_path \u001b[38;5;241m=\u001b[39m Path(q\u001b[38;5;241m.\u001b[39mfile_path)\n\u001b[1;32m    960\u001b[0m     \u001b[38;5;66;03m# Set the node's storage_directory path\u001b[39;00m\n\u001b[1;32m    961\u001b[0m     \u001b[38;5;66;03m# node.storage_directory.path = file_path\u001b[39;00m\n\u001b[1;32m    962\u001b[0m     \u001b[38;5;66;03m# node.load()\u001b[39;00m\n\u001b[0;32m   (...)\u001b[0m\n\u001b[1;32m    965\u001b[0m     \u001b[38;5;66;03m#     node = load_data_from_json(node, file_path, db)\u001b[39;00m\n\u001b[1;32m    966\u001b[0m     \u001b[38;5;66;03m# else:\u001b[39;00m\n\u001b[0;32m--> 967\u001b[0m     node \u001b[38;5;241m=\u001b[39m \u001b[43mload_node_from_pickle\u001b[49m\u001b[43m(\u001b[49m\u001b[43mnode\u001b[49m\u001b[43m,\u001b[49m\u001b[43m \u001b[49m\u001b[43mfile_path\u001b[49m\u001b[43m)\u001b[49m\n\u001b[1;32m    968\u001b[0m \u001b[38;5;28;01melse\u001b[39;00m:\n\u001b[1;32m    969\u001b[0m     \u001b[38;5;66;03m# load input from database\u001b[39;00m\n\u001b[1;32m    970\u001b[0m     \u001b[38;5;66;03m# print('q: ', q)\u001b[39;00m\n\u001b[1;32m    971\u001b[0m     node \u001b[38;5;241m=\u001b[39m set_node_input(node, q\u001b[38;5;241m.\u001b[39minputs, db)\n",
      "File \u001b[0;32m~/python_projects/git_libs/pyiron_nodes/node_library/development/hash_based_storage.py:744\u001b[0m, in \u001b[0;36mload_node_from_pickle\u001b[0;34m(node, file_path, db, verbose)\u001b[0m\n\u001b[1;32m    742\u001b[0m \u001b[38;5;66;03m# Open the JSON file and load the data\u001b[39;00m\n\u001b[1;32m    743\u001b[0m \u001b[38;5;28;01mwith\u001b[39;00m \u001b[38;5;28mopen\u001b[39m(file_path, \u001b[38;5;124m'\u001b[39m\u001b[38;5;124mrb\u001b[39m\u001b[38;5;124m'\u001b[39m) \u001b[38;5;28;01mas\u001b[39;00m file:\n\u001b[0;32m--> 744\u001b[0m     node \u001b[38;5;241m=\u001b[39m \u001b[43mpickle\u001b[49m\u001b[38;5;241;43m.\u001b[39;49m\u001b[43mload\u001b[49m\u001b[43m(\u001b[49m\u001b[43mfile\u001b[49m\u001b[43m)\u001b[49m\n\u001b[1;32m    746\u001b[0m \u001b[38;5;28;01mif\u001b[39;00m verbose:\n\u001b[1;32m    747\u001b[0m     \u001b[38;5;28mprint\u001b[39m(\u001b[38;5;124mf\u001b[39m\u001b[38;5;124m\"\u001b[39m\u001b[38;5;124mData loaded into node from \u001b[39m\u001b[38;5;132;01m{\u001b[39;00mfile_path\u001b[38;5;132;01m}\u001b[39;00m\u001b[38;5;124m\"\u001b[39m)\n",
      "\u001b[0;31mEOFError\u001b[0m: Ran out of input"
     ]
    }
   ],
   "source": [
    "supercell = Workflow.create.atomistic.structure.build.cubic_bulk_cell(element='Ni', cell_size=3, vacancy_index=0)\n",
    "m3gnet = Workflow.create.atomistic.engine.ase.M3GNet()\n",
    "elastic_constants = atomistic.property.elastic.elastic_constants(\n",
    "    structure=supercell,\n",
    "    engine=m3gnet,\n",
    "    parameters=InputElasticTensor(),\n",
    ")\n",
    "\n",
    "out = elastic_constants.pull()\n",
    "hs.run_node(elastic_constants, db)"
   ]
  },
  {
   "cell_type": "markdown",
   "id": "74e157dc-c380-49e4-bd41-575c031705ec",
   "metadata": {},
   "source": [
    "I need for each (node) function or datatype a unique ID with class or function definition, The corresponding ID should be stored in the input/output channel (with or without the name). From the database the node with a given ID it should be possible to load the node and run the functions. All necessary inputs must be defined in the database entry. The path to the python file should be sufficient to load/create the node."
   ]
  },
  {
   "cell_type": "code",
   "execution_count": 82,
   "id": "2a32d286-9f38-49c9-ab77-51ee8af8b013",
   "metadata": {},
   "outputs": [
    {
     "name": "stdout",
     "output_type": "stream",
     "text": [
      "element {'label': 'element', 'connected': False, 'connections': [], 'value': \"'Ni'\", 'ready': True, 'type_hint': \"<class 'str'>\"}\n",
      "cell_size {'label': 'cell_size', 'connected': False, 'connections': [], 'value': '3', 'ready': True, 'type_hint': \"<class 'int'>\"}\n",
      "vacancy_index {'label': 'vacancy_index', 'connected': False, 'connections': [], 'value': '0', 'ready': True, 'type_hint': 'int | None'}\n"
     ]
    },
    {
     "data": {
      "application/json": {
       "label": "cubic_bulk_cell",
       "nodes": {
        "bulk": {
         "connected": true,
         "fully_connected": false,
         "inputs": {
          "channels": {
           "a": {
            "connected": false,
            "connections": [],
            "label": "a",
            "ready": true,
            "type_hint": "None",
            "value": "None"
           },
           "c": {
            "connected": false,
            "connections": [],
            "label": "c",
            "ready": true,
            "type_hint": "None",
            "value": "None"
           },
           "covera": {
            "connected": false,
            "connections": [],
            "label": "covera",
            "ready": true,
            "type_hint": "None",
            "value": "None"
           },
           "crystalstructure": {
            "connected": false,
            "connections": [],
            "label": "crystalstructure",
            "ready": true,
            "type_hint": "None",
            "value": "None"
           },
           "cubic": {
            "connected": false,
            "connections": [],
            "label": "cubic",
            "ready": true,
            "type_hint": "None",
            "value": "True"
           },
           "name": {
            "connected": false,
            "connections": [],
            "label": "name",
            "ready": true,
            "type_hint": "None",
            "value": "'Ni'"
           },
           "orthorhombic": {
            "connected": false,
            "connections": [],
            "label": "orthorhombic",
            "ready": true,
            "type_hint": "None",
            "value": "False"
           },
           "u": {
            "connected": false,
            "connections": [],
            "label": "u",
            "ready": true,
            "type_hint": "None",
            "value": "None"
           }
          },
          "connected": false,
          "fully_connected": false,
          "label": "Inputs",
          "ready": true
         },
         "label": "bulk",
         "outputs": {
          "channels": {
           "structure": {
            "connected": true,
            "connections": [
             "cell.structure"
            ],
            "label": "structure",
            "ready": false,
            "type_hint": "None",
            "value": "NOT_DATA"
           }
          },
          "connected": true,
          "fully_connected": true,
          "label": "OutputsWithInjection",
          "ready": false
         },
         "ready": true,
         "signals": {
          "input": {
           "channels": {
            "accumulate_and_run": {
             "callback": "run",
             "connected": false,
             "connections": [],
             "label": "accumulate_and_run"
            },
            "run": {
             "callback": "run",
             "connected": false,
             "connections": [],
             "label": "run"
            }
           },
           "connected": false,
           "fully_connected": false,
           "label": "InputSignals"
          },
          "output": {
           "channels": {
            "ran": {
             "connected": true,
             "connections": [
              "cell.accumulate_and_run"
             ],
             "label": "ran"
            }
           },
           "connected": true,
           "fully_connected": true,
           "label": "OutputSignals"
          }
         }
        },
        "cell": {
         "connected": true,
         "fully_connected": false,
         "inputs": {
          "channels": {
           "repeat_scalar": {
            "connected": false,
            "connections": [],
            "label": "repeat_scalar",
            "ready": true,
            "type_hint": "<class 'int'>",
            "value": "3"
           },
           "structure": {
            "connected": true,
            "connections": [
             "bulk.structure"
            ],
            "label": "structure",
            "ready": false,
            "type_hint": "<class 'ase.atoms.Atoms'>",
            "value": "NOT_DATA"
           }
          },
          "connected": true,
          "fully_connected": false,
          "label": "Inputs",
          "ready": false
         },
         "label": "cell",
         "outputs": {
          "channels": {
           "structure": {
            "connected": true,
            "connections": [
             "structure.structure"
            ],
            "label": "structure",
            "ready": false,
            "type_hint": "<class 'ase.atoms.Atoms'>",
            "value": "NOT_DATA"
           }
          },
          "connected": true,
          "fully_connected": true,
          "label": "OutputsWithInjection",
          "ready": false
         },
         "ready": false,
         "signals": {
          "input": {
           "channels": {
            "accumulate_and_run": {
             "callback": "run",
             "connected": true,
             "connections": [
              "bulk.ran"
             ],
             "label": "accumulate_and_run"
            },
            "run": {
             "callback": "run",
             "connected": false,
             "connections": [],
             "label": "run"
            }
           },
           "connected": true,
           "fully_connected": false,
           "label": "InputSignals"
          },
          "output": {
           "channels": {
            "ran": {
             "connected": true,
             "connections": [
              "structure.accumulate_and_run"
             ],
             "label": "ran"
            }
           },
           "connected": true,
           "fully_connected": true,
           "label": "OutputSignals"
          }
         }
        },
        "structure": {
         "connected": true,
         "fully_connected": false,
         "inputs": {
          "channels": {
           "index": {
            "connected": false,
            "connections": [],
            "label": "index",
            "ready": true,
            "type_hint": "int | None",
            "value": "0"
           },
           "structure": {
            "connected": true,
            "connections": [
             "cell.structure"
            ],
            "label": "structure",
            "ready": false,
            "type_hint": "None",
            "value": "NOT_DATA"
           }
          },
          "connected": true,
          "fully_connected": false,
          "label": "Inputs",
          "ready": false
         },
         "label": "structure",
         "outputs": {
          "channels": {
           "structure": {
            "connected": false,
            "connections": [],
            "label": "structure",
            "ready": false,
            "type_hint": "None",
            "value": "NOT_DATA"
           }
          },
          "connected": false,
          "fully_connected": false,
          "label": "OutputsWithInjection",
          "ready": false
         },
         "ready": false,
         "signals": {
          "input": {
           "channels": {
            "accumulate_and_run": {
             "callback": "run",
             "connected": true,
             "connections": [
              "cell.ran"
             ],
             "label": "accumulate_and_run"
            },
            "run": {
             "callback": "run",
             "connected": false,
             "connections": [],
             "label": "run"
            }
           },
           "connected": true,
           "fully_connected": false,
           "label": "InputSignals"
          },
          "output": {
           "channels": {
            "ran": {
             "connected": false,
             "connections": [],
             "label": "ran"
            }
           },
           "connected": false,
           "fully_connected": false,
           "label": "OutputSignals"
          }
         }
        }
       }
      },
      "text/plain": [
       "<node_library.atomistic.structure.build.macro_node_factory.cubic_bulk_cell at 0x169567f20>"
      ]
     },
     "execution_count": 82,
     "metadata": {},
     "output_type": "execute_result"
    }
   ],
   "source": [
    "from dataclasses import dataclass\n",
    "\n",
    "@dataclass()\n",
    "class NodeAsInput:\n",
    "    lib_path: str = ''\n",
    "    input_dict = {}\n",
    "\n",
    "def node_to_dataclass(node):\n",
    "    data = NodeAsInput()\n",
    "    lib_path = '.'.join(node.package_identifier.split('.')[1:])\n",
    "    data.lib_path = '.'.join([lib_path, node.label])\n",
    "    \n",
    "    for k, v in node.inputs.to_dict()['channels'].items():\n",
    "        data.input_dict[k] = node.inputs[k].value\n",
    "    return data\n",
    "\n",
    "def dataclass_to_node(data):\n",
    "    new_node = hs.create_node(data.lib_path)\n",
    "    for k, v in inp_node.inputs.to_dict()['channels'].items():\n",
    "        # print (k, v)\n",
    "        new_node.inputs[k] = data.input_dict[k]\n",
    "    return new_node    \n",
    "    \n",
    "\n",
    "inp_node = hs.get_all_connected_input_nodes(elastic_constants)['structure']\n",
    "data = node_to_dataclass(inp_node)\n",
    "\n",
    "dataclass_to_node(data)"
   ]
  },
  {
   "cell_type": "code",
   "execution_count": 60,
   "id": "8a9d79d4-d8f2-4212-95b6-adaaf345d859",
   "metadata": {},
   "outputs": [
    {
     "data": {
      "text/plain": [
       "{'calculator': <matgl.ext.ase.M3GNetCalculator at 0x1698ab9b0>,\n",
       " 'engine_id': None,\n",
       " 'parameters': None,\n",
       " '_do_not_serialize': True}"
      ]
     },
     "execution_count": 60,
     "metadata": {},
     "output_type": "execute_result"
    }
   ],
   "source": [
    "elastic_constants.inputs.engine.value.__getstate__()"
   ]
  },
  {
   "cell_type": "code",
   "execution_count": 58,
   "id": "11112947-9c3e-4cdc-a74b-c31a9edab8c4",
   "metadata": {},
   "outputs": [
    {
     "data": {
      "text/plain": [
       "NOT_DATA"
      ]
     },
     "execution_count": 58,
     "metadata": {},
     "output_type": "execute_result"
    }
   ],
   "source": [
    "inp_node = hs.get_all_connected_input_nodes(elastic_constants)['engine']\n",
    "hs.clone_node_with_inputs(inp_node).outputs.engine.value"
   ]
  },
  {
   "cell_type": "code",
   "execution_count": null,
   "id": "092babea-3e9f-48a5-9ec4-fe7fee2746eb",
   "metadata": {},
   "outputs": [],
   "source": [
    "inp_node = hs.get_all_connected_input_nodes(elastic_constants)['structure'] # ['engine']\n",
    "# inp_node.outputs.engine.value = None\n",
    "inp_node.inputs.to_dict()\n",
    "\n",
    "lib_path = '.'.join(inp_node.package_identifier.split('.')[1:])\n",
    "node_lib_path = '.'.join([lib_path, inp_node.label]) \n",
    "new_node = hs.create_node(node_lib_path)\n",
    "for k, v in inp_node.inputs.to_dict()['channels'].items():\n",
    "    print (k, node_lib_path)\n",
    "    new_node.inputs[k] = inp_node.inputs[k].value\n",
    "\n",
    "\n",
    "new_node\n",
    "# pickle.dumps(new_node)\n",
    "# elastic_constants.inputs.engine.value # ['calculator']"
   ]
  },
  {
   "cell_type": "code",
   "execution_count": null,
   "id": "bd87cdbf-7686-4aac-b25d-0e5cb423fa5f",
   "metadata": {},
   "outputs": [],
   "source": []
  },
  {
   "cell_type": "code",
   "execution_count": null,
   "id": "03daaf0a-ea4c-4d0f-b375-b9c96b613b80",
   "metadata": {},
   "outputs": [],
   "source": [
    "new_node."
   ]
  },
  {
   "cell_type": "code",
   "execution_count": null,
   "id": "f6b7a79f-3af1-4f06-aad7-ff2d5af68bd4",
   "metadata": {},
   "outputs": [],
   "source": [
    "import pickle\n",
    "pic = pickle.dumps(elastic_constants.inputs.engine)"
   ]
  },
  {
   "cell_type": "code",
   "execution_count": null,
   "id": "f373e778-e18f-4e2e-ba8c-0d2cfc8b1757",
   "metadata": {},
   "outputs": [],
   "source": []
  },
  {
   "cell_type": "code",
   "execution_count": null,
   "id": "efdf2e63-ae40-4f72-9e5d-49e14f06f036",
   "metadata": {},
   "outputs": [],
   "source": []
  },
  {
   "cell_type": "code",
   "execution_count": null,
   "id": "bbde412a-c68c-4b72-976f-9cce1a726d57",
   "metadata": {},
   "outputs": [],
   "source": [
    "# does not work (inputs.structure as well as outpus.structure have no data)\n",
    "\n",
    "import pickle\n",
    "\n",
    "node_pic = pickle.dumps(elastic_node)\n",
    "new_node = pickle.loads(node_pic)\n",
    "new_node"
   ]
  },
  {
   "cell_type": "code",
   "execution_count": null,
   "id": "b89fff14-1308-46c7-956a-ad1f430dd3c3",
   "metadata": {},
   "outputs": [],
   "source": [
    "# out = hs.run_node(elastic_node, db)"
   ]
  },
  {
   "cell_type": "code",
   "execution_count": null,
   "id": "7fd463cb-9170-472a-ac29-c65ded764069",
   "metadata": {},
   "outputs": [],
   "source": [
    "# gs.save()"
   ]
  },
  {
   "cell_type": "markdown",
   "id": "225a0d5f-9399-4e2f-a80e-4faa48c3813d",
   "metadata": {},
   "source": [
    "#### Convert input/output dataclasses into nested dict (temporary solution)"
   ]
  },
  {
   "cell_type": "code",
   "execution_count": null,
   "id": "980cee6b-b055-4aa0-ad17-7f979cd99801",
   "metadata": {},
   "outputs": [],
   "source": [
    "obj = elastic.outputs['elastic'].value['C_eigval']\n",
    "out_str = hs.extract_node_output(elastic, as_string=True)['elastic']"
   ]
  },
  {
   "cell_type": "code",
   "execution_count": null,
   "id": "f2e3eaf4-8945-4734-b93d-266b94d85a19",
   "metadata": {},
   "outputs": [],
   "source": [
    "import json\n",
    "json.dumps(out_str, sort_keys=True)"
   ]
  },
  {
   "cell_type": "code",
   "execution_count": null,
   "id": "f3ea1e96-b990-49c8-b3b6-09bfe492d5ec",
   "metadata": {},
   "outputs": [],
   "source": [
    "# does not work (RecursionError: maximum recursion depth exceeded while calling a Python object)\n",
    "# need alternative for serialization\n",
    "# -> json (need to remove all (unknown) classes, e.g. DataClasses but also numpy arrays etc.)\n",
    "# pragmatic (intermediate) solution: hs.str_to_dict to convert such datastructures into nested dictionaries\n",
    "# advantage: can be stored as json in db and can be easily converted into active python datastructure!\n",
    "\n",
    "# elastic.save()"
   ]
  },
  {
   "cell_type": "code",
   "execution_count": null,
   "id": "92e90891-90e0-4c13-97f4-d2c5d356f4fd",
   "metadata": {},
   "outputs": [],
   "source": [
    "from pyiron_workflow import Workflow, dataclass_node\n",
    "from node_library.atomistic.calculator.data import InputCalcMD \n",
    "InputCalcMD()"
   ]
  },
  {
   "cell_type": "code",
   "execution_count": null,
   "id": "3050fc66-228d-4e7b-8b12-c68270d75c0b",
   "metadata": {},
   "outputs": [],
   "source": [
    "Workflow.wrap.as_dataclass_node?"
   ]
  },
  {
   "cell_type": "code",
   "execution_count": null,
   "id": "b13daa97-4f7f-4299-848e-2ba3884cbcd9",
   "metadata": {},
   "outputs": [],
   "source": [
    "Workflow.wrap.as_function_node?"
   ]
  },
  {
   "cell_type": "code",
   "execution_count": null,
   "id": "867861d5-29bb-44c3-92bd-24c0344a93db",
   "metadata": {},
   "outputs": [],
   "source": [
    "dataclass_node?"
   ]
  },
  {
   "cell_type": "code",
   "execution_count": null,
   "id": "8146d0cb-1b34-4c84-bea9-f16ba8c772d1",
   "metadata": {},
   "outputs": [],
   "source": [
    "ICMD = Workflow.wrap.as_dataclass_node(InputCalcMD)\n",
    "# ICMD = dataclass_node(InputCalcMD) # does not work -> why not equivalent to code line above???\n",
    "\n",
    "icmd = ICMD()\n",
    "icmd.inputs.temperature = 400\n",
    "icmd.inputs.temperature.value"
   ]
  },
  {
   "cell_type": "code",
   "execution_count": null,
   "id": "f874cf9f-e65e-417d-b336-ab37d81d9186",
   "metadata": {},
   "outputs": [],
   "source": [
    "# doc string gets lost in as_dataclass_node wrapper (works now)\n",
    "InputCalcMD().__doc__[0] , icmd.outputs.dataclass.value.__doc__[0]"
   ]
  },
  {
   "cell_type": "code",
   "execution_count": null,
   "id": "5aec0bb3-ad46-4d05-a20c-4b1cb701f69a",
   "metadata": {},
   "outputs": [],
   "source": [
    "icmd.pull()"
   ]
  },
  {
   "cell_type": "code",
   "execution_count": null,
   "id": "e29f4a5a-639f-4d2c-8f4c-7551c576f462",
   "metadata": {},
   "outputs": [],
   "source": [
    "icmd.outputs.dataclass.value"
   ]
  },
  {
   "cell_type": "code",
   "execution_count": null,
   "id": "d969ff68-6020-4d92-80cf-7f677b448e45",
   "metadata": {},
   "outputs": [],
   "source": [
    "hs.extract_node_output(elastic, as_string=True)"
   ]
  },
  {
   "cell_type": "code",
   "execution_count": null,
   "id": "ece2a2b6-1fb6-4750-ba2b-8a5892293b79",
   "metadata": {},
   "outputs": [],
   "source": [
    "import numpy as np\n",
    "np.array(eval(out_dict['strain_energy']))"
   ]
  },
  {
   "cell_type": "code",
   "execution_count": null,
   "id": "2e0c87b7-98c6-4041-ac3a-4cfca733b507",
   "metadata": {},
   "outputs": [],
   "source": [
    "import json\n",
    "json.dumps(out_dict, sort_keys=True)\n"
   ]
  },
  {
   "cell_type": "code",
   "execution_count": null,
   "id": "ca65a174-02a6-4051-8c05-41c3181c7521",
   "metadata": {},
   "outputs": [],
   "source": [
    "xx"
   ]
  },
  {
   "cell_type": "code",
   "execution_count": null,
   "id": "378a29db-6f57-43d7-af42-e06f146c9a5e",
   "metadata": {},
   "outputs": [],
   "source": [
    "hs.get_node_from_db_id(27, db, data_only=True)"
   ]
  },
  {
   "cell_type": "code",
   "execution_count": null,
   "id": "de547081-a636-498e-80d7-c6986a221074",
   "metadata": {},
   "outputs": [],
   "source": [
    "hs.run_node(elastic_node, db)"
   ]
  },
  {
   "cell_type": "markdown",
   "id": "baa6db03-7ad4-422e-b0cd-bcd1c4fde383",
   "metadata": {},
   "source": [
    "### TODO"
   ]
  },
  {
   "cell_type": "markdown",
   "id": "f70443cc-b617-45e5-97ea-5ed7980187e1",
   "metadata": {},
   "source": [
    "Note: The following save command fails (problem in pyiron_workflow!)"
   ]
  },
  {
   "cell_type": "code",
   "execution_count": null,
   "id": "8074cea4-2b41-40a8-aa2e-f9cc16b20d80",
   "metadata": {},
   "outputs": [],
   "source": [
    "# get_pot.save()"
   ]
  },
  {
   "cell_type": "markdown",
   "id": "2770ba6d-827b-4dad-929b-21ab6cfb9215",
   "metadata": {},
   "source": [
    "What is the origin of array, which requires to convert array -> np.array in load_node_from_json?"
   ]
  },
  {
   "cell_type": "code",
   "execution_count": null,
   "id": "16248568-c3ed-4d5f-a906-30f7b7265eb0",
   "metadata": {},
   "outputs": [],
   "source": [
    "sin2.outputs.sin"
   ]
  },
  {
   "cell_type": "markdown",
   "id": "2b38e3f2-91b0-457d-8f13-4a361646992b",
   "metadata": {},
   "source": [
    "**TODO:** \n",
    "- For small output use db entry rather than writing file\n",
    "- What is the origin of array, which requires to convert array -> np.array in load_node_from_json?\n",
    "- Replace output of node by node hash for input into next node\n",
    "- add runtime to db\n",
    "- write output_dic to db rather than to file (if small) "
   ]
  },
  {
   "cell_type": "code",
   "execution_count": null,
   "id": "1c25992d-3a68-4ed0-87ef-6f5d49a664a3",
   "metadata": {},
   "outputs": [],
   "source": [
    "xx"
   ]
  },
  {
   "cell_type": "code",
   "execution_count": null,
   "id": "880d2466-ecc9-4eaa-8e76-b29cc4763e6c",
   "metadata": {},
   "outputs": [],
   "source": [
    "# hs.save_node(get_pot, db)"
   ]
  },
  {
   "cell_type": "markdown",
   "id": "3ab056df-529b-4d1e-9be5-d16a13ae83c7",
   "metadata": {},
   "source": [
    "#### Node not registered (not working - save fails)"
   ]
  },
  {
   "cell_type": "code",
   "execution_count": null,
   "id": "78395208-3bbb-4abe-9813-c075877dc7d0",
   "metadata": {},
   "outputs": [],
   "source": [
    "from pyiron_workflow import Workflow                                                                        \n",
    "                                                                                                         \n",
    "# Register the necessary node packages                                                                      \n",
    "Workflow.register(\"node_library.atomistic\", \"atomistic\")             "
   ]
  },
  {
   "cell_type": "code",
   "execution_count": null,
   "id": "4c36428a-58ad-44a7-ac1f-37b9e441fcb2",
   "metadata": {},
   "outputs": [],
   "source": [
    "atomistic = Workflow.create.atomistic\n",
    "from node_library.atomistic.property.elastic import InputElasticTensor\n",
    "\n",
    "@Workflow.wrap.as_macro_node('BV')\n",
    "def compute_elastic_constants(wf, element='Fe', parameters=InputElasticTensor(eps_range=0.02)): # eps_range=0.01):\n",
    "    \n",
    "    wf.engine = atomistic.engine.ase.M3GNet() #.run()\n",
    "    wf.supercell = atomistic.structure.build.cubic_bulk_cell(element=element, cell_size=3, vacancy_index=0)\n",
    "    wf.calc = atomistic.calculator.ase.static(structure=wf.supercell, engine=wf.engine)\n",
    "    wf.elastic = atomistic.property.elastic.elastic_constants(structure=wf.supercell, engine=wf.engine, parameters=parameters)\n",
    "    return wf.elastic.outputs.elastic.BV\n",
    "    \n",
    "out = compute_elastic_constants(element='Ni').run() #iter(eps_range=np.linspace(1e-4, 1, 11))\n",
    "out"
   ]
  },
  {
   "cell_type": "code",
   "execution_count": null,
   "id": "3a4dd3d8-105b-48c1-889b-f4b5ecec0cca",
   "metadata": {},
   "outputs": [],
   "source": [
    "node1 = compute_elastic_constants(element='Pt')\n",
    "node1.run()"
   ]
  },
  {
   "cell_type": "code",
   "execution_count": null,
   "id": "d6c9c80b-819d-43b8-b293-c29af32195f3",
   "metadata": {},
   "outputs": [],
   "source": [
    "di = [(label, channel) for label, channel in node.outputs.items()]\n",
    "di[0][1].value"
   ]
  },
  {
   "cell_type": "code",
   "execution_count": null,
   "id": "7a51cdc6-4d6d-4090-8121-64fbf42ef823",
   "metadata": {},
   "outputs": [],
   "source": [
    "node.storage_directory"
   ]
  },
  {
   "cell_type": "code",
   "execution_count": null,
   "id": "db41e1b3-07d2-4d5e-bb07-222084050637",
   "metadata": {},
   "outputs": [],
   "source": [
    "node.inputs.to_dict()['channels']"
   ]
  },
  {
   "cell_type": "code",
   "execution_count": null,
   "id": "fe751da3-e9dc-4694-885a-99a2828b0783",
   "metadata": {},
   "outputs": [],
   "source": [
    "hs.save_node(node, db)"
   ]
  },
  {
   "cell_type": "markdown",
   "id": "73af83e9-0d7d-4c45-ae6b-c4bf79918a9c",
   "metadata": {},
   "source": [
    "#### Q: What is a good approach to store and load a python dataclass instance. When loading, the required dataclass should be imported. Extend the code to a nested dataclass"
   ]
  },
  {
   "cell_type": "code",
   "execution_count": null,
   "id": "16a34d14-f95b-4b82-b358-e2bea20904d5",
   "metadata": {},
   "outputs": [],
   "source": [
    "from dataclasses import dataclass, asdict, fields\n",
    "import json\n",
    "import importlib\n",
    "from typing import Optional, Union\n",
    "\n",
    "@dataclass\n",
    "class Person:\n",
    "    name: str\n",
    "    age: int\n",
    "    neighbor: Optional['Person'] = None"
   ]
  },
  {
   "cell_type": "code",
   "execution_count": null,
   "id": "f3c4381b-5bb3-4998-8ec2-70a9cb7909db",
   "metadata": {},
   "outputs": [],
   "source": [
    "def serialize_dataclass(instance):\n",
    "    def serialize_instance(instance):\n",
    "        data = {\n",
    "            'class_name': instance.__class__.__name__,\n",
    "            'data': {}\n",
    "        }\n",
    "        for field in fields(instance):\n",
    "            value = getattr(instance, field.name)\n",
    "            if is_dataclass_instance(value):\n",
    "                data['data'][field.name] = serialize_instance(value)\n",
    "            else:\n",
    "                data['data'][field.name] = value\n",
    "        return data\n",
    "\n",
    "    def is_dataclass_instance(obj):\n",
    "        return hasattr(obj, '__dataclass_fields__')\n",
    "\n",
    "    return json.dumps(serialize_instance(instance))\n",
    "\n",
    "def save_to_file(instance, filename):\n",
    "    with open(filename, 'w') as f:\n",
    "        json_str = serialize_dataclass(instance)\n",
    "        f.write(json_str)\n",
    "\n",
    "# Example usage\n",
    "person = Person(name='John Doe', age=30, neighbor=Person(name='Jane Doe', age=25))\n",
    "save_to_file(person, 'person.json')"
   ]
  },
  {
   "cell_type": "code",
   "execution_count": null,
   "id": "125f980c-7092-4241-98f1-6ca6880b5826",
   "metadata": {},
   "outputs": [],
   "source": [
    "def deserialize_dataclass(data):\n",
    "    def deserialize_instance(data):\n",
    "        class_name = data['class_name']\n",
    "        class_module = globals()[class_name].__module__\n",
    "        dataclass_type = getattr(importlib.import_module(class_module), class_name)\n",
    "        kwargs = {}\n",
    "        for key, value in data['data'].items():\n",
    "            if isinstance(value, dict) and 'class_name' in value:\n",
    "                kwargs[key] = deserialize_instance(value)\n",
    "            else:\n",
    "                kwargs[key] = value\n",
    "        return dataclass_type(**kwargs)\n",
    "\n",
    "    return deserialize_instance(data)\n",
    "\n",
    "def load_from_file(filename):\n",
    "    with open(filename, 'r') as f:\n",
    "        json_str = f.read()\n",
    "        data = json.loads(json_str)\n",
    "        return deserialize_dataclass(data)\n",
    "\n",
    "# Example usage\n",
    "loaded_person = load_from_file('person.json')\n",
    "print(loaded_person)  # Output: Person(name='John Doe', age=30, neighbor=Person(name='Jane Doe', age=25))"
   ]
  },
  {
   "cell_type": "code",
   "execution_count": null,
   "id": "d0f4e14c-8837-47c0-a270-174c3c7a7915",
   "metadata": {},
   "outputs": [],
   "source": [
    "elastic_node.pull()\n",
    "save_to_file(elastic_node.outputs.structures.value, 'person.json')"
   ]
  },
  {
   "cell_type": "code",
   "execution_count": null,
   "id": "58273d72-0019-41d7-b6ef-ff9033cb4f56",
   "metadata": {},
   "outputs": [],
   "source": []
  },
  {
   "cell_type": "code",
   "execution_count": null,
   "id": "d23f98d1-f730-45d7-9eaa-d9a9d923d1d5",
   "metadata": {},
   "outputs": [],
   "source": []
  },
  {
   "cell_type": "code",
   "execution_count": null,
   "id": "b3e756ff-ff04-4678-9dd4-b672bfdb00d5",
   "metadata": {},
   "outputs": [],
   "source": []
  }
 ],
 "metadata": {
  "kernelspec": {
   "display_name": "Python 3 (ipykernel)",
   "language": "python",
   "name": "python3"
  },
  "language_info": {
   "codemirror_mode": {
    "name": "ipython",
    "version": 3
   },
   "file_extension": ".py",
   "mimetype": "text/x-python",
   "name": "python",
   "nbconvert_exporter": "python",
   "pygments_lexer": "ipython3",
   "version": "3.12.4"
  }
 },
 "nbformat": 4,
 "nbformat_minor": 5
}
