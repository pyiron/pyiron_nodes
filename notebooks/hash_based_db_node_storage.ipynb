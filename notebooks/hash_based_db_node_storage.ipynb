{
 "cells": [
  {
   "cell_type": "markdown",
   "id": "1556a45d-18a5-41ba-b868-7a86c32feab7",
   "metadata": {},
   "source": [
    "# Develop and test hash based node storage"
   ]
  },
  {
   "cell_type": "code",
   "execution_count": 1,
   "id": "032b844f-e91c-49c2-b90f-88a0beb2a06b",
   "metadata": {},
   "outputs": [],
   "source": [
    "import sys\n",
    "from pathlib import Path\n",
    "sys.path.insert(0, str(Path(Path.cwd()).parent))"
   ]
  },
  {
   "cell_type": "code",
   "execution_count": 2,
   "id": "69ea92b2-b2e6-4cb8-b193-ddc443db6b18",
   "metadata": {},
   "outputs": [],
   "source": [
    "import warnings\n",
    "warnings.filterwarnings(\"ignore\")\n",
    "\n",
    "%config IPCompleter.evaluation='unsafe'"
   ]
  },
  {
   "cell_type": "code",
   "execution_count": 3,
   "id": "69f6418c-d5e8-4e8c-b0c7-0d5150bf34f7",
   "metadata": {},
   "outputs": [],
   "source": [
    "from node_library.development import hash_based_storage as hs"
   ]
  },
  {
   "cell_type": "markdown",
   "id": "e5bd2b13-70f7-4498-9600-238b12a6c1bf",
   "metadata": {},
   "source": [
    "### Perform a few tests for the hash_based_storage module"
   ]
  },
  {
   "cell_type": "code",
   "execution_count": 4,
   "id": "64b4d5be-ce75-4977-a563-b02c6b1b2d26",
   "metadata": {},
   "outputs": [],
   "source": [
    "db = hs.create_nodes_table(echo=False)"
   ]
  },
  {
   "cell_type": "code",
   "execution_count": 5,
   "id": "6ba106e0-bb21-417f-8c6c-5686ccbc1e44",
   "metadata": {},
   "outputs": [
    {
     "data": {
      "text/plain": [
       "['node_id',\n",
       " 'name',\n",
       " 'hash_value',\n",
       " 'lib_path',\n",
       " 'creation_date',\n",
       " 'inputs',\n",
       " 'outputs',\n",
       " 'output_ready',\n",
       " 'file_path']"
      ]
     },
     "execution_count": 5,
     "metadata": {},
     "output_type": "execute_result"
    }
   ],
   "source": [
    "hs.list_column_names(db, 'node')"
   ]
  },
  {
   "cell_type": "markdown",
   "id": "1af4e2d5-a2bb-4a68-b5f6-c3b0827a96a1",
   "metadata": {},
   "source": [
    "**Note:** Uncomment the following line if you have modified the table structure. After deleting the table comment this block and rerun the notebook (to run create_nodes_table)"
   ]
  },
  {
   "cell_type": "code",
   "execution_count": 6,
   "id": "c1a2619d-0d3c-4343-bc0a-fcebcba36cbb",
   "metadata": {},
   "outputs": [],
   "source": [
    "# hs.drop_table(db, 'node')\n",
    "# hs.list_column_names(db, 'node')"
   ]
  },
  {
   "cell_type": "code",
   "execution_count": 7,
   "id": "e689dd0b-f953-4789-b447-629782fa6580",
   "metadata": {},
   "outputs": [
    {
     "data": {
      "text/html": [
       "<div>\n",
       "<style scoped>\n",
       "    .dataframe tbody tr th:only-of-type {\n",
       "        vertical-align: middle;\n",
       "    }\n",
       "\n",
       "    .dataframe tbody tr th {\n",
       "        vertical-align: top;\n",
       "    }\n",
       "\n",
       "    .dataframe thead th {\n",
       "        text-align: right;\n",
       "    }\n",
       "</style>\n",
       "<table border=\"1\" class=\"dataframe\">\n",
       "  <thead>\n",
       "    <tr style=\"text-align: right;\">\n",
       "      <th></th>\n",
       "      <th>node_id</th>\n",
       "      <th>name</th>\n",
       "      <th>hash_value</th>\n",
       "      <th>lib_path</th>\n",
       "      <th>creation_date</th>\n",
       "      <th>inputs</th>\n",
       "      <th>outputs</th>\n",
       "      <th>output_ready</th>\n",
       "      <th>file_path</th>\n",
       "    </tr>\n",
       "  </thead>\n",
       "  <tbody>\n",
       "    <tr>\n",
       "      <th>0</th>\n",
       "      <td>2</td>\n",
       "      <td></td>\n",
       "      <td>3d4f127b05459a1d1dda98bc3e6f10176e09f27f3ab9b1...</td>\n",
       "      <td>node_library/math/Sin</td>\n",
       "      <td>2024-06-16 12:29:01.678058</td>\n",
       "      <td>{'x': '[12]'}</td>\n",
       "      <td>{'sin': 'array([-0.53657292])'}</td>\n",
       "      <td>True</td>\n",
       "      <td></td>\n",
       "    </tr>\n",
       "    <tr>\n",
       "      <th>1</th>\n",
       "      <td>3</td>\n",
       "      <td></td>\n",
       "      <td>12201da17c241990e5b7725a62de4189bea0cf57ad462c...</td>\n",
       "      <td>node_library/atomistic/property/thermodynamics...</td>\n",
       "      <td>2024-06-16 12:29:03.873881</td>\n",
       "      <td>{'element': ''Pt'', 'engine': 'None'}</td>\n",
       "      <td>{'chemical_potential': '-0.00012460841212913465'}</td>\n",
       "      <td>True</td>\n",
       "      <td></td>\n",
       "    </tr>\n",
       "    <tr>\n",
       "      <th>2</th>\n",
       "      <td>4</td>\n",
       "      <td></td>\n",
       "      <td>0b26dce95241b25be07d968f3a10863d08d1edace00830...</td>\n",
       "      <td>node_library/atomistic/property/thermodynamics...</td>\n",
       "      <td>2024-06-16 12:29:04.091826</td>\n",
       "      <td>{'element': ''Pd'', 'engine': 'None'}</td>\n",
       "      <td>{'chemical_potential': '0.0003422625372841992'}</td>\n",
       "      <td>True</td>\n",
       "      <td></td>\n",
       "    </tr>\n",
       "    <tr>\n",
       "      <th>3</th>\n",
       "      <td>5</td>\n",
       "      <td></td>\n",
       "      <td>d87d4a45cd97ce5e8787c85826781fbc3adf72afc7cef3...</td>\n",
       "      <td>node_library/atomistic/engine/ase/M3GNet</td>\n",
       "      <td>2024-06-16 12:29:04.265562</td>\n",
       "      <td>{}</td>\n",
       "      <td>None</td>\n",
       "      <td>False</td>\n",
       "      <td></td>\n",
       "    </tr>\n",
       "    <tr>\n",
       "      <th>4</th>\n",
       "      <td>6</td>\n",
       "      <td></td>\n",
       "      <td>b7758afe33a8f95d60c18444dee227925a7112a131642a...</td>\n",
       "      <td>node_library/atomistic/property/thermodynamics...</td>\n",
       "      <td>2024-06-16 12:29:04.268949</td>\n",
       "      <td>{'element': ''Si'', 'engine': 'hash_d87d4a45cd...</td>\n",
       "      <td>{'chemical_potential': '-5.417845726013184'}</td>\n",
       "      <td>True</td>\n",
       "      <td></td>\n",
       "    </tr>\n",
       "    <tr>\n",
       "      <th>5</th>\n",
       "      <td>7</td>\n",
       "      <td></td>\n",
       "      <td>4aa32e7e995920ffee1b936fdc0b3e570ffa586fc14080...</td>\n",
       "      <td>node_library/atomistic/property/thermodynamics...</td>\n",
       "      <td>2024-06-16 12:30:17.734841</td>\n",
       "      <td>{'element': ''Pt'', 'engine': 'hash_d87d4a45cd...</td>\n",
       "      <td>{'chemical_potential': '-6.065089225769043'}</td>\n",
       "      <td>True</td>\n",
       "      <td></td>\n",
       "    </tr>\n",
       "    <tr>\n",
       "      <th>6</th>\n",
       "      <td>8</td>\n",
       "      <td></td>\n",
       "      <td>7448b4db2e39e5e2946cd2c9072abbe4d83b003a0f6257...</td>\n",
       "      <td>None/compute_elastic_constants</td>\n",
       "      <td>2024-06-16 14:02:36.974349</td>\n",
       "      <td>{'element': ''Ni'', 'parameters': 'InputElasti...</td>\n",
       "      <td>{'BV': '207.85455655695247'}</td>\n",
       "      <td>True</td>\n",
       "      <td></td>\n",
       "    </tr>\n",
       "    <tr>\n",
       "      <th>7</th>\n",
       "      <td>10</td>\n",
       "      <td></td>\n",
       "      <td>f91ec68151c269c8218b56bb59ff9f17a37468e66cb1f0...</td>\n",
       "      <td>None/compute_elastic_constants</td>\n",
       "      <td>2024-06-16 14:34:35.371983</td>\n",
       "      <td>{'element': ''Al'', 'parameters': 'InputElasti...</td>\n",
       "      <td>{'BV': '52.969913065609525'}</td>\n",
       "      <td>True</td>\n",
       "      <td></td>\n",
       "    </tr>\n",
       "    <tr>\n",
       "      <th>8</th>\n",
       "      <td>11</td>\n",
       "      <td></td>\n",
       "      <td>7244741b1037ccd54a8efc88a28544191fac0e7aa3634a...</td>\n",
       "      <td>None/compute_elastic_constants</td>\n",
       "      <td>2024-06-16 14:34:41.006448</td>\n",
       "      <td>{'element': ''Fe'', 'parameters': 'InputElasti...</td>\n",
       "      <td>{'BV': '94.53896702381144'}</td>\n",
       "      <td>True</td>\n",
       "      <td></td>\n",
       "    </tr>\n",
       "    <tr>\n",
       "      <th>9</th>\n",
       "      <td>16</td>\n",
       "      <td></td>\n",
       "      <td>09d5b6e123656924f229544e30232a4b7901135de7f6ba...</td>\n",
       "      <td>None/compute_elastic_constants</td>\n",
       "      <td>2024-06-16 15:02:39.167414</td>\n",
       "      <td>{'element': ''Al'', 'parameters': 'InputElasti...</td>\n",
       "      <td>{'BV': '53.492619696930966'}</td>\n",
       "      <td>True</td>\n",
       "      <td></td>\n",
       "    </tr>\n",
       "    <tr>\n",
       "      <th>10</th>\n",
       "      <td>1</td>\n",
       "      <td></td>\n",
       "      <td>c16d79b83fad085c61d52223687f65ac5f258005921c83...</td>\n",
       "      <td>node_library/math/Sin</td>\n",
       "      <td>2024-06-16 12:28:27.914697</td>\n",
       "      <td>{'x': '[17]'}</td>\n",
       "      <td>{'sin': '[-0.96139749]'}</td>\n",
       "      <td>True</td>\n",
       "      <td></td>\n",
       "    </tr>\n",
       "    <tr>\n",
       "      <th>11</th>\n",
       "      <td>14</td>\n",
       "      <td></td>\n",
       "      <td>8c37539d8bf97af7109a41494c38be855d28aa30d178b6...</td>\n",
       "      <td>None/compute_elastic_constants</td>\n",
       "      <td>2024-06-16 14:41:23.768186</td>\n",
       "      <td>{'element': ''Fe'', 'parameters': 'InputElasti...</td>\n",
       "      <td>{'BV': '95.77678912577906'}</td>\n",
       "      <td>True</td>\n",
       "      <td></td>\n",
       "    </tr>\n",
       "    <tr>\n",
       "      <th>12</th>\n",
       "      <td>15</td>\n",
       "      <td></td>\n",
       "      <td>00352e9b8827d9f8760bb8d7d7b538ea569712a19a6c54...</td>\n",
       "      <td>None/compute_elastic_constants</td>\n",
       "      <td>2024-06-16 15:02:32.927979</td>\n",
       "      <td>{'element': ''Ni'', 'parameters': 'InputElasti...</td>\n",
       "      <td>{'BV': '199.12194719810964'}</td>\n",
       "      <td>True</td>\n",
       "      <td></td>\n",
       "    </tr>\n",
       "    <tr>\n",
       "      <th>13</th>\n",
       "      <td>17</td>\n",
       "      <td></td>\n",
       "      <td>7efde22c8ae69d7da09b577b69ee74e0b74fe3f891cea9...</td>\n",
       "      <td>None/compute_elastic_constants</td>\n",
       "      <td>2024-06-16 15:52:31.094140</td>\n",
       "      <td>{'element': ''Ni'', 'parameters': 'InputElasti...</td>\n",
       "      <td>{'BV': '215.11876942472904'}</td>\n",
       "      <td>True</td>\n",
       "      <td></td>\n",
       "    </tr>\n",
       "    <tr>\n",
       "      <th>14</th>\n",
       "      <td>18</td>\n",
       "      <td></td>\n",
       "      <td>33682b8b2bd1d646f08081acca6ed97bca54d3ab8730a0...</td>\n",
       "      <td>None/compute_elastic_constants</td>\n",
       "      <td>2024-06-16 15:52:37.297863</td>\n",
       "      <td>{'element': ''Al'', 'parameters': 'InputElasti...</td>\n",
       "      <td>{'BV': '55.039969796271386'}</td>\n",
       "      <td>True</td>\n",
       "      <td></td>\n",
       "    </tr>\n",
       "    <tr>\n",
       "      <th>15</th>\n",
       "      <td>19</td>\n",
       "      <td></td>\n",
       "      <td>f0af82047d99aa91807ce7ab1b36a92d986a996793cef4...</td>\n",
       "      <td>None/compute_elastic_constants</td>\n",
       "      <td>2024-06-16 15:52:43.070088</td>\n",
       "      <td>{'element': ''Fe'', 'parameters': 'InputElasti...</td>\n",
       "      <td>{'BV': '94.35657675693606'}</td>\n",
       "      <td>True</td>\n",
       "      <td></td>\n",
       "    </tr>\n",
       "  </tbody>\n",
       "</table>\n",
       "</div>"
      ],
      "text/plain": [
       "    node_id name                                         hash_value  \\\n",
       "0         2       3d4f127b05459a1d1dda98bc3e6f10176e09f27f3ab9b1...   \n",
       "1         3       12201da17c241990e5b7725a62de4189bea0cf57ad462c...   \n",
       "2         4       0b26dce95241b25be07d968f3a10863d08d1edace00830...   \n",
       "3         5       d87d4a45cd97ce5e8787c85826781fbc3adf72afc7cef3...   \n",
       "4         6       b7758afe33a8f95d60c18444dee227925a7112a131642a...   \n",
       "5         7       4aa32e7e995920ffee1b936fdc0b3e570ffa586fc14080...   \n",
       "6         8       7448b4db2e39e5e2946cd2c9072abbe4d83b003a0f6257...   \n",
       "7        10       f91ec68151c269c8218b56bb59ff9f17a37468e66cb1f0...   \n",
       "8        11       7244741b1037ccd54a8efc88a28544191fac0e7aa3634a...   \n",
       "9        16       09d5b6e123656924f229544e30232a4b7901135de7f6ba...   \n",
       "10        1       c16d79b83fad085c61d52223687f65ac5f258005921c83...   \n",
       "11       14       8c37539d8bf97af7109a41494c38be855d28aa30d178b6...   \n",
       "12       15       00352e9b8827d9f8760bb8d7d7b538ea569712a19a6c54...   \n",
       "13       17       7efde22c8ae69d7da09b577b69ee74e0b74fe3f891cea9...   \n",
       "14       18       33682b8b2bd1d646f08081acca6ed97bca54d3ab8730a0...   \n",
       "15       19       f0af82047d99aa91807ce7ab1b36a92d986a996793cef4...   \n",
       "\n",
       "                                             lib_path  \\\n",
       "0                               node_library/math/Sin   \n",
       "1   node_library/atomistic/property/thermodynamics...   \n",
       "2   node_library/atomistic/property/thermodynamics...   \n",
       "3            node_library/atomistic/engine/ase/M3GNet   \n",
       "4   node_library/atomistic/property/thermodynamics...   \n",
       "5   node_library/atomistic/property/thermodynamics...   \n",
       "6                      None/compute_elastic_constants   \n",
       "7                      None/compute_elastic_constants   \n",
       "8                      None/compute_elastic_constants   \n",
       "9                      None/compute_elastic_constants   \n",
       "10                              node_library/math/Sin   \n",
       "11                     None/compute_elastic_constants   \n",
       "12                     None/compute_elastic_constants   \n",
       "13                     None/compute_elastic_constants   \n",
       "14                     None/compute_elastic_constants   \n",
       "15                     None/compute_elastic_constants   \n",
       "\n",
       "                creation_date  \\\n",
       "0  2024-06-16 12:29:01.678058   \n",
       "1  2024-06-16 12:29:03.873881   \n",
       "2  2024-06-16 12:29:04.091826   \n",
       "3  2024-06-16 12:29:04.265562   \n",
       "4  2024-06-16 12:29:04.268949   \n",
       "5  2024-06-16 12:30:17.734841   \n",
       "6  2024-06-16 14:02:36.974349   \n",
       "7  2024-06-16 14:34:35.371983   \n",
       "8  2024-06-16 14:34:41.006448   \n",
       "9  2024-06-16 15:02:39.167414   \n",
       "10 2024-06-16 12:28:27.914697   \n",
       "11 2024-06-16 14:41:23.768186   \n",
       "12 2024-06-16 15:02:32.927979   \n",
       "13 2024-06-16 15:52:31.094140   \n",
       "14 2024-06-16 15:52:37.297863   \n",
       "15 2024-06-16 15:52:43.070088   \n",
       "\n",
       "                                               inputs  \\\n",
       "0                                       {'x': '[12]'}   \n",
       "1               {'element': ''Pt'', 'engine': 'None'}   \n",
       "2               {'element': ''Pd'', 'engine': 'None'}   \n",
       "3                                                  {}   \n",
       "4   {'element': ''Si'', 'engine': 'hash_d87d4a45cd...   \n",
       "5   {'element': ''Pt'', 'engine': 'hash_d87d4a45cd...   \n",
       "6   {'element': ''Ni'', 'parameters': 'InputElasti...   \n",
       "7   {'element': ''Al'', 'parameters': 'InputElasti...   \n",
       "8   {'element': ''Fe'', 'parameters': 'InputElasti...   \n",
       "9   {'element': ''Al'', 'parameters': 'InputElasti...   \n",
       "10                                      {'x': '[17]'}   \n",
       "11  {'element': ''Fe'', 'parameters': 'InputElasti...   \n",
       "12  {'element': ''Ni'', 'parameters': 'InputElasti...   \n",
       "13  {'element': ''Ni'', 'parameters': 'InputElasti...   \n",
       "14  {'element': ''Al'', 'parameters': 'InputElasti...   \n",
       "15  {'element': ''Fe'', 'parameters': 'InputElasti...   \n",
       "\n",
       "                                              outputs  output_ready file_path  \n",
       "0                     {'sin': 'array([-0.53657292])'}          True            \n",
       "1   {'chemical_potential': '-0.00012460841212913465'}          True            \n",
       "2     {'chemical_potential': '0.0003422625372841992'}          True            \n",
       "3                                                None         False            \n",
       "4        {'chemical_potential': '-5.417845726013184'}          True            \n",
       "5        {'chemical_potential': '-6.065089225769043'}          True            \n",
       "6                        {'BV': '207.85455655695247'}          True            \n",
       "7                        {'BV': '52.969913065609525'}          True            \n",
       "8                         {'BV': '94.53896702381144'}          True            \n",
       "9                        {'BV': '53.492619696930966'}          True            \n",
       "10                           {'sin': '[-0.96139749]'}          True            \n",
       "11                        {'BV': '95.77678912577906'}          True            \n",
       "12                       {'BV': '199.12194719810964'}          True            \n",
       "13                       {'BV': '215.11876942472904'}          True            \n",
       "14                       {'BV': '55.039969796271386'}          True            \n",
       "15                        {'BV': '94.35657675693606'}          True            "
      ]
     },
     "execution_count": 7,
     "metadata": {},
     "output_type": "execute_result"
    }
   ],
   "source": [
    "hs.list_table(db)"
   ]
  },
  {
   "cell_type": "code",
   "execution_count": 8,
   "id": "a2be3618-5b58-4b00-a0a2-01abd0c82de9",
   "metadata": {},
   "outputs": [],
   "source": [
    "hs.remove_nodes_from_db(db, indices=[12, 13]);"
   ]
  },
  {
   "cell_type": "code",
   "execution_count": 9,
   "id": "4309219b-8ce1-4078-8823-460b07fc6851",
   "metadata": {},
   "outputs": [
    {
     "data": {
      "text/html": [
       "<div>\n",
       "<style scoped>\n",
       "    .dataframe tbody tr th:only-of-type {\n",
       "        vertical-align: middle;\n",
       "    }\n",
       "\n",
       "    .dataframe tbody tr th {\n",
       "        vertical-align: top;\n",
       "    }\n",
       "\n",
       "    .dataframe thead th {\n",
       "        text-align: right;\n",
       "    }\n",
       "</style>\n",
       "<table border=\"1\" class=\"dataframe\">\n",
       "  <thead>\n",
       "    <tr style=\"text-align: right;\">\n",
       "      <th></th>\n",
       "      <th>node_id</th>\n",
       "      <th>name</th>\n",
       "      <th>hash_value</th>\n",
       "      <th>lib_path</th>\n",
       "      <th>creation_date</th>\n",
       "      <th>inputs</th>\n",
       "      <th>outputs</th>\n",
       "      <th>output_ready</th>\n",
       "      <th>file_path</th>\n",
       "    </tr>\n",
       "  </thead>\n",
       "  <tbody>\n",
       "    <tr>\n",
       "      <th>0</th>\n",
       "      <td>2</td>\n",
       "      <td></td>\n",
       "      <td>3d4f127b05459a1d1dda98bc3e6f10176e09f27f3ab9b1...</td>\n",
       "      <td>node_library/math/Sin</td>\n",
       "      <td>2024-06-16 12:29:01.678058</td>\n",
       "      <td>{'x': '[12]'}</td>\n",
       "      <td>{'sin': 'array([-0.53657292])'}</td>\n",
       "      <td>True</td>\n",
       "      <td></td>\n",
       "    </tr>\n",
       "    <tr>\n",
       "      <th>1</th>\n",
       "      <td>3</td>\n",
       "      <td></td>\n",
       "      <td>12201da17c241990e5b7725a62de4189bea0cf57ad462c...</td>\n",
       "      <td>node_library/atomistic/property/thermodynamics...</td>\n",
       "      <td>2024-06-16 12:29:03.873881</td>\n",
       "      <td>{'element': ''Pt'', 'engine': 'None'}</td>\n",
       "      <td>{'chemical_potential': '-0.00012460841212913465'}</td>\n",
       "      <td>True</td>\n",
       "      <td></td>\n",
       "    </tr>\n",
       "    <tr>\n",
       "      <th>2</th>\n",
       "      <td>4</td>\n",
       "      <td></td>\n",
       "      <td>0b26dce95241b25be07d968f3a10863d08d1edace00830...</td>\n",
       "      <td>node_library/atomistic/property/thermodynamics...</td>\n",
       "      <td>2024-06-16 12:29:04.091826</td>\n",
       "      <td>{'element': ''Pd'', 'engine': 'None'}</td>\n",
       "      <td>{'chemical_potential': '0.0003422625372841992'}</td>\n",
       "      <td>True</td>\n",
       "      <td></td>\n",
       "    </tr>\n",
       "    <tr>\n",
       "      <th>3</th>\n",
       "      <td>5</td>\n",
       "      <td></td>\n",
       "      <td>d87d4a45cd97ce5e8787c85826781fbc3adf72afc7cef3...</td>\n",
       "      <td>node_library/atomistic/engine/ase/M3GNet</td>\n",
       "      <td>2024-06-16 12:29:04.265562</td>\n",
       "      <td>{}</td>\n",
       "      <td>None</td>\n",
       "      <td>False</td>\n",
       "      <td></td>\n",
       "    </tr>\n",
       "    <tr>\n",
       "      <th>4</th>\n",
       "      <td>6</td>\n",
       "      <td></td>\n",
       "      <td>b7758afe33a8f95d60c18444dee227925a7112a131642a...</td>\n",
       "      <td>node_library/atomistic/property/thermodynamics...</td>\n",
       "      <td>2024-06-16 12:29:04.268949</td>\n",
       "      <td>{'element': ''Si'', 'engine': 'hash_d87d4a45cd...</td>\n",
       "      <td>{'chemical_potential': '-5.417845726013184'}</td>\n",
       "      <td>True</td>\n",
       "      <td></td>\n",
       "    </tr>\n",
       "    <tr>\n",
       "      <th>5</th>\n",
       "      <td>7</td>\n",
       "      <td></td>\n",
       "      <td>4aa32e7e995920ffee1b936fdc0b3e570ffa586fc14080...</td>\n",
       "      <td>node_library/atomistic/property/thermodynamics...</td>\n",
       "      <td>2024-06-16 12:30:17.734841</td>\n",
       "      <td>{'element': ''Pt'', 'engine': 'hash_d87d4a45cd...</td>\n",
       "      <td>{'chemical_potential': '-6.065089225769043'}</td>\n",
       "      <td>True</td>\n",
       "      <td></td>\n",
       "    </tr>\n",
       "    <tr>\n",
       "      <th>6</th>\n",
       "      <td>8</td>\n",
       "      <td></td>\n",
       "      <td>7448b4db2e39e5e2946cd2c9072abbe4d83b003a0f6257...</td>\n",
       "      <td>None/compute_elastic_constants</td>\n",
       "      <td>2024-06-16 14:02:36.974349</td>\n",
       "      <td>{'element': ''Ni'', 'parameters': 'InputElasti...</td>\n",
       "      <td>{'BV': '207.85455655695247'}</td>\n",
       "      <td>True</td>\n",
       "      <td></td>\n",
       "    </tr>\n",
       "    <tr>\n",
       "      <th>7</th>\n",
       "      <td>10</td>\n",
       "      <td></td>\n",
       "      <td>f91ec68151c269c8218b56bb59ff9f17a37468e66cb1f0...</td>\n",
       "      <td>None/compute_elastic_constants</td>\n",
       "      <td>2024-06-16 14:34:35.371983</td>\n",
       "      <td>{'element': ''Al'', 'parameters': 'InputElasti...</td>\n",
       "      <td>{'BV': '52.969913065609525'}</td>\n",
       "      <td>True</td>\n",
       "      <td></td>\n",
       "    </tr>\n",
       "    <tr>\n",
       "      <th>8</th>\n",
       "      <td>11</td>\n",
       "      <td></td>\n",
       "      <td>7244741b1037ccd54a8efc88a28544191fac0e7aa3634a...</td>\n",
       "      <td>None/compute_elastic_constants</td>\n",
       "      <td>2024-06-16 14:34:41.006448</td>\n",
       "      <td>{'element': ''Fe'', 'parameters': 'InputElasti...</td>\n",
       "      <td>{'BV': '94.53896702381144'}</td>\n",
       "      <td>True</td>\n",
       "      <td></td>\n",
       "    </tr>\n",
       "    <tr>\n",
       "      <th>9</th>\n",
       "      <td>16</td>\n",
       "      <td></td>\n",
       "      <td>09d5b6e123656924f229544e30232a4b7901135de7f6ba...</td>\n",
       "      <td>None/compute_elastic_constants</td>\n",
       "      <td>2024-06-16 15:02:39.167414</td>\n",
       "      <td>{'element': ''Al'', 'parameters': 'InputElasti...</td>\n",
       "      <td>{'BV': '53.492619696930966'}</td>\n",
       "      <td>True</td>\n",
       "      <td></td>\n",
       "    </tr>\n",
       "    <tr>\n",
       "      <th>10</th>\n",
       "      <td>1</td>\n",
       "      <td></td>\n",
       "      <td>c16d79b83fad085c61d52223687f65ac5f258005921c83...</td>\n",
       "      <td>node_library/math/Sin</td>\n",
       "      <td>2024-06-16 12:28:27.914697</td>\n",
       "      <td>{'x': '[17]'}</td>\n",
       "      <td>{'sin': '[-0.96139749]'}</td>\n",
       "      <td>True</td>\n",
       "      <td></td>\n",
       "    </tr>\n",
       "    <tr>\n",
       "      <th>11</th>\n",
       "      <td>14</td>\n",
       "      <td></td>\n",
       "      <td>8c37539d8bf97af7109a41494c38be855d28aa30d178b6...</td>\n",
       "      <td>None/compute_elastic_constants</td>\n",
       "      <td>2024-06-16 14:41:23.768186</td>\n",
       "      <td>{'element': ''Fe'', 'parameters': 'InputElasti...</td>\n",
       "      <td>{'BV': '95.77678912577906'}</td>\n",
       "      <td>True</td>\n",
       "      <td></td>\n",
       "    </tr>\n",
       "    <tr>\n",
       "      <th>12</th>\n",
       "      <td>15</td>\n",
       "      <td></td>\n",
       "      <td>00352e9b8827d9f8760bb8d7d7b538ea569712a19a6c54...</td>\n",
       "      <td>None/compute_elastic_constants</td>\n",
       "      <td>2024-06-16 15:02:32.927979</td>\n",
       "      <td>{'element': ''Ni'', 'parameters': 'InputElasti...</td>\n",
       "      <td>{'BV': '199.12194719810964'}</td>\n",
       "      <td>True</td>\n",
       "      <td></td>\n",
       "    </tr>\n",
       "    <tr>\n",
       "      <th>13</th>\n",
       "      <td>17</td>\n",
       "      <td></td>\n",
       "      <td>7efde22c8ae69d7da09b577b69ee74e0b74fe3f891cea9...</td>\n",
       "      <td>None/compute_elastic_constants</td>\n",
       "      <td>2024-06-16 15:52:31.094140</td>\n",
       "      <td>{'element': ''Ni'', 'parameters': 'InputElasti...</td>\n",
       "      <td>{'BV': '215.11876942472904'}</td>\n",
       "      <td>True</td>\n",
       "      <td></td>\n",
       "    </tr>\n",
       "    <tr>\n",
       "      <th>14</th>\n",
       "      <td>18</td>\n",
       "      <td></td>\n",
       "      <td>33682b8b2bd1d646f08081acca6ed97bca54d3ab8730a0...</td>\n",
       "      <td>None/compute_elastic_constants</td>\n",
       "      <td>2024-06-16 15:52:37.297863</td>\n",
       "      <td>{'element': ''Al'', 'parameters': 'InputElasti...</td>\n",
       "      <td>{'BV': '55.039969796271386'}</td>\n",
       "      <td>True</td>\n",
       "      <td></td>\n",
       "    </tr>\n",
       "    <tr>\n",
       "      <th>15</th>\n",
       "      <td>19</td>\n",
       "      <td></td>\n",
       "      <td>f0af82047d99aa91807ce7ab1b36a92d986a996793cef4...</td>\n",
       "      <td>None/compute_elastic_constants</td>\n",
       "      <td>2024-06-16 15:52:43.070088</td>\n",
       "      <td>{'element': ''Fe'', 'parameters': 'InputElasti...</td>\n",
       "      <td>{'BV': '94.35657675693606'}</td>\n",
       "      <td>True</td>\n",
       "      <td></td>\n",
       "    </tr>\n",
       "  </tbody>\n",
       "</table>\n",
       "</div>"
      ],
      "text/plain": [
       "    node_id name                                         hash_value  \\\n",
       "0         2       3d4f127b05459a1d1dda98bc3e6f10176e09f27f3ab9b1...   \n",
       "1         3       12201da17c241990e5b7725a62de4189bea0cf57ad462c...   \n",
       "2         4       0b26dce95241b25be07d968f3a10863d08d1edace00830...   \n",
       "3         5       d87d4a45cd97ce5e8787c85826781fbc3adf72afc7cef3...   \n",
       "4         6       b7758afe33a8f95d60c18444dee227925a7112a131642a...   \n",
       "5         7       4aa32e7e995920ffee1b936fdc0b3e570ffa586fc14080...   \n",
       "6         8       7448b4db2e39e5e2946cd2c9072abbe4d83b003a0f6257...   \n",
       "7        10       f91ec68151c269c8218b56bb59ff9f17a37468e66cb1f0...   \n",
       "8        11       7244741b1037ccd54a8efc88a28544191fac0e7aa3634a...   \n",
       "9        16       09d5b6e123656924f229544e30232a4b7901135de7f6ba...   \n",
       "10        1       c16d79b83fad085c61d52223687f65ac5f258005921c83...   \n",
       "11       14       8c37539d8bf97af7109a41494c38be855d28aa30d178b6...   \n",
       "12       15       00352e9b8827d9f8760bb8d7d7b538ea569712a19a6c54...   \n",
       "13       17       7efde22c8ae69d7da09b577b69ee74e0b74fe3f891cea9...   \n",
       "14       18       33682b8b2bd1d646f08081acca6ed97bca54d3ab8730a0...   \n",
       "15       19       f0af82047d99aa91807ce7ab1b36a92d986a996793cef4...   \n",
       "\n",
       "                                             lib_path  \\\n",
       "0                               node_library/math/Sin   \n",
       "1   node_library/atomistic/property/thermodynamics...   \n",
       "2   node_library/atomistic/property/thermodynamics...   \n",
       "3            node_library/atomistic/engine/ase/M3GNet   \n",
       "4   node_library/atomistic/property/thermodynamics...   \n",
       "5   node_library/atomistic/property/thermodynamics...   \n",
       "6                      None/compute_elastic_constants   \n",
       "7                      None/compute_elastic_constants   \n",
       "8                      None/compute_elastic_constants   \n",
       "9                      None/compute_elastic_constants   \n",
       "10                              node_library/math/Sin   \n",
       "11                     None/compute_elastic_constants   \n",
       "12                     None/compute_elastic_constants   \n",
       "13                     None/compute_elastic_constants   \n",
       "14                     None/compute_elastic_constants   \n",
       "15                     None/compute_elastic_constants   \n",
       "\n",
       "                creation_date  \\\n",
       "0  2024-06-16 12:29:01.678058   \n",
       "1  2024-06-16 12:29:03.873881   \n",
       "2  2024-06-16 12:29:04.091826   \n",
       "3  2024-06-16 12:29:04.265562   \n",
       "4  2024-06-16 12:29:04.268949   \n",
       "5  2024-06-16 12:30:17.734841   \n",
       "6  2024-06-16 14:02:36.974349   \n",
       "7  2024-06-16 14:34:35.371983   \n",
       "8  2024-06-16 14:34:41.006448   \n",
       "9  2024-06-16 15:02:39.167414   \n",
       "10 2024-06-16 12:28:27.914697   \n",
       "11 2024-06-16 14:41:23.768186   \n",
       "12 2024-06-16 15:02:32.927979   \n",
       "13 2024-06-16 15:52:31.094140   \n",
       "14 2024-06-16 15:52:37.297863   \n",
       "15 2024-06-16 15:52:43.070088   \n",
       "\n",
       "                                               inputs  \\\n",
       "0                                       {'x': '[12]'}   \n",
       "1               {'element': ''Pt'', 'engine': 'None'}   \n",
       "2               {'element': ''Pd'', 'engine': 'None'}   \n",
       "3                                                  {}   \n",
       "4   {'element': ''Si'', 'engine': 'hash_d87d4a45cd...   \n",
       "5   {'element': ''Pt'', 'engine': 'hash_d87d4a45cd...   \n",
       "6   {'element': ''Ni'', 'parameters': 'InputElasti...   \n",
       "7   {'element': ''Al'', 'parameters': 'InputElasti...   \n",
       "8   {'element': ''Fe'', 'parameters': 'InputElasti...   \n",
       "9   {'element': ''Al'', 'parameters': 'InputElasti...   \n",
       "10                                      {'x': '[17]'}   \n",
       "11  {'element': ''Fe'', 'parameters': 'InputElasti...   \n",
       "12  {'element': ''Ni'', 'parameters': 'InputElasti...   \n",
       "13  {'element': ''Ni'', 'parameters': 'InputElasti...   \n",
       "14  {'element': ''Al'', 'parameters': 'InputElasti...   \n",
       "15  {'element': ''Fe'', 'parameters': 'InputElasti...   \n",
       "\n",
       "                                              outputs  output_ready file_path  \n",
       "0                     {'sin': 'array([-0.53657292])'}          True            \n",
       "1   {'chemical_potential': '-0.00012460841212913465'}          True            \n",
       "2     {'chemical_potential': '0.0003422625372841992'}          True            \n",
       "3                                                None         False            \n",
       "4        {'chemical_potential': '-5.417845726013184'}          True            \n",
       "5        {'chemical_potential': '-6.065089225769043'}          True            \n",
       "6                        {'BV': '207.85455655695247'}          True            \n",
       "7                        {'BV': '52.969913065609525'}          True            \n",
       "8                         {'BV': '94.53896702381144'}          True            \n",
       "9                        {'BV': '53.492619696930966'}          True            \n",
       "10                           {'sin': '[-0.96139749]'}          True            \n",
       "11                        {'BV': '95.77678912577906'}          True            \n",
       "12                       {'BV': '199.12194719810964'}          True            \n",
       "13                       {'BV': '215.11876942472904'}          True            \n",
       "14                       {'BV': '55.039969796271386'}          True            \n",
       "15                        {'BV': '94.35657675693606'}          True            "
      ]
     },
     "execution_count": 9,
     "metadata": {},
     "output_type": "execute_result"
    }
   ],
   "source": [
    "df = hs.list_table(db)\n",
    "df"
   ]
  },
  {
   "cell_type": "code",
   "execution_count": 10,
   "id": "c2237626-dcb0-4eb6-adf9-96e312a5d39f",
   "metadata": {},
   "outputs": [
    {
     "data": {
      "text/html": [
       "<div>\n",
       "<style scoped>\n",
       "    .dataframe tbody tr th:only-of-type {\n",
       "        vertical-align: middle;\n",
       "    }\n",
       "\n",
       "    .dataframe tbody tr th {\n",
       "        vertical-align: top;\n",
       "    }\n",
       "\n",
       "    .dataframe thead th {\n",
       "        text-align: right;\n",
       "    }\n",
       "</style>\n",
       "<table border=\"1\" class=\"dataframe\">\n",
       "  <thead>\n",
       "    <tr style=\"text-align: right;\">\n",
       "      <th></th>\n",
       "      <th>node_id</th>\n",
       "      <th>name</th>\n",
       "      <th>hash_value</th>\n",
       "      <th>lib_path</th>\n",
       "      <th>creation_date</th>\n",
       "      <th>outputs</th>\n",
       "      <th>output_ready</th>\n",
       "      <th>file_path</th>\n",
       "      <th>x</th>\n",
       "      <th>element</th>\n",
       "      <th>engine</th>\n",
       "      <th>parameters</th>\n",
       "    </tr>\n",
       "  </thead>\n",
       "  <tbody>\n",
       "    <tr>\n",
       "      <th>0</th>\n",
       "      <td>2</td>\n",
       "      <td></td>\n",
       "      <td>3d4f127b05459a1d1dda98bc3e6f10176e09f27f3ab9b1...</td>\n",
       "      <td>node_library/math/Sin</td>\n",
       "      <td>2024-06-16 12:29:01.678058</td>\n",
       "      <td>{'sin': 'array([-0.53657292])'}</td>\n",
       "      <td>True</td>\n",
       "      <td></td>\n",
       "      <td>[12]</td>\n",
       "      <td>NaN</td>\n",
       "      <td>NaN</td>\n",
       "      <td>NaN</td>\n",
       "    </tr>\n",
       "    <tr>\n",
       "      <th>1</th>\n",
       "      <td>3</td>\n",
       "      <td></td>\n",
       "      <td>12201da17c241990e5b7725a62de4189bea0cf57ad462c...</td>\n",
       "      <td>node_library/atomistic/property/thermodynamics...</td>\n",
       "      <td>2024-06-16 12:29:03.873881</td>\n",
       "      <td>{'chemical_potential': '-0.00012460841212913465'}</td>\n",
       "      <td>True</td>\n",
       "      <td></td>\n",
       "      <td>NaN</td>\n",
       "      <td>'Pt'</td>\n",
       "      <td>None</td>\n",
       "      <td>NaN</td>\n",
       "    </tr>\n",
       "    <tr>\n",
       "      <th>2</th>\n",
       "      <td>4</td>\n",
       "      <td></td>\n",
       "      <td>0b26dce95241b25be07d968f3a10863d08d1edace00830...</td>\n",
       "      <td>node_library/atomistic/property/thermodynamics...</td>\n",
       "      <td>2024-06-16 12:29:04.091826</td>\n",
       "      <td>{'chemical_potential': '0.0003422625372841992'}</td>\n",
       "      <td>True</td>\n",
       "      <td></td>\n",
       "      <td>NaN</td>\n",
       "      <td>'Pd'</td>\n",
       "      <td>None</td>\n",
       "      <td>NaN</td>\n",
       "    </tr>\n",
       "    <tr>\n",
       "      <th>3</th>\n",
       "      <td>5</td>\n",
       "      <td></td>\n",
       "      <td>d87d4a45cd97ce5e8787c85826781fbc3adf72afc7cef3...</td>\n",
       "      <td>node_library/atomistic/engine/ase/M3GNet</td>\n",
       "      <td>2024-06-16 12:29:04.265562</td>\n",
       "      <td>None</td>\n",
       "      <td>False</td>\n",
       "      <td></td>\n",
       "      <td>NaN</td>\n",
       "      <td>NaN</td>\n",
       "      <td>NaN</td>\n",
       "      <td>NaN</td>\n",
       "    </tr>\n",
       "    <tr>\n",
       "      <th>4</th>\n",
       "      <td>6</td>\n",
       "      <td></td>\n",
       "      <td>b7758afe33a8f95d60c18444dee227925a7112a131642a...</td>\n",
       "      <td>node_library/atomistic/property/thermodynamics...</td>\n",
       "      <td>2024-06-16 12:29:04.268949</td>\n",
       "      <td>{'chemical_potential': '-5.417845726013184'}</td>\n",
       "      <td>True</td>\n",
       "      <td></td>\n",
       "      <td>NaN</td>\n",
       "      <td>'Si'</td>\n",
       "      <td>hash_d87d4a45cd97ce5e8787c85826781fbc3adf72afc...</td>\n",
       "      <td>NaN</td>\n",
       "    </tr>\n",
       "    <tr>\n",
       "      <th>5</th>\n",
       "      <td>7</td>\n",
       "      <td></td>\n",
       "      <td>4aa32e7e995920ffee1b936fdc0b3e570ffa586fc14080...</td>\n",
       "      <td>node_library/atomistic/property/thermodynamics...</td>\n",
       "      <td>2024-06-16 12:30:17.734841</td>\n",
       "      <td>{'chemical_potential': '-6.065089225769043'}</td>\n",
       "      <td>True</td>\n",
       "      <td></td>\n",
       "      <td>NaN</td>\n",
       "      <td>'Pt'</td>\n",
       "      <td>hash_d87d4a45cd97ce5e8787c85826781fbc3adf72afc...</td>\n",
       "      <td>NaN</td>\n",
       "    </tr>\n",
       "    <tr>\n",
       "      <th>6</th>\n",
       "      <td>8</td>\n",
       "      <td></td>\n",
       "      <td>7448b4db2e39e5e2946cd2c9072abbe4d83b003a0f6257...</td>\n",
       "      <td>None/compute_elastic_constants</td>\n",
       "      <td>2024-06-16 14:02:36.974349</td>\n",
       "      <td>{'BV': '207.85455655695247'}</td>\n",
       "      <td>True</td>\n",
       "      <td></td>\n",
       "      <td>NaN</td>\n",
       "      <td>'Ni'</td>\n",
       "      <td>NaN</td>\n",
       "      <td>InputElasticTensor(num_of_point=5, eps_range=0...</td>\n",
       "    </tr>\n",
       "    <tr>\n",
       "      <th>7</th>\n",
       "      <td>10</td>\n",
       "      <td></td>\n",
       "      <td>f91ec68151c269c8218b56bb59ff9f17a37468e66cb1f0...</td>\n",
       "      <td>None/compute_elastic_constants</td>\n",
       "      <td>2024-06-16 14:34:35.371983</td>\n",
       "      <td>{'BV': '52.969913065609525'}</td>\n",
       "      <td>True</td>\n",
       "      <td></td>\n",
       "      <td>NaN</td>\n",
       "      <td>'Al'</td>\n",
       "      <td>NaN</td>\n",
       "      <td>InputElasticTensor(num_of_point=5, eps_range=0...</td>\n",
       "    </tr>\n",
       "    <tr>\n",
       "      <th>8</th>\n",
       "      <td>11</td>\n",
       "      <td></td>\n",
       "      <td>7244741b1037ccd54a8efc88a28544191fac0e7aa3634a...</td>\n",
       "      <td>None/compute_elastic_constants</td>\n",
       "      <td>2024-06-16 14:34:41.006448</td>\n",
       "      <td>{'BV': '94.53896702381144'}</td>\n",
       "      <td>True</td>\n",
       "      <td></td>\n",
       "      <td>NaN</td>\n",
       "      <td>'Fe'</td>\n",
       "      <td>NaN</td>\n",
       "      <td>InputElasticTensor(num_of_point=5, eps_range=0...</td>\n",
       "    </tr>\n",
       "    <tr>\n",
       "      <th>9</th>\n",
       "      <td>16</td>\n",
       "      <td></td>\n",
       "      <td>09d5b6e123656924f229544e30232a4b7901135de7f6ba...</td>\n",
       "      <td>None/compute_elastic_constants</td>\n",
       "      <td>2024-06-16 15:02:39.167414</td>\n",
       "      <td>{'BV': '53.492619696930966'}</td>\n",
       "      <td>True</td>\n",
       "      <td></td>\n",
       "      <td>NaN</td>\n",
       "      <td>'Al'</td>\n",
       "      <td>NaN</td>\n",
       "      <td>InputElasticTensor(num_of_point=5, eps_range=0...</td>\n",
       "    </tr>\n",
       "    <tr>\n",
       "      <th>10</th>\n",
       "      <td>1</td>\n",
       "      <td></td>\n",
       "      <td>c16d79b83fad085c61d52223687f65ac5f258005921c83...</td>\n",
       "      <td>node_library/math/Sin</td>\n",
       "      <td>2024-06-16 12:28:27.914697</td>\n",
       "      <td>{'sin': '[-0.96139749]'}</td>\n",
       "      <td>True</td>\n",
       "      <td></td>\n",
       "      <td>[17]</td>\n",
       "      <td>NaN</td>\n",
       "      <td>NaN</td>\n",
       "      <td>NaN</td>\n",
       "    </tr>\n",
       "    <tr>\n",
       "      <th>11</th>\n",
       "      <td>14</td>\n",
       "      <td></td>\n",
       "      <td>8c37539d8bf97af7109a41494c38be855d28aa30d178b6...</td>\n",
       "      <td>None/compute_elastic_constants</td>\n",
       "      <td>2024-06-16 14:41:23.768186</td>\n",
       "      <td>{'BV': '95.77678912577906'}</td>\n",
       "      <td>True</td>\n",
       "      <td></td>\n",
       "      <td>NaN</td>\n",
       "      <td>'Fe'</td>\n",
       "      <td>NaN</td>\n",
       "      <td>InputElasticTensor(num_of_point=5, eps_range=0...</td>\n",
       "    </tr>\n",
       "    <tr>\n",
       "      <th>12</th>\n",
       "      <td>15</td>\n",
       "      <td></td>\n",
       "      <td>00352e9b8827d9f8760bb8d7d7b538ea569712a19a6c54...</td>\n",
       "      <td>None/compute_elastic_constants</td>\n",
       "      <td>2024-06-16 15:02:32.927979</td>\n",
       "      <td>{'BV': '199.12194719810964'}</td>\n",
       "      <td>True</td>\n",
       "      <td></td>\n",
       "      <td>NaN</td>\n",
       "      <td>'Ni'</td>\n",
       "      <td>NaN</td>\n",
       "      <td>InputElasticTensor(num_of_point=5, eps_range=0...</td>\n",
       "    </tr>\n",
       "    <tr>\n",
       "      <th>13</th>\n",
       "      <td>17</td>\n",
       "      <td></td>\n",
       "      <td>7efde22c8ae69d7da09b577b69ee74e0b74fe3f891cea9...</td>\n",
       "      <td>None/compute_elastic_constants</td>\n",
       "      <td>2024-06-16 15:52:31.094140</td>\n",
       "      <td>{'BV': '215.11876942472904'}</td>\n",
       "      <td>True</td>\n",
       "      <td></td>\n",
       "      <td>NaN</td>\n",
       "      <td>'Ni'</td>\n",
       "      <td>NaN</td>\n",
       "      <td>InputElasticTensor(num_of_point=5, eps_range=0...</td>\n",
       "    </tr>\n",
       "    <tr>\n",
       "      <th>14</th>\n",
       "      <td>18</td>\n",
       "      <td></td>\n",
       "      <td>33682b8b2bd1d646f08081acca6ed97bca54d3ab8730a0...</td>\n",
       "      <td>None/compute_elastic_constants</td>\n",
       "      <td>2024-06-16 15:52:37.297863</td>\n",
       "      <td>{'BV': '55.039969796271386'}</td>\n",
       "      <td>True</td>\n",
       "      <td></td>\n",
       "      <td>NaN</td>\n",
       "      <td>'Al'</td>\n",
       "      <td>NaN</td>\n",
       "      <td>InputElasticTensor(num_of_point=5, eps_range=0...</td>\n",
       "    </tr>\n",
       "    <tr>\n",
       "      <th>15</th>\n",
       "      <td>19</td>\n",
       "      <td></td>\n",
       "      <td>f0af82047d99aa91807ce7ab1b36a92d986a996793cef4...</td>\n",
       "      <td>None/compute_elastic_constants</td>\n",
       "      <td>2024-06-16 15:52:43.070088</td>\n",
       "      <td>{'BV': '94.35657675693606'}</td>\n",
       "      <td>True</td>\n",
       "      <td></td>\n",
       "      <td>NaN</td>\n",
       "      <td>'Fe'</td>\n",
       "      <td>NaN</td>\n",
       "      <td>InputElasticTensor(num_of_point=5, eps_range=0...</td>\n",
       "    </tr>\n",
       "  </tbody>\n",
       "</table>\n",
       "</div>"
      ],
      "text/plain": [
       "    node_id name                                         hash_value  \\\n",
       "0         2       3d4f127b05459a1d1dda98bc3e6f10176e09f27f3ab9b1...   \n",
       "1         3       12201da17c241990e5b7725a62de4189bea0cf57ad462c...   \n",
       "2         4       0b26dce95241b25be07d968f3a10863d08d1edace00830...   \n",
       "3         5       d87d4a45cd97ce5e8787c85826781fbc3adf72afc7cef3...   \n",
       "4         6       b7758afe33a8f95d60c18444dee227925a7112a131642a...   \n",
       "5         7       4aa32e7e995920ffee1b936fdc0b3e570ffa586fc14080...   \n",
       "6         8       7448b4db2e39e5e2946cd2c9072abbe4d83b003a0f6257...   \n",
       "7        10       f91ec68151c269c8218b56bb59ff9f17a37468e66cb1f0...   \n",
       "8        11       7244741b1037ccd54a8efc88a28544191fac0e7aa3634a...   \n",
       "9        16       09d5b6e123656924f229544e30232a4b7901135de7f6ba...   \n",
       "10        1       c16d79b83fad085c61d52223687f65ac5f258005921c83...   \n",
       "11       14       8c37539d8bf97af7109a41494c38be855d28aa30d178b6...   \n",
       "12       15       00352e9b8827d9f8760bb8d7d7b538ea569712a19a6c54...   \n",
       "13       17       7efde22c8ae69d7da09b577b69ee74e0b74fe3f891cea9...   \n",
       "14       18       33682b8b2bd1d646f08081acca6ed97bca54d3ab8730a0...   \n",
       "15       19       f0af82047d99aa91807ce7ab1b36a92d986a996793cef4...   \n",
       "\n",
       "                                             lib_path  \\\n",
       "0                               node_library/math/Sin   \n",
       "1   node_library/atomistic/property/thermodynamics...   \n",
       "2   node_library/atomistic/property/thermodynamics...   \n",
       "3            node_library/atomistic/engine/ase/M3GNet   \n",
       "4   node_library/atomistic/property/thermodynamics...   \n",
       "5   node_library/atomistic/property/thermodynamics...   \n",
       "6                      None/compute_elastic_constants   \n",
       "7                      None/compute_elastic_constants   \n",
       "8                      None/compute_elastic_constants   \n",
       "9                      None/compute_elastic_constants   \n",
       "10                              node_library/math/Sin   \n",
       "11                     None/compute_elastic_constants   \n",
       "12                     None/compute_elastic_constants   \n",
       "13                     None/compute_elastic_constants   \n",
       "14                     None/compute_elastic_constants   \n",
       "15                     None/compute_elastic_constants   \n",
       "\n",
       "                creation_date  \\\n",
       "0  2024-06-16 12:29:01.678058   \n",
       "1  2024-06-16 12:29:03.873881   \n",
       "2  2024-06-16 12:29:04.091826   \n",
       "3  2024-06-16 12:29:04.265562   \n",
       "4  2024-06-16 12:29:04.268949   \n",
       "5  2024-06-16 12:30:17.734841   \n",
       "6  2024-06-16 14:02:36.974349   \n",
       "7  2024-06-16 14:34:35.371983   \n",
       "8  2024-06-16 14:34:41.006448   \n",
       "9  2024-06-16 15:02:39.167414   \n",
       "10 2024-06-16 12:28:27.914697   \n",
       "11 2024-06-16 14:41:23.768186   \n",
       "12 2024-06-16 15:02:32.927979   \n",
       "13 2024-06-16 15:52:31.094140   \n",
       "14 2024-06-16 15:52:37.297863   \n",
       "15 2024-06-16 15:52:43.070088   \n",
       "\n",
       "                                              outputs  output_ready file_path  \\\n",
       "0                     {'sin': 'array([-0.53657292])'}          True             \n",
       "1   {'chemical_potential': '-0.00012460841212913465'}          True             \n",
       "2     {'chemical_potential': '0.0003422625372841992'}          True             \n",
       "3                                                None         False             \n",
       "4        {'chemical_potential': '-5.417845726013184'}          True             \n",
       "5        {'chemical_potential': '-6.065089225769043'}          True             \n",
       "6                        {'BV': '207.85455655695247'}          True             \n",
       "7                        {'BV': '52.969913065609525'}          True             \n",
       "8                         {'BV': '94.53896702381144'}          True             \n",
       "9                        {'BV': '53.492619696930966'}          True             \n",
       "10                           {'sin': '[-0.96139749]'}          True             \n",
       "11                        {'BV': '95.77678912577906'}          True             \n",
       "12                       {'BV': '199.12194719810964'}          True             \n",
       "13                       {'BV': '215.11876942472904'}          True             \n",
       "14                       {'BV': '55.039969796271386'}          True             \n",
       "15                        {'BV': '94.35657675693606'}          True             \n",
       "\n",
       "       x element                                             engine  \\\n",
       "0   [12]     NaN                                                NaN   \n",
       "1    NaN    'Pt'                                               None   \n",
       "2    NaN    'Pd'                                               None   \n",
       "3    NaN     NaN                                                NaN   \n",
       "4    NaN    'Si'  hash_d87d4a45cd97ce5e8787c85826781fbc3adf72afc...   \n",
       "5    NaN    'Pt'  hash_d87d4a45cd97ce5e8787c85826781fbc3adf72afc...   \n",
       "6    NaN    'Ni'                                                NaN   \n",
       "7    NaN    'Al'                                                NaN   \n",
       "8    NaN    'Fe'                                                NaN   \n",
       "9    NaN    'Al'                                                NaN   \n",
       "10  [17]     NaN                                                NaN   \n",
       "11   NaN    'Fe'                                                NaN   \n",
       "12   NaN    'Ni'                                                NaN   \n",
       "13   NaN    'Ni'                                                NaN   \n",
       "14   NaN    'Al'                                                NaN   \n",
       "15   NaN    'Fe'                                                NaN   \n",
       "\n",
       "                                           parameters  \n",
       "0                                                 NaN  \n",
       "1                                                 NaN  \n",
       "2                                                 NaN  \n",
       "3                                                 NaN  \n",
       "4                                                 NaN  \n",
       "5                                                 NaN  \n",
       "6   InputElasticTensor(num_of_point=5, eps_range=0...  \n",
       "7   InputElasticTensor(num_of_point=5, eps_range=0...  \n",
       "8   InputElasticTensor(num_of_point=5, eps_range=0...  \n",
       "9   InputElasticTensor(num_of_point=5, eps_range=0...  \n",
       "10                                                NaN  \n",
       "11  InputElasticTensor(num_of_point=5, eps_range=0...  \n",
       "12  InputElasticTensor(num_of_point=5, eps_range=0...  \n",
       "13  InputElasticTensor(num_of_point=5, eps_range=0...  \n",
       "14  InputElasticTensor(num_of_point=5, eps_range=0...  \n",
       "15  InputElasticTensor(num_of_point=5, eps_range=0...  "
      ]
     },
     "execution_count": 10,
     "metadata": {},
     "output_type": "execute_result"
    }
   ],
   "source": [
    "hs.transform_data_column(df)"
   ]
  },
  {
   "cell_type": "code",
   "execution_count": 11,
   "id": "97bce6d3-7c70-4aa2-ad6f-04d25a769a11",
   "metadata": {},
   "outputs": [
    {
     "data": {
      "text/html": [
       "<div>\n",
       "<style scoped>\n",
       "    .dataframe tbody tr th:only-of-type {\n",
       "        vertical-align: middle;\n",
       "    }\n",
       "\n",
       "    .dataframe tbody tr th {\n",
       "        vertical-align: top;\n",
       "    }\n",
       "\n",
       "    .dataframe thead th {\n",
       "        text-align: right;\n",
       "    }\n",
       "</style>\n",
       "<table border=\"1\" class=\"dataframe\">\n",
       "  <thead>\n",
       "    <tr style=\"text-align: right;\">\n",
       "      <th></th>\n",
       "      <th>node_id</th>\n",
       "      <th>name</th>\n",
       "      <th>hash_value</th>\n",
       "      <th>lib_path</th>\n",
       "      <th>creation_date</th>\n",
       "      <th>inputs</th>\n",
       "      <th>outputs</th>\n",
       "      <th>output_ready</th>\n",
       "      <th>file_path</th>\n",
       "    </tr>\n",
       "  </thead>\n",
       "  <tbody>\n",
       "    <tr>\n",
       "      <th>0</th>\n",
       "      <td>1</td>\n",
       "      <td></td>\n",
       "      <td>c16d79b83fad085c61d52223687f65ac5f258005921c83...</td>\n",
       "      <td>node_library/math/Sin</td>\n",
       "      <td>2024-06-16 12:28:27.914697</td>\n",
       "      <td>{'x': '[17]'}</td>\n",
       "      <td>{'sin': '[-0.96139749]'}</td>\n",
       "      <td>True</td>\n",
       "      <td></td>\n",
       "    </tr>\n",
       "  </tbody>\n",
       "</table>\n",
       "</div>"
      ],
      "text/plain": [
       "   node_id name                                         hash_value  \\\n",
       "0        1       c16d79b83fad085c61d52223687f65ac5f258005921c83...   \n",
       "\n",
       "                lib_path              creation_date         inputs  \\\n",
       "0  node_library/math/Sin 2024-06-16 12:28:27.914697  {'x': '[17]'}   \n",
       "\n",
       "                    outputs  output_ready file_path  \n",
       "0  {'sin': '[-0.96139749]'}          True            "
      ]
     },
     "execution_count": 11,
     "metadata": {},
     "output_type": "execute_result"
    }
   ],
   "source": [
    "hs.db_query_dict(db, x='[17]')"
   ]
  },
  {
   "cell_type": "markdown",
   "id": "376ec23a-f730-4f13-a423-85d4a94a4715",
   "metadata": {},
   "source": [
    "### Connect to pyiron_workflow"
   ]
  },
  {
   "cell_type": "code",
   "execution_count": 12,
   "id": "02139598-8ca8-49f6-853a-d5a203d667f9",
   "metadata": {},
   "outputs": [],
   "source": [
    "from pyiron_workflow import Workflow"
   ]
  },
  {
   "cell_type": "code",
   "execution_count": 13,
   "id": "d710c442-dded-453e-b8d6-f0d2084b6c1d",
   "metadata": {},
   "outputs": [
    {
     "data": {
      "application/vnd.jupyter.widget-view+json": {
       "model_id": "d3d7260e679e411aa494d11983b7fdf5",
       "version_major": 2,
       "version_minor": 0
      },
      "text/plain": []
     },
     "metadata": {},
     "output_type": "display_data"
    }
   ],
   "source": [
    "# Register the necessary node packages                                                                        \n",
    "Workflow.register(\"node_library.math\", \"math\")\n",
    "Workflow.register(\"node_library.atomistic\", \"atomistic\") "
   ]
  },
  {
   "cell_type": "code",
   "execution_count": 14,
   "id": "728fc684-0916-4c9b-90ea-808ff5143f9b",
   "metadata": {},
   "outputs": [
    {
     "data": {
      "text/plain": [
       "NOT_DATA"
      ]
     },
     "execution_count": 14,
     "metadata": {},
     "output_type": "execute_result"
    }
   ],
   "source": [
    "sin = Workflow.create.math.Sin(x=[17])\n",
    "sin.outputs.sin.value"
   ]
  },
  {
   "cell_type": "code",
   "execution_count": 15,
   "id": "99c2f022-5d69-42f2-ab01-066ba6585ac5",
   "metadata": {},
   "outputs": [
    {
     "data": {
      "text/html": [
       "<div>\n",
       "<style scoped>\n",
       "    .dataframe tbody tr th:only-of-type {\n",
       "        vertical-align: middle;\n",
       "    }\n",
       "\n",
       "    .dataframe tbody tr th {\n",
       "        vertical-align: top;\n",
       "    }\n",
       "\n",
       "    .dataframe thead th {\n",
       "        text-align: right;\n",
       "    }\n",
       "</style>\n",
       "<table border=\"1\" class=\"dataframe\">\n",
       "  <thead>\n",
       "    <tr style=\"text-align: right;\">\n",
       "      <th></th>\n",
       "      <th>node_id</th>\n",
       "      <th>name</th>\n",
       "      <th>hash_value</th>\n",
       "      <th>lib_path</th>\n",
       "      <th>creation_date</th>\n",
       "      <th>inputs</th>\n",
       "      <th>outputs</th>\n",
       "      <th>output_ready</th>\n",
       "      <th>file_path</th>\n",
       "    </tr>\n",
       "  </thead>\n",
       "  <tbody>\n",
       "    <tr>\n",
       "      <th>0</th>\n",
       "      <td>2</td>\n",
       "      <td></td>\n",
       "      <td>3d4f127b05459a1d1dda98bc3e6f10176e09f27f3ab9b1...</td>\n",
       "      <td>node_library/math/Sin</td>\n",
       "      <td>2024-06-16 12:29:01.678058</td>\n",
       "      <td>{'x': '[12]'}</td>\n",
       "      <td>{'sin': 'array([-0.53657292])'}</td>\n",
       "      <td>True</td>\n",
       "      <td></td>\n",
       "    </tr>\n",
       "    <tr>\n",
       "      <th>1</th>\n",
       "      <td>3</td>\n",
       "      <td></td>\n",
       "      <td>12201da17c241990e5b7725a62de4189bea0cf57ad462c...</td>\n",
       "      <td>node_library/atomistic/property/thermodynamics...</td>\n",
       "      <td>2024-06-16 12:29:03.873881</td>\n",
       "      <td>{'element': ''Pt'', 'engine': 'None'}</td>\n",
       "      <td>{'chemical_potential': '-0.00012460841212913465'}</td>\n",
       "      <td>True</td>\n",
       "      <td></td>\n",
       "    </tr>\n",
       "    <tr>\n",
       "      <th>2</th>\n",
       "      <td>4</td>\n",
       "      <td></td>\n",
       "      <td>0b26dce95241b25be07d968f3a10863d08d1edace00830...</td>\n",
       "      <td>node_library/atomistic/property/thermodynamics...</td>\n",
       "      <td>2024-06-16 12:29:04.091826</td>\n",
       "      <td>{'element': ''Pd'', 'engine': 'None'}</td>\n",
       "      <td>{'chemical_potential': '0.0003422625372841992'}</td>\n",
       "      <td>True</td>\n",
       "      <td></td>\n",
       "    </tr>\n",
       "    <tr>\n",
       "      <th>3</th>\n",
       "      <td>5</td>\n",
       "      <td></td>\n",
       "      <td>d87d4a45cd97ce5e8787c85826781fbc3adf72afc7cef3...</td>\n",
       "      <td>node_library/atomistic/engine/ase/M3GNet</td>\n",
       "      <td>2024-06-16 12:29:04.265562</td>\n",
       "      <td>{}</td>\n",
       "      <td>None</td>\n",
       "      <td>False</td>\n",
       "      <td></td>\n",
       "    </tr>\n",
       "    <tr>\n",
       "      <th>4</th>\n",
       "      <td>6</td>\n",
       "      <td></td>\n",
       "      <td>b7758afe33a8f95d60c18444dee227925a7112a131642a...</td>\n",
       "      <td>node_library/atomistic/property/thermodynamics...</td>\n",
       "      <td>2024-06-16 12:29:04.268949</td>\n",
       "      <td>{'element': ''Si'', 'engine': 'hash_d87d4a45cd...</td>\n",
       "      <td>{'chemical_potential': '-5.417845726013184'}</td>\n",
       "      <td>True</td>\n",
       "      <td></td>\n",
       "    </tr>\n",
       "    <tr>\n",
       "      <th>5</th>\n",
       "      <td>7</td>\n",
       "      <td></td>\n",
       "      <td>4aa32e7e995920ffee1b936fdc0b3e570ffa586fc14080...</td>\n",
       "      <td>node_library/atomistic/property/thermodynamics...</td>\n",
       "      <td>2024-06-16 12:30:17.734841</td>\n",
       "      <td>{'element': ''Pt'', 'engine': 'hash_d87d4a45cd...</td>\n",
       "      <td>{'chemical_potential': '-6.065089225769043'}</td>\n",
       "      <td>True</td>\n",
       "      <td></td>\n",
       "    </tr>\n",
       "    <tr>\n",
       "      <th>6</th>\n",
       "      <td>8</td>\n",
       "      <td></td>\n",
       "      <td>7448b4db2e39e5e2946cd2c9072abbe4d83b003a0f6257...</td>\n",
       "      <td>None/compute_elastic_constants</td>\n",
       "      <td>2024-06-16 14:02:36.974349</td>\n",
       "      <td>{'element': ''Ni'', 'parameters': 'InputElasti...</td>\n",
       "      <td>{'BV': '207.85455655695247'}</td>\n",
       "      <td>True</td>\n",
       "      <td></td>\n",
       "    </tr>\n",
       "    <tr>\n",
       "      <th>7</th>\n",
       "      <td>10</td>\n",
       "      <td></td>\n",
       "      <td>f91ec68151c269c8218b56bb59ff9f17a37468e66cb1f0...</td>\n",
       "      <td>None/compute_elastic_constants</td>\n",
       "      <td>2024-06-16 14:34:35.371983</td>\n",
       "      <td>{'element': ''Al'', 'parameters': 'InputElasti...</td>\n",
       "      <td>{'BV': '52.969913065609525'}</td>\n",
       "      <td>True</td>\n",
       "      <td></td>\n",
       "    </tr>\n",
       "    <tr>\n",
       "      <th>8</th>\n",
       "      <td>11</td>\n",
       "      <td></td>\n",
       "      <td>7244741b1037ccd54a8efc88a28544191fac0e7aa3634a...</td>\n",
       "      <td>None/compute_elastic_constants</td>\n",
       "      <td>2024-06-16 14:34:41.006448</td>\n",
       "      <td>{'element': ''Fe'', 'parameters': 'InputElasti...</td>\n",
       "      <td>{'BV': '94.53896702381144'}</td>\n",
       "      <td>True</td>\n",
       "      <td></td>\n",
       "    </tr>\n",
       "    <tr>\n",
       "      <th>9</th>\n",
       "      <td>16</td>\n",
       "      <td></td>\n",
       "      <td>09d5b6e123656924f229544e30232a4b7901135de7f6ba...</td>\n",
       "      <td>None/compute_elastic_constants</td>\n",
       "      <td>2024-06-16 15:02:39.167414</td>\n",
       "      <td>{'element': ''Al'', 'parameters': 'InputElasti...</td>\n",
       "      <td>{'BV': '53.492619696930966'}</td>\n",
       "      <td>True</td>\n",
       "      <td></td>\n",
       "    </tr>\n",
       "    <tr>\n",
       "      <th>10</th>\n",
       "      <td>1</td>\n",
       "      <td></td>\n",
       "      <td>c16d79b83fad085c61d52223687f65ac5f258005921c83...</td>\n",
       "      <td>node_library/math/Sin</td>\n",
       "      <td>2024-06-16 12:28:27.914697</td>\n",
       "      <td>{'x': '[17]'}</td>\n",
       "      <td>{'sin': '[-0.96139749]'}</td>\n",
       "      <td>True</td>\n",
       "      <td></td>\n",
       "    </tr>\n",
       "    <tr>\n",
       "      <th>11</th>\n",
       "      <td>14</td>\n",
       "      <td></td>\n",
       "      <td>8c37539d8bf97af7109a41494c38be855d28aa30d178b6...</td>\n",
       "      <td>None/compute_elastic_constants</td>\n",
       "      <td>2024-06-16 14:41:23.768186</td>\n",
       "      <td>{'element': ''Fe'', 'parameters': 'InputElasti...</td>\n",
       "      <td>{'BV': '95.77678912577906'}</td>\n",
       "      <td>True</td>\n",
       "      <td></td>\n",
       "    </tr>\n",
       "    <tr>\n",
       "      <th>12</th>\n",
       "      <td>15</td>\n",
       "      <td></td>\n",
       "      <td>00352e9b8827d9f8760bb8d7d7b538ea569712a19a6c54...</td>\n",
       "      <td>None/compute_elastic_constants</td>\n",
       "      <td>2024-06-16 15:02:32.927979</td>\n",
       "      <td>{'element': ''Ni'', 'parameters': 'InputElasti...</td>\n",
       "      <td>{'BV': '199.12194719810964'}</td>\n",
       "      <td>True</td>\n",
       "      <td></td>\n",
       "    </tr>\n",
       "    <tr>\n",
       "      <th>13</th>\n",
       "      <td>17</td>\n",
       "      <td></td>\n",
       "      <td>7efde22c8ae69d7da09b577b69ee74e0b74fe3f891cea9...</td>\n",
       "      <td>None/compute_elastic_constants</td>\n",
       "      <td>2024-06-16 15:52:31.094140</td>\n",
       "      <td>{'element': ''Ni'', 'parameters': 'InputElasti...</td>\n",
       "      <td>{'BV': '215.11876942472904'}</td>\n",
       "      <td>True</td>\n",
       "      <td></td>\n",
       "    </tr>\n",
       "    <tr>\n",
       "      <th>14</th>\n",
       "      <td>18</td>\n",
       "      <td></td>\n",
       "      <td>33682b8b2bd1d646f08081acca6ed97bca54d3ab8730a0...</td>\n",
       "      <td>None/compute_elastic_constants</td>\n",
       "      <td>2024-06-16 15:52:37.297863</td>\n",
       "      <td>{'element': ''Al'', 'parameters': 'InputElasti...</td>\n",
       "      <td>{'BV': '55.039969796271386'}</td>\n",
       "      <td>True</td>\n",
       "      <td></td>\n",
       "    </tr>\n",
       "    <tr>\n",
       "      <th>15</th>\n",
       "      <td>19</td>\n",
       "      <td></td>\n",
       "      <td>f0af82047d99aa91807ce7ab1b36a92d986a996793cef4...</td>\n",
       "      <td>None/compute_elastic_constants</td>\n",
       "      <td>2024-06-16 15:52:43.070088</td>\n",
       "      <td>{'element': ''Fe'', 'parameters': 'InputElasti...</td>\n",
       "      <td>{'BV': '94.35657675693606'}</td>\n",
       "      <td>True</td>\n",
       "      <td></td>\n",
       "    </tr>\n",
       "  </tbody>\n",
       "</table>\n",
       "</div>"
      ],
      "text/plain": [
       "    node_id name                                         hash_value  \\\n",
       "0         2       3d4f127b05459a1d1dda98bc3e6f10176e09f27f3ab9b1...   \n",
       "1         3       12201da17c241990e5b7725a62de4189bea0cf57ad462c...   \n",
       "2         4       0b26dce95241b25be07d968f3a10863d08d1edace00830...   \n",
       "3         5       d87d4a45cd97ce5e8787c85826781fbc3adf72afc7cef3...   \n",
       "4         6       b7758afe33a8f95d60c18444dee227925a7112a131642a...   \n",
       "5         7       4aa32e7e995920ffee1b936fdc0b3e570ffa586fc14080...   \n",
       "6         8       7448b4db2e39e5e2946cd2c9072abbe4d83b003a0f6257...   \n",
       "7        10       f91ec68151c269c8218b56bb59ff9f17a37468e66cb1f0...   \n",
       "8        11       7244741b1037ccd54a8efc88a28544191fac0e7aa3634a...   \n",
       "9        16       09d5b6e123656924f229544e30232a4b7901135de7f6ba...   \n",
       "10        1       c16d79b83fad085c61d52223687f65ac5f258005921c83...   \n",
       "11       14       8c37539d8bf97af7109a41494c38be855d28aa30d178b6...   \n",
       "12       15       00352e9b8827d9f8760bb8d7d7b538ea569712a19a6c54...   \n",
       "13       17       7efde22c8ae69d7da09b577b69ee74e0b74fe3f891cea9...   \n",
       "14       18       33682b8b2bd1d646f08081acca6ed97bca54d3ab8730a0...   \n",
       "15       19       f0af82047d99aa91807ce7ab1b36a92d986a996793cef4...   \n",
       "\n",
       "                                             lib_path  \\\n",
       "0                               node_library/math/Sin   \n",
       "1   node_library/atomistic/property/thermodynamics...   \n",
       "2   node_library/atomistic/property/thermodynamics...   \n",
       "3            node_library/atomistic/engine/ase/M3GNet   \n",
       "4   node_library/atomistic/property/thermodynamics...   \n",
       "5   node_library/atomistic/property/thermodynamics...   \n",
       "6                      None/compute_elastic_constants   \n",
       "7                      None/compute_elastic_constants   \n",
       "8                      None/compute_elastic_constants   \n",
       "9                      None/compute_elastic_constants   \n",
       "10                              node_library/math/Sin   \n",
       "11                     None/compute_elastic_constants   \n",
       "12                     None/compute_elastic_constants   \n",
       "13                     None/compute_elastic_constants   \n",
       "14                     None/compute_elastic_constants   \n",
       "15                     None/compute_elastic_constants   \n",
       "\n",
       "                creation_date  \\\n",
       "0  2024-06-16 12:29:01.678058   \n",
       "1  2024-06-16 12:29:03.873881   \n",
       "2  2024-06-16 12:29:04.091826   \n",
       "3  2024-06-16 12:29:04.265562   \n",
       "4  2024-06-16 12:29:04.268949   \n",
       "5  2024-06-16 12:30:17.734841   \n",
       "6  2024-06-16 14:02:36.974349   \n",
       "7  2024-06-16 14:34:35.371983   \n",
       "8  2024-06-16 14:34:41.006448   \n",
       "9  2024-06-16 15:02:39.167414   \n",
       "10 2024-06-16 12:28:27.914697   \n",
       "11 2024-06-16 14:41:23.768186   \n",
       "12 2024-06-16 15:02:32.927979   \n",
       "13 2024-06-16 15:52:31.094140   \n",
       "14 2024-06-16 15:52:37.297863   \n",
       "15 2024-06-16 15:52:43.070088   \n",
       "\n",
       "                                               inputs  \\\n",
       "0                                       {'x': '[12]'}   \n",
       "1               {'element': ''Pt'', 'engine': 'None'}   \n",
       "2               {'element': ''Pd'', 'engine': 'None'}   \n",
       "3                                                  {}   \n",
       "4   {'element': ''Si'', 'engine': 'hash_d87d4a45cd...   \n",
       "5   {'element': ''Pt'', 'engine': 'hash_d87d4a45cd...   \n",
       "6   {'element': ''Ni'', 'parameters': 'InputElasti...   \n",
       "7   {'element': ''Al'', 'parameters': 'InputElasti...   \n",
       "8   {'element': ''Fe'', 'parameters': 'InputElasti...   \n",
       "9   {'element': ''Al'', 'parameters': 'InputElasti...   \n",
       "10                                      {'x': '[17]'}   \n",
       "11  {'element': ''Fe'', 'parameters': 'InputElasti...   \n",
       "12  {'element': ''Ni'', 'parameters': 'InputElasti...   \n",
       "13  {'element': ''Ni'', 'parameters': 'InputElasti...   \n",
       "14  {'element': ''Al'', 'parameters': 'InputElasti...   \n",
       "15  {'element': ''Fe'', 'parameters': 'InputElasti...   \n",
       "\n",
       "                                              outputs  output_ready file_path  \n",
       "0                     {'sin': 'array([-0.53657292])'}          True            \n",
       "1   {'chemical_potential': '-0.00012460841212913465'}          True            \n",
       "2     {'chemical_potential': '0.0003422625372841992'}          True            \n",
       "3                                                None         False            \n",
       "4        {'chemical_potential': '-5.417845726013184'}          True            \n",
       "5        {'chemical_potential': '-6.065089225769043'}          True            \n",
       "6                        {'BV': '207.85455655695247'}          True            \n",
       "7                        {'BV': '52.969913065609525'}          True            \n",
       "8                         {'BV': '94.53896702381144'}          True            \n",
       "9                        {'BV': '53.492619696930966'}          True            \n",
       "10                           {'sin': '[-0.96139749]'}          True            \n",
       "11                        {'BV': '95.77678912577906'}          True            \n",
       "12                       {'BV': '199.12194719810964'}          True            \n",
       "13                       {'BV': '215.11876942472904'}          True            \n",
       "14                       {'BV': '55.039969796271386'}          True            \n",
       "15                        {'BV': '94.35657675693606'}          True            "
      ]
     },
     "execution_count": 15,
     "metadata": {},
     "output_type": "execute_result"
    }
   ],
   "source": [
    "df = hs.list_table(db)\n",
    "df"
   ]
  },
  {
   "cell_type": "code",
   "execution_count": 16,
   "id": "556729ab-864a-4ce1-bf25-f9f903e9a6c1",
   "metadata": {},
   "outputs": [
    {
     "data": {
      "text/plain": [
       "{'sin': 'NOT_DATA'}"
      ]
     },
     "execution_count": 16,
     "metadata": {},
     "output_type": "execute_result"
    }
   ],
   "source": [
    "# hs.get_json_size(hs.extract_node_output(sin))# , \n",
    "hs.extract_node_output(sin)"
   ]
  },
  {
   "cell_type": "code",
   "execution_count": 17,
   "id": "8cbab16c-3b35-43a4-b127-3222d3ad7582",
   "metadata": {},
   "outputs": [
    {
     "data": {
      "text/plain": [
       "{'sin': 'NOT_DATA'}"
      ]
     },
     "execution_count": 17,
     "metadata": {},
     "output_type": "execute_result"
    }
   ],
   "source": [
    "hs.extract_node_output(sin, as_string=True)"
   ]
  },
  {
   "cell_type": "code",
   "execution_count": 18,
   "id": "5b2af720-72fc-458c-85be-36e64b1b490c",
   "metadata": {},
   "outputs": [
    {
     "data": {
      "text/plain": [
       "1"
      ]
     },
     "execution_count": 18,
     "metadata": {},
     "output_type": "execute_result"
    }
   ],
   "source": [
    "hs.save_node(sin, db) "
   ]
  },
  {
   "cell_type": "code",
   "execution_count": 19,
   "id": "e823de8b-5097-4e75-8b35-c2a6ef1140f8",
   "metadata": {},
   "outputs": [
    {
     "data": {
      "text/html": [
       "<div>\n",
       "<style scoped>\n",
       "    .dataframe tbody tr th:only-of-type {\n",
       "        vertical-align: middle;\n",
       "    }\n",
       "\n",
       "    .dataframe tbody tr th {\n",
       "        vertical-align: top;\n",
       "    }\n",
       "\n",
       "    .dataframe thead th {\n",
       "        text-align: right;\n",
       "    }\n",
       "</style>\n",
       "<table border=\"1\" class=\"dataframe\">\n",
       "  <thead>\n",
       "    <tr style=\"text-align: right;\">\n",
       "      <th></th>\n",
       "      <th>node_id</th>\n",
       "      <th>name</th>\n",
       "      <th>hash_value</th>\n",
       "      <th>lib_path</th>\n",
       "      <th>creation_date</th>\n",
       "      <th>inputs</th>\n",
       "      <th>outputs</th>\n",
       "      <th>output_ready</th>\n",
       "      <th>file_path</th>\n",
       "    </tr>\n",
       "  </thead>\n",
       "  <tbody>\n",
       "    <tr>\n",
       "      <th>0</th>\n",
       "      <td>2</td>\n",
       "      <td></td>\n",
       "      <td>3d4f127b05459a1d1dda98bc3e6f10176e09f27f3ab9b1...</td>\n",
       "      <td>node_library/math/Sin</td>\n",
       "      <td>2024-06-16 12:29:01.678058</td>\n",
       "      <td>{'x': '[12]'}</td>\n",
       "      <td>{'sin': 'array([-0.53657292])'}</td>\n",
       "      <td>True</td>\n",
       "      <td></td>\n",
       "    </tr>\n",
       "    <tr>\n",
       "      <th>1</th>\n",
       "      <td>3</td>\n",
       "      <td></td>\n",
       "      <td>12201da17c241990e5b7725a62de4189bea0cf57ad462c...</td>\n",
       "      <td>node_library/atomistic/property/thermodynamics...</td>\n",
       "      <td>2024-06-16 12:29:03.873881</td>\n",
       "      <td>{'element': ''Pt'', 'engine': 'None'}</td>\n",
       "      <td>{'chemical_potential': '-0.00012460841212913465'}</td>\n",
       "      <td>True</td>\n",
       "      <td></td>\n",
       "    </tr>\n",
       "    <tr>\n",
       "      <th>2</th>\n",
       "      <td>4</td>\n",
       "      <td></td>\n",
       "      <td>0b26dce95241b25be07d968f3a10863d08d1edace00830...</td>\n",
       "      <td>node_library/atomistic/property/thermodynamics...</td>\n",
       "      <td>2024-06-16 12:29:04.091826</td>\n",
       "      <td>{'element': ''Pd'', 'engine': 'None'}</td>\n",
       "      <td>{'chemical_potential': '0.0003422625372841992'}</td>\n",
       "      <td>True</td>\n",
       "      <td></td>\n",
       "    </tr>\n",
       "    <tr>\n",
       "      <th>3</th>\n",
       "      <td>5</td>\n",
       "      <td></td>\n",
       "      <td>d87d4a45cd97ce5e8787c85826781fbc3adf72afc7cef3...</td>\n",
       "      <td>node_library/atomistic/engine/ase/M3GNet</td>\n",
       "      <td>2024-06-16 12:29:04.265562</td>\n",
       "      <td>{}</td>\n",
       "      <td>None</td>\n",
       "      <td>False</td>\n",
       "      <td></td>\n",
       "    </tr>\n",
       "    <tr>\n",
       "      <th>4</th>\n",
       "      <td>6</td>\n",
       "      <td></td>\n",
       "      <td>b7758afe33a8f95d60c18444dee227925a7112a131642a...</td>\n",
       "      <td>node_library/atomistic/property/thermodynamics...</td>\n",
       "      <td>2024-06-16 12:29:04.268949</td>\n",
       "      <td>{'element': ''Si'', 'engine': 'hash_d87d4a45cd...</td>\n",
       "      <td>{'chemical_potential': '-5.417845726013184'}</td>\n",
       "      <td>True</td>\n",
       "      <td></td>\n",
       "    </tr>\n",
       "    <tr>\n",
       "      <th>5</th>\n",
       "      <td>7</td>\n",
       "      <td></td>\n",
       "      <td>4aa32e7e995920ffee1b936fdc0b3e570ffa586fc14080...</td>\n",
       "      <td>node_library/atomistic/property/thermodynamics...</td>\n",
       "      <td>2024-06-16 12:30:17.734841</td>\n",
       "      <td>{'element': ''Pt'', 'engine': 'hash_d87d4a45cd...</td>\n",
       "      <td>{'chemical_potential': '-6.065089225769043'}</td>\n",
       "      <td>True</td>\n",
       "      <td></td>\n",
       "    </tr>\n",
       "    <tr>\n",
       "      <th>6</th>\n",
       "      <td>8</td>\n",
       "      <td></td>\n",
       "      <td>7448b4db2e39e5e2946cd2c9072abbe4d83b003a0f6257...</td>\n",
       "      <td>None/compute_elastic_constants</td>\n",
       "      <td>2024-06-16 14:02:36.974349</td>\n",
       "      <td>{'element': ''Ni'', 'parameters': 'InputElasti...</td>\n",
       "      <td>{'BV': '207.85455655695247'}</td>\n",
       "      <td>True</td>\n",
       "      <td></td>\n",
       "    </tr>\n",
       "    <tr>\n",
       "      <th>7</th>\n",
       "      <td>10</td>\n",
       "      <td></td>\n",
       "      <td>f91ec68151c269c8218b56bb59ff9f17a37468e66cb1f0...</td>\n",
       "      <td>None/compute_elastic_constants</td>\n",
       "      <td>2024-06-16 14:34:35.371983</td>\n",
       "      <td>{'element': ''Al'', 'parameters': 'InputElasti...</td>\n",
       "      <td>{'BV': '52.969913065609525'}</td>\n",
       "      <td>True</td>\n",
       "      <td></td>\n",
       "    </tr>\n",
       "    <tr>\n",
       "      <th>8</th>\n",
       "      <td>11</td>\n",
       "      <td></td>\n",
       "      <td>7244741b1037ccd54a8efc88a28544191fac0e7aa3634a...</td>\n",
       "      <td>None/compute_elastic_constants</td>\n",
       "      <td>2024-06-16 14:34:41.006448</td>\n",
       "      <td>{'element': ''Fe'', 'parameters': 'InputElasti...</td>\n",
       "      <td>{'BV': '94.53896702381144'}</td>\n",
       "      <td>True</td>\n",
       "      <td></td>\n",
       "    </tr>\n",
       "    <tr>\n",
       "      <th>9</th>\n",
       "      <td>16</td>\n",
       "      <td></td>\n",
       "      <td>09d5b6e123656924f229544e30232a4b7901135de7f6ba...</td>\n",
       "      <td>None/compute_elastic_constants</td>\n",
       "      <td>2024-06-16 15:02:39.167414</td>\n",
       "      <td>{'element': ''Al'', 'parameters': 'InputElasti...</td>\n",
       "      <td>{'BV': '53.492619696930966'}</td>\n",
       "      <td>True</td>\n",
       "      <td></td>\n",
       "    </tr>\n",
       "    <tr>\n",
       "      <th>10</th>\n",
       "      <td>1</td>\n",
       "      <td></td>\n",
       "      <td>c16d79b83fad085c61d52223687f65ac5f258005921c83...</td>\n",
       "      <td>node_library/math/Sin</td>\n",
       "      <td>2024-06-16 12:28:27.914697</td>\n",
       "      <td>{'x': '[17]'}</td>\n",
       "      <td>{'sin': '[-0.96139749]'}</td>\n",
       "      <td>True</td>\n",
       "      <td></td>\n",
       "    </tr>\n",
       "    <tr>\n",
       "      <th>11</th>\n",
       "      <td>14</td>\n",
       "      <td></td>\n",
       "      <td>8c37539d8bf97af7109a41494c38be855d28aa30d178b6...</td>\n",
       "      <td>None/compute_elastic_constants</td>\n",
       "      <td>2024-06-16 14:41:23.768186</td>\n",
       "      <td>{'element': ''Fe'', 'parameters': 'InputElasti...</td>\n",
       "      <td>{'BV': '95.77678912577906'}</td>\n",
       "      <td>True</td>\n",
       "      <td></td>\n",
       "    </tr>\n",
       "    <tr>\n",
       "      <th>12</th>\n",
       "      <td>15</td>\n",
       "      <td></td>\n",
       "      <td>00352e9b8827d9f8760bb8d7d7b538ea569712a19a6c54...</td>\n",
       "      <td>None/compute_elastic_constants</td>\n",
       "      <td>2024-06-16 15:02:32.927979</td>\n",
       "      <td>{'element': ''Ni'', 'parameters': 'InputElasti...</td>\n",
       "      <td>{'BV': '199.12194719810964'}</td>\n",
       "      <td>True</td>\n",
       "      <td></td>\n",
       "    </tr>\n",
       "    <tr>\n",
       "      <th>13</th>\n",
       "      <td>17</td>\n",
       "      <td></td>\n",
       "      <td>7efde22c8ae69d7da09b577b69ee74e0b74fe3f891cea9...</td>\n",
       "      <td>None/compute_elastic_constants</td>\n",
       "      <td>2024-06-16 15:52:31.094140</td>\n",
       "      <td>{'element': ''Ni'', 'parameters': 'InputElasti...</td>\n",
       "      <td>{'BV': '215.11876942472904'}</td>\n",
       "      <td>True</td>\n",
       "      <td></td>\n",
       "    </tr>\n",
       "    <tr>\n",
       "      <th>14</th>\n",
       "      <td>18</td>\n",
       "      <td></td>\n",
       "      <td>33682b8b2bd1d646f08081acca6ed97bca54d3ab8730a0...</td>\n",
       "      <td>None/compute_elastic_constants</td>\n",
       "      <td>2024-06-16 15:52:37.297863</td>\n",
       "      <td>{'element': ''Al'', 'parameters': 'InputElasti...</td>\n",
       "      <td>{'BV': '55.039969796271386'}</td>\n",
       "      <td>True</td>\n",
       "      <td></td>\n",
       "    </tr>\n",
       "    <tr>\n",
       "      <th>15</th>\n",
       "      <td>19</td>\n",
       "      <td></td>\n",
       "      <td>f0af82047d99aa91807ce7ab1b36a92d986a996793cef4...</td>\n",
       "      <td>None/compute_elastic_constants</td>\n",
       "      <td>2024-06-16 15:52:43.070088</td>\n",
       "      <td>{'element': ''Fe'', 'parameters': 'InputElasti...</td>\n",
       "      <td>{'BV': '94.35657675693606'}</td>\n",
       "      <td>True</td>\n",
       "      <td></td>\n",
       "    </tr>\n",
       "  </tbody>\n",
       "</table>\n",
       "</div>"
      ],
      "text/plain": [
       "    node_id name                                         hash_value  \\\n",
       "0         2       3d4f127b05459a1d1dda98bc3e6f10176e09f27f3ab9b1...   \n",
       "1         3       12201da17c241990e5b7725a62de4189bea0cf57ad462c...   \n",
       "2         4       0b26dce95241b25be07d968f3a10863d08d1edace00830...   \n",
       "3         5       d87d4a45cd97ce5e8787c85826781fbc3adf72afc7cef3...   \n",
       "4         6       b7758afe33a8f95d60c18444dee227925a7112a131642a...   \n",
       "5         7       4aa32e7e995920ffee1b936fdc0b3e570ffa586fc14080...   \n",
       "6         8       7448b4db2e39e5e2946cd2c9072abbe4d83b003a0f6257...   \n",
       "7        10       f91ec68151c269c8218b56bb59ff9f17a37468e66cb1f0...   \n",
       "8        11       7244741b1037ccd54a8efc88a28544191fac0e7aa3634a...   \n",
       "9        16       09d5b6e123656924f229544e30232a4b7901135de7f6ba...   \n",
       "10        1       c16d79b83fad085c61d52223687f65ac5f258005921c83...   \n",
       "11       14       8c37539d8bf97af7109a41494c38be855d28aa30d178b6...   \n",
       "12       15       00352e9b8827d9f8760bb8d7d7b538ea569712a19a6c54...   \n",
       "13       17       7efde22c8ae69d7da09b577b69ee74e0b74fe3f891cea9...   \n",
       "14       18       33682b8b2bd1d646f08081acca6ed97bca54d3ab8730a0...   \n",
       "15       19       f0af82047d99aa91807ce7ab1b36a92d986a996793cef4...   \n",
       "\n",
       "                                             lib_path  \\\n",
       "0                               node_library/math/Sin   \n",
       "1   node_library/atomistic/property/thermodynamics...   \n",
       "2   node_library/atomistic/property/thermodynamics...   \n",
       "3            node_library/atomistic/engine/ase/M3GNet   \n",
       "4   node_library/atomistic/property/thermodynamics...   \n",
       "5   node_library/atomistic/property/thermodynamics...   \n",
       "6                      None/compute_elastic_constants   \n",
       "7                      None/compute_elastic_constants   \n",
       "8                      None/compute_elastic_constants   \n",
       "9                      None/compute_elastic_constants   \n",
       "10                              node_library/math/Sin   \n",
       "11                     None/compute_elastic_constants   \n",
       "12                     None/compute_elastic_constants   \n",
       "13                     None/compute_elastic_constants   \n",
       "14                     None/compute_elastic_constants   \n",
       "15                     None/compute_elastic_constants   \n",
       "\n",
       "                creation_date  \\\n",
       "0  2024-06-16 12:29:01.678058   \n",
       "1  2024-06-16 12:29:03.873881   \n",
       "2  2024-06-16 12:29:04.091826   \n",
       "3  2024-06-16 12:29:04.265562   \n",
       "4  2024-06-16 12:29:04.268949   \n",
       "5  2024-06-16 12:30:17.734841   \n",
       "6  2024-06-16 14:02:36.974349   \n",
       "7  2024-06-16 14:34:35.371983   \n",
       "8  2024-06-16 14:34:41.006448   \n",
       "9  2024-06-16 15:02:39.167414   \n",
       "10 2024-06-16 12:28:27.914697   \n",
       "11 2024-06-16 14:41:23.768186   \n",
       "12 2024-06-16 15:02:32.927979   \n",
       "13 2024-06-16 15:52:31.094140   \n",
       "14 2024-06-16 15:52:37.297863   \n",
       "15 2024-06-16 15:52:43.070088   \n",
       "\n",
       "                                               inputs  \\\n",
       "0                                       {'x': '[12]'}   \n",
       "1               {'element': ''Pt'', 'engine': 'None'}   \n",
       "2               {'element': ''Pd'', 'engine': 'None'}   \n",
       "3                                                  {}   \n",
       "4   {'element': ''Si'', 'engine': 'hash_d87d4a45cd...   \n",
       "5   {'element': ''Pt'', 'engine': 'hash_d87d4a45cd...   \n",
       "6   {'element': ''Ni'', 'parameters': 'InputElasti...   \n",
       "7   {'element': ''Al'', 'parameters': 'InputElasti...   \n",
       "8   {'element': ''Fe'', 'parameters': 'InputElasti...   \n",
       "9   {'element': ''Al'', 'parameters': 'InputElasti...   \n",
       "10                                      {'x': '[17]'}   \n",
       "11  {'element': ''Fe'', 'parameters': 'InputElasti...   \n",
       "12  {'element': ''Ni'', 'parameters': 'InputElasti...   \n",
       "13  {'element': ''Ni'', 'parameters': 'InputElasti...   \n",
       "14  {'element': ''Al'', 'parameters': 'InputElasti...   \n",
       "15  {'element': ''Fe'', 'parameters': 'InputElasti...   \n",
       "\n",
       "                                              outputs  output_ready file_path  \n",
       "0                     {'sin': 'array([-0.53657292])'}          True            \n",
       "1   {'chemical_potential': '-0.00012460841212913465'}          True            \n",
       "2     {'chemical_potential': '0.0003422625372841992'}          True            \n",
       "3                                                None         False            \n",
       "4        {'chemical_potential': '-5.417845726013184'}          True            \n",
       "5        {'chemical_potential': '-6.065089225769043'}          True            \n",
       "6                        {'BV': '207.85455655695247'}          True            \n",
       "7                        {'BV': '52.969913065609525'}          True            \n",
       "8                         {'BV': '94.53896702381144'}          True            \n",
       "9                        {'BV': '53.492619696930966'}          True            \n",
       "10                           {'sin': '[-0.96139749]'}          True            \n",
       "11                        {'BV': '95.77678912577906'}          True            \n",
       "12                       {'BV': '199.12194719810964'}          True            \n",
       "13                       {'BV': '215.11876942472904'}          True            \n",
       "14                       {'BV': '55.039969796271386'}          True            \n",
       "15                        {'BV': '94.35657675693606'}          True            "
      ]
     },
     "execution_count": 19,
     "metadata": {},
     "output_type": "execute_result"
    }
   ],
   "source": [
    "hs.list_table(db)"
   ]
  },
  {
   "cell_type": "code",
   "execution_count": 20,
   "id": "fce6551d-5591-4479-adaa-5d595bd1513c",
   "metadata": {},
   "outputs": [
    {
     "name": "stdout",
     "output_type": "stream",
     "text": [
      "node with id=2 is loaded rather than recomputed\n"
     ]
    }
   ],
   "source": [
    "sin = Workflow.create.math.Sin(x=[12])\n",
    "sin12 = hs.run_node(sin, db, verbose=True)"
   ]
  },
  {
   "cell_type": "code",
   "execution_count": 21,
   "id": "9ef54781-b6fb-48e9-b67f-cc4c93e924c8",
   "metadata": {},
   "outputs": [
    {
     "data": {
      "application/json": {
       "connected": false,
       "fully_connected": false,
       "inputs": {
        "channels": {
         "x": {
          "connected": false,
          "connections": [],
          "label": "x",
          "ready": true,
          "type_hint": "typing.Union[list, numpy.ndarray, NoneType]",
          "value": "[12]"
         }
        },
        "connected": false,
        "fully_connected": false,
        "label": "Inputs",
        "ready": true
       },
       "label": "Sin",
       "outputs": {
        "channels": {
         "sin": {
          "connected": false,
          "connections": [],
          "label": "sin",
          "ready": false,
          "type_hint": "None",
          "value": "NOT_DATA"
         }
        },
        "connected": false,
        "fully_connected": false,
        "label": "OutputsWithInjection",
        "ready": false
       },
       "ready": true,
       "signals": {
        "input": {
         "channels": {
          "accumulate_and_run": {
           "callback": "run",
           "connected": false,
           "connections": [],
           "label": "accumulate_and_run"
          },
          "run": {
           "callback": "run",
           "connected": false,
           "connections": [],
           "label": "run"
          }
         },
         "connected": false,
         "fully_connected": false,
         "label": "InputSignals"
        },
        "output": {
         "channels": {
          "ran": {
           "connected": false,
           "connections": [],
           "label": "ran"
          }
         },
         "connected": false,
         "fully_connected": false,
         "label": "OutputSignals"
        }
       }
      },
      "text/plain": [
       "<node_library.math.Sin at 0x179b44ad0>"
      ]
     },
     "execution_count": 21,
     "metadata": {},
     "output_type": "execute_result"
    }
   ],
   "source": [
    "sin"
   ]
  },
  {
   "cell_type": "code",
   "execution_count": 22,
   "id": "374ce891-c254-4187-aec7-e9ad0a9d137f",
   "metadata": {},
   "outputs": [
    {
     "data": {
      "application/json": {
       "connected": false,
       "connections": [],
       "label": "sin",
       "ready": false,
       "type_hint": "None",
       "value": "NOT_DATA"
      },
      "text/plain": [
       "<pyiron_workflow.mixin.injection.OutputDataWithInjection at 0x179b46710>"
      ]
     },
     "execution_count": 22,
     "metadata": {},
     "output_type": "execute_result"
    }
   ],
   "source": [
    "sin.outputs.sin"
   ]
  },
  {
   "cell_type": "code",
   "execution_count": 23,
   "id": "d1d4ba3b-78e9-4960-9f58-2cd40b7aba28",
   "metadata": {},
   "outputs": [
    {
     "name": "stdout",
     "output_type": "stream",
     "text": [
      "Node id: 0 does not exist\n",
      "Node id: 1, inputs: [17], outputs: [-0.96139749]\n",
      "Node id: 2, inputs: [12], outputs: np.array([-0.53657292])\n",
      "CPU times: user 5.27 ms, sys: 2.91 ms, total: 8.18 ms\n",
      "Wall time: 88.1 ms\n"
     ]
    }
   ],
   "source": [
    "%%time\n",
    "for node_id in range(3):\n",
    "    sin2 = hs.get_node_from_db_id(node_id, db)\n",
    "    if sin2 is not None:\n",
    "        print (f'Node id: {node_id}, inputs: {sin2.inputs.x.value}, outputs: {sin2.outputs.sin.value}')\n",
    "    else:\n",
    "        print (f'Node id: {node_id} does not exist')"
   ]
  },
  {
   "cell_type": "markdown",
   "id": "041d392f-9c2c-459c-ab3c-7db65b2bf2c7",
   "metadata": {},
   "source": [
    "### Real world example"
   ]
  },
  {
   "cell_type": "code",
   "execution_count": 24,
   "id": "11cc7a4a-ff6f-4452-bc21-1ea9c8171bc2",
   "metadata": {},
   "outputs": [],
   "source": [
    "from pyiron_workflow import Workflow                                                                        \n",
    "                                                                                                         \n",
    "# Register the necessary node packages                                                                      \n",
    "Workflow.register(\"node_library.atomistic\", \"atomistic\") "
   ]
  },
  {
   "cell_type": "code",
   "execution_count": 25,
   "id": "cf276c2a-ede2-4506-8762-a5c15ee55a17",
   "metadata": {},
   "outputs": [
    {
     "data": {
      "text/plain": [
       "{'chemical_potential': -0.00012460841212913465}"
      ]
     },
     "execution_count": 25,
     "metadata": {},
     "output_type": "execute_result"
    }
   ],
   "source": [
    "get_pot = Workflow.create.atomistic.property.thermodynamics.get_chemical_potential(element='Pt')\n",
    "get_pot.run()"
   ]
  },
  {
   "cell_type": "code",
   "execution_count": 26,
   "id": "fcd0a6fe-8b9f-4175-91e4-dc4886d46b8e",
   "metadata": {},
   "outputs": [
    {
     "data": {
      "application/json": {
       "label": "get_chemical_potential",
       "nodes": {
        "bulk": {
         "connected": true,
         "fully_connected": false,
         "inputs": {
          "channels": {
           "a": {
            "connected": false,
            "connections": [],
            "label": "a",
            "ready": true,
            "type_hint": "None",
            "value": "None"
           },
           "c": {
            "connected": false,
            "connections": [],
            "label": "c",
            "ready": true,
            "type_hint": "None",
            "value": "None"
           },
           "covera": {
            "connected": false,
            "connections": [],
            "label": "covera",
            "ready": true,
            "type_hint": "None",
            "value": "None"
           },
           "crystalstructure": {
            "connected": false,
            "connections": [],
            "label": "crystalstructure",
            "ready": true,
            "type_hint": "None",
            "value": "None"
           },
           "cubic": {
            "connected": false,
            "connections": [],
            "label": "cubic",
            "ready": true,
            "type_hint": "None",
            "value": "False"
           },
           "name": {
            "connected": false,
            "connections": [],
            "label": "name",
            "ready": true,
            "type_hint": "None",
            "value": "'Pt'"
           },
           "orthorhombic": {
            "connected": false,
            "connections": [],
            "label": "orthorhombic",
            "ready": true,
            "type_hint": "None",
            "value": "False"
           },
           "u": {
            "connected": false,
            "connections": [],
            "label": "u",
            "ready": true,
            "type_hint": "None",
            "value": "None"
           }
          },
          "connected": false,
          "fully_connected": false,
          "label": "Inputs",
          "ready": true
         },
         "label": "bulk",
         "outputs": {
          "channels": {
           "structure": {
            "connected": true,
            "connections": [
             "n_atoms.structure",
             "minimize.structure"
            ],
            "label": "structure",
            "ready": true,
            "type_hint": "None",
            "value": "Pt: [0. 0. 0.]\ntags: \n    indices: [0]\npbc: [ True  True  True]\ncell: \nCell([[0.0, 1.96, 1.96], [1.96, 0.0, 1.96], [1.96, 1.96, 0.0]])\n"
           }
          },
          "connected": true,
          "fully_connected": true,
          "label": "OutputsWithInjection",
          "ready": true
         },
         "ready": true,
         "signals": {
          "input": {
           "channels": {
            "accumulate_and_run": {
             "callback": "run",
             "connected": false,
             "connections": [],
             "label": "accumulate_and_run"
            },
            "run": {
             "callback": "run",
             "connected": false,
             "connections": [],
             "label": "run"
            }
           },
           "connected": false,
           "fully_connected": false,
           "label": "InputSignals"
          },
          "output": {
           "channels": {
            "ran": {
             "connected": true,
             "connections": [
              "n_atoms.accumulate_and_run",
              "minimize.accumulate_and_run"
             ],
             "label": "ran"
            }
           },
           "connected": true,
           "fully_connected": true,
           "label": "OutputSignals"
          }
         }
        },
        "energy": {
         "connected": true,
         "fully_connected": false,
         "inputs": {
          "channels": {
           "calculator": {
            "connected": true,
            "connections": [
             "minimize.out"
            ],
            "label": "calculator",
            "ready": true,
            "type_hint": "typing.Union[node_library.atomistic.calculator.data.OutputCalcMinimize, node_library.atomistic.calculator.data.OutputCalcStatic, NoneType]",
            "value": "OutputCalcMinimize(initial=OutputCalcStatic(energy=-0.00012460841212913465, force=None, stress=None, structure=None, atomic_energies=None), final=OutputCalcStatic(energy=-0.00012460841212913465, force=None, stress=None, structure=Pt: [0. 0. 0.]\ntags: \n    indices: [0]\npbc: [ True  True  True]\ncell: \nCell([[0.0, 1.96, 1.96], [1.96, 0.0, 1.96], [1.96, 1.96, 0.0]])\n, atomic_energies=None))"
           }
          },
          "connected": true,
          "fully_connected": true,
          "label": "Inputs",
          "ready": true
         },
         "label": "energy",
         "outputs": {
          "channels": {
           "energy_last": {
            "connected": true,
            "connections": [
             "energy__energy_last_Divide_n_atoms__number_of_atoms.obj"
            ],
            "label": "energy_last",
            "ready": true,
            "type_hint": "<class 'float'>",
            "value": "-0.00012460841212913465"
           }
          },
          "connected": true,
          "fully_connected": true,
          "label": "OutputsWithInjection",
          "ready": true
         },
         "ready": true,
         "signals": {
          "input": {
           "channels": {
            "accumulate_and_run": {
             "callback": "run",
             "connected": true,
             "connections": [
              "minimize.ran"
             ],
             "label": "accumulate_and_run"
            },
            "run": {
             "callback": "run",
             "connected": false,
             "connections": [],
             "label": "run"
            }
           },
           "connected": true,
           "fully_connected": false,
           "label": "InputSignals"
          },
          "output": {
           "channels": {
            "ran": {
             "connected": true,
             "connections": [
              "energy__energy_last_Divide_n_atoms__number_of_atoms.accumulate_and_run"
             ],
             "label": "ran"
            }
           },
           "connected": true,
           "fully_connected": true,
           "label": "OutputSignals"
          }
         }
        },
        "energy__energy_last_Divide_n_atoms__number_of_atoms": {
         "connected": true,
         "fully_connected": false,
         "inputs": {
          "channels": {
           "obj": {
            "connected": true,
            "connections": [
             "energy.energy_last"
            ],
            "label": "obj",
            "ready": true,
            "type_hint": "None",
            "value": "-0.00012460841212913465"
           },
           "other": {
            "connected": true,
            "connections": [
             "n_atoms.number_of_atoms"
            ],
            "label": "other",
            "ready": true,
            "type_hint": "None",
            "value": "1"
           }
          },
          "connected": true,
          "fully_connected": true,
          "label": "Inputs",
          "ready": true
         },
         "label": "energy__energy_last_Divide_n_atoms__number_of_atoms",
         "outputs": {
          "channels": {
           "truediv": {
            "connected": false,
            "connections": [],
            "label": "truediv",
            "ready": true,
            "type_hint": "None",
            "value": "-0.00012460841212913465"
           }
          },
          "connected": false,
          "fully_connected": false,
          "label": "OutputsWithInjection",
          "ready": true
         },
         "ready": true,
         "signals": {
          "input": {
           "channels": {
            "accumulate_and_run": {
             "callback": "run",
             "connected": true,
             "connections": [
              "energy.ran",
              "n_atoms.ran"
             ],
             "label": "accumulate_and_run"
            },
            "run": {
             "callback": "run",
             "connected": false,
             "connections": [],
             "label": "run"
            }
           },
           "connected": true,
           "fully_connected": false,
           "label": "InputSignals"
          },
          "output": {
           "channels": {
            "ran": {
             "connected": false,
             "connections": [],
             "label": "ran"
            }
           },
           "connected": false,
           "fully_connected": false,
           "label": "OutputSignals"
          }
         }
        },
        "minimize": {
         "connected": true,
         "fully_connected": false,
         "inputs": {
          "channels": {
           "engine": {
            "connected": false,
            "connections": [],
            "label": "engine",
            "ready": true,
            "type_hint": "None",
            "value": "None"
           },
           "fmax": {
            "connected": false,
            "connections": [],
            "label": "fmax",
            "ready": true,
            "type_hint": "None",
            "value": "0.005"
           },
           "log_file": {
            "connected": false,
            "connections": [],
            "label": "log_file",
            "ready": true,
            "type_hint": "None",
            "value": "'tmp.log'"
           },
           "structure": {
            "connected": true,
            "connections": [
             "bulk.structure"
            ],
            "label": "structure",
            "ready": true,
            "type_hint": "None",
            "value": "Pt: [0. 0. 0.]\ntags: \n    indices: [0]\npbc: [ True  True  True]\ncell: \nCell([[0.0, 1.96, 1.96], [1.96, 0.0, 1.96], [1.96, 1.96, 0.0]])\n"
           }
          },
          "connected": true,
          "fully_connected": false,
          "label": "Inputs",
          "ready": true
         },
         "label": "minimize",
         "outputs": {
          "channels": {
           "out": {
            "connected": true,
            "connections": [
             "energy.calculator"
            ],
            "label": "out",
            "ready": true,
            "type_hint": "None",
            "value": "OutputCalcMinimize(initial=OutputCalcStatic(energy=-0.00012460841212913465, force=None, stress=None, structure=None, atomic_energies=None), final=OutputCalcStatic(energy=-0.00012460841212913465, force=None, stress=None, structure=Pt: [0. 0. 0.]\ntags: \n    indices: [0]\npbc: [ True  True  True]\ncell: \nCell([[0.0, 1.96, 1.96], [1.96, 0.0, 1.96], [1.96, 1.96, 0.0]])\n, atomic_energies=None))"
           }
          },
          "connected": true,
          "fully_connected": true,
          "label": "OutputsWithInjection",
          "ready": true
         },
         "ready": true,
         "signals": {
          "input": {
           "channels": {
            "accumulate_and_run": {
             "callback": "run",
             "connected": true,
             "connections": [
              "bulk.ran"
             ],
             "label": "accumulate_and_run"
            },
            "run": {
             "callback": "run",
             "connected": false,
             "connections": [],
             "label": "run"
            }
           },
           "connected": true,
           "fully_connected": false,
           "label": "InputSignals"
          },
          "output": {
           "channels": {
            "ran": {
             "connected": true,
             "connections": [
              "energy.accumulate_and_run"
             ],
             "label": "ran"
            }
           },
           "connected": true,
           "fully_connected": true,
           "label": "OutputSignals"
          }
         }
        },
        "n_atoms": {
         "connected": true,
         "fully_connected": false,
         "inputs": {
          "channels": {
           "structure": {
            "connected": true,
            "connections": [
             "bulk.structure"
            ],
            "label": "structure",
            "ready": true,
            "type_hint": "typing.Optional[ase.atoms.Atoms]",
            "value": "Pt: [0. 0. 0.]\ntags: \n    indices: [0]\npbc: [ True  True  True]\ncell: \nCell([[0.0, 1.96, 1.96], [1.96, 0.0, 1.96], [1.96, 1.96, 0.0]])\n"
           }
          },
          "connected": true,
          "fully_connected": true,
          "label": "Inputs",
          "ready": true
         },
         "label": "n_atoms",
         "outputs": {
          "channels": {
           "number_of_atoms": {
            "connected": true,
            "connections": [
             "energy__energy_last_Divide_n_atoms__number_of_atoms.other"
            ],
            "label": "number_of_atoms",
            "ready": true,
            "type_hint": "<class 'int'>",
            "value": "1"
           }
          },
          "connected": true,
          "fully_connected": true,
          "label": "OutputsWithInjection",
          "ready": true
         },
         "ready": true,
         "signals": {
          "input": {
           "channels": {
            "accumulate_and_run": {
             "callback": "run",
             "connected": true,
             "connections": [
              "bulk.ran"
             ],
             "label": "accumulate_and_run"
            },
            "run": {
             "callback": "run",
             "connected": false,
             "connections": [],
             "label": "run"
            }
           },
           "connected": true,
           "fully_connected": false,
           "label": "InputSignals"
          },
          "output": {
           "channels": {
            "ran": {
             "connected": true,
             "connections": [
              "energy__energy_last_Divide_n_atoms__number_of_atoms.accumulate_and_run"
             ],
             "label": "ran"
            }
           },
           "connected": true,
           "fully_connected": true,
           "label": "OutputSignals"
          }
         }
        }
       }
      },
      "text/plain": [
       "<node_library.atomistic.property.thermodynamics.macro_node_factory.get_chemical_potential at 0x179b84ad0>"
      ]
     },
     "execution_count": 26,
     "metadata": {},
     "output_type": "execute_result"
    }
   ],
   "source": [
    "get_pot  # why are inputs/outputs for macro not visible?"
   ]
  },
  {
   "cell_type": "code",
   "execution_count": 27,
   "id": "da543ab2-874b-4c48-ab3e-a226ef335119",
   "metadata": {},
   "outputs": [
    {
     "data": {
      "text/plain": [
       "3"
      ]
     },
     "execution_count": 27,
     "metadata": {},
     "output_type": "execute_result"
    }
   ],
   "source": [
    "hs.save_node(get_pot, db)"
   ]
  },
  {
   "cell_type": "code",
   "execution_count": 28,
   "id": "0ce87c3e-25e3-44a2-b5ee-893b0f075537",
   "metadata": {},
   "outputs": [
    {
     "data": {
      "text/html": [
       "<div>\n",
       "<style scoped>\n",
       "    .dataframe tbody tr th:only-of-type {\n",
       "        vertical-align: middle;\n",
       "    }\n",
       "\n",
       "    .dataframe tbody tr th {\n",
       "        vertical-align: top;\n",
       "    }\n",
       "\n",
       "    .dataframe thead th {\n",
       "        text-align: right;\n",
       "    }\n",
       "</style>\n",
       "<table border=\"1\" class=\"dataframe\">\n",
       "  <thead>\n",
       "    <tr style=\"text-align: right;\">\n",
       "      <th></th>\n",
       "      <th>node_id</th>\n",
       "      <th>name</th>\n",
       "      <th>hash_value</th>\n",
       "      <th>lib_path</th>\n",
       "      <th>creation_date</th>\n",
       "      <th>inputs</th>\n",
       "      <th>outputs</th>\n",
       "      <th>output_ready</th>\n",
       "      <th>file_path</th>\n",
       "    </tr>\n",
       "  </thead>\n",
       "  <tbody>\n",
       "    <tr>\n",
       "      <th>0</th>\n",
       "      <td>2</td>\n",
       "      <td></td>\n",
       "      <td>3d4f127b05459a1d1dda98bc3e6f10176e09f27f3ab9b1...</td>\n",
       "      <td>node_library/math/Sin</td>\n",
       "      <td>2024-06-16 12:29:01.678058</td>\n",
       "      <td>{'x': '[12]'}</td>\n",
       "      <td>{'sin': 'array([-0.53657292])'}</td>\n",
       "      <td>True</td>\n",
       "      <td></td>\n",
       "    </tr>\n",
       "    <tr>\n",
       "      <th>1</th>\n",
       "      <td>3</td>\n",
       "      <td></td>\n",
       "      <td>12201da17c241990e5b7725a62de4189bea0cf57ad462c...</td>\n",
       "      <td>node_library/atomistic/property/thermodynamics...</td>\n",
       "      <td>2024-06-16 12:29:03.873881</td>\n",
       "      <td>{'element': ''Pt'', 'engine': 'None'}</td>\n",
       "      <td>{'chemical_potential': '-0.00012460841212913465'}</td>\n",
       "      <td>True</td>\n",
       "      <td></td>\n",
       "    </tr>\n",
       "    <tr>\n",
       "      <th>2</th>\n",
       "      <td>4</td>\n",
       "      <td></td>\n",
       "      <td>0b26dce95241b25be07d968f3a10863d08d1edace00830...</td>\n",
       "      <td>node_library/atomistic/property/thermodynamics...</td>\n",
       "      <td>2024-06-16 12:29:04.091826</td>\n",
       "      <td>{'element': ''Pd'', 'engine': 'None'}</td>\n",
       "      <td>{'chemical_potential': '0.0003422625372841992'}</td>\n",
       "      <td>True</td>\n",
       "      <td></td>\n",
       "    </tr>\n",
       "    <tr>\n",
       "      <th>3</th>\n",
       "      <td>5</td>\n",
       "      <td></td>\n",
       "      <td>d87d4a45cd97ce5e8787c85826781fbc3adf72afc7cef3...</td>\n",
       "      <td>node_library/atomistic/engine/ase/M3GNet</td>\n",
       "      <td>2024-06-16 12:29:04.265562</td>\n",
       "      <td>{}</td>\n",
       "      <td>None</td>\n",
       "      <td>False</td>\n",
       "      <td></td>\n",
       "    </tr>\n",
       "    <tr>\n",
       "      <th>4</th>\n",
       "      <td>6</td>\n",
       "      <td></td>\n",
       "      <td>b7758afe33a8f95d60c18444dee227925a7112a131642a...</td>\n",
       "      <td>node_library/atomistic/property/thermodynamics...</td>\n",
       "      <td>2024-06-16 12:29:04.268949</td>\n",
       "      <td>{'element': ''Si'', 'engine': 'hash_d87d4a45cd...</td>\n",
       "      <td>{'chemical_potential': '-5.417845726013184'}</td>\n",
       "      <td>True</td>\n",
       "      <td></td>\n",
       "    </tr>\n",
       "    <tr>\n",
       "      <th>5</th>\n",
       "      <td>7</td>\n",
       "      <td></td>\n",
       "      <td>4aa32e7e995920ffee1b936fdc0b3e570ffa586fc14080...</td>\n",
       "      <td>node_library/atomistic/property/thermodynamics...</td>\n",
       "      <td>2024-06-16 12:30:17.734841</td>\n",
       "      <td>{'element': ''Pt'', 'engine': 'hash_d87d4a45cd...</td>\n",
       "      <td>{'chemical_potential': '-6.065089225769043'}</td>\n",
       "      <td>True</td>\n",
       "      <td></td>\n",
       "    </tr>\n",
       "    <tr>\n",
       "      <th>6</th>\n",
       "      <td>8</td>\n",
       "      <td></td>\n",
       "      <td>7448b4db2e39e5e2946cd2c9072abbe4d83b003a0f6257...</td>\n",
       "      <td>None/compute_elastic_constants</td>\n",
       "      <td>2024-06-16 14:02:36.974349</td>\n",
       "      <td>{'element': ''Ni'', 'parameters': 'InputElasti...</td>\n",
       "      <td>{'BV': '207.85455655695247'}</td>\n",
       "      <td>True</td>\n",
       "      <td></td>\n",
       "    </tr>\n",
       "    <tr>\n",
       "      <th>7</th>\n",
       "      <td>10</td>\n",
       "      <td></td>\n",
       "      <td>f91ec68151c269c8218b56bb59ff9f17a37468e66cb1f0...</td>\n",
       "      <td>None/compute_elastic_constants</td>\n",
       "      <td>2024-06-16 14:34:35.371983</td>\n",
       "      <td>{'element': ''Al'', 'parameters': 'InputElasti...</td>\n",
       "      <td>{'BV': '52.969913065609525'}</td>\n",
       "      <td>True</td>\n",
       "      <td></td>\n",
       "    </tr>\n",
       "    <tr>\n",
       "      <th>8</th>\n",
       "      <td>11</td>\n",
       "      <td></td>\n",
       "      <td>7244741b1037ccd54a8efc88a28544191fac0e7aa3634a...</td>\n",
       "      <td>None/compute_elastic_constants</td>\n",
       "      <td>2024-06-16 14:34:41.006448</td>\n",
       "      <td>{'element': ''Fe'', 'parameters': 'InputElasti...</td>\n",
       "      <td>{'BV': '94.53896702381144'}</td>\n",
       "      <td>True</td>\n",
       "      <td></td>\n",
       "    </tr>\n",
       "    <tr>\n",
       "      <th>9</th>\n",
       "      <td>16</td>\n",
       "      <td></td>\n",
       "      <td>09d5b6e123656924f229544e30232a4b7901135de7f6ba...</td>\n",
       "      <td>None/compute_elastic_constants</td>\n",
       "      <td>2024-06-16 15:02:39.167414</td>\n",
       "      <td>{'element': ''Al'', 'parameters': 'InputElasti...</td>\n",
       "      <td>{'BV': '53.492619696930966'}</td>\n",
       "      <td>True</td>\n",
       "      <td></td>\n",
       "    </tr>\n",
       "    <tr>\n",
       "      <th>10</th>\n",
       "      <td>1</td>\n",
       "      <td></td>\n",
       "      <td>c16d79b83fad085c61d52223687f65ac5f258005921c83...</td>\n",
       "      <td>node_library/math/Sin</td>\n",
       "      <td>2024-06-16 12:28:27.914697</td>\n",
       "      <td>{'x': '[17]'}</td>\n",
       "      <td>{'sin': '[-0.96139749]'}</td>\n",
       "      <td>True</td>\n",
       "      <td></td>\n",
       "    </tr>\n",
       "    <tr>\n",
       "      <th>11</th>\n",
       "      <td>14</td>\n",
       "      <td></td>\n",
       "      <td>8c37539d8bf97af7109a41494c38be855d28aa30d178b6...</td>\n",
       "      <td>None/compute_elastic_constants</td>\n",
       "      <td>2024-06-16 14:41:23.768186</td>\n",
       "      <td>{'element': ''Fe'', 'parameters': 'InputElasti...</td>\n",
       "      <td>{'BV': '95.77678912577906'}</td>\n",
       "      <td>True</td>\n",
       "      <td></td>\n",
       "    </tr>\n",
       "    <tr>\n",
       "      <th>12</th>\n",
       "      <td>15</td>\n",
       "      <td></td>\n",
       "      <td>00352e9b8827d9f8760bb8d7d7b538ea569712a19a6c54...</td>\n",
       "      <td>None/compute_elastic_constants</td>\n",
       "      <td>2024-06-16 15:02:32.927979</td>\n",
       "      <td>{'element': ''Ni'', 'parameters': 'InputElasti...</td>\n",
       "      <td>{'BV': '199.12194719810964'}</td>\n",
       "      <td>True</td>\n",
       "      <td></td>\n",
       "    </tr>\n",
       "    <tr>\n",
       "      <th>13</th>\n",
       "      <td>17</td>\n",
       "      <td></td>\n",
       "      <td>7efde22c8ae69d7da09b577b69ee74e0b74fe3f891cea9...</td>\n",
       "      <td>None/compute_elastic_constants</td>\n",
       "      <td>2024-06-16 15:52:31.094140</td>\n",
       "      <td>{'element': ''Ni'', 'parameters': 'InputElasti...</td>\n",
       "      <td>{'BV': '215.11876942472904'}</td>\n",
       "      <td>True</td>\n",
       "      <td></td>\n",
       "    </tr>\n",
       "    <tr>\n",
       "      <th>14</th>\n",
       "      <td>18</td>\n",
       "      <td></td>\n",
       "      <td>33682b8b2bd1d646f08081acca6ed97bca54d3ab8730a0...</td>\n",
       "      <td>None/compute_elastic_constants</td>\n",
       "      <td>2024-06-16 15:52:37.297863</td>\n",
       "      <td>{'element': ''Al'', 'parameters': 'InputElasti...</td>\n",
       "      <td>{'BV': '55.039969796271386'}</td>\n",
       "      <td>True</td>\n",
       "      <td></td>\n",
       "    </tr>\n",
       "    <tr>\n",
       "      <th>15</th>\n",
       "      <td>19</td>\n",
       "      <td></td>\n",
       "      <td>f0af82047d99aa91807ce7ab1b36a92d986a996793cef4...</td>\n",
       "      <td>None/compute_elastic_constants</td>\n",
       "      <td>2024-06-16 15:52:43.070088</td>\n",
       "      <td>{'element': ''Fe'', 'parameters': 'InputElasti...</td>\n",
       "      <td>{'BV': '94.35657675693606'}</td>\n",
       "      <td>True</td>\n",
       "      <td></td>\n",
       "    </tr>\n",
       "  </tbody>\n",
       "</table>\n",
       "</div>"
      ],
      "text/plain": [
       "    node_id name                                         hash_value  \\\n",
       "0         2       3d4f127b05459a1d1dda98bc3e6f10176e09f27f3ab9b1...   \n",
       "1         3       12201da17c241990e5b7725a62de4189bea0cf57ad462c...   \n",
       "2         4       0b26dce95241b25be07d968f3a10863d08d1edace00830...   \n",
       "3         5       d87d4a45cd97ce5e8787c85826781fbc3adf72afc7cef3...   \n",
       "4         6       b7758afe33a8f95d60c18444dee227925a7112a131642a...   \n",
       "5         7       4aa32e7e995920ffee1b936fdc0b3e570ffa586fc14080...   \n",
       "6         8       7448b4db2e39e5e2946cd2c9072abbe4d83b003a0f6257...   \n",
       "7        10       f91ec68151c269c8218b56bb59ff9f17a37468e66cb1f0...   \n",
       "8        11       7244741b1037ccd54a8efc88a28544191fac0e7aa3634a...   \n",
       "9        16       09d5b6e123656924f229544e30232a4b7901135de7f6ba...   \n",
       "10        1       c16d79b83fad085c61d52223687f65ac5f258005921c83...   \n",
       "11       14       8c37539d8bf97af7109a41494c38be855d28aa30d178b6...   \n",
       "12       15       00352e9b8827d9f8760bb8d7d7b538ea569712a19a6c54...   \n",
       "13       17       7efde22c8ae69d7da09b577b69ee74e0b74fe3f891cea9...   \n",
       "14       18       33682b8b2bd1d646f08081acca6ed97bca54d3ab8730a0...   \n",
       "15       19       f0af82047d99aa91807ce7ab1b36a92d986a996793cef4...   \n",
       "\n",
       "                                             lib_path  \\\n",
       "0                               node_library/math/Sin   \n",
       "1   node_library/atomistic/property/thermodynamics...   \n",
       "2   node_library/atomistic/property/thermodynamics...   \n",
       "3            node_library/atomistic/engine/ase/M3GNet   \n",
       "4   node_library/atomistic/property/thermodynamics...   \n",
       "5   node_library/atomistic/property/thermodynamics...   \n",
       "6                      None/compute_elastic_constants   \n",
       "7                      None/compute_elastic_constants   \n",
       "8                      None/compute_elastic_constants   \n",
       "9                      None/compute_elastic_constants   \n",
       "10                              node_library/math/Sin   \n",
       "11                     None/compute_elastic_constants   \n",
       "12                     None/compute_elastic_constants   \n",
       "13                     None/compute_elastic_constants   \n",
       "14                     None/compute_elastic_constants   \n",
       "15                     None/compute_elastic_constants   \n",
       "\n",
       "                creation_date  \\\n",
       "0  2024-06-16 12:29:01.678058   \n",
       "1  2024-06-16 12:29:03.873881   \n",
       "2  2024-06-16 12:29:04.091826   \n",
       "3  2024-06-16 12:29:04.265562   \n",
       "4  2024-06-16 12:29:04.268949   \n",
       "5  2024-06-16 12:30:17.734841   \n",
       "6  2024-06-16 14:02:36.974349   \n",
       "7  2024-06-16 14:34:35.371983   \n",
       "8  2024-06-16 14:34:41.006448   \n",
       "9  2024-06-16 15:02:39.167414   \n",
       "10 2024-06-16 12:28:27.914697   \n",
       "11 2024-06-16 14:41:23.768186   \n",
       "12 2024-06-16 15:02:32.927979   \n",
       "13 2024-06-16 15:52:31.094140   \n",
       "14 2024-06-16 15:52:37.297863   \n",
       "15 2024-06-16 15:52:43.070088   \n",
       "\n",
       "                                               inputs  \\\n",
       "0                                       {'x': '[12]'}   \n",
       "1               {'element': ''Pt'', 'engine': 'None'}   \n",
       "2               {'element': ''Pd'', 'engine': 'None'}   \n",
       "3                                                  {}   \n",
       "4   {'element': ''Si'', 'engine': 'hash_d87d4a45cd...   \n",
       "5   {'element': ''Pt'', 'engine': 'hash_d87d4a45cd...   \n",
       "6   {'element': ''Ni'', 'parameters': 'InputElasti...   \n",
       "7   {'element': ''Al'', 'parameters': 'InputElasti...   \n",
       "8   {'element': ''Fe'', 'parameters': 'InputElasti...   \n",
       "9   {'element': ''Al'', 'parameters': 'InputElasti...   \n",
       "10                                      {'x': '[17]'}   \n",
       "11  {'element': ''Fe'', 'parameters': 'InputElasti...   \n",
       "12  {'element': ''Ni'', 'parameters': 'InputElasti...   \n",
       "13  {'element': ''Ni'', 'parameters': 'InputElasti...   \n",
       "14  {'element': ''Al'', 'parameters': 'InputElasti...   \n",
       "15  {'element': ''Fe'', 'parameters': 'InputElasti...   \n",
       "\n",
       "                                              outputs  output_ready file_path  \n",
       "0                     {'sin': 'array([-0.53657292])'}          True            \n",
       "1   {'chemical_potential': '-0.00012460841212913465'}          True            \n",
       "2     {'chemical_potential': '0.0003422625372841992'}          True            \n",
       "3                                                None         False            \n",
       "4        {'chemical_potential': '-5.417845726013184'}          True            \n",
       "5        {'chemical_potential': '-6.065089225769043'}          True            \n",
       "6                        {'BV': '207.85455655695247'}          True            \n",
       "7                        {'BV': '52.969913065609525'}          True            \n",
       "8                         {'BV': '94.53896702381144'}          True            \n",
       "9                        {'BV': '53.492619696930966'}          True            \n",
       "10                           {'sin': '[-0.96139749]'}          True            \n",
       "11                        {'BV': '95.77678912577906'}          True            \n",
       "12                       {'BV': '199.12194719810964'}          True            \n",
       "13                       {'BV': '215.11876942472904'}          True            \n",
       "14                       {'BV': '55.039969796271386'}          True            \n",
       "15                        {'BV': '94.35657675693606'}          True            "
      ]
     },
     "execution_count": 28,
     "metadata": {},
     "output_type": "execute_result"
    }
   ],
   "source": [
    "hs.list_table(db)"
   ]
  },
  {
   "cell_type": "code",
   "execution_count": 29,
   "id": "97aada44-3954-4c64-b235-e4840fd03257",
   "metadata": {},
   "outputs": [],
   "source": [
    "get_pot2 = Workflow.create.atomistic.property.thermodynamics.get_chemical_potential(element='Pd')"
   ]
  },
  {
   "cell_type": "code",
   "execution_count": 30,
   "id": "0baeb3b6-59d7-4d2c-aa21-d34be592a24c",
   "metadata": {},
   "outputs": [
    {
     "name": "stdout",
     "output_type": "stream",
     "text": [
      "node with id=4 is loaded rather than recomputed\n"
     ]
    },
    {
     "data": {
      "text/plain": [
       "'Pd'"
      ]
     },
     "execution_count": 30,
     "metadata": {},
     "output_type": "execute_result"
    }
   ],
   "source": [
    "node = hs.run_node(get_pot2, db, verbose=True)\n",
    "node.inputs.element.value"
   ]
  },
  {
   "cell_type": "markdown",
   "id": "87ffcd8a-256c-4ca2-b47a-4f27a9d0f4b6",
   "metadata": {},
   "source": [
    "## Workflow with node as input (convert input node rather than its output to hash)"
   ]
  },
  {
   "cell_type": "markdown",
   "id": "a3d006fe-2e50-4e5d-aea9-2b0fd3177dd3",
   "metadata": {},
   "source": [
    "### Structure-repeat example"
   ]
  },
  {
   "cell_type": "code",
   "execution_count": 31,
   "id": "eaf8835d-b4d5-4c0c-be2b-195df3089690",
   "metadata": {},
   "outputs": [],
   "source": [
    "# The following construct is not working\n",
    "# To get it working we have to execute Al.run() first\n",
    "# This appears to be a bug, works with pull (intuitive?)\n",
    "\n",
    "Al = Workflow.create.atomistic.structure.build.bulk('Al')\n",
    "repeat = Workflow.create.atomistic.structure.transform.repeat(structure=Al, repeat_scalar=3)\n",
    "out = repeat.pull()"
   ]
  },
  {
   "cell_type": "code",
   "execution_count": 32,
   "id": "1c623706-864d-4d81-af65-dc78aa0f5bfe",
   "metadata": {},
   "outputs": [
    {
     "data": {
      "text/plain": [
       "'0bfedd3665f3b1bc1e81fdd02cd09865a4aa386eafb80048a5ae1bc9c5cce816'"
      ]
     },
     "execution_count": 32,
     "metadata": {},
     "output_type": "execute_result"
    }
   ],
   "source": [
    "inp_node = hs.get_all_connected_input_nodes(repeat)['structure']\n",
    "hs.get_node_hash(inp_node, db)"
   ]
  },
  {
   "cell_type": "markdown",
   "id": "e72c9b90-5c8f-4245-a4ba-772deae128b7",
   "metadata": {},
   "source": [
    "### Chemical potential - engine example"
   ]
  },
  {
   "cell_type": "code",
   "execution_count": 33,
   "id": "1296e25d-6e88-4bdc-902a-bb9945226373",
   "metadata": {},
   "outputs": [],
   "source": [
    "engine = Workflow.create.atomistic.engine.ase.M3GNet()"
   ]
  },
  {
   "cell_type": "code",
   "execution_count": 34,
   "id": "df47d5e2-caea-48fa-9af3-a9ffa9cae166",
   "metadata": {},
   "outputs": [],
   "source": [
    "elastic_M3GNet = Workflow.create.atomistic.property.thermodynamics.get_chemical_potential(element='Pt', engine=engine)"
   ]
  },
  {
   "cell_type": "code",
   "execution_count": 35,
   "id": "a47f2819-8448-4828-ab9c-83872e04db0d",
   "metadata": {},
   "outputs": [
    {
     "data": {
      "text/plain": [
       "7"
      ]
     },
     "execution_count": 35,
     "metadata": {},
     "output_type": "execute_result"
    }
   ],
   "source": [
    "hs.save_node(elastic_M3GNet, db) "
   ]
  },
  {
   "cell_type": "code",
   "execution_count": 36,
   "id": "7240fcea-840d-41cf-bbe5-98bac67956a6",
   "metadata": {},
   "outputs": [
    {
     "data": {
      "text/plain": [
       "{'chemical_potential': '-5.417845726013184'}"
      ]
     },
     "execution_count": 36,
     "metadata": {},
     "output_type": "execute_result"
    }
   ],
   "source": [
    "new_node = hs.get_node_from_db_id(6, db)\n",
    "hs.extract_node_output(new_node)"
   ]
  },
  {
   "cell_type": "code",
   "execution_count": 37,
   "id": "149c3dd7-985b-4560-8801-978f31dbad00",
   "metadata": {},
   "outputs": [
    {
     "data": {
      "text/plain": [
       "{'chemical_potential': '-5.417845726013184'}"
      ]
     },
     "execution_count": 37,
     "metadata": {},
     "output_type": "execute_result"
    }
   ],
   "source": [
    "hs.extract_node_output(hs.run_node(new_node, db))"
   ]
  },
  {
   "cell_type": "markdown",
   "id": "b0d9549e-137b-4dbc-8cf4-d382cda3b64e",
   "metadata": {},
   "source": [
    "#### Some TODO issues"
   ]
  },
  {
   "cell_type": "code",
   "execution_count": 38,
   "id": "21eded50-d33b-416d-9e95-9fddb3881c7c",
   "metadata": {},
   "outputs": [
    {
     "data": {
      "text/plain": [
       "{'element': \"'Si'\",\n",
       " 'engine': 'hash_d87d4a45cd97ce5e8787c85826781fbc3adf72afc7cef33e7efd1f2b68c7b5e9'}"
      ]
     },
     "execution_count": 38,
     "metadata": {},
     "output_type": "execute_result"
    }
   ],
   "source": [
    "# TODO: replace hash by node value (it works but is confusing)\n",
    "\n",
    "hs.extract_node_input(new_node, db)"
   ]
  },
  {
   "cell_type": "code",
   "execution_count": 39,
   "id": "aa4cdb65-d4ca-497b-b141-0e8d4885ea02",
   "metadata": {},
   "outputs": [],
   "source": [
    "hash = hs.extract_node_input(hs.get_node_from_db_id(7, db), db)['engine']\n",
    "engine_node = hs.eval_db_value(hash, db).pull()"
   ]
  },
  {
   "cell_type": "code",
   "execution_count": 40,
   "id": "d0c9be66-56d1-4385-894d-398f6abf75a9",
   "metadata": {},
   "outputs": [],
   "source": [
    "elastic_M3GNet.inputs.engine = hs.extract_node_input(hs.get_node_from_db_id(7, db), db)['engine']"
   ]
  },
  {
   "cell_type": "code",
   "execution_count": 41,
   "id": "0f38b65c-f3f4-48fe-a79d-190e19ca3e1f",
   "metadata": {},
   "outputs": [],
   "source": [
    "# it looks like the following assignment/connection does not work \n",
    "\n",
    "elastic_M3GNet.inputs.engine = engine_node"
   ]
  },
  {
   "cell_type": "code",
   "execution_count": 42,
   "id": "83484806-0e84-4f77-9ad6-ea6bc70f2fb1",
   "metadata": {},
   "outputs": [
    {
     "data": {
      "application/json": {
       "connected": true,
       "connections": [
        "M3GNet.engine"
       ],
       "label": "engine",
       "ready": true,
       "type_hint": "None",
       "value": "None"
      },
      "text/plain": [
       "<pyiron_workflow.channels.InputData at 0x185a8f990>"
      ]
     },
     "execution_count": 42,
     "metadata": {},
     "output_type": "execute_result"
    }
   ],
   "source": [
    "new_node.inputs.engine"
   ]
  },
  {
   "cell_type": "markdown",
   "id": "5ca0e7dc-9e36-40e5-a2a1-2eb6a8150d5d",
   "metadata": {},
   "source": [
    "### Elastic constants"
   ]
  },
  {
   "cell_type": "markdown",
   "id": "4ba84435-c0b4-4897-98ab-7b596f3e369b",
   "metadata": {},
   "source": [
    "#### With locally defined macro "
   ]
  },
  {
   "cell_type": "code",
   "execution_count": 43,
   "id": "0d7fc199-ee83-4f37-b7df-66aa8daa1070",
   "metadata": {},
   "outputs": [
    {
     "data": {
      "text/plain": [
       "{'BV': 207.85455655695247}"
      ]
     },
     "execution_count": 43,
     "metadata": {},
     "output_type": "execute_result"
    }
   ],
   "source": [
    "atomistic = Workflow.create.atomistic\n",
    "from node_library.atomistic.property.elastic import InputElasticTensor\n",
    "\n",
    "@Workflow.wrap.as_macro_node('BV')\n",
    "def compute_elastic_constants(wf, element='Fe', parameters=InputElasticTensor(eps_range=0.02)): # eps_range=0.01):\n",
    "    \n",
    "    wf.engine = atomistic.engine.ase.M3GNet()\n",
    "    wf.supercell = atomistic.structure.build.cubic_bulk_cell(element=element, cell_size=3, vacancy_index=0)\n",
    "    wf.calc = atomistic.calculator.ase.static(structure=wf.supercell, engine=wf.engine)\n",
    "    wf.elastic = atomistic.property.elastic.elastic_constants(structure=wf.supercell, engine=wf.engine, parameters=parameters)\n",
    "    return wf.elastic.outputs.elastic.BV\n",
    "    \n",
    "out = compute_elastic_constants(element='Ni').run() #iter(eps_range=np.linspace(1e-4, 1, 11))\n",
    "out"
   ]
  },
  {
   "cell_type": "code",
   "execution_count": 44,
   "id": "b4ea3222-5e7e-473c-98c9-5047d73bbdbb",
   "metadata": {},
   "outputs": [
    {
     "data": {
      "text/plain": [
       "{'BV': 207.85455655695247}"
      ]
     },
     "execution_count": 44,
     "metadata": {},
     "output_type": "execute_result"
    }
   ],
   "source": [
    "out"
   ]
  },
  {
   "cell_type": "code",
   "execution_count": 45,
   "id": "14b8326d-a270-4150-ae44-d63c03a0a299",
   "metadata": {},
   "outputs": [
    {
     "name": "stdout",
     "output_type": "stream",
     "text": [
      "NodeTable(id=17): Save your node class in a node_library and/or register it!\n",
      "NodeTable(id=18): Save your node class in a node_library and/or register it!\n",
      "NodeTable(id=19): Save your node class in a node_library and/or register it!\n"
     ]
    }
   ],
   "source": [
    "for el in ['Ni', 'Al', 'Fe']:\n",
    "    elastic_node = compute_elastic_constants(element=el, parameters=InputElasticTensor(eps_range=0.001))\n",
    "    hs.run_node(elastic_node, db)"
   ]
  },
  {
   "cell_type": "markdown",
   "id": "924a7f1e-d73a-442e-b087-8e4baeab8bce",
   "metadata": {},
   "source": [
    "Note: \n",
    "- Works well\n",
    "- But: for workflows/functions defined in notebook the node cannot be recreated (this is a fundamental issue, save code in db?)"
   ]
  },
  {
   "cell_type": "markdown",
   "id": "0ae8b9e2-50ac-4af3-b70c-2ea7d9e6dfee",
   "metadata": {},
   "source": [
    "#### With a node defined in the library"
   ]
  },
  {
   "cell_type": "code",
   "execution_count": 46,
   "id": "ad261120-79d9-49cb-906e-4f1eb932b839",
   "metadata": {},
   "outputs": [],
   "source": [
    "engine = Workflow.create.atomistic.engine.ase.M3GNet()\n",
    "structure = Workflow.create.atomistic.structure.build.bulk('Al', cubic=True)\n",
    "elastic = atomistic.property.elastic.elastic_constants(structure=structure, engine=engine) #, parameters=parameters)\n",
    "out = elastic.pull()"
   ]
  },
  {
   "cell_type": "markdown",
   "id": "29d52dec-76d0-4a2d-ad2c-e60e136464e6",
   "metadata": {},
   "source": [
    "#### Convert nested DataClass objects provided as string into nested dictionary (experimental)"
   ]
  },
  {
   "cell_type": "code",
   "execution_count": 47,
   "id": "f60b7ee8-6488-4f65-9d8b-c5902c953db4",
   "metadata": {},
   "outputs": [
    {
     "name": "stdout",
     "output_type": "stream",
     "text": [
      "Function: my_obj\n",
      "Arguments: ['my_obj(k1=1, k2=my_obj2(k11=1, k22=2), k3=my_obj3(k11=1, k22=2']\n"
     ]
    }
   ],
   "source": [
    "def split_func_and_args(input_string):\n",
    "    func_name = ''\n",
    "    args = []\n",
    "    bracket_counter = 0\n",
    "    temp_arg = ''\n",
    "\n",
    "    for i, char in enumerate(input_string):\n",
    "        if bracket_counter == 0 and char == '(':\n",
    "            func_name = input_string[:i].strip()\n",
    "\n",
    "        if char == '(':\n",
    "            bracket_counter += 1\n",
    "\n",
    "        if char == ')':\n",
    "            bracket_counter -= 1\n",
    "\n",
    "        if char == ',' and bracket_counter == 0:\n",
    "            args.append(temp_arg.strip())\n",
    "            temp_arg = ''\n",
    "        else:\n",
    "            temp_arg += char\n",
    "\n",
    "    args.append(temp_arg.strip().rstrip(')'))\n",
    "\n",
    "    return func_name, args\n",
    "\n",
    "input_string = 'my_obj(k1=1, k2=my_obj2(k11=1, k22=2), k3=my_obj3(k11=1, k22=2))'\n",
    "func, args = split_func_and_args(input_string)\n",
    "\n",
    "print(\"Function:\", func)\n",
    "print(\"Arguments:\", args)\n"
   ]
  },
  {
   "cell_type": "code",
   "execution_count": 48,
   "id": "3e5aaa6c-2811-4ce2-b3c4-4d34eabbe667",
   "metadata": {},
   "outputs": [],
   "source": [
    "def bracketed_split(string, delimiter, strip_brackets=False):\n",
    "    \"\"\" Split a string by the delimiter unless it is inside brackets.\n",
    "    e.g.\n",
    "        list(bracketed_split('abc,(def,ghi),jkl', delimiter=',')) == ['abc', '(def,ghi)', 'jkl']\n",
    "    \"\"\"\n",
    "\n",
    "    openers = '[{(<'\n",
    "    closers = ']})>'\n",
    "    opener_to_closer = dict(zip(openers, closers))\n",
    "    opening_bracket = dict()\n",
    "    current_string = ''\n",
    "    depth = 0\n",
    "    for c in string:\n",
    "        if c in openers:\n",
    "            depth += 1\n",
    "            opening_bracket[depth] = c\n",
    "            if strip_brackets and depth == 1:\n",
    "                continue\n",
    "        elif c in closers:\n",
    "            assert depth > 0, f\"You exited more brackets that we have entered in string {string}\"\n",
    "            assert c == opener_to_closer[opening_bracket[depth]], f\"Closing bracket {c} did not match opening bracket {opening_bracket[depth]} in string {string}\"\n",
    "            depth -= 1\n",
    "            if strip_brackets and depth == 0:\n",
    "                continue\n",
    "        if depth == 0 and c == delimiter:\n",
    "            yield current_string\n",
    "            current_string = ''\n",
    "        else:\n",
    "            current_string += c\n",
    "    assert depth == 0, f'You did not close all brackets in string {string}'\n",
    "    yield current_string"
   ]
  },
  {
   "cell_type": "code",
   "execution_count": 49,
   "id": "fb6b5a6d-f569-44a7-b33d-0b0ee4c6c7ef",
   "metadata": {},
   "outputs": [],
   "source": [
    "def split_func_and_args(input_string):\n",
    "    func_name = ''\n",
    "    args = ''\n",
    "    bracket_counter = 0\n",
    "\n",
    "    for i, char in enumerate(input_string):\n",
    "        if char == '(':\n",
    "            if bracket_counter == 0:\n",
    "                func_name = input_string[:i].strip()\n",
    "            bracket_counter += 1\n",
    "\n",
    "        if char == ')':\n",
    "            bracket_counter -= 1\n",
    "\n",
    "        if bracket_counter > 0 or (bracket_counter == 0 and char == ')'):\n",
    "            args += char\n",
    "\n",
    "    args = args[1:-1]  # remove first '(' and last ‘)‘\n",
    "    if 'array' in func_name:\n",
    "        # print ('func_array: ', func_name)\n",
    "        return None\n",
    "    if '[' in func_name:\n",
    "        print ('func_array: ', func_name)\n",
    "        return None    \n",
    "        \n",
    "    # print ('func: ', func_name)    \n",
    "\n",
    "    return args"
   ]
  },
  {
   "cell_type": "code",
   "execution_count": 50,
   "id": "e9bff1e3-1866-4d1b-a67f-6c4ddbd9adb3",
   "metadata": {},
   "outputs": [
    {
     "data": {
      "text/plain": [
       "['k1=1', ' k2=my_obj2(k11=1, k22=2)', ' k3=my_obj3(k21=1, k22=2)']"
      ]
     },
     "execution_count": 50,
     "metadata": {},
     "output_type": "execute_result"
    }
   ],
   "source": [
    "def strip_args(input_string):\n",
    "    inp_str = split_func_and_args(input_string)\n",
    "    if inp_str is None:\n",
    "        return None\n",
    "    return [s for s in bracketed_split(inp_str, delimiter=',')]\n",
    "\n",
    "input_string = 'my_obj(k1=1, k2=my_obj2(k11=1, k22=2), k3=my_obj3(k21=1, k22=2))'\n",
    "\n",
    "strip_args(input_string)"
   ]
  },
  {
   "cell_type": "code",
   "execution_count": 51,
   "id": "4e02b6ed-9a24-446f-bc66-7108c1b7d81a",
   "metadata": {},
   "outputs": [
    {
     "data": {
      "text/plain": [
       "{'k1': 1, 'k2': {'k11': 1, 'k22': 2}, 'k3': {'k21': 1, 'k22': 2}}"
      ]
     },
     "execution_count": 51,
     "metadata": {},
     "output_type": "execute_result"
    }
   ],
   "source": [
    "def str_to_dict(input_string):\n",
    "    arg_dict = dict()\n",
    "    if strip_args(input_string) is None:\n",
    "        #print ('input_str: ', input_string)\n",
    "        return input_string\n",
    "        \n",
    "    for arg in strip_args(input_string):\n",
    "        if '=' not in arg:\n",
    "            print (arg)\n",
    "            return None\n",
    "        key, val = arg.split('=', 1)\n",
    "        key = key.strip()\n",
    "        if '(' in arg:\n",
    "            arg_dict[key] = str_to_dict(val) \n",
    "        else:\n",
    "            arg_dict[key] = eval(val)\n",
    "    \n",
    "    return arg_dict\n",
    "\n",
    "str_to_dict(input_string)"
   ]
  },
  {
   "cell_type": "code",
   "execution_count": 52,
   "id": "7b249eca-1854-45ae-8bd2-d588aac392f9",
   "metadata": {},
   "outputs": [
    {
     "name": "stdout",
     "output_type": "stream",
     "text": [
      "func_array:  [[(1, 2),\n"
     ]
    },
    {
     "data": {
      "text/plain": [
       "{'k1': 1,\n",
       " 'k2': {'k11': 1, 'k22': 2},\n",
       " 'k3': {'k21': 1, 'k22': 'array([[1,2], [2,3]])'},\n",
       " 'k4': 'array([[(1,2)], [2,3]])',\n",
       " 'k5': '[[(1, 2), (1, 2)]]'}"
      ]
     },
     "execution_count": 52,
     "metadata": {},
     "output_type": "execute_result"
    }
   ],
   "source": [
    "input_string2 = 'my_obj(k1=1, k2=my_obj2(k11=1, k22=2), k3=my_obj3(k21=1, k22=array([[1,2], [2,3]])), k4=array([[(1,2)], [2,3]]), k5=[[(1, 2), (1, 2)]])'\n",
    "str_to_dict(input_string2)"
   ]
  },
  {
   "cell_type": "code",
   "execution_count": 53,
   "id": "ca65a174-02a6-4051-8c05-41c3181c7521",
   "metadata": {},
   "outputs": [
    {
     "ename": "NameError",
     "evalue": "name 'xx' is not defined",
     "output_type": "error",
     "traceback": [
      "\u001b[0;31m---------------------------------------------------------------------------\u001b[0m",
      "\u001b[0;31mNameError\u001b[0m                                 Traceback (most recent call last)",
      "Cell \u001b[0;32mIn[53], line 1\u001b[0m\n\u001b[0;32m----> 1\u001b[0m \u001b[43mxx\u001b[49m\n",
      "\u001b[0;31mNameError\u001b[0m: name 'xx' is not defined"
     ]
    }
   ],
   "source": [
    "xx"
   ]
  },
  {
   "cell_type": "code",
   "execution_count": null,
   "id": "efd7764d-35e5-43aa-9b4f-1c08dd57e3d8",
   "metadata": {},
   "outputs": [],
   "source": [
    "obj = elastic.outputs['elastic'].value['C_eigval']\n",
    "\n",
    "out_str = hs.extract_node_output(elastic, as_string=True)['elastic']"
   ]
  },
  {
   "cell_type": "code",
   "execution_count": null,
   "id": "d8f6bf97-7d1b-44c5-bf1f-e68bcc1eecde",
   "metadata": {},
   "outputs": [],
   "source": [
    "str_to_dict(out_str)"
   ]
  },
  {
   "cell_type": "code",
   "execution_count": null,
   "id": "6e04d017-815a-4251-9877-b8ab5f29d49a",
   "metadata": {},
   "outputs": [],
   "source": [
    "from node_library.atomistic.property.elastic import OutputElasticAnalysis\n",
    "import numpy as np\n",
    "from numpy._typing import NDArray\n",
    "\n",
    "class EigResult(NamedTuple):\n",
    "    eigenvalues: NDArray[Any]\n",
    "    eigenvectors: NDArray[Any]\n",
    "\n",
    "out_str = hs.extract_node_output(elastic, as_string=True)['elastic']\n",
    "eval(out_str.replace('array', 'np.array'))"
   ]
  },
  {
   "cell_type": "code",
   "execution_count": null,
   "id": "85daff11-72c2-4587-a2d9-04c49285e1e3",
   "metadata": {},
   "outputs": [],
   "source": [
    "xx"
   ]
  },
  {
   "cell_type": "code",
   "execution_count": null,
   "id": "378a29db-6f57-43d7-af42-e06f146c9a5e",
   "metadata": {},
   "outputs": [],
   "source": [
    "elastic_node"
   ]
  },
  {
   "cell_type": "code",
   "execution_count": null,
   "id": "de547081-a636-498e-80d7-c6986a221074",
   "metadata": {},
   "outputs": [],
   "source": [
    "hs.run_node(elastic_node, db)"
   ]
  },
  {
   "cell_type": "code",
   "execution_count": null,
   "id": "422fd3b0-0b5c-44c4-8ab8-08c5984fe868",
   "metadata": {},
   "outputs": [],
   "source": [
    "xx"
   ]
  },
  {
   "cell_type": "markdown",
   "id": "baa6db03-7ad4-422e-b0cd-bcd1c4fde383",
   "metadata": {},
   "source": [
    "### TODO"
   ]
  },
  {
   "cell_type": "markdown",
   "id": "f70443cc-b617-45e5-97ea-5ed7980187e1",
   "metadata": {},
   "source": [
    "Note: The following save command fails (problem in pyiron_workflow!)"
   ]
  },
  {
   "cell_type": "code",
   "execution_count": null,
   "id": "8074cea4-2b41-40a8-aa2e-f9cc16b20d80",
   "metadata": {},
   "outputs": [],
   "source": [
    "# get_pot.save()"
   ]
  },
  {
   "cell_type": "markdown",
   "id": "2770ba6d-827b-4dad-929b-21ab6cfb9215",
   "metadata": {},
   "source": [
    "What is the origin of array, which requires to convert array -> np.array in load_node_from_json?"
   ]
  },
  {
   "cell_type": "code",
   "execution_count": null,
   "id": "16248568-c3ed-4d5f-a906-30f7b7265eb0",
   "metadata": {},
   "outputs": [],
   "source": [
    "sin2.outputs.sin"
   ]
  },
  {
   "cell_type": "markdown",
   "id": "2b38e3f2-91b0-457d-8f13-4a361646992b",
   "metadata": {},
   "source": [
    "**TODO:** \n",
    "- For small output use db entry rather than writing file\n",
    "- What is the origin of array, which requires to convert array -> np.array in load_node_from_json?\n",
    "- Replace output of node by node hash for input into next node\n",
    "- add runtime to db\n",
    "- write output_dic to db rather than to file (if small) "
   ]
  },
  {
   "cell_type": "code",
   "execution_count": null,
   "id": "1c25992d-3a68-4ed0-87ef-6f5d49a664a3",
   "metadata": {},
   "outputs": [],
   "source": [
    "xx"
   ]
  },
  {
   "cell_type": "code",
   "execution_count": null,
   "id": "880d2466-ecc9-4eaa-8e76-b29cc4763e6c",
   "metadata": {},
   "outputs": [],
   "source": [
    "# hs.save_node(get_pot, db)"
   ]
  },
  {
   "cell_type": "markdown",
   "id": "3ab056df-529b-4d1e-9be5-d16a13ae83c7",
   "metadata": {},
   "source": [
    "#### Node not registered (not working - save fails)"
   ]
  },
  {
   "cell_type": "code",
   "execution_count": null,
   "id": "78395208-3bbb-4abe-9813-c075877dc7d0",
   "metadata": {},
   "outputs": [],
   "source": [
    "from pyiron_workflow import Workflow                                                                        \n",
    "                                                                                                         \n",
    "# Register the necessary node packages                                                                      \n",
    "Workflow.register(\"node_library.atomistic\", \"atomistic\")             "
   ]
  },
  {
   "cell_type": "code",
   "execution_count": null,
   "id": "4c36428a-58ad-44a7-ac1f-37b9e441fcb2",
   "metadata": {},
   "outputs": [],
   "source": [
    "atomistic = Workflow.create.atomistic\n",
    "from node_library.atomistic.property.elastic import InputElasticTensor\n",
    "\n",
    "@Workflow.wrap.as_macro_node('BV')\n",
    "def compute_elastic_constants(wf, element='Fe', parameters=InputElasticTensor(eps_range=0.02)): # eps_range=0.01):\n",
    "    \n",
    "    wf.engine = atomistic.engine.ase.M3GNet() #.run()\n",
    "    wf.supercell = atomistic.structure.build.cubic_bulk_cell(element=element, cell_size=3, vacancy_index=0)\n",
    "    wf.calc = atomistic.calculator.ase.static(structure=wf.supercell, engine=wf.engine)\n",
    "    wf.elastic = atomistic.property.elastic.elastic_constants(structure=wf.supercell, engine=wf.engine, parameters=parameters)\n",
    "    return wf.elastic.outputs.elastic.BV\n",
    "    \n",
    "out = compute_elastic_constants(element='Ni').run() #iter(eps_range=np.linspace(1e-4, 1, 11))\n",
    "out"
   ]
  },
  {
   "cell_type": "code",
   "execution_count": null,
   "id": "3a4dd3d8-105b-48c1-889b-f4b5ecec0cca",
   "metadata": {},
   "outputs": [],
   "source": [
    "node1 = compute_elastic_constants(element='Pt')\n",
    "node1.run()"
   ]
  },
  {
   "cell_type": "code",
   "execution_count": null,
   "id": "d6c9c80b-819d-43b8-b293-c29af32195f3",
   "metadata": {},
   "outputs": [],
   "source": [
    "di = [(label, channel) for label, channel in node.outputs.items()]\n",
    "di[0][1].value"
   ]
  },
  {
   "cell_type": "code",
   "execution_count": null,
   "id": "7a51cdc6-4d6d-4090-8121-64fbf42ef823",
   "metadata": {},
   "outputs": [],
   "source": [
    "node.storage_directory"
   ]
  },
  {
   "cell_type": "code",
   "execution_count": null,
   "id": "db41e1b3-07d2-4d5e-bb07-222084050637",
   "metadata": {},
   "outputs": [],
   "source": [
    "node.inputs.to_dict()['channels']"
   ]
  },
  {
   "cell_type": "code",
   "execution_count": null,
   "id": "fe751da3-e9dc-4694-885a-99a2828b0783",
   "metadata": {},
   "outputs": [],
   "source": [
    "hs.save_node(node, db)"
   ]
  },
  {
   "cell_type": "code",
   "execution_count": null,
   "id": "6ea70a8a-1cd2-4b9c-aeac-4048de81bff5",
   "metadata": {},
   "outputs": [],
   "source": []
  }
 ],
 "metadata": {
  "kernelspec": {
   "display_name": "Python 3 (ipykernel)",
   "language": "python",
   "name": "python3"
  },
  "language_info": {
   "codemirror_mode": {
    "name": "ipython",
    "version": 3
   },
   "file_extension": ".py",
   "mimetype": "text/x-python",
   "name": "python",
   "nbconvert_exporter": "python",
   "pygments_lexer": "ipython3",
   "version": "3.11.7"
  }
 },
 "nbformat": 4,
 "nbformat_minor": 5
}
