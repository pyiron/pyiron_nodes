{
 "cells": [
  {
   "cell_type": "code",
   "execution_count": 1,
   "id": "c26577d3-13fc-47cf-b18f-b4bf99d23661",
   "metadata": {},
   "outputs": [],
   "source": [
    "%config IPCompleter.evaluation='unsafe'"
   ]
  },
  {
   "cell_type": "code",
   "execution_count": 2,
   "id": "26ef046e-3fc6-484c-9a55-8c5fd108e15e",
   "metadata": {},
   "outputs": [],
   "source": [
    "import sys\n",
    "sys.path.append('/cmmc/ptmp/jyang/pyiron_nodes/pyiron_nodes')"
   ]
  },
  {
   "cell_type": "code",
   "execution_count": 3,
   "id": "f0d37293-93b0-412e-ad69-5671fc7dd477",
   "metadata": {},
   "outputs": [
    {
     "data": {
      "application/vnd.jupyter.widget-view+json": {
       "model_id": "a9b1b58bd4424293a3d62b20e29a4133",
       "version_major": 2,
       "version_minor": 0
      },
      "text/plain": []
     },
     "metadata": {},
     "output_type": "display_data"
    }
   ],
   "source": [
    "import pyiron_workflow\n",
    "from pyiron_nodes.atomistic.structure.build import Surface"
   ]
  },
  {
   "cell_type": "code",
   "execution_count": 4,
   "id": "b7ccbb9a-e70c-4c19-bccc-26c7a4fa1e6b",
   "metadata": {},
   "outputs": [],
   "source": [
    "from pyiron_nodes.atomistic.structure_sets.build import SurfaceSegregation"
   ]
  },
  {
   "cell_type": "code",
   "execution_count": 10,
   "id": "f3a5b963-9ae1-424b-85d0-aba76008ae7c",
   "metadata": {},
   "outputs": [],
   "source": [
    "struct_set = SurfaceSegregation('Cu', 'Au', 3, 10, 10.)"
   ]
  },
  {
   "cell_type": "code",
   "execution_count": 11,
   "id": "5f38e944-215c-4d95-9f8e-3c3e714ed6b3",
   "metadata": {},
   "outputs": [
    {
     "name": "stdout",
     "output_type": "stream",
     "text": [
      "90000000000000000000000000\n",
      "26000000000001000000000000\n",
      "04100200000000200000000000\n",
      "10060000000002000000000000\n",
      "01020020100000201000000000\n",
      "00300300000000000030000000\n",
      "00000600000000030000000000\n",
      "00006000000003000000000000\n",
      "00020001002000004000000000\n",
      "00100040000000000020020000\n",
      "00000120200000010012000000\n",
      "00002000030000300100000000\n",
      "00000021001000000002020100\n",
      "00000000040000010020002000\n",
      "00000000202000000004100000\n",
      "00001000000300003200000000\n",
      "00000000010200000002012010\n",
      "00000000003000000000300300\n",
      "00000003000000000000000600\n",
      "00000000000030000600000000\n",
      "00000000000020000000006001\n",
      "00000000000200000000100240\n",
      "00000000000010000000000062\n",
      "00000000000000000000000009\n"
     ]
    }
   ],
   "source": [
    "out = struct_set.run()"
   ]
  },
  {
   "cell_type": "code",
   "execution_count": 12,
   "id": "bc7a67d9-340a-4634-91a4-42a5c9f9fedf",
   "metadata": {},
   "outputs": [
    {
     "data": {
      "text/plain": [
       "24"
      ]
     },
     "execution_count": 12,
     "metadata": {},
     "output_type": "execute_result"
    }
   ],
   "source": [
    "len(out)"
   ]
  },
  {
   "cell_type": "code",
   "execution_count": 13,
   "id": "0cc92d0d-82fc-4305-8cc8-14624e9d0fe7",
   "metadata": {},
   "outputs": [
    {
     "data": {
      "application/vnd.jupyter.widget-view+json": {
       "model_id": "7eb1432c0d0a40ebac12bc14c13b38ce",
       "version_major": 2,
       "version_minor": 0
      },
      "text/plain": [
       "NGLWidget()"
      ]
     },
     "metadata": {},
     "output_type": "display_data"
    }
   ],
   "source": [
    "out[2].plot3d()"
   ]
  },
  {
   "cell_type": "code",
   "execution_count": 9,
   "id": "92c5745b-836a-4ee4-800e-95aafa6b4aa8",
   "metadata": {},
   "outputs": [
    {
     "data": {
      "application/vnd.jupyter.widget-view+json": {
       "model_id": "6564569c5f4a44aaa79e8cb43f06fd50",
       "version_major": 2,
       "version_minor": 0
      },
      "text/plain": [
       "NGLWidget()"
      ]
     },
     "metadata": {},
     "output_type": "display_data"
    }
   ],
   "source": [
    "out[2].plot3d()"
   ]
  },
  {
   "cell_type": "code",
   "execution_count": null,
   "id": "25c6f1a3-3aa4-4296-90c3-959a8529a311",
   "metadata": {},
   "outputs": [],
   "source": []
  },
  {
   "cell_type": "code",
   "execution_count": null,
   "id": "d1f35111-f959-4d33-b47a-a16cbeaa353c",
   "metadata": {},
   "outputs": [],
   "source": []
  },
  {
   "cell_type": "code",
   "execution_count": null,
   "id": "dd8579ef-e7ba-45fa-b7c9-9783b15cd482",
   "metadata": {},
   "outputs": [],
   "source": []
  },
  {
   "cell_type": "code",
   "execution_count": null,
   "id": "e013b702-cb70-488c-828b-8b45e5b5c257",
   "metadata": {},
   "outputs": [],
   "source": []
  },
  {
   "cell_type": "code",
   "execution_count": null,
   "id": "1e0c3d91-608e-4271-a169-7cb2d86fce50",
   "metadata": {},
   "outputs": [],
   "source": []
  },
  {
   "cell_type": "code",
   "execution_count": null,
   "id": "ec1df248-db96-498d-a3cf-181383804bcd",
   "metadata": {},
   "outputs": [],
   "source": []
  },
  {
   "cell_type": "code",
   "execution_count": null,
   "id": "9bb2549a-66d7-41bf-889e-d29ffb51a76b",
   "metadata": {},
   "outputs": [],
   "source": []
  },
  {
   "cell_type": "code",
   "execution_count": null,
   "id": "8100a5b4-f84e-436b-a6cb-ccdf947c83bb",
   "metadata": {},
   "outputs": [],
   "source": []
  },
  {
   "cell_type": "code",
   "execution_count": null,
   "id": "fe7b0ea9-82f3-4848-81cc-2a6b6e893245",
   "metadata": {},
   "outputs": [],
   "source": []
  }
 ],
 "metadata": {
  "kernelspec": {
   "display_name": "pyiron/2024-10-14 (python3.11)",
   "language": "python",
   "name": "pyiron_mpie_cmti_2024-10-14"
  },
  "language_info": {
   "codemirror_mode": {
    "name": "ipython",
    "version": 3
   },
   "file_extension": ".py",
   "mimetype": "text/x-python",
   "name": "python",
   "nbconvert_exporter": "python",
   "pygments_lexer": "ipython3",
   "version": "3.11.6"
  }
 },
 "nbformat": 4,
 "nbformat_minor": 5
}
