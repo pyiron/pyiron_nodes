{
 "cells": [
  {
   "cell_type": "markdown",
   "id": "04fd3bae-2233-4bfd-968e-b9bbf29fbdee",
   "metadata": {},
   "source": [
    "# Explore pyiron-like workflows"
   ]
  },
  {
   "cell_type": "markdown",
   "id": "2516cd60-2976-4a31-be17-d6ead55db1dc",
   "metadata": {},
   "source": [
    "**Aim:** Explore how close the presently available features of the pyiron_workflow class allow us to write pyiron-like workflows"
   ]
  },
  {
   "cell_type": "code",
   "execution_count": 1,
   "id": "762d44f0-c4c5-4387-8a48-ebeb4859aad8",
   "metadata": {},
   "outputs": [],
   "source": [
    "%config IPCompleter.evaluation='unsafe'\n",
    "\n",
    "import sys\n",
    "from pathlib import Path\n",
    "sys.path.insert(0, str(Path(Path.cwd()).parent))\n",
    "\n",
    "import matplotlib.pylab as plt"
   ]
  },
  {
   "cell_type": "code",
   "execution_count": 2,
   "id": "4c66818e-a784-407e-9850-93caf2b19dda",
   "metadata": {},
   "outputs": [
    {
     "data": {
      "application/vnd.jupyter.widget-view+json": {
       "model_id": "0f971b40bc434cd1813a15714365c4ad",
       "version_major": 2,
       "version_minor": 0
      },
      "text/plain": []
     },
     "metadata": {},
     "output_type": "display_data"
    }
   ],
   "source": [
    "from pyiron_workflow import Workflow   \n",
    "\n",
    "import pyiron_nodes as pn"
   ]
  },
  {
   "cell_type": "markdown",
   "id": "47798e04-5765-4071-a991-f78d3879a594",
   "metadata": {},
   "source": [
    "### Create structure and list available potentials"
   ]
  },
  {
   "cell_type": "code",
   "execution_count": 3,
   "id": "94c90cc8-082c-4392-a2f3-d417611a72c0",
   "metadata": {
    "scrolled": true
   },
   "outputs": [
    {
     "ename": "AttributeError",
     "evalue": "module 'pyiron_nodes' has no attribute 'lammps'",
     "output_type": "error",
     "traceback": [
      "\u001b[0;31m---------------------------------------------------------------------------\u001b[0m",
      "\u001b[0;31mAttributeError\u001b[0m                            Traceback (most recent call last)",
      "Cell \u001b[0;32mIn[3], line 4\u001b[0m\n\u001b[1;32m      2\u001b[0m wf\u001b[38;5;241m.\u001b[39mstructure \u001b[38;5;241m=\u001b[39m pn\u001b[38;5;241m.\u001b[39matomistic\u001b[38;5;241m.\u001b[39mstructure\u001b[38;5;241m.\u001b[39mbuild\u001b[38;5;241m.\u001b[39mBulk(\u001b[38;5;124m'\u001b[39m\u001b[38;5;124mAl\u001b[39m\u001b[38;5;124m'\u001b[39m, cubic\u001b[38;5;241m=\u001b[39m\u001b[38;5;28;01mTrue\u001b[39;00m)\n\u001b[1;32m      3\u001b[0m wf\u001b[38;5;241m.\u001b[39mrepeat \u001b[38;5;241m=\u001b[39m pn\u001b[38;5;241m.\u001b[39matomistic\u001b[38;5;241m.\u001b[39mstructure\u001b[38;5;241m.\u001b[39mtransform\u001b[38;5;241m.\u001b[39mRepeat(structure\u001b[38;5;241m=\u001b[39mwf\u001b[38;5;241m.\u001b[39mstructure, repeat_scalar\u001b[38;5;241m=\u001b[39m\u001b[38;5;241m3\u001b[39m)\n\u001b[0;32m----> 4\u001b[0m wf\u001b[38;5;241m.\u001b[39mlist_potentials \u001b[38;5;241m=\u001b[39m \u001b[43mpn\u001b[49m\u001b[38;5;241;43m.\u001b[39;49m\u001b[43mlammps\u001b[49m\u001b[38;5;241m.\u001b[39mListPotentials(structure\u001b[38;5;241m=\u001b[39mwf\u001b[38;5;241m.\u001b[39mrepeat) \n\u001b[1;32m      6\u001b[0m out \u001b[38;5;241m=\u001b[39m wf\u001b[38;5;241m.\u001b[39mlist_potentials\u001b[38;5;241m.\u001b[39mpull()\n\u001b[1;32m      7\u001b[0m out[:\u001b[38;5;241m5\u001b[39m]\n",
      "\u001b[0;31mAttributeError\u001b[0m: module 'pyiron_nodes' has no attribute 'lammps'"
     ]
    }
   ],
   "source": [
    "wf = Workflow('Lammps')\n",
    "wf.structure = pn.atomistic.structure.build.Bulk('Al', cubic=True)\n",
    "wf.repeat = pn.atomistic.structure.transform.Repeat(structure=wf.structure, repeat_scalar=3)\n",
    "wf.list_potentials = pn.lammps.ListPotentials(structure=wf.repeat) \n",
    "    \n",
    "out = wf.list_potentials.pull()\n",
    "out[:5]\n"
   ]
  },
  {
   "cell_type": "code",
   "execution_count": null,
   "id": "f89338b3-6001-4dfe-8eaa-1aabb34f7dda",
   "metadata": {},
   "outputs": [],
   "source": [
    "wf.draw();"
   ]
  },
  {
   "cell_type": "markdown",
   "id": "3e957298-f271-400b-9aeb-3014aa4854f7",
   "metadata": {},
   "source": [
    "### Run a lammps job at the lowest level (close to manual run)"
   ]
  },
  {
   "cell_type": "code",
   "execution_count": null,
   "id": "f9639674-4ccf-4ddf-a4b3-5f010248ad83",
   "metadata": {},
   "outputs": [],
   "source": [
    "from pyiron_contrib.tinybase.shell import ExecutablePathResolver"
   ]
  },
  {
   "cell_type": "code",
   "execution_count": null,
   "id": "44f1e07d-3c7f-4735-8d5e-a0fa2018a04b",
   "metadata": {},
   "outputs": [],
   "source": [
    "T = 300\n",
    "\n",
    "wf = Workflow('Lammps')\n",
    "wf.structure = pn.atomistic.structure.build.Bulk('Al', cubic=True)\n",
    "wf.repeat = pn.atomistic.structure.transform.Repeat(structure=wf.structure, repeat_scalar=3)\n",
    "\n",
    "wf.calculator = pn.lammps.CalcMD(temperature=T, n_ionic_steps=10_000)\n",
    "wf.potential = pn.atomistic.engine.lammps.Potential(\n",
    "    structure=wf.structure, name='1995--Angelo-J-E--Ni-Al-H--LAMMPS--ipr1'\n",
    ")\n",
    "\n",
    "wf.init_lammps = pn.atomistic.engine.lammps.InitLammps(\n",
    "        structure=wf.repeat,\n",
    "        potential=wf.potential,\n",
    "        calculator=wf.calculator,\n",
    "        working_directory=\"test2\",\n",
    "    )\n",
    "\n",
    "wf.shell = pn.atomistic.engine.lammps.Shell(\n",
    "        # command=ExecutablePathResolver(module=\"lammps\", code=\"lammps\").path(),\n",
    "        working_directory=wf.init_lammps,\n",
    "    )\n",
    "\n",
    "wf.ParseLogFile = pn.atomistic.engine.lammps.ParseLogFile(\n",
    "    log_file=wf.shell.outputs.log\n",
    ")\n",
    "wf.ParseDumpFile = pn.atomistic.engine.lammps.ParseDumpFile(\n",
    "    dump_file=wf.shell.outputs.dump\n",
    ")\n",
    "wf.Collect = pn.atomistic.engine.lammps.Collect(\n",
    "    out_dump=wf.ParseDumpFile.outputs.dump,\n",
    "    out_log=wf.ParseLogFile.outputs.log,\n",
    "    calc_mode='md',\n",
    ")\n",
    "\n",
    "out = wf.run()"
   ]
  },
  {
   "cell_type": "code",
   "execution_count": null,
   "id": "60885415-3990-4f41-96ec-e710d2d22487",
   "metadata": {},
   "outputs": [],
   "source": [
    "plt.plot(wf.Collect.outputs.generic.value.energies_pot[2:]);"
   ]
  },
  {
   "cell_type": "markdown",
   "id": "fdc70cae-6feb-4950-9da9-64d98c0de7a0",
   "metadata": {},
   "source": [
    "### MD over list of temperatures using lammps macro"
   ]
  },
  {
   "cell_type": "code",
   "execution_count": null,
   "id": "9cd9260a-825d-4c83-a81d-a18baad03be3",
   "metadata": {},
   "outputs": [],
   "source": [
    "%%time\n",
    "potential='1995--Angelo-J-E--Ni-Al-H--LAMMPS--ipr1'\n",
    "for T in [300, 600, 900]:\n",
    "    wf = Workflow('Lammps')\n",
    "    wf.structure = pn.atomistic.structure.build.Bulk('Al', cubic=True)\n",
    "    wf.repeat = pn.atomistic.structure.transform.Repeat(structure=wf.structure, repeat_scalar=3)\n",
    "\n",
    "    wf.calculator = pn.atomistic.calculator.data.InputCalcMD(temperature=T, n_ionic_steps=10_000)\n",
    "    wf.lammps = pn.atomistic.engine.lammps.Code(structure=wf.repeat, \n",
    "                                            potential=potential, \n",
    "                                            calculator=wf.calculator)\n",
    "    \n",
    "    wf.run()\n",
    "    \n",
    "    plt.plot(wf.lammps.outputs.generic.value.energies_pot[2:], label=f'T={T}K')\n",
    "plt.legend();    "
   ]
  },
  {
   "cell_type": "code",
   "execution_count": null,
   "id": "c9309622-4351-4579-a514-6ac2c766dc12",
   "metadata": {},
   "outputs": [],
   "source": [
    "wf.lammps.draw();"
   ]
  },
  {
   "cell_type": "markdown",
   "id": "6bd036be-cde6-4447-90a4-ed147c5b54cc",
   "metadata": {},
   "source": [
    "### Murnaghan (E-V) macro"
   ]
  },
  {
   "cell_type": "code",
   "execution_count": null,
   "id": "05362937-1921-4e62-b10c-f513d25685d6",
   "metadata": {},
   "outputs": [],
   "source": [
    "from pyiron_workflow import as_macro_node, Macro"
   ]
  },
  {
   "cell_type": "code",
   "execution_count": null,
   "id": "dd4fb45e-1c25-4224-b23d-6f3d77544eb4",
   "metadata": {},
   "outputs": [],
   "source": [
    "@as_macro_node('lammps')\n",
    "def energy_at_volume(wf: Macro, element: str, strain: int | float):\n",
    "    wf.bulk = pn.atomistic.structure.build.Bulk(element, cubic=True)\n",
    "    wf.repeat = pn.atomistic.structure.transform.Repeat(structure = wf.bulk, repeat_scalar=1)\n",
    "    wf.apply_strain = pn.atomistic.structure.transform.ApplyStrain(structure=wf.repeat, strain=strain)\n",
    "    \n",
    "    \n",
    "    wf.lammps = pn.atomistic.engine.lammps.Code(structure=wf.apply_strain, potential=potential)\n",
    "    \n",
    "    return wf.lammps"
   ]
  },
  {
   "cell_type": "code",
   "execution_count": null,
   "id": "f7aec597-2719-4c31-ac35-6efb15e1d569",
   "metadata": {},
   "outputs": [],
   "source": [
    "energy_at_volume(element='Al', strain=0.2).run().lammps.energies_pot[-1]"
   ]
  },
  {
   "cell_type": "code",
   "execution_count": null,
   "id": "3050e5e5-4c68-4195-a665-0f5d4b0b78b0",
   "metadata": {},
   "outputs": [],
   "source": [
    "%%time\n",
    "\n",
    "import numpy as np\n",
    "\n",
    "energy_pot = []\n",
    "strain_lst = np.linspace(-0.2 , 1, 51)\n",
    "for strain in strain_lst:\n",
    "    wf = energy_at_volume(element='Al', strain=strain)\n",
    "    out = wf.run()\n",
    "\n",
    "    energy_pot.append(out.lammps.energies_pot[0])  \n",
    "\n",
    "plt.plot(strain_lst, energy_pot);"
   ]
  },
  {
   "cell_type": "code",
   "execution_count": null,
   "id": "69596c36-1aa8-4b86-ad77-20bdd9f26a68",
   "metadata": {},
   "outputs": [],
   "source": [
    "out"
   ]
  },
  {
   "cell_type": "code",
   "execution_count": null,
   "id": "b1fe6340-9e0e-4a60-964b-abe3ab1f3025",
   "metadata": {},
   "outputs": [],
   "source": [
    "wf.draw();"
   ]
  }
 ],
 "metadata": {
  "kernelspec": {
   "display_name": "Python 3 (ipykernel)",
   "language": "python",
   "name": "python3"
  },
  "language_info": {
   "codemirror_mode": {
    "name": "ipython",
    "version": 3
   },
   "file_extension": ".py",
   "mimetype": "text/x-python",
   "name": "python",
   "nbconvert_exporter": "python",
   "pygments_lexer": "ipython3",
   "version": "3.12.4"
  }
 },
 "nbformat": 4,
 "nbformat_minor": 5
}
