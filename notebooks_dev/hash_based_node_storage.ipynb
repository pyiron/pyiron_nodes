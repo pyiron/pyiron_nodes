{
 "cells": [
  {
   "cell_type": "markdown",
   "id": "537d96e6-4e80-4906-92aa-31323326849f",
   "metadata": {},
   "source": [
    "# Explore node db storage with hash index"
   ]
  },
  {
   "cell_type": "markdown",
   "id": "f3a1fe31-50b7-4f2b-a049-1f1a934fa7bc",
   "metadata": {},
   "source": [
    "Write a python function that converts a dataclass object into a dictionary"
   ]
  },
  {
   "cell_type": "code",
   "execution_count": 1,
   "id": "db0c796b-b352-41f7-914a-af8d249d4ee2",
   "metadata": {},
   "outputs": [
    {
     "name": "stdout",
     "output_type": "stream",
     "text": [
      "{'var1': 'Hello', 'var2': 123}\n"
     ]
    }
   ],
   "source": [
    "from dataclasses import dataclass, asdict\n",
    "\n",
    "@dataclass \n",
    "class MyDataClass:\n",
    "    var1: str\n",
    "    var2: int\n",
    "\n",
    "\n",
    "def dataclass_to_dict(data_class_object):\n",
    "    return asdict(data_class_object)\n",
    "\n",
    "\n",
    "# usage\n",
    "dc = MyDataClass(\"Hello\", 123)\n",
    "print(dataclass_to_dict(dc))  # Output: {'var1': 'Hello', 'var2': 123}"
   ]
  },
  {
   "cell_type": "markdown",
   "id": "02bf6bf4-98b7-45ed-bc17-f416650156a9",
   "metadata": {},
   "source": [
    "Write a python function that converts such a dictionary into a hash."
   ]
  },
  {
   "cell_type": "code",
   "execution_count": 2,
   "id": "44c5852a-fe2c-44e6-8f69-ed4337e25be9",
   "metadata": {},
   "outputs": [
    {
     "name": "stdout",
     "output_type": "stream",
     "text": [
      "68fe5a470356e94259b33a3b4090f37bca9451ff0a06b3abaa77e4bd7351eb3a\n"
     ]
    }
   ],
   "source": [
    "import hashlib\n",
    "import json\n",
    "\n",
    "def dict_to_hash(user_dict):\n",
    "    # Convert the dictionary to a JSON string\n",
    "    json_str = json.dumps(user_dict, sort_keys=True)\n",
    "    \n",
    "    # Hash the JSON string\n",
    "    hash_object = hashlib.sha256(json_str.encode())\n",
    "\n",
    "    # Return the hexadecimal representation of hash\n",
    "    return hash_object.hexdigest()\n",
    "\n",
    "# Using the function\n",
    "user_dict = {\"name\": \"John\", \"age\": 30, \"city\": \"New York\"}\n",
    "print(dict_to_hash(user_dict))  "
   ]
  },
  {
   "cell_type": "markdown",
   "id": "782c1ff4-71cd-4332-95cd-55b160116a1e",
   "metadata": {},
   "source": [
    "Write a database application that stores the has value, the corresponding dictionary and the path for a file where additional info for this dictionary is stored. Use the hash value as unique ID."
   ]
  },
  {
   "cell_type": "code",
   "execution_count": 3,
   "id": "562cb681-3dcc-4c22-97cc-7cde5d4cad9b",
   "metadata": {},
   "outputs": [
    {
     "name": "stdout",
     "output_type": "stream",
     "text": [
      "2024-06-09 09:34:28,014 INFO sqlalchemy.engine.Engine BEGIN (implicit)\n",
      "2024-06-09 09:34:28,015 INFO sqlalchemy.engine.Engine PRAGMA main.table_info(\"dictionary_hash\")\n",
      "2024-06-09 09:34:28,015 INFO sqlalchemy.engine.Engine [raw sql] ()\n",
      "2024-06-09 09:34:28,016 INFO sqlalchemy.engine.Engine COMMIT\n",
      "2024-06-09 09:34:28,017 INFO sqlalchemy.engine.Engine BEGIN (implicit)\n",
      "2024-06-09 09:34:28,017 INFO sqlalchemy.engine.Engine DELETE FROM dictionary_hash\n",
      "2024-06-09 09:34:28,017 INFO sqlalchemy.engine.Engine [generated in 0.00020s] ()\n",
      "2024-06-09 09:34:28,019 INFO sqlalchemy.engine.Engine COMMIT\n"
     ]
    }
   ],
   "source": [
    "from sqlalchemy import Column, String, create_engine\n",
    "from sqlalchemy.orm import sessionmaker, declarative_base\n",
    "\n",
    "\n",
    "Base = declarative_base()\n",
    "\n",
    "class DictionaryHash(Base):\n",
    "    __tablename__ = 'dictionary_hash'\n",
    "\n",
    "    hash_value = Column(String, primary_key=True)\n",
    "    dictionary = Column(String)\n",
    "    file_path = Column(String)\n",
    "\n",
    "engine = create_engine('sqlite:///dict_hash.db', echo=True)\n",
    "Base.metadata.create_all(bind=engine)\n",
    "\n",
    "Session = sessionmaker(bind=engine)\n",
    "session = Session()\n",
    "\n",
    "# Now, to delete all entries in a model:\n",
    "\n",
    "session.query(DictionaryHash).delete()\n",
    "session.commit()\n"
   ]
  },
  {
   "cell_type": "code",
   "execution_count": 4,
   "id": "3b1b5db7-60df-40a7-a987-2e76db63c6d8",
   "metadata": {},
   "outputs": [
    {
     "name": "stdout",
     "output_type": "stream",
     "text": [
      "2024-06-09 09:34:28,025 INFO sqlalchemy.engine.Engine BEGIN (implicit)\n",
      "2024-06-09 09:34:28,026 INFO sqlalchemy.engine.Engine INSERT INTO dictionary_hash (hash_value, dictionary, file_path) VALUES (?, ?, ?)\n",
      "2024-06-09 09:34:28,026 INFO sqlalchemy.engine.Engine [generated in 0.00025s] ('a65bab10c42b5bc7e7246ecd7226e7c534d2290488bae26b822f91c0e3fc9bd3', '{\"name\": \"John\", \"age\": 31, \"city\": \"New York\"}', '/path/to/file')\n",
      "2024-06-09 09:34:28,027 INFO sqlalchemy.engine.Engine COMMIT\n"
     ]
    }
   ],
   "source": [
    "def add_record(hash_value, dictionary, file_path):\n",
    "    new_record = DictionaryHash(hash_value=hash_value, dictionary=dictionary, file_path=file_path)\n",
    "    session.add(new_record)\n",
    "    session.commit()\n",
    "\n",
    "# Call the function\n",
    "user_dict = {\"name\": \"John\", \"age\": 31, \"city\": \"New York\"}\n",
    "add_record(dict_to_hash(user_dict), json.dumps(user_dict), \"/path/to/file\")"
   ]
  },
  {
   "cell_type": "code",
   "execution_count": 5,
   "id": "f7d6f29c-a7c1-4866-8d53-b17873140fe8",
   "metadata": {},
   "outputs": [
    {
     "name": "stdout",
     "output_type": "stream",
     "text": [
      "2024-06-09 09:34:28,031 INFO sqlalchemy.engine.Engine BEGIN (implicit)\n",
      "2024-06-09 09:34:28,032 INFO sqlalchemy.engine.Engine SELECT dictionary_hash.hash_value AS dictionary_hash_hash_value, dictionary_hash.dictionary AS dictionary_hash_dictionary, dictionary_hash.file_path AS dictionary_hash_file_path \n",
      "FROM dictionary_hash\n",
      "2024-06-09 09:34:28,032 INFO sqlalchemy.engine.Engine [generated in 0.00025s] ()\n",
      "Hash value: a65bab10c42b5bc7e7246ecd7226e7c534d2290488bae26b822f91c0e3fc9bd3, Dictionary: {\"name\": \"John\", \"age\": 31, \"city\": \"New York\"}, File Path: /path/to/file\n"
     ]
    }
   ],
   "source": [
    "def get_all_records():\n",
    "    for record in session.query(DictionaryHash).all():\n",
    "        print(\"Hash value: {}, Dictionary: {}, File Path: {}\".format(\n",
    "            record.hash_value, record.dictionary, record.file_path))\n",
    "\n",
    "get_all_records()"
   ]
  },
  {
   "cell_type": "markdown",
   "id": "1c4eb244-23bf-4c9e-9b7e-91cc9dd21104",
   "metadata": {},
   "source": [
    "#### Write a function that outputs and formats get_all_records as a pandas table."
   ]
  },
  {
   "cell_type": "code",
   "execution_count": 6,
   "id": "20e4aeb0-87ae-427a-b077-4e989743136c",
   "metadata": {},
   "outputs": [
    {
     "name": "stdout",
     "output_type": "stream",
     "text": [
      "2024-06-09 09:34:28,571 INFO sqlalchemy.engine.Engine SELECT dictionary_hash.hash_value AS dictionary_hash_hash_value, dictionary_hash.dictionary AS dictionary_hash_dictionary, dictionary_hash.file_path AS dictionary_hash_file_path \n",
      "FROM dictionary_hash\n",
      "2024-06-09 09:34:28,572 INFO sqlalchemy.engine.Engine [cached since 0.5399s ago] ()\n"
     ]
    },
    {
     "data": {
      "text/html": [
       "<div>\n",
       "<style scoped>\n",
       "    .dataframe tbody tr th:only-of-type {\n",
       "        vertical-align: middle;\n",
       "    }\n",
       "\n",
       "    .dataframe tbody tr th {\n",
       "        vertical-align: top;\n",
       "    }\n",
       "\n",
       "    .dataframe thead th {\n",
       "        text-align: right;\n",
       "    }\n",
       "</style>\n",
       "<table border=\"1\" class=\"dataframe\">\n",
       "  <thead>\n",
       "    <tr style=\"text-align: right;\">\n",
       "      <th></th>\n",
       "      <th>Hash value</th>\n",
       "      <th>Dictionary</th>\n",
       "      <th>File Path</th>\n",
       "    </tr>\n",
       "  </thead>\n",
       "  <tbody>\n",
       "    <tr>\n",
       "      <th>0</th>\n",
       "      <td>a65bab10c42b5bc7e7246ecd7226e7c534d2290488bae2...</td>\n",
       "      <td>{\"name\": \"John\", \"age\": 31, \"city\": \"New York\"}</td>\n",
       "      <td>/path/to/file</td>\n",
       "    </tr>\n",
       "  </tbody>\n",
       "</table>\n",
       "</div>"
      ],
      "text/plain": [
       "                                          Hash value  \\\n",
       "0  a65bab10c42b5bc7e7246ecd7226e7c534d2290488bae2...   \n",
       "\n",
       "                                        Dictionary      File Path  \n",
       "0  {\"name\": \"John\", \"age\": 31, \"city\": \"New York\"}  /path/to/file  "
      ]
     },
     "execution_count": 6,
     "metadata": {},
     "output_type": "execute_result"
    }
   ],
   "source": [
    "import pandas as pd\n",
    "\n",
    "def get_all_records():\n",
    "    records = []\n",
    "    for record in session.query(DictionaryHash).all():\n",
    "        records.append({\n",
    "            'Hash value': record.hash_value,\n",
    "            'Dictionary': record.dictionary,\n",
    "            'File Path': record.file_path\n",
    "        })\n",
    "        \n",
    "    df = pd.DataFrame(records)\n",
    "    return df\n",
    "\n",
    "# Call the function\n",
    "df = get_all_records()\n",
    "df"
   ]
  },
  {
   "cell_type": "markdown",
   "id": "580ffbab-90d9-41a7-bb25-103e4fa18484",
   "metadata": {},
   "source": [
    "#### Use Postgres database"
   ]
  },
  {
   "cell_type": "markdown",
   "id": "eafe1c30-2e2a-40ec-8755-258bd33fbd6f",
   "metadata": {},
   "source": [
    "**Note:** Start first the postgres server by calling the postgres app"
   ]
  },
  {
   "cell_type": "code",
   "execution_count": 7,
   "id": "c1d9c5d3-a57e-4cc3-baf7-db9c15c358a3",
   "metadata": {},
   "outputs": [],
   "source": [
    "from sqlalchemy import Column, String, JSON, create_engine\n",
    "from sqlalchemy.orm import sessionmaker, declarative_base\n",
    "\n",
    "Base = declarative_base()\n",
    "\n",
    "class DictionaryHash(Base):\n",
    "    __tablename__ = 'dictionary_hash'\n",
    "\n",
    "    hash_value = Column(String, primary_key=True)\n",
    "    dictionary = Column(JSON)\n",
    "    file_path = Column(String)\n",
    "\n",
    "engine = create_engine('postgresql://localhost/joerg')\n",
    "Base.metadata.create_all(bind=engine)\n",
    "\n",
    "Session = sessionmaker(bind=engine)\n",
    "session = Session()\n",
    "\n",
    "\n",
    "# Now, to delete all entries in a model:\n",
    "\n",
    "session.query(DictionaryHash).delete()\n",
    "session.commit()"
   ]
  },
  {
   "cell_type": "code",
   "execution_count": 8,
   "id": "f45a22ca-3987-4e78-96a3-dcb99950626f",
   "metadata": {},
   "outputs": [],
   "source": [
    "def add_record(hash_value, dictionary, file_path):\n",
    "    new_record = DictionaryHash(hash_value=hash_value, dictionary=dictionary, file_path=file_path)\n",
    "    session.add(new_record)\n",
    "    session.commit()\n",
    "\n",
    "# Call the function\n",
    "user_dict = {\"name\": \"John\", \"age\": 30, \"city\": \"New York\"}\n",
    "add_record(dict_to_hash(user_dict), json.dumps(user_dict), \"/path/to/file\")"
   ]
  },
  {
   "cell_type": "code",
   "execution_count": 9,
   "id": "2a9af242-6589-4076-af85-cbdd53813d84",
   "metadata": {},
   "outputs": [
    {
     "data": {
      "text/html": [
       "<div>\n",
       "<style scoped>\n",
       "    .dataframe tbody tr th:only-of-type {\n",
       "        vertical-align: middle;\n",
       "    }\n",
       "\n",
       "    .dataframe tbody tr th {\n",
       "        vertical-align: top;\n",
       "    }\n",
       "\n",
       "    .dataframe thead th {\n",
       "        text-align: right;\n",
       "    }\n",
       "</style>\n",
       "<table border=\"1\" class=\"dataframe\">\n",
       "  <thead>\n",
       "    <tr style=\"text-align: right;\">\n",
       "      <th></th>\n",
       "      <th>Hash value</th>\n",
       "      <th>Dictionary</th>\n",
       "      <th>File Path</th>\n",
       "    </tr>\n",
       "  </thead>\n",
       "  <tbody>\n",
       "    <tr>\n",
       "      <th>0</th>\n",
       "      <td>68fe5a470356e94259b33a3b4090f37bca9451ff0a06b3...</td>\n",
       "      <td>{\"name\": \"John\", \"age\": 30, \"city\": \"New York\"}</td>\n",
       "      <td>/path/to/file</td>\n",
       "    </tr>\n",
       "  </tbody>\n",
       "</table>\n",
       "</div>"
      ],
      "text/plain": [
       "                                          Hash value  \\\n",
       "0  68fe5a470356e94259b33a3b4090f37bca9451ff0a06b3...   \n",
       "\n",
       "                                        Dictionary      File Path  \n",
       "0  {\"name\": \"John\", \"age\": 30, \"city\": \"New York\"}  /path/to/file  "
      ]
     },
     "execution_count": 9,
     "metadata": {},
     "output_type": "execute_result"
    }
   ],
   "source": [
    "# Call the function\n",
    "df = get_all_records()\n",
    "df"
   ]
  },
  {
   "cell_type": "code",
   "execution_count": 10,
   "id": "317be4c0-c89d-4779-91d8-1f08f0837ef7",
   "metadata": {},
   "outputs": [],
   "source": [
    "from sqlalchemy import text\n",
    "\n",
    "def query_key_value(key, value):\n",
    "    results = session.query(DictionaryHash).filter(DictionaryHash.dictionary[key] == text(\"'{}'\".format(value))).all()\n",
    "\n",
    "    for result in results:\n",
    "        print(\"Hash value: {}, Dictionary: {}, File Path: {}\".format(\n",
    "            result.hash_value, result.dictionary, result.file_path))\n",
    "        \n",
    "# Call the function\n",
    "# query_key_value('name', 'John')"
   ]
  },
  {
   "cell_type": "code",
   "execution_count": 11,
   "id": "14a10785-462d-44e6-8e1e-73c0d0ca9eed",
   "metadata": {},
   "outputs": [],
   "source": [
    "def query_key_value(key, value):\n",
    "    # Note: `.filter(DictionaryHash.dictionary[key] == value)`\n",
    "    results = session.query(DictionaryHash).filter(DictionaryHash.dictionary[key] == value).all()\n",
    "    for result in results:\n",
    "        print(\"Hash value: {}, Dictionary: {}, File Path: {}\".format(\n",
    "            result.hash_value, result.dictionary, result.file_path\n",
    "        ))\n",
    "\n",
    "# Call the function\n",
    "# query_key_value('name', 'John')"
   ]
  },
  {
   "cell_type": "code",
   "execution_count": 12,
   "id": "52cee651-b7ee-41f8-b585-8fbf47b5ae55",
   "metadata": {},
   "outputs": [],
   "source": [
    "import psycopg2\n",
    "\n",
    "def query_key_value(key, value):\n",
    "    # Create a database connection\n",
    "    conn = psycopg2.connect(database=\"joerg\", user=\"joerg\", password=\"\", host=\"localhost\", port=\"5432\")\n",
    "\n",
    "    # Create a new cursor\n",
    "    cur = conn.cursor()\n",
    "\n",
    "    # Execute a SQL command\n",
    "    cur.execute(f\"SELECT * FROM dictionary_hash WHERE dictionary->>'{key}' = '{value}';\")\n",
    "\n",
    "    # Fetch all results\n",
    "    rows = cur.fetchall()\n",
    "\n",
    "    for row in rows:\n",
    "        print(row)\n",
    "\n",
    "    # Close the cursor and connection\n",
    "    cur.close()\n",
    "    conn.close()\n",
    "\n",
    "query_key_value('name', 'John')\n"
   ]
  },
  {
   "cell_type": "code",
   "execution_count": 13,
   "id": "d5934e5c-4c1f-44fb-94f3-dd6d3b257d1a",
   "metadata": {},
   "outputs": [
    {
     "name": "stdout",
     "output_type": "stream",
     "text": [
      "('68fe5a470356e94259b33a3b4090f37bca9451ff0a06b3abaa77e4bd7351eb3a', '{\"name\": \"John\", \"age\": 30, \"city\": \"New York\"}', '/path/to/file')\n"
     ]
    }
   ],
   "source": [
    "conn = psycopg2.connect(database=\"joerg\", user=\"joerg\", password=\"\", host=\"localhost\", port=\"5432\")\n",
    "\n",
    "# Create a new cursor\n",
    "cur = conn.cursor()\n",
    "\n",
    "# Execute a SQL command\n",
    "# cur.execute(f\"SELECT * FROM dictionary_hash WHERE dictionary->>'age' = '30';\")\n",
    "cur.execute(f\"SELECT * FROM dictionary_hash WHERE file_path = '/path/to/file';\")\n",
    "# cur.execute(f\"SELECT * FROM dictionary_hash WHERE dictionary = {json.dumps(user_dict)};\")\n",
    "\n",
    "# cur.execute(\"SELECT dictionary from dictionary_hash LIMIT 5;\")\n",
    "#cur.execute(\"SELECT * FROM dictionary_hash WHERE CAST(dictionary as JSON)->>%s = %s;\", ('name', 'John'))\n",
    "\n",
    "\n",
    "# Fetch all results\n",
    "rows = cur.fetchall()\n",
    "\n",
    "for row in rows:\n",
    "    print(row)\n",
    "\n",
    "# # Close the cursor and connection\n",
    "cur.close()\n",
    "conn.close()"
   ]
  },
  {
   "cell_type": "code",
   "execution_count": 14,
   "id": "ccc309ac-cc50-4d61-98aa-3715189438b8",
   "metadata": {},
   "outputs": [
    {
     "data": {
      "text/plain": [
       "'{\"name\": \"John\", \"age\": 30, \"city\": \"New York\"}'"
      ]
     },
     "execution_count": 14,
     "metadata": {},
     "output_type": "execute_result"
    }
   ],
   "source": [
    "json.dumps(user_dict)"
   ]
  },
  {
   "cell_type": "code",
   "execution_count": 15,
   "id": "02b03c66-519b-41f1-b167-82b48c9bf840",
   "metadata": {},
   "outputs": [],
   "source": [
    "import psycopg2\n",
    "from psycopg2.extras import Json\n",
    "from sqlalchemy import create_engine\n",
    "\n",
    "# connect to the database\n",
    "conn = psycopg2.connect(database=\"joerg\", user=\"joerg\", password=\"\", host=\"localhost\", port=\"5432\")\n",
    "cur = conn.cursor()\n",
    "\n",
    "# # create a table with a JSON column\n",
    "# cur.execute(\"\"\"\n",
    "# CREATE TABLE users (\n",
    "#     id serial PRIMARY KEY,\n",
    "#     data json\n",
    "# );\n",
    "# \"\"\")\n",
    "# conn.commit()\n",
    "\n",
    "# insert some data\n",
    "data = {'name': 'John', 'age': 30, 'city': 'New York'}\n",
    "cur.execute(\"INSERT INTO users (data) VALUES (%s)\", (Json(data),))\n",
    "conn.commit()\n",
    "\n",
    "conn.close()\n",
    "cur.close()\n"
   ]
  },
  {
   "cell_type": "code",
   "execution_count": 16,
   "id": "10b992a0-8edf-4cab-8f05-7465bcecfdc3",
   "metadata": {},
   "outputs": [
    {
     "name": "stdout",
     "output_type": "stream",
     "text": [
      "[(1, {'name': 'John', 'age': 30, 'city': 'New York'}), (2, {'name': 'John', 'age': 30, 'city': 'New York'}), (8, {'name': 'John', 'age': 30, 'city': 'New York'}), (9, {'name': 'John', 'age': 30, 'city': 'New York'}), (10, {'name': 'John', 'age': 30, 'city': 'New York'}), (11, {'name': 'John', 'age': 30, 'city': 'New York'}), (12, {'name': 'John', 'age': 30, 'city': 'New York'}), (14, {'name': 'John', 'age': 30, 'city': 'New York'}), (15, {'name': 'John', 'age': 30, 'city': 'New York'}), (17, {'name': 'John', 'age': 30, 'city': 'New York'}), (18, {'name': 'John', 'age': 30, 'city': 'New York'}), (19, {'name': 'John', 'age': 30, 'city': 'New York'}), (20, {'name': 'John', 'age': 30, 'city': 'New York'}), (22, {'name': 'John', 'age': 30, 'city': 'New York'}), (23, {'name': 'John', 'age': 30, 'city': 'New York'}), (24, {'name': 'John', 'age': 30, 'city': 'New York'}), (25, {'name': 'John', 'age': 30, 'city': 'New York'}), (27, {'name': 'John', 'age': 30, 'city': 'New York'}), (28, {'name': 'John', 'age': 30, 'city': 'New York'}), (29, {'name': 'John', 'age': 30, 'city': 'New York'}), (30, {'name': 'John', 'age': 30, 'city': 'New York'}), (32, {'name': 'John', 'age': 30, 'city': 'New York'}), (33, {'name': 'John', 'age': 30, 'city': 'New York'}), (34, {'name': 'John', 'age': 30, 'city': 'New York'}), (35, {'name': 'John', 'age': 30, 'city': 'New York'})]\n",
      "CPU times: user 1.54 ms, sys: 1.39 ms, total: 2.93 ms\n",
      "Wall time: 27.9 ms\n"
     ]
    }
   ],
   "source": [
    "%%time\n",
    "conn = psycopg2.connect(database=\"joerg\", user=\"joerg\", password=\"\", host=\"localhost\", port=\"5432\")\n",
    "cur = conn.cursor()\n",
    "\n",
    "# query for key-value pairs in the json column\n",
    "# cur.execute(\"SELECT * FROM users WHERE data ->> 'city' = 'New York';\")\n",
    "cur.execute(\"SELECT * FROM users WHERE data ->> 'age' = '30';\")\n",
    "print(cur.fetchall())\n",
    "\n",
    "conn.close()\n",
    "cur.close()"
   ]
  },
  {
   "cell_type": "code",
   "execution_count": 17,
   "id": "d6ca92ad-23e3-49b5-9196-2d4b1f2f58a1",
   "metadata": {},
   "outputs": [],
   "source": [
    "# error message: AttributeError: Neither 'BinaryExpression' object nor 'Comparator' object has an attribute 'astext'\n",
    "\n",
    "# from sqlalchemy import create_engine, Column, Integer, String, JSON\n",
    "# from sqlalchemy.ext.declarative import declarative_base\n",
    "# from sqlalchemy.orm import sessionmaker\n",
    "\n",
    "# engine = create_engine('postgresql://localhost/joerg', echo=True)\n",
    "\n",
    "# Base = declarative_base()\n",
    "\n",
    "# class User(Base):\n",
    "#     __tablename__ = 'users'\n",
    "\n",
    "#     id = Column(Integer, primary_key=True)\n",
    "#     data = Column(JSON)\n",
    "\n",
    "# # Create table\n",
    "# Base.metadata.create_all(engine)\n",
    "\n",
    "# # Insert record\n",
    "# Session = sessionmaker(bind=engine)\n",
    "# session = Session()\n",
    "\n",
    "# new_user = User(data={'name': 'John', 'age': 30, 'city': 'New York'})\n",
    "# session.add(new_user)\n",
    "# session.commit()\n",
    "\n",
    "# # Query JSON field\n",
    "# users_ny = session.query(User).filter(User.data['city'].astext == 'New York').all()\n",
    "\n",
    "# for user in users_ny:\n",
    "#     print(user.data)\n",
    "\n",
    "# session.close()"
   ]
  },
  {
   "cell_type": "code",
   "execution_count": 18,
   "id": "e16d94bb-00a1-4fd7-94f3-dd9cb2cf4c6e",
   "metadata": {},
   "outputs": [
    {
     "name": "stdout",
     "output_type": "stream",
     "text": [
      "2024-06-09 09:34:28,928 INFO sqlalchemy.engine.Engine select pg_catalog.version()\n",
      "2024-06-09 09:34:28,929 INFO sqlalchemy.engine.Engine [raw sql] {}\n",
      "2024-06-09 09:34:28,930 INFO sqlalchemy.engine.Engine select current_schema()\n",
      "2024-06-09 09:34:28,931 INFO sqlalchemy.engine.Engine [raw sql] {}\n",
      "2024-06-09 09:34:28,931 INFO sqlalchemy.engine.Engine show standard_conforming_strings\n",
      "2024-06-09 09:34:28,932 INFO sqlalchemy.engine.Engine [raw sql] {}\n",
      "2024-06-09 09:34:28,932 INFO sqlalchemy.engine.Engine BEGIN (implicit)\n",
      "2024-06-09 09:34:28,934 INFO sqlalchemy.engine.Engine SELECT pg_catalog.pg_class.relname \n",
      "FROM pg_catalog.pg_class JOIN pg_catalog.pg_namespace ON pg_catalog.pg_namespace.oid = pg_catalog.pg_class.relnamespace \n",
      "WHERE pg_catalog.pg_class.relname = %(table_name)s AND pg_catalog.pg_class.relkind = ANY (ARRAY[%(param_1)s, %(param_2)s, %(param_3)s, %(param_4)s, %(param_5)s]) AND pg_catalog.pg_table_is_visible(pg_catalog.pg_class.oid) AND pg_catalog.pg_namespace.nspname != %(nspname_1)s\n",
      "2024-06-09 09:34:28,934 INFO sqlalchemy.engine.Engine [generated in 0.00038s] {'table_name': 'users', 'param_1': 'r', 'param_2': 'p', 'param_3': 'f', 'param_4': 'v', 'param_5': 'm', 'nspname_1': 'pg_catalog'}\n",
      "2024-06-09 09:34:28,938 INFO sqlalchemy.engine.Engine COMMIT\n",
      "2024-06-09 09:34:28,939 INFO sqlalchemy.engine.Engine BEGIN (implicit)\n",
      "2024-06-09 09:34:28,940 INFO sqlalchemy.engine.Engine INSERT INTO users (data) VALUES (%(data)s) RETURNING users.id\n",
      "2024-06-09 09:34:28,941 INFO sqlalchemy.engine.Engine [generated in 0.00051s] {'data': '{\"name\": \"John\", \"age\": 31, \"city\": \"New York\"}'}\n",
      "2024-06-09 09:34:28,943 INFO sqlalchemy.engine.Engine COMMIT\n",
      "2024-06-09 09:34:28,944 INFO sqlalchemy.engine.Engine BEGIN (implicit)\n",
      "2024-06-09 09:34:28,945 INFO sqlalchemy.engine.Engine SELECT users.id AS users_id, users.data AS users_data \n",
      "FROM users \n",
      "WHERE CAST((users.data -> %(data_1)s) AS VARCHAR) = %(param_1)s\n",
      "2024-06-09 09:34:28,945 INFO sqlalchemy.engine.Engine [generated in 0.00033s] {'data_1': 'city', 'param_1': 'New York'}\n",
      "num results:  0\n",
      "2024-06-09 09:34:28,947 INFO sqlalchemy.engine.Engine ROLLBACK\n"
     ]
    }
   ],
   "source": [
    "# does not work: returns zero matches\n",
    "\n",
    "from sqlalchemy import create_engine, Column, Integer, JSON\n",
    "from sqlalchemy.orm import sessionmaker, declarative_base\n",
    "from sqlalchemy.dialects.postgresql import JSONB\n",
    "from sqlalchemy.sql.expression import cast\n",
    "from sqlalchemy import String\n",
    "\n",
    "engine = create_engine('postgresql://localhost/joerg', echo=True)\n",
    "\n",
    "Base = declarative_base()\n",
    "\n",
    "class User(Base):\n",
    "    __tablename__ = 'users'\n",
    "\n",
    "    id = Column(Integer, primary_key=True)\n",
    "    data = Column(JSON)\n",
    "\n",
    "Base.metadata.create_all(bind=engine)\n",
    "\n",
    "Session = sessionmaker(bind=engine)\n",
    "session = Session()\n",
    "\n",
    "new_user = User(data={'name': 'John', 'age': 31, 'city': 'New York'})\n",
    "session.add(new_user)\n",
    "session.commit()\n",
    "\n",
    "# Query JSON field\n",
    "users_ny = session.query(User).filter(cast(User.data['city'], String) == 'New York').all()\n",
    "\n",
    "print ('num results: ', len(users_ny))\n",
    "for user in users_ny:\n",
    "    print('USER DATA: ', user.data)\n",
    "\n",
    "session.close()\n"
   ]
  },
  {
   "cell_type": "code",
   "execution_count": 19,
   "id": "ec64f249-8b7f-4308-b72e-4a13fb44c6df",
   "metadata": {},
   "outputs": [
    {
     "name": "stdout",
     "output_type": "stream",
     "text": [
      "2024-06-09 09:34:28,951 INFO sqlalchemy.engine.Engine BEGIN (implicit)\n",
      "2024-06-09 09:34:28,952 INFO sqlalchemy.engine.Engine INSERT INTO users (data) VALUES (%(data)s) RETURNING users.id\n",
      "2024-06-09 09:34:28,953 INFO sqlalchemy.engine.Engine [cached since 0.01218s ago] {'data': '{\"name\": \"John\", \"age\": 30, \"city\": \"New York\"}'}\n",
      "2024-06-09 09:34:28,953 INFO sqlalchemy.engine.Engine COMMIT\n",
      "2024-06-09 09:34:28,954 INFO sqlalchemy.engine.Engine BEGIN (implicit)\n",
      "2024-06-09 09:34:28,955 INFO sqlalchemy.engine.Engine SELECT users.id AS users_id, users.data AS users_data \n",
      "FROM users \n",
      "WHERE CAST((users.data -> %(data_1)s) AS VARCHAR) = %(param_1)s\n",
      "2024-06-09 09:34:28,955 INFO sqlalchemy.engine.Engine [cached since 0.009874s ago] {'data_1': 'city', 'param_1': 'New York'}\n",
      "2024-06-09 09:34:28,956 INFO sqlalchemy.engine.Engine ROLLBACK\n"
     ]
    }
   ],
   "source": [
    "# does not work: returns zero matches\n",
    "\n",
    "from sqlalchemy.orm import scoped_session\n",
    "from sqlalchemy.orm import sessionmaker\n",
    "\n",
    "# Insert record\n",
    "session_factory = sessionmaker(bind=engine)\n",
    "Session = scoped_session(session_factory)\n",
    "session = Session()\n",
    "\n",
    "new_user = User(data={'name': 'John', 'age': 30, 'city': 'New York'})\n",
    "session.add(new_user)\n",
    "session.commit()\n",
    "\n",
    "# Query JSON field\n",
    "users_ny = session.query(User).filter(cast(User.data['city'], String) == 'New York').all()\n",
    "\n",
    "for user in users_ny:\n",
    "    print(user.data)\n",
    "\n",
    "Session.remove()"
   ]
  },
  {
   "cell_type": "markdown",
   "id": "f5e38be8-7a3b-4448-b1d2-5f4503452a9d",
   "metadata": {},
   "source": [
    "#### SQL query in json column (working!)"
   ]
  },
  {
   "cell_type": "code",
   "execution_count": 20,
   "id": "df0c4a41-50de-486f-aef9-09f6c7033a06",
   "metadata": {},
   "outputs": [
    {
     "name": "stdout",
     "output_type": "stream",
     "text": [
      "2024-06-09 09:34:28,960 INFO sqlalchemy.engine.Engine BEGIN (implicit)\n",
      "2024-06-09 09:34:28,961 INFO sqlalchemy.engine.Engine INSERT INTO users (data) VALUES (%(data)s) RETURNING users.id\n",
      "2024-06-09 09:34:28,961 INFO sqlalchemy.engine.Engine [cached since 0.02075s ago] {'data': '{\"name\": \"John\", \"age\": 30, \"city\": \"New York\"}'}\n",
      "2024-06-09 09:34:28,962 INFO sqlalchemy.engine.Engine COMMIT\n",
      "2024-06-09 09:34:28,963 INFO sqlalchemy.engine.Engine BEGIN (implicit)\n",
      "2024-06-09 09:34:28,964 INFO sqlalchemy.engine.Engine SELECT * FROM users WHERE data ->> 'city' = %(city)s\n",
      "2024-06-09 09:34:28,964 INFO sqlalchemy.engine.Engine [generated in 0.00022s] {'city': 'New York'}\n",
      "(1, {'name': 'John', 'age': 30, 'city': 'New York'})\n",
      "(2, {'name': 'John', 'age': 30, 'city': 'New York'})\n",
      "(3, {'name': 'John', 'age': 31, 'city': 'New York'})\n",
      "(4, {'name': 'John', 'age': 31, 'city': 'New York'})\n",
      "(5, {'name': 'John', 'age': 31, 'city': 'New York'})\n",
      "(6, {'name': 'John', 'age': 31, 'city': 'New York'})\n",
      "(7, {'name': 'John', 'age': 31, 'city': 'New York'})\n",
      "(8, {'name': 'John', 'age': 30, 'city': 'New York'})\n",
      "(9, {'name': 'John', 'age': 30, 'city': 'New York'})\n",
      "(10, {'name': 'John', 'age': 30, 'city': 'New York'})\n",
      "(11, {'name': 'John', 'age': 30, 'city': 'New York'})\n",
      "(12, {'name': 'John', 'age': 30, 'city': 'New York'})\n",
      "(13, {'name': 'John', 'age': 31, 'city': 'New York'})\n",
      "(14, {'name': 'John', 'age': 30, 'city': 'New York'})\n",
      "(15, {'name': 'John', 'age': 30, 'city': 'New York'})\n",
      "(16, {'name': 'John', 'age': 31, 'city': 'New York'})\n",
      "(17, {'name': 'John', 'age': 30, 'city': 'New York'})\n",
      "(18, {'name': 'John', 'age': 30, 'city': 'New York'})\n",
      "(19, {'name': 'John', 'age': 30, 'city': 'New York'})\n",
      "(20, {'name': 'John', 'age': 30, 'city': 'New York'})\n",
      "(21, {'name': 'John', 'age': 31, 'city': 'New York'})\n",
      "(22, {'name': 'John', 'age': 30, 'city': 'New York'})\n",
      "(23, {'name': 'John', 'age': 30, 'city': 'New York'})\n",
      "(24, {'name': 'John', 'age': 30, 'city': 'New York'})\n",
      "(25, {'name': 'John', 'age': 30, 'city': 'New York'})\n",
      "(26, {'name': 'John', 'age': 31, 'city': 'New York'})\n",
      "(27, {'name': 'John', 'age': 30, 'city': 'New York'})\n",
      "(28, {'name': 'John', 'age': 30, 'city': 'New York'})\n",
      "(29, {'name': 'John', 'age': 30, 'city': 'New York'})\n",
      "(30, {'name': 'John', 'age': 30, 'city': 'New York'})\n",
      "(31, {'name': 'John', 'age': 31, 'city': 'New York'})\n",
      "(32, {'name': 'John', 'age': 30, 'city': 'New York'})\n",
      "(33, {'name': 'John', 'age': 30, 'city': 'New York'})\n",
      "(34, {'name': 'John', 'age': 30, 'city': 'New York'})\n",
      "(35, {'name': 'John', 'age': 30, 'city': 'New York'})\n",
      "(36, {'name': 'John', 'age': 31, 'city': 'New York'})\n",
      "(37, {'name': 'John', 'age': 30, 'city': 'New York'})\n",
      "(38, {'name': 'John', 'age': 30, 'city': 'New York'})\n",
      "2024-06-09 09:34:28,965 INFO sqlalchemy.engine.Engine ROLLBACK\n"
     ]
    }
   ],
   "source": [
    "from sqlalchemy import text\n",
    "\n",
    "# Following the same connection and setup steps as before...\n",
    "\n",
    "# Insert record (same as before)\n",
    "new_user = User(data={'name': 'John', 'age': 30, 'city': 'New York'})\n",
    "session.add(new_user)\n",
    "session.commit()\n",
    "\n",
    "# Query JSON field using a PostgreSQL JSON function\n",
    "query = text(\"SELECT * FROM users WHERE data ->> 'city' = :city\")\n",
    "result = session.execute(query, {'city': 'New York'})\n",
    "\n",
    "for row in result:\n",
    "    print(row)\n",
    "\n",
    "session.close()"
   ]
  },
  {
   "cell_type": "code",
   "execution_count": 21,
   "id": "679e62ed-966b-4506-bf97-b64244f88541",
   "metadata": {},
   "outputs": [
    {
     "name": "stdout",
     "output_type": "stream",
     "text": [
      "2024-06-09 09:34:28,969 INFO sqlalchemy.engine.Engine BEGIN (implicit)\n",
      "2024-06-09 09:34:28,969 INFO sqlalchemy.engine.Engine INSERT INTO users (data) VALUES (%(data)s) RETURNING users.id\n",
      "2024-06-09 09:34:28,970 INFO sqlalchemy.engine.Engine [cached since 0.0293s ago] {'data': '{\"name\": \"John\", \"age\": 30, \"city\": \"New York\"}'}\n",
      "2024-06-09 09:34:28,970 INFO sqlalchemy.engine.Engine COMMIT\n",
      "2024-06-09 09:34:28,971 INFO sqlalchemy.engine.Engine BEGIN (implicit)\n",
      "2024-06-09 09:34:28,971 INFO sqlalchemy.engine.Engine SELECT * FROM users WHERE data ->> 'city' = %(city)s\n",
      "2024-06-09 09:34:28,971 INFO sqlalchemy.engine.Engine [cached since 0.007502s ago] {'city': 'New York'}\n",
      "(1, {'name': 'John', 'age': 30, 'city': 'New York'})\n",
      "(2, {'name': 'John', 'age': 30, 'city': 'New York'})\n",
      "(3, {'name': 'John', 'age': 31, 'city': 'New York'})\n",
      "(4, {'name': 'John', 'age': 31, 'city': 'New York'})\n",
      "(5, {'name': 'John', 'age': 31, 'city': 'New York'})\n",
      "(6, {'name': 'John', 'age': 31, 'city': 'New York'})\n",
      "(7, {'name': 'John', 'age': 31, 'city': 'New York'})\n",
      "(8, {'name': 'John', 'age': 30, 'city': 'New York'})\n",
      "(9, {'name': 'John', 'age': 30, 'city': 'New York'})\n",
      "(10, {'name': 'John', 'age': 30, 'city': 'New York'})\n",
      "(11, {'name': 'John', 'age': 30, 'city': 'New York'})\n",
      "(12, {'name': 'John', 'age': 30, 'city': 'New York'})\n",
      "(13, {'name': 'John', 'age': 31, 'city': 'New York'})\n",
      "(14, {'name': 'John', 'age': 30, 'city': 'New York'})\n",
      "(15, {'name': 'John', 'age': 30, 'city': 'New York'})\n",
      "(16, {'name': 'John', 'age': 31, 'city': 'New York'})\n",
      "(17, {'name': 'John', 'age': 30, 'city': 'New York'})\n",
      "(18, {'name': 'John', 'age': 30, 'city': 'New York'})\n",
      "(19, {'name': 'John', 'age': 30, 'city': 'New York'})\n",
      "(20, {'name': 'John', 'age': 30, 'city': 'New York'})\n",
      "(21, {'name': 'John', 'age': 31, 'city': 'New York'})\n",
      "(22, {'name': 'John', 'age': 30, 'city': 'New York'})\n",
      "(23, {'name': 'John', 'age': 30, 'city': 'New York'})\n",
      "(24, {'name': 'John', 'age': 30, 'city': 'New York'})\n",
      "(25, {'name': 'John', 'age': 30, 'city': 'New York'})\n",
      "(26, {'name': 'John', 'age': 31, 'city': 'New York'})\n",
      "(27, {'name': 'John', 'age': 30, 'city': 'New York'})\n",
      "(28, {'name': 'John', 'age': 30, 'city': 'New York'})\n",
      "(29, {'name': 'John', 'age': 30, 'city': 'New York'})\n",
      "(30, {'name': 'John', 'age': 30, 'city': 'New York'})\n",
      "(31, {'name': 'John', 'age': 31, 'city': 'New York'})\n",
      "(32, {'name': 'John', 'age': 30, 'city': 'New York'})\n",
      "(33, {'name': 'John', 'age': 30, 'city': 'New York'})\n",
      "(34, {'name': 'John', 'age': 30, 'city': 'New York'})\n",
      "(35, {'name': 'John', 'age': 30, 'city': 'New York'})\n",
      "(36, {'name': 'John', 'age': 31, 'city': 'New York'})\n",
      "(37, {'name': 'John', 'age': 30, 'city': 'New York'})\n",
      "(38, {'name': 'John', 'age': 30, 'city': 'New York'})\n",
      "(39, {'name': 'John', 'age': 30, 'city': 'New York'})\n",
      "2024-06-09 09:34:28,972 INFO sqlalchemy.engine.Engine ROLLBACK\n"
     ]
    }
   ],
   "source": [
    "from sqlalchemy import text\n",
    "\n",
    "# Following the same connection and setup steps as before...\n",
    "\n",
    "# Insert record (same as before)\n",
    "new_user = User(data={'name': 'John', 'age': 30, 'city': 'New York'})\n",
    "session.add(new_user)\n",
    "session.commit()\n",
    "\n",
    "# Query JSON field using a PostgreSQL JSON function\n",
    "query = text(\"SELECT * FROM users WHERE data ->> 'city' = :city\")\n",
    "result = session.execute(query, {'city': 'New York'})\n",
    "\n",
    "for row in result:\n",
    "    print(row)\n",
    "\n",
    "session.close()"
   ]
  },
  {
   "cell_type": "code",
   "execution_count": 22,
   "id": "8d04c815-7734-4482-8f7b-50c3978d7f10",
   "metadata": {},
   "outputs": [
    {
     "name": "stdout",
     "output_type": "stream",
     "text": [
      "2024-06-09 09:34:28,979 INFO sqlalchemy.engine.Engine BEGIN (implicit)\n",
      "2024-06-09 09:34:28,979 INFO sqlalchemy.engine.Engine SELECT * FROM users WHERE data ->> 'city' = %(city)s\n",
      "2024-06-09 09:34:28,979 INFO sqlalchemy.engine.Engine [cached since 0.01538s ago] {'city': 'New York'}\n",
      "(1, {'name': 'John', 'age': 30, 'city': 'New York'})\n",
      "(2, {'name': 'John', 'age': 30, 'city': 'New York'})\n",
      "(3, {'name': 'John', 'age': 31, 'city': 'New York'})\n",
      "(4, {'name': 'John', 'age': 31, 'city': 'New York'})\n",
      "(5, {'name': 'John', 'age': 31, 'city': 'New York'})\n",
      "(6, {'name': 'John', 'age': 31, 'city': 'New York'})\n",
      "(7, {'name': 'John', 'age': 31, 'city': 'New York'})\n",
      "(8, {'name': 'John', 'age': 30, 'city': 'New York'})\n",
      "(9, {'name': 'John', 'age': 30, 'city': 'New York'})\n",
      "(10, {'name': 'John', 'age': 30, 'city': 'New York'})\n",
      "(11, {'name': 'John', 'age': 30, 'city': 'New York'})\n",
      "(12, {'name': 'John', 'age': 30, 'city': 'New York'})\n",
      "(13, {'name': 'John', 'age': 31, 'city': 'New York'})\n",
      "(14, {'name': 'John', 'age': 30, 'city': 'New York'})\n",
      "(15, {'name': 'John', 'age': 30, 'city': 'New York'})\n",
      "(16, {'name': 'John', 'age': 31, 'city': 'New York'})\n",
      "(17, {'name': 'John', 'age': 30, 'city': 'New York'})\n",
      "(18, {'name': 'John', 'age': 30, 'city': 'New York'})\n",
      "(19, {'name': 'John', 'age': 30, 'city': 'New York'})\n",
      "(20, {'name': 'John', 'age': 30, 'city': 'New York'})\n",
      "(21, {'name': 'John', 'age': 31, 'city': 'New York'})\n",
      "(22, {'name': 'John', 'age': 30, 'city': 'New York'})\n",
      "(23, {'name': 'John', 'age': 30, 'city': 'New York'})\n",
      "(24, {'name': 'John', 'age': 30, 'city': 'New York'})\n",
      "(25, {'name': 'John', 'age': 30, 'city': 'New York'})\n",
      "(26, {'name': 'John', 'age': 31, 'city': 'New York'})\n",
      "(27, {'name': 'John', 'age': 30, 'city': 'New York'})\n",
      "(28, {'name': 'John', 'age': 30, 'city': 'New York'})\n",
      "(29, {'name': 'John', 'age': 30, 'city': 'New York'})\n",
      "(30, {'name': 'John', 'age': 30, 'city': 'New York'})\n",
      "(31, {'name': 'John', 'age': 31, 'city': 'New York'})\n",
      "(32, {'name': 'John', 'age': 30, 'city': 'New York'})\n",
      "(33, {'name': 'John', 'age': 30, 'city': 'New York'})\n",
      "(34, {'name': 'John', 'age': 30, 'city': 'New York'})\n",
      "(35, {'name': 'John', 'age': 30, 'city': 'New York'})\n",
      "(36, {'name': 'John', 'age': 31, 'city': 'New York'})\n",
      "(37, {'name': 'John', 'age': 30, 'city': 'New York'})\n",
      "(38, {'name': 'John', 'age': 30, 'city': 'New York'})\n",
      "(39, {'name': 'John', 'age': 30, 'city': 'New York'})\n",
      "2024-06-09 09:34:28,980 INFO sqlalchemy.engine.Engine ROLLBACK\n",
      "CPU times: user 1.73 ms, sys: 989 µs, total: 2.72 ms\n",
      "Wall time: 2.14 ms\n"
     ]
    }
   ],
   "source": [
    "%%time\n",
    "query = text(\"SELECT * FROM users WHERE data ->> 'city' = :city\")\n",
    "result = session.execute(query, {'city': 'New York'})\n",
    "\n",
    "for row in result:\n",
    "    print(row)\n",
    "\n",
    "session.close()"
   ]
  },
  {
   "cell_type": "code",
   "execution_count": 23,
   "id": "bce27d17-35b7-469e-bb2a-8933f62d6540",
   "metadata": {},
   "outputs": [
    {
     "name": "stdout",
     "output_type": "stream",
     "text": [
      "2024-06-09 09:34:28,984 INFO sqlalchemy.engine.Engine BEGIN (implicit)\n",
      "2024-06-09 09:34:28,984 INFO sqlalchemy.engine.Engine SELECT * FROM users WHERE data ->> 'age' = %(age)s\n",
      "2024-06-09 09:34:28,985 INFO sqlalchemy.engine.Engine [generated in 0.00060s] {'age': '30'}\n",
      "(1, {'name': 'John', 'age': 30, 'city': 'New York'})\n",
      "(2, {'name': 'John', 'age': 30, 'city': 'New York'})\n",
      "(8, {'name': 'John', 'age': 30, 'city': 'New York'})\n",
      "(9, {'name': 'John', 'age': 30, 'city': 'New York'})\n",
      "(10, {'name': 'John', 'age': 30, 'city': 'New York'})\n",
      "(11, {'name': 'John', 'age': 30, 'city': 'New York'})\n",
      "(12, {'name': 'John', 'age': 30, 'city': 'New York'})\n",
      "(14, {'name': 'John', 'age': 30, 'city': 'New York'})\n",
      "(15, {'name': 'John', 'age': 30, 'city': 'New York'})\n",
      "(17, {'name': 'John', 'age': 30, 'city': 'New York'})\n",
      "(18, {'name': 'John', 'age': 30, 'city': 'New York'})\n",
      "(19, {'name': 'John', 'age': 30, 'city': 'New York'})\n",
      "(20, {'name': 'John', 'age': 30, 'city': 'New York'})\n",
      "(22, {'name': 'John', 'age': 30, 'city': 'New York'})\n",
      "(23, {'name': 'John', 'age': 30, 'city': 'New York'})\n",
      "(24, {'name': 'John', 'age': 30, 'city': 'New York'})\n",
      "(25, {'name': 'John', 'age': 30, 'city': 'New York'})\n",
      "(27, {'name': 'John', 'age': 30, 'city': 'New York'})\n",
      "(28, {'name': 'John', 'age': 30, 'city': 'New York'})\n",
      "(29, {'name': 'John', 'age': 30, 'city': 'New York'})\n",
      "(30, {'name': 'John', 'age': 30, 'city': 'New York'})\n",
      "(32, {'name': 'John', 'age': 30, 'city': 'New York'})\n",
      "(33, {'name': 'John', 'age': 30, 'city': 'New York'})\n",
      "(34, {'name': 'John', 'age': 30, 'city': 'New York'})\n",
      "(35, {'name': 'John', 'age': 30, 'city': 'New York'})\n",
      "(37, {'name': 'John', 'age': 30, 'city': 'New York'})\n",
      "(38, {'name': 'John', 'age': 30, 'city': 'New York'})\n",
      "(39, {'name': 'John', 'age': 30, 'city': 'New York'})\n",
      "2024-06-09 09:34:28,986 INFO sqlalchemy.engine.Engine ROLLBACK\n",
      "CPU times: user 2.15 ms, sys: 1.14 ms, total: 3.29 ms\n",
      "Wall time: 3.09 ms\n"
     ]
    }
   ],
   "source": [
    "%%time\n",
    "query = text(\"SELECT * FROM users WHERE data ->> 'age' = :age\")\n",
    "result = session.execute(query, {'age': '30'})\n",
    "\n",
    "for row in result:\n",
    "    print(row)\n",
    "\n",
    "session.close()"
   ]
  },
  {
   "cell_type": "markdown",
   "id": "c35715cd-6335-4b01-b0af-f8ee64c50d8b",
   "metadata": {},
   "source": [
    "## Convert interactive python concepts into more generic function based code"
   ]
  },
  {
   "cell_type": "markdown",
   "id": "72737b77-342c-41df-b1b1-c7d361edb33a",
   "metadata": {},
   "source": [
    "### Database access and creation"
   ]
  },
  {
   "cell_type": "code",
   "execution_count": 24,
   "id": "7266a910-72fd-4c1d-b235-65058c15625f",
   "metadata": {},
   "outputs": [],
   "source": [
    "from sqlalchemy import text\n",
    "import pandas as pd\n",
    "\n",
    "def database_query_function(session, key, value):\n",
    "    # Query JSON field using a PostgreSQL JSON function\n",
    "    query = text(f\"SELECT * FROM users WHERE data ->> :key = :value\")\n",
    "    result = session.execute(query, {'key': key, 'value': str(value)})\n",
    "\n",
    "    # Convert result to a pandas DataFrame\n",
    "    df = pd.DataFrame(result.fetchall())\n",
    "    df.columns = result.keys()\n",
    "\n",
    "    session.close()\n",
    "\n",
    "    # return the DataFrame\n",
    "    return df"
   ]
  },
  {
   "cell_type": "code",
   "execution_count": 26,
   "id": "3f645007-108f-4bd4-8c87-201fd02e8d9c",
   "metadata": {},
   "outputs": [
    {
     "name": "stdout",
     "output_type": "stream",
     "text": [
      "2024-06-09 09:34:29,004 INFO sqlalchemy.engine.Engine BEGIN (implicit)\n",
      "2024-06-09 09:34:29,004 INFO sqlalchemy.engine.Engine SELECT * FROM users WHERE data ->> %(key)s = %(value)s\n",
      "2024-06-09 09:34:29,005 INFO sqlalchemy.engine.Engine [cached since 0.01089s ago] {'key': 'age', 'value': '30'}\n",
      "2024-06-09 09:34:29,006 INFO sqlalchemy.engine.Engine ROLLBACK\n"
     ]
    },
    {
     "data": {
      "text/html": [
       "<div>\n",
       "<style scoped>\n",
       "    .dataframe tbody tr th:only-of-type {\n",
       "        vertical-align: middle;\n",
       "    }\n",
       "\n",
       "    .dataframe tbody tr th {\n",
       "        vertical-align: top;\n",
       "    }\n",
       "\n",
       "    .dataframe thead th {\n",
       "        text-align: right;\n",
       "    }\n",
       "</style>\n",
       "<table border=\"1\" class=\"dataframe\">\n",
       "  <thead>\n",
       "    <tr style=\"text-align: right;\">\n",
       "      <th></th>\n",
       "      <th>id</th>\n",
       "      <th>data</th>\n",
       "    </tr>\n",
       "  </thead>\n",
       "  <tbody>\n",
       "    <tr>\n",
       "      <th>0</th>\n",
       "      <td>1</td>\n",
       "      <td>{'name': 'John', 'age': 30, 'city': 'New York'}</td>\n",
       "    </tr>\n",
       "    <tr>\n",
       "      <th>1</th>\n",
       "      <td>2</td>\n",
       "      <td>{'name': 'John', 'age': 30, 'city': 'New York'}</td>\n",
       "    </tr>\n",
       "    <tr>\n",
       "      <th>2</th>\n",
       "      <td>8</td>\n",
       "      <td>{'name': 'John', 'age': 30, 'city': 'New York'}</td>\n",
       "    </tr>\n",
       "    <tr>\n",
       "      <th>3</th>\n",
       "      <td>9</td>\n",
       "      <td>{'name': 'John', 'age': 30, 'city': 'New York'}</td>\n",
       "    </tr>\n",
       "    <tr>\n",
       "      <th>4</th>\n",
       "      <td>10</td>\n",
       "      <td>{'name': 'John', 'age': 30, 'city': 'New York'}</td>\n",
       "    </tr>\n",
       "    <tr>\n",
       "      <th>5</th>\n",
       "      <td>11</td>\n",
       "      <td>{'name': 'John', 'age': 30, 'city': 'New York'}</td>\n",
       "    </tr>\n",
       "    <tr>\n",
       "      <th>6</th>\n",
       "      <td>12</td>\n",
       "      <td>{'name': 'John', 'age': 30, 'city': 'New York'}</td>\n",
       "    </tr>\n",
       "    <tr>\n",
       "      <th>7</th>\n",
       "      <td>14</td>\n",
       "      <td>{'name': 'John', 'age': 30, 'city': 'New York'}</td>\n",
       "    </tr>\n",
       "    <tr>\n",
       "      <th>8</th>\n",
       "      <td>15</td>\n",
       "      <td>{'name': 'John', 'age': 30, 'city': 'New York'}</td>\n",
       "    </tr>\n",
       "    <tr>\n",
       "      <th>9</th>\n",
       "      <td>17</td>\n",
       "      <td>{'name': 'John', 'age': 30, 'city': 'New York'}</td>\n",
       "    </tr>\n",
       "    <tr>\n",
       "      <th>10</th>\n",
       "      <td>18</td>\n",
       "      <td>{'name': 'John', 'age': 30, 'city': 'New York'}</td>\n",
       "    </tr>\n",
       "    <tr>\n",
       "      <th>11</th>\n",
       "      <td>19</td>\n",
       "      <td>{'name': 'John', 'age': 30, 'city': 'New York'}</td>\n",
       "    </tr>\n",
       "    <tr>\n",
       "      <th>12</th>\n",
       "      <td>20</td>\n",
       "      <td>{'name': 'John', 'age': 30, 'city': 'New York'}</td>\n",
       "    </tr>\n",
       "    <tr>\n",
       "      <th>13</th>\n",
       "      <td>22</td>\n",
       "      <td>{'name': 'John', 'age': 30, 'city': 'New York'}</td>\n",
       "    </tr>\n",
       "    <tr>\n",
       "      <th>14</th>\n",
       "      <td>23</td>\n",
       "      <td>{'name': 'John', 'age': 30, 'city': 'New York'}</td>\n",
       "    </tr>\n",
       "    <tr>\n",
       "      <th>15</th>\n",
       "      <td>24</td>\n",
       "      <td>{'name': 'John', 'age': 30, 'city': 'New York'}</td>\n",
       "    </tr>\n",
       "    <tr>\n",
       "      <th>16</th>\n",
       "      <td>25</td>\n",
       "      <td>{'name': 'John', 'age': 30, 'city': 'New York'}</td>\n",
       "    </tr>\n",
       "    <tr>\n",
       "      <th>17</th>\n",
       "      <td>27</td>\n",
       "      <td>{'name': 'John', 'age': 30, 'city': 'New York'}</td>\n",
       "    </tr>\n",
       "    <tr>\n",
       "      <th>18</th>\n",
       "      <td>28</td>\n",
       "      <td>{'name': 'John', 'age': 30, 'city': 'New York'}</td>\n",
       "    </tr>\n",
       "    <tr>\n",
       "      <th>19</th>\n",
       "      <td>29</td>\n",
       "      <td>{'name': 'John', 'age': 30, 'city': 'New York'}</td>\n",
       "    </tr>\n",
       "    <tr>\n",
       "      <th>20</th>\n",
       "      <td>30</td>\n",
       "      <td>{'name': 'John', 'age': 30, 'city': 'New York'}</td>\n",
       "    </tr>\n",
       "    <tr>\n",
       "      <th>21</th>\n",
       "      <td>32</td>\n",
       "      <td>{'name': 'John', 'age': 30, 'city': 'New York'}</td>\n",
       "    </tr>\n",
       "    <tr>\n",
       "      <th>22</th>\n",
       "      <td>33</td>\n",
       "      <td>{'name': 'John', 'age': 30, 'city': 'New York'}</td>\n",
       "    </tr>\n",
       "    <tr>\n",
       "      <th>23</th>\n",
       "      <td>34</td>\n",
       "      <td>{'name': 'John', 'age': 30, 'city': 'New York'}</td>\n",
       "    </tr>\n",
       "    <tr>\n",
       "      <th>24</th>\n",
       "      <td>35</td>\n",
       "      <td>{'name': 'John', 'age': 30, 'city': 'New York'}</td>\n",
       "    </tr>\n",
       "    <tr>\n",
       "      <th>25</th>\n",
       "      <td>37</td>\n",
       "      <td>{'name': 'John', 'age': 30, 'city': 'New York'}</td>\n",
       "    </tr>\n",
       "    <tr>\n",
       "      <th>26</th>\n",
       "      <td>38</td>\n",
       "      <td>{'name': 'John', 'age': 30, 'city': 'New York'}</td>\n",
       "    </tr>\n",
       "    <tr>\n",
       "      <th>27</th>\n",
       "      <td>39</td>\n",
       "      <td>{'name': 'John', 'age': 30, 'city': 'New York'}</td>\n",
       "    </tr>\n",
       "  </tbody>\n",
       "</table>\n",
       "</div>"
      ],
      "text/plain": [
       "    id                                             data\n",
       "0    1  {'name': 'John', 'age': 30, 'city': 'New York'}\n",
       "1    2  {'name': 'John', 'age': 30, 'city': 'New York'}\n",
       "2    8  {'name': 'John', 'age': 30, 'city': 'New York'}\n",
       "3    9  {'name': 'John', 'age': 30, 'city': 'New York'}\n",
       "4   10  {'name': 'John', 'age': 30, 'city': 'New York'}\n",
       "5   11  {'name': 'John', 'age': 30, 'city': 'New York'}\n",
       "6   12  {'name': 'John', 'age': 30, 'city': 'New York'}\n",
       "7   14  {'name': 'John', 'age': 30, 'city': 'New York'}\n",
       "8   15  {'name': 'John', 'age': 30, 'city': 'New York'}\n",
       "9   17  {'name': 'John', 'age': 30, 'city': 'New York'}\n",
       "10  18  {'name': 'John', 'age': 30, 'city': 'New York'}\n",
       "11  19  {'name': 'John', 'age': 30, 'city': 'New York'}\n",
       "12  20  {'name': 'John', 'age': 30, 'city': 'New York'}\n",
       "13  22  {'name': 'John', 'age': 30, 'city': 'New York'}\n",
       "14  23  {'name': 'John', 'age': 30, 'city': 'New York'}\n",
       "15  24  {'name': 'John', 'age': 30, 'city': 'New York'}\n",
       "16  25  {'name': 'John', 'age': 30, 'city': 'New York'}\n",
       "17  27  {'name': 'John', 'age': 30, 'city': 'New York'}\n",
       "18  28  {'name': 'John', 'age': 30, 'city': 'New York'}\n",
       "19  29  {'name': 'John', 'age': 30, 'city': 'New York'}\n",
       "20  30  {'name': 'John', 'age': 30, 'city': 'New York'}\n",
       "21  32  {'name': 'John', 'age': 30, 'city': 'New York'}\n",
       "22  33  {'name': 'John', 'age': 30, 'city': 'New York'}\n",
       "23  34  {'name': 'John', 'age': 30, 'city': 'New York'}\n",
       "24  35  {'name': 'John', 'age': 30, 'city': 'New York'}\n",
       "25  37  {'name': 'John', 'age': 30, 'city': 'New York'}\n",
       "26  38  {'name': 'John', 'age': 30, 'city': 'New York'}\n",
       "27  39  {'name': 'John', 'age': 30, 'city': 'New York'}"
      ]
     },
     "execution_count": 26,
     "metadata": {},
     "output_type": "execute_result"
    }
   ],
   "source": [
    "database_query_function(session=session, key='age', value=30)"
   ]
  },
  {
   "cell_type": "markdown",
   "id": "23ca3719-80b6-4bc0-a8d4-01a5e731b442",
   "metadata": {},
   "source": [
    "### More advanced function"
   ]
  },
  {
   "cell_type": "markdown",
   "id": "1dba30cb-fd27-49e5-aff5-28b2f81b4d2d",
   "metadata": {},
   "source": [
    "#### Database table creation"
   ]
  },
  {
   "cell_type": "code",
   "execution_count": null,
   "id": "e63341ea-f592-4ee3-a459-12709ee26d1f",
   "metadata": {},
   "outputs": [],
   "source": [
    "import hashlib\n",
    "import json\n",
    "from datetime import datetime\n",
    "from pathlib import Path\n",
    "\n",
    "class User:\n",
    "    def __init__(self, user_id, name, input_dict, path, length=256):\n",
    "        \"\"\"\n",
    "        Initializes a User object with a user ID, name, input dictionary, hash, file path, and creation date.\n",
    "\n",
    "        The function hashes the input dictionary and stores both the dictionary and its hash, \n",
    "        the file path where further data is stored, and the date of creation.\n",
    "\n",
    "        Parameters:\n",
    "        user_id (str): The ID of the user.\n",
    "        name (str): The name of the user.\n",
    "        input_dict (dict): The dictionary to convert into a hash.\n",
    "        path (str): The path where further data is stored.\n",
    "        length (int, optional): The desired length of the hash, either 128, 256 (default), or 512.\n",
    "        \"\"\"\n",
    "\n",
    "        self.user_id = user_id\n",
    "        self.name = name\n",
    "        self.input_dict = input_dict\n",
    "        self.dict_hash = self.compute_dict_hash(input_dict, length=length)\n",
    "        self.path = Path(path).resolve()\n",
    "        self.creation_date = datetime.now()\n",
    "\n",
    "    @staticmethod\n",
    "    def compute_dict_hash(input_dict, length=256):\n",
    "        \"\"\"\n",
    "        Converts a dictionary into a hash.\n",
    "\n",
    "        Parameters:\n",
    "        input_dict (dict): The dictionary to convert into a hash.\n",
    "        length (int, optional): The desired length of the hash, either 128, 256 (default), or 512.\n",
    "\n",
    "        Returns:\n",
    "        str: The hexadecimal representation of the hash of the dictionary.\n",
    "        \"\"\"\n",
    "\n",
    "        # Convert dictionary to JSON object to ensure consistent hash\n",
    "        jsonified_dict = json.dumps(input_dict, sort_keys=True)\n",
    "\n",
    "        # Create a new hash object based on specified length\n",
    "        if length == 256:\n",
    "            hasher = hashlib.sha256()\n",
    "        elif length == 512:\n",
    "            hasher = hashlib.sha512()\n",
    "        elif length == 128:\n",
    "            hasher = hashlib.md5()\n",
    "        else:\n",
    "            raise ValueError(\"Length must be either 128, 256 or 512.\")\n",
    "\n",
    "        # Update the hash object with the bytes of the JSON object\n",
    "        hasher.update(jsonified_dict.encode('utf-8'))\n",
    "\n",
    "        # Return the hexadecimal representation of the hash\n",
    "        return hasher.hexdigest()"
   ]
  },
  {
   "cell_type": "code",
   "execution_count": 1,
   "id": "ef046be2-4052-4cab-80d4-45a5f5f4c3c2",
   "metadata": {},
   "outputs": [],
   "source": [
    "from sqlalchemy import create_engine, Column, Integer, JSON\n",
    "from sqlalchemy.orm import sessionmaker, declarative_base\n",
    "from sqlalchemy.dialects.postgresql import JSONB\n",
    "from sqlalchemy.sql.expression import cast\n",
    "from sqlalchemy import String\n",
    "from dataclasses import dataclass\n",
    "\n",
    "# Declare the Database class\n",
    "@dataclass\n",
    "class Database:\n",
    "    Session: any\n",
    "    User: any\n",
    "\n",
    "\n",
    "import hashlib\n",
    "import json\n",
    "from datetime import datetime\n",
    "from pathlib import Path\n",
    "\n",
    "class User:\n",
    "    def __init__(self, user_id, name, input_dict, path, length=256):\n",
    "        \"\"\"\n",
    "        Initializes a User object with a user ID, name, input dictionary, hash, file path, and creation date.\n",
    "\n",
    "        The function hashes the input dictionary and stores both the dictionary and its hash, \n",
    "        the file path where further data is stored, and the date of creation.\n",
    "\n",
    "        Parameters:\n",
    "        user_id (str): The ID of the user.\n",
    "        name (str): The name of the user.\n",
    "        input_dict (dict): The dictionary to convert into a hash.\n",
    "        path (str): The path where further data is stored.\n",
    "        length (int, optional): The desired length of the hash, either 128, 256 (default), or 512.\n",
    "        \"\"\"\n",
    "\n",
    "        self.user_id = user_id\n",
    "        self.name = name\n",
    "        self.input_dict = input_dict\n",
    "        self.dict_hash = self.compute_dict_hash(input_dict, length=length)\n",
    "        self.path = Path(path).resolve()\n",
    "        self.creation_date = datetime.now()\n",
    "\n",
    "\n",
    "def create_users_table(db_url='postgresql://localhost/joerg', echo=False):\n",
    "    # Create engine\n",
    "    engine = create_engine(db_url, echo=echo)\n",
    "\n",
    "    # Create a configured \"Session\" class\n",
    "    Session = sessionmaker(bind=engine)\n",
    "\n",
    "    # Declare base\n",
    "    Base = declarative_base()\n",
    "\n",
    "    # Define User class\n",
    "    class User(Base):\n",
    "        __tablename__ = 'users'\n",
    "\n",
    "        id = Column(Integer, primary_key=True)\n",
    "        data = Column(JSON)\n",
    "\n",
    "    # Create table\n",
    "    Base.metadata.create_all(bind=engine)\n",
    "    \n",
    "    # Return Database class with Session and User classes\n",
    "    return Database(Session, User)"
   ]
  },
  {
   "cell_type": "code",
   "execution_count": 2,
   "id": "9363e41e-86b8-4381-8ba7-463edc67fba1",
   "metadata": {},
   "outputs": [],
   "source": [
    "db = create_users_table()"
   ]
  },
  {
   "cell_type": "markdown",
   "id": "395e209c-28ee-406f-ae8e-e779990724ab",
   "metadata": {},
   "source": [
    "#### Add data"
   ]
  },
  {
   "cell_type": "code",
   "execution_count": 5,
   "id": "09c2b8fa-a0b8-4e60-a8d1-719893a5a5b8",
   "metadata": {},
   "outputs": [],
   "source": [
    "def add_data_to_database(db, verbose=False, **kwargs):\n",
    "    \"\"\"\n",
    "    Adds a record to the users table in the database.\n",
    "\n",
    "    Args:\n",
    "        db (Database): A Database instance containing the Session and User classes.\n",
    "        verbose (bool): If True, will print a success message. False by default.\n",
    "        **kwargs: Arbitrary keyword arguments representing the data to be added.\n",
    "\n",
    "    Returns:\n",
    "        Database: The original Database instance passed in. \n",
    "    \"\"\"\n",
    "    # Extract Session and User classes from Database instance\n",
    "    Session = db.Session\n",
    "    User = db.User\n",
    "\n",
    "    # Start a new session\n",
    "    session = Session()\n",
    "\n",
    "    # Create a new user with the given key-value data\n",
    "    new_user = User(data=kwargs)\n",
    "\n",
    "    # Add the new user to the session and commit\n",
    "    session.add(new_user)\n",
    "    session.commit()\n",
    "\n",
    "    session.close()\n",
    "\n",
    "    if verbose:\n",
    "        print(f\"Data {kwargs} added to database.\")\n",
    "\n",
    "    return db"
   ]
  },
  {
   "cell_type": "code",
   "execution_count": 38,
   "id": "0b733fa2-64d0-4f8f-825e-654ffabac92e",
   "metadata": {},
   "outputs": [
    {
     "name": "stdout",
     "output_type": "stream",
     "text": [
      "Data {'name': 'Alex', 'age': 29, 'city': 'Tübingen'} added to database.\n"
     ]
    },
    {
     "data": {
      "text/plain": [
       "Database(Session=sessionmaker(class_='Session', bind=Engine(postgresql://localhost/joerg), autoflush=True, expire_on_commit=True), User=<class '__main__.create_users_table.<locals>.User'>)"
      ]
     },
     "execution_count": 38,
     "metadata": {},
     "output_type": "execute_result"
    }
   ],
   "source": [
    "data = {'name': 'Alex', 'age': 29, 'city': 'Tübingen'}\n",
    "add_data_to_database(db, **data, verbose=True)"
   ]
  },
  {
   "cell_type": "markdown",
   "id": "7193bfd4-bef2-4a03-8fd0-be11eae97c9a",
   "metadata": {},
   "source": [
    "#### Delete data"
   ]
  },
  {
   "cell_type": "code",
   "execution_count": 36,
   "id": "6933faa4-e69b-476a-8476-6e7cade7df10",
   "metadata": {},
   "outputs": [],
   "source": [
    "def delete_data_from_database(db, indices=None, verbose=False):\n",
    "    \"\"\"\n",
    "    Deletes selected/named rows in the users table.\n",
    "\n",
    "    Args:\n",
    "        db (Database): A Database instance containing the Session and User classes.\n",
    "        indices (list): Optional. List of indices to delete. If None, deletes all rows.\n",
    "        verbose (bool): If True, prints out messages about what the function does.\n",
    "\n",
    "    Returns:\n",
    "        Database: The original Database instance passed in. \n",
    "    \"\"\"\n",
    "    # Extract Session and User classes from Database instance\n",
    "    Session = db.Session\n",
    "    User = db.User\n",
    "\n",
    "    # Start a new session\n",
    "    session = Session()\n",
    "\n",
    "    ids_to_delete = []\n",
    "\n",
    "    if indices is None:\n",
    "        # Delete all rows\n",
    "        session.query(User).delete()\n",
    "        message = \"All rows deleted.\"\n",
    "    else:\n",
    "        # Check if provided indices exist in the database\n",
    "        for index in indices:\n",
    "            user = session.get(User, int(index))  # using session.get instead of query.get\n",
    "            if user is None:\n",
    "                if verbose:\n",
    "                    print(f\"Row with id {index} does not exist.\")\n",
    "            else:\n",
    "                ids_to_delete.append(int(index))\n",
    "\n",
    "        # Delete only the existing rows with the provided indices\n",
    "        for index in ids_to_delete:\n",
    "            session.query(User).filter(User.id == int(index)).delete(synchronize_session='fetch')\n",
    "            session.expire_all()  # synchronize the session\n",
    "        message = f\"Rows with ids {ids_to_delete} deleted.\"\n",
    "\n",
    "    session.commit()\n",
    "\n",
    "    session.close()\n",
    "\n",
    "    if verbose:\n",
    "        print(message)\n",
    "    \n",
    "    return db\n"
   ]
  },
  {
   "cell_type": "code",
   "execution_count": 35,
   "id": "37734bc8-2e55-4935-b6cd-f844c7970fdf",
   "metadata": {},
   "outputs": [],
   "source": [
    "# db = delete_data_from_database(db, verbose=True)"
   ]
  },
  {
   "cell_type": "code",
   "execution_count": 40,
   "id": "9a9ceccc-e4e3-4381-b5de-5b492ffb4be5",
   "metadata": {},
   "outputs": [
    {
     "name": "stdout",
     "output_type": "stream",
     "text": [
      "Rows with ids [43] deleted.\n"
     ]
    }
   ],
   "source": [
    "db = delete_data_from_database(db, indices=[43], verbose=True)"
   ]
  },
  {
   "cell_type": "markdown",
   "id": "035d6ee3-e503-4396-9f14-64e42c985209",
   "metadata": {},
   "source": [
    "#### Show database table as pandas dataframe"
   ]
  },
  {
   "cell_type": "code",
   "execution_count": 41,
   "id": "fe4349c0-9f52-4bd1-b5e2-9c59402756d3",
   "metadata": {},
   "outputs": [],
   "source": [
    "import pandas as pd\n",
    "\n",
    "def fetch_all_data(db):\n",
    "    \"\"\"\n",
    "    Fetches all rows from the users table.\n",
    "\n",
    "    Args:\n",
    "        db (Database): A Database instance containing the Session and User classes.\n",
    "\n",
    "    Returns:\n",
    "        DataFrame: A pandas DataFrame containing all rows in the users table.\n",
    "    \"\"\"\n",
    "    # Extract Session and User classes from Database instance\n",
    "    Session = db.Session\n",
    "    User = db.User\n",
    "\n",
    "    # Start a new session\n",
    "    session = Session()\n",
    "\n",
    "    # Query all rows\n",
    "    result = session.query(User).all()\n",
    "\n",
    "    # Convert result to a pandas DataFrame\n",
    "    df = pd.DataFrame([(user.id, user.data) for user in result], columns=['id', 'data'])\n",
    "\n",
    "    session.close()\n",
    "\n",
    "    return df"
   ]
  },
  {
   "cell_type": "code",
   "execution_count": 43,
   "id": "25469cc6-49aa-4a9c-b6e4-5c0e6f277010",
   "metadata": {},
   "outputs": [],
   "source": [
    "def transform_data_column(df):\n",
    "    \"\"\"\n",
    "    Transforms the 'data' column of the DataFrame into separate columns.\n",
    "\n",
    "    Args:\n",
    "        df (DataFrame): A pandas DataFrame containing the id and data columns.\n",
    "\n",
    "    Returns:\n",
    "        DataFrame: A pandas DataFrame where each key in the 'data' column is a separate column.\n",
    "    \"\"\"\n",
    "    # Transform 'data' column into a DataFrame\n",
    "    data_df = pd.json_normalize(df['data'])\n",
    "\n",
    "    # Concatenate original DataFrame (minus 'data' column) with the new DataFrame\n",
    "    df = pd.concat([df.drop('data', axis=1), data_df], axis=1)\n",
    "\n",
    "    return df"
   ]
  },
  {
   "cell_type": "code",
   "execution_count": 44,
   "id": "56846d23-9480-4a7a-81aa-7d6ab4e00175",
   "metadata": {},
   "outputs": [
    {
     "data": {
      "text/html": [
       "<div>\n",
       "<style scoped>\n",
       "    .dataframe tbody tr th:only-of-type {\n",
       "        vertical-align: middle;\n",
       "    }\n",
       "\n",
       "    .dataframe tbody tr th {\n",
       "        vertical-align: top;\n",
       "    }\n",
       "\n",
       "    .dataframe thead th {\n",
       "        text-align: right;\n",
       "    }\n",
       "</style>\n",
       "<table border=\"1\" class=\"dataframe\">\n",
       "  <thead>\n",
       "    <tr style=\"text-align: right;\">\n",
       "      <th></th>\n",
       "      <th>id</th>\n",
       "      <th>name</th>\n",
       "      <th>age</th>\n",
       "      <th>city</th>\n",
       "    </tr>\n",
       "  </thead>\n",
       "  <tbody>\n",
       "    <tr>\n",
       "      <th>0</th>\n",
       "      <td>44</td>\n",
       "      <td>Alex</td>\n",
       "      <td>29</td>\n",
       "      <td>Tübingen</td>\n",
       "    </tr>\n",
       "  </tbody>\n",
       "</table>\n",
       "</div>"
      ],
      "text/plain": [
       "   id  name  age      city\n",
       "0  44  Alex   29  Tübingen"
      ]
     },
     "execution_count": 44,
     "metadata": {},
     "output_type": "execute_result"
    }
   ],
   "source": [
    "df = fetch_all_data(db)\n",
    "df = transform_data_column(df)\n",
    "df"
   ]
  },
  {
   "cell_type": "markdown",
   "id": "da030ce7-5bd5-4d92-8a7d-6ccf3340886e",
   "metadata": {},
   "source": [
    "#### Query"
   ]
  },
  {
   "cell_type": "code",
   "execution_count": 3,
   "id": "d89702b5-e06e-419c-87bb-ba1c5c4753c9",
   "metadata": {},
   "outputs": [],
   "source": [
    "from sqlalchemy import text\n",
    "import pandas as pd\n",
    "\n",
    "def database_query_function(db, **kwargs):\n",
    "    # Extract Session and User classes from Database instance\n",
    "    Session = db.Session\n",
    "    User = db.User\n",
    "\n",
    "    # Start a new session\n",
    "    session = Session()\n",
    "\n",
    "    # Convert kwargs values to strings\n",
    "    kwargs = {k: str(v) for k, v in kwargs.items()}\n",
    "\n",
    "    # Start building the SQL query\n",
    "    query_text = \"SELECT * FROM users WHERE \"\n",
    "\n",
    "    # Add conditions for each key-value pair\n",
    "    for key, value in kwargs.items():\n",
    "        query_text += f\"data ->> '{key}' = '{value}' AND \"\n",
    "\n",
    "    # Remove trailing \"AND \"\n",
    "    query_text = query_text[:-4]\n",
    "\n",
    "    # Execute the query\n",
    "    query = text(query_text)\n",
    "    result = session.execute(query)\n",
    "\n",
    "    data = result.fetchall()\n",
    "    if data:\n",
    "        # Convert result to a pandas DataFrame\n",
    "        df = pd.DataFrame(data)\n",
    "        df.columns = result.keys()\n",
    "    else:\n",
    "        df = pd.DataFrame()  # empty DataFrame\n",
    "\n",
    "    session.close()\n",
    "\n",
    "    # return the DataFrame\n",
    "    return df\n"
   ]
  },
  {
   "cell_type": "code",
   "execution_count": 49,
   "id": "3af7c0b0-f0fc-4f16-aaf6-2481c7e29d4a",
   "metadata": {},
   "outputs": [
    {
     "name": "stdout",
     "output_type": "stream",
     "text": [
      "CPU times: user 2.75 ms, sys: 528 µs, total: 3.28 ms\n",
      "Wall time: 2.91 ms\n"
     ]
    },
    {
     "data": {
      "text/html": [
       "<div>\n",
       "<style scoped>\n",
       "    .dataframe tbody tr th:only-of-type {\n",
       "        vertical-align: middle;\n",
       "    }\n",
       "\n",
       "    .dataframe tbody tr th {\n",
       "        vertical-align: top;\n",
       "    }\n",
       "\n",
       "    .dataframe thead th {\n",
       "        text-align: right;\n",
       "    }\n",
       "</style>\n",
       "<table border=\"1\" class=\"dataframe\">\n",
       "  <thead>\n",
       "    <tr style=\"text-align: right;\">\n",
       "      <th></th>\n",
       "      <th>id</th>\n",
       "      <th>data</th>\n",
       "    </tr>\n",
       "  </thead>\n",
       "  <tbody>\n",
       "    <tr>\n",
       "      <th>0</th>\n",
       "      <td>44</td>\n",
       "      <td>{'name': 'Alex', 'age': 29, 'city': 'Tübingen'}</td>\n",
       "    </tr>\n",
       "  </tbody>\n",
       "</table>\n",
       "</div>"
      ],
      "text/plain": [
       "   id                                             data\n",
       "0  44  {'name': 'Alex', 'age': 29, 'city': 'Tübingen'}"
      ]
     },
     "execution_count": 49,
     "metadata": {},
     "output_type": "execute_result"
    }
   ],
   "source": [
    "%%time\n",
    "df = database_query_function(db=db, age=29, name='Alex')\n",
    "df"
   ]
  },
  {
   "cell_type": "markdown",
   "id": "ad3ca98d-5910-41f8-b9a8-37f18ae76abe",
   "metadata": {},
   "source": [
    "#### Convert dictionary in hash string"
   ]
  },
  {
   "cell_type": "code",
   "execution_count": 58,
   "id": "1ec5fc32-acdb-4ee6-85a6-8588a9f568e1",
   "metadata": {},
   "outputs": [],
   "source": [
    "import hashlib\n",
    "import json\n",
    "from datetime import datetime\n",
    "from pathlib import Path\n",
    "\n",
    "class User:\n",
    "    def __init__(self, user_id, name, input_dict, path, length=256):\n",
    "        \"\"\"\n",
    "        Initializes a User object with a user ID, name, input dictionary, hash, file path, and creation date.\n",
    "\n",
    "        The function hashes the input dictionary and stores both the dictionary and its hash, \n",
    "        the file path where further data is stored, and the date of creation.\n",
    "\n",
    "        Parameters:\n",
    "        user_id (str): The ID of the user.\n",
    "        name (str): The name of the user.\n",
    "        input_dict (dict): The dictionary to convert into a hash.\n",
    "        path (str): The path where further data is stored.\n",
    "        length (int, optional): The desired length of the hash, either 128, 256 (default), or 512.\n",
    "        \"\"\"\n",
    "\n",
    "        self.user_id = user_id\n",
    "        self.name = name\n",
    "        self.input_dict = input_dict\n",
    "        self.dict_hash = self.compute_dict_hash(input_dict, length=length)\n",
    "        self.path = Path(path).resolve()\n",
    "        self.creation_date = datetime.now()\n",
    "\n",
    "    @staticmethod\n",
    "    def compute_dict_hash(input_dict, length=256):\n",
    "        \"\"\"\n",
    "        Converts a dictionary into a hash.\n",
    "\n",
    "        Parameters:\n",
    "        input_dict (dict): The dictionary to convert into a hash.\n",
    "        length (int, optional): The desired length of the hash, either 128, 256 (default), or 512.\n",
    "\n",
    "        Returns:\n",
    "        str: The hexadecimal representation of the hash of the dictionary.\n",
    "        \"\"\"\n",
    "\n",
    "        # Convert dictionary to JSON object to ensure consistent hash\n",
    "        jsonified_dict = json.dumps(input_dict, sort_keys=True)\n",
    "\n",
    "        # Create a new hash object based on specified length\n",
    "        if length == 256:\n",
    "            hasher = hashlib.sha256()\n",
    "        elif length == 512:\n",
    "            hasher = hashlib.sha512()\n",
    "        elif length == 128:\n",
    "            hasher = hashlib.md5()\n",
    "        else:\n",
    "            raise ValueError(\"Length must be either 128, 256 or 512.\")\n",
    "\n",
    "        # Update the hash object with the bytes of the JSON object\n",
    "        hasher.update(jsonified_dict.encode('utf-8'))\n",
    "\n",
    "        # Return the hexadecimal representation of the hash\n",
    "        return hasher.hexdigest()\n"
   ]
  },
  {
   "cell_type": "code",
   "execution_count": 92,
   "id": "42cfd9f8-9fc7-4f0f-b825-1b56b54e22a7",
   "metadata": {},
   "outputs": [],
   "source": [
    "import hashlib\n",
    "import json\n",
    "\n",
    "def compute_dict_hash(input_dict, length=256):\n",
    "    \"\"\"\n",
    "    Converts a dictionary into a hash.\n",
    "    \n",
    "    This function converts a dictionary into a JSON object to ensure a \n",
    "    consistent hash and hashes it using SHA-256 by default but can be \n",
    "    adjusted for SHA-512 or MD5.\n",
    "\n",
    "    Parameters:\n",
    "    input_dict (dict): The dictionary to convert into a hash.\n",
    "    length (int, optional): The desired length of the hash, either \n",
    "                             128, 256 (default), or 512.\n",
    "\n",
    "    Returns:\n",
    "    str: The hexadecimal representation of the hash of the dictionary,\n",
    "         matching the specified length.\n",
    "    \"\"\"\n",
    "    \n",
    "    # Convert dictionary to JSON object to ensure consistent hash\n",
    "    jsonified_dict = json.dumps(input_dict, sort_keys=True)\n",
    "\n",
    "    # Create a new hash object based on specified length\n",
    "    if length == 256:\n",
    "        hasher = hashlib.sha256()\n",
    "    elif length == 512:\n",
    "        hasher = hashlib.sha512()\n",
    "    elif length == 128:\n",
    "        hasher = hashlib.md5()\n",
    "    else:\n",
    "        raise ValueError(\"Length must be either 128, 256, or 512.\")\n",
    "\n",
    "    # Update the hash object with the bytes of the JSON object\n",
    "    hasher.update(jsonified_dict.encode('utf-8'))\n",
    "\n",
    "    # Return the hexadecimal representation of the hash\n",
    "    return hasher.hexdigest()\n"
   ]
  },
  {
   "cell_type": "code",
   "execution_count": 57,
   "id": "3e7b472f-117c-46b9-9c1c-07744a29bbf6",
   "metadata": {},
   "outputs": [
    {
     "data": {
      "text/plain": [
       "'74b7e9a15ecbb49921e9a328005723513f0cd7b1d5c7efb39ac87fe9aafc0fb5d8f1d14b5da58d12047efa0a72a1eb837a4e1a61585eb18c4032c0940e47da80'"
      ]
     },
     "execution_count": 57,
     "metadata": {},
     "output_type": "execute_result"
    }
   ],
   "source": [
    "data_dict = df.data.iloc[0]\n",
    "dict_hash(data_dict, length=512)"
   ]
  },
  {
   "cell_type": "markdown",
   "id": "2040e2ce-f244-4dd3-993f-fdd351e2e996",
   "metadata": {},
   "source": [
    "### Create table class and database"
   ]
  },
  {
   "cell_type": "code",
   "execution_count": 86,
   "id": "99264fbb-4e38-4347-9636-15cf2a33a249",
   "metadata": {},
   "outputs": [],
   "source": [
    "from sqlalchemy import create_engine, Column, Integer, String, DateTime, JSON\n",
    "from sqlalchemy.orm import sessionmaker, declarative_base\n",
    "from datetime import datetime\n",
    "from pathlib import Path\n",
    "\n",
    "Base = declarative_base()\n",
    "\n",
    "class Node(Base):\n",
    "    __tablename__ = 'node'\n",
    "\n",
    "    node_id = Column(Integer, primary_key=True, autoincrement=True)\n",
    "    name = Column(String)\n",
    "    dict_hash = Column(String)\n",
    "    path = Column(String)\n",
    "    creation_date = Column(DateTime, default=datetime.utcnow)\n",
    "    data = Column(JSON)\n",
    "\n",
    "    def __init__(self, name, input_dict, path, length=256):\n",
    "        \"\"\"\n",
    "        Initializes a Node object with a name, input dictionary, hash, file path, \n",
    "        and creation date. \n",
    "\n",
    "        The function hashes the input dictionary and stores both the dictionary and its hash,  \n",
    "        and the file path where further data is stored. The `node_id` and `creation_date`\n",
    "        are auto-generated.\n",
    "\n",
    "        Parameters:\n",
    "        name (str): The name of the node.\n",
    "        input_dict (dict): The dictionary to convert into a hash.\n",
    "        path (str): The path where further data is stored.\n",
    "        length (int, optional): The desired length of the hash, either 128, 256 (default), or 512.\n",
    "        \"\"\"\n",
    "\n",
    "        self.name = name\n",
    "        self.dict_hash = compute_dict_hash(input_dict, length=length)\n",
    "        self.path = str(Path(path).resolve())\n",
    "        self.data = input_dict\n"
   ]
  },
  {
   "cell_type": "code",
   "execution_count": 87,
   "id": "0c89a0e0-e010-4703-b8aa-77092ee54cc5",
   "metadata": {},
   "outputs": [],
   "source": [
    "from sqlalchemy import create_engine\n",
    "from sqlalchemy.orm import sessionmaker\n",
    "from dataclasses import dataclass\n",
    "\n",
    "@dataclass\n",
    "class Database:\n",
    "    \"\"\"\n",
    "    Data class that represents a Database.\n",
    "\n",
    "    Attributes:\n",
    "    Session (sqlalchemy.orm.sessionmaker): The sessionmaker object that creates session.\n",
    "    User (Base): The SQLAlchemy Base object that represents a user.\n",
    "    \"\"\"\n",
    "    Session: any\n",
    "    Node: any\n",
    "\n",
    "def create_users_table(db_url='postgresql://localhost/joerg', echo=False):\n",
    "    \"\"\"\n",
    "    Creates a users table in the database.\n",
    "    \n",
    "    This function creates a SQLAlchemy engine with the provided database URL,\n",
    "    sets up a sessionmaker with this engine, ensures the users table is \n",
    "    created, and returns a Database object with the sessionmaker and the User class.\n",
    "\n",
    "    Parameters:\n",
    "    db_url (str, optional): The database URL. Defaults to 'postgresql://localhost/joerg'.\n",
    "    echo (bool, optional): If true, the engine will log all statements \n",
    "                           as well as a repr() of their parameter lists to the engines logger. \n",
    "                           Defaults to False.\n",
    "\n",
    "    Returns:\n",
    "    Database: a Database object with two attributes: a configured \"Session\" class and the \"User\" class.\n",
    "    \"\"\"\n",
    "    \n",
    "    # Create engine\n",
    "    engine = create_engine(db_url, echo=echo)\n",
    "\n",
    "    # Create a configured \"Session\" class\n",
    "    Session = sessionmaker(bind=engine)\n",
    "\n",
    "    # Create table\n",
    "    Node.__table__.create(bind=engine, checkfirst=True)\n",
    "\n",
    "    # Return Database class with Session and Node classes\n",
    "    return Database(Session, Node)"
   ]
  },
  {
   "cell_type": "code",
   "execution_count": 88,
   "id": "7d51700a-e461-4a68-8b5b-0fabdc84ff2e",
   "metadata": {},
   "outputs": [],
   "source": [
    "db = create_users_table()"
   ]
  },
  {
   "cell_type": "markdown",
   "id": "ecda208c-50d2-4edc-9c1c-5ebf07f8041b",
   "metadata": {},
   "source": [
    "#### Add node"
   ]
  },
  {
   "cell_type": "code",
   "execution_count": 89,
   "id": "46613318-d390-497f-8ecb-0f225f5cae0b",
   "metadata": {},
   "outputs": [],
   "source": [
    "from sqlalchemy.orm import Session\n",
    "\n",
    "def add_node_to_db(db, data, name='', path='.', length=256):\n",
    "    \"\"\"\n",
    "    Adds a dictionary as a new Node to a database.\n",
    "\n",
    "    Parameters:\n",
    "    db (Database): The Database object, which includes the Session and Node classes.\n",
    "    name (str): The name of the Node.\n",
    "    data (dict): The dictionary to convert into a hash and store as data.\n",
    "    path (str): The path where further data is stored.\n",
    "    length (int): The desired length of the hash.\n",
    "    \n",
    "\n",
    "    Returns: \n",
    "    Node:  The Node object that was added to the database.\n",
    "    \"\"\"\n",
    "    \n",
    "    # Start session\n",
    "    session = db.Session()\n",
    "\n",
    "    # Create new node, without providing node_id\n",
    "    new_node = db.Node(name=name, input_dict=data, path=path, length=length)\n",
    "    \n",
    "    # Add new node to session\n",
    "    session.add(new_node)\n",
    "    \n",
    "    # Commit session\n",
    "    session.commit()\n",
    "\n",
    "    # Close session\n",
    "    session.close()\n",
    "\n",
    "    return new_node"
   ]
  },
  {
   "cell_type": "code",
   "execution_count": 90,
   "id": "b3c7680b-18c1-497d-aa46-d1e4ddf259c3",
   "metadata": {},
   "outputs": [
    {
     "data": {
      "text/plain": [
       "{'name': 'Alex', 'age': 29, 'city': 'Tübingen'}"
      ]
     },
     "execution_count": 90,
     "metadata": {},
     "output_type": "execute_result"
    }
   ],
   "source": [
    "data"
   ]
  },
  {
   "cell_type": "code",
   "execution_count": 93,
   "id": "4e091385-9954-4054-9145-ca0c5f59a99d",
   "metadata": {},
   "outputs": [
    {
     "data": {
      "text/plain": [
       "<__main__.Node at 0x17005b850>"
      ]
     },
     "execution_count": 93,
     "metadata": {},
     "output_type": "execute_result"
    }
   ],
   "source": [
    "add_node_to_db(db=db, data=data)"
   ]
  },
  {
   "cell_type": "markdown",
   "id": "afd03cb4-517a-49ed-992c-bb63a735a035",
   "metadata": {},
   "source": [
    "#### Show database table as dataframe"
   ]
  },
  {
   "cell_type": "code",
   "execution_count": 94,
   "id": "4f061643-6a7a-4479-9e28-fd9f06805250",
   "metadata": {},
   "outputs": [],
   "source": [
    "import pandas as pd\n",
    "from sqlalchemy.orm import Session\n",
    "\n",
    "def get_db_table_as_df(db):\n",
    "    \"\"\"\n",
    "    Get all data in the 'node' database table as a pandas DataFrame.\n",
    "\n",
    "    Parameters:\n",
    "    db (Database): The Database object, which includes the Session and Node classes.\n",
    "\n",
    "    Returns:\n",
    "    DataFrame: The entire 'node' database table as a pandas DataFrame.\n",
    "    \"\"\"\n",
    "    \n",
    "    # Start session\n",
    "    session = db.Session()\n",
    "\n",
    "    # Run SELECT * FROM node\n",
    "    df = pd.read_sql(session.query(db.Node).statement, session.bind)\n",
    "\n",
    "    return df\n"
   ]
  },
  {
   "cell_type": "code",
   "execution_count": 95,
   "id": "bc356271-9f16-41ba-82bc-b40fa28f257a",
   "metadata": {},
   "outputs": [
    {
     "data": {
      "text/html": [
       "<div>\n",
       "<style scoped>\n",
       "    .dataframe tbody tr th:only-of-type {\n",
       "        vertical-align: middle;\n",
       "    }\n",
       "\n",
       "    .dataframe tbody tr th {\n",
       "        vertical-align: top;\n",
       "    }\n",
       "\n",
       "    .dataframe thead th {\n",
       "        text-align: right;\n",
       "    }\n",
       "</style>\n",
       "<table border=\"1\" class=\"dataframe\">\n",
       "  <thead>\n",
       "    <tr style=\"text-align: right;\">\n",
       "      <th></th>\n",
       "      <th>node_id</th>\n",
       "      <th>name</th>\n",
       "      <th>dict_hash</th>\n",
       "      <th>path</th>\n",
       "      <th>creation_date</th>\n",
       "      <th>data</th>\n",
       "    </tr>\n",
       "  </thead>\n",
       "  <tbody>\n",
       "    <tr>\n",
       "      <th>0</th>\n",
       "      <td>1</td>\n",
       "      <td></td>\n",
       "      <td>a24884d4e22a4fe7ffc5aa89348529785a71befbf3aa8a...</td>\n",
       "      <td>/Users/joerg/python_projects/git_libs/pyiron_n...</td>\n",
       "      <td>2024-06-09 12:13:34.632183</td>\n",
       "      <td>{'name': 'Alex', 'age': 29, 'city': 'Tübingen'}</td>\n",
       "    </tr>\n",
       "  </tbody>\n",
       "</table>\n",
       "</div>"
      ],
      "text/plain": [
       "   node_id name                                          dict_hash  \\\n",
       "0        1       a24884d4e22a4fe7ffc5aa89348529785a71befbf3aa8a...   \n",
       "\n",
       "                                                path  \\\n",
       "0  /Users/joerg/python_projects/git_libs/pyiron_n...   \n",
       "\n",
       "               creation_date                                             data  \n",
       "0 2024-06-09 12:13:34.632183  {'name': 'Alex', 'age': 29, 'city': 'Tübingen'}  "
      ]
     },
     "execution_count": 95,
     "metadata": {},
     "output_type": "execute_result"
    }
   ],
   "source": [
    "get_db_table_as_df(db)"
   ]
  },
  {
   "cell_type": "code",
   "execution_count": null,
   "id": "e6ed679a-545f-4a7e-9e4c-e7efc6423710",
   "metadata": {},
   "outputs": [],
   "source": []
  }
 ],
 "metadata": {
  "kernelspec": {
   "display_name": "Python 3 (ipykernel)",
   "language": "python",
   "name": "python3"
  },
  "language_info": {
   "codemirror_mode": {
    "name": "ipython",
    "version": 3
   },
   "file_extension": ".py",
   "mimetype": "text/x-python",
   "name": "python",
   "nbconvert_exporter": "python",
   "pygments_lexer": "ipython3",
   "version": "3.11.7"
  }
 },
 "nbformat": 4,
 "nbformat_minor": 5
}
