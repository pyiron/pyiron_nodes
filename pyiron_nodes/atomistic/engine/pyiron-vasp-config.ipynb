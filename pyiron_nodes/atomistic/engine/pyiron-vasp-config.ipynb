{
 "cells": [
  {
   "cell_type": "code",
   "execution_count": 2,
   "metadata": {},
   "outputs": [
    {
     "ename": "ModuleNotFoundError",
     "evalue": "No module named 'pyiron_nodes'",
     "output_type": "error",
     "traceback": [
      "\u001b[0;31m---------------------------------------------------------------------------\u001b[0m",
      "\u001b[0;31mModuleNotFoundError\u001b[0m                       Traceback (most recent call last)",
      "Cell \u001b[0;32mIn[2], line 17\u001b[0m\n\u001b[1;32m     11\u001b[0m \u001b[38;5;28;01mimport\u001b[39;00m \u001b[38;5;21;01mpandas\u001b[39;00m \u001b[38;5;28;01mas\u001b[39;00m \u001b[38;5;21;01mpd\u001b[39;00m\n\u001b[1;32m     13\u001b[0m \u001b[38;5;66;03m# from pymatgen.core import Structure\u001b[39;00m\n\u001b[1;32m     14\u001b[0m \u001b[38;5;66;03m# from pymatgen.io.vasp.inputs import Incar, Kpoints\u001b[39;00m\n\u001b[1;32m     15\u001b[0m \u001b[38;5;66;03m# from pymatgen.io.vasp.outputs import Vasprun\u001b[39;00m\n\u001b[0;32m---> 17\u001b[0m \u001b[38;5;28;01mfrom\u001b[39;00m \u001b[38;5;21;01mase\u001b[39;00m \u001b[38;5;28;01mimport\u001b[39;00m Atoms\n\u001b[1;32m     19\u001b[0m \u001b[38;5;28;01mfrom\u001b[39;00m \u001b[38;5;21;01mpyiron_workflow\u001b[39;00m \u001b[38;5;28;01mimport\u001b[39;00m Workflow\n\u001b[1;32m     21\u001b[0m \u001b[38;5;66;03m# from pyiron_atomistics.vasp.output import parse_vasp_output as pvo\u001b[39;00m\n\u001b[1;32m     22\u001b[0m \n\u001b[1;32m     23\u001b[0m \u001b[38;5;66;03m# from pyiron_snippets.logger import logger\u001b[39;00m\n\u001b[0;32m   (...)\u001b[0m\n\u001b[1;32m     26\u001b[0m \u001b[38;5;66;03m# from pyiron_nodes.atomistic.engine.lammps import Shell\u001b[39;00m\n\u001b[1;32m     27\u001b[0m \u001b[38;5;66;03m# from pyiron_nodes.lammps import ShellOutput\u001b[39;00m\n",
      "File \u001b[0;32m~/github_dev/github_pyiron/pyiron_nodes/pyiron_nodes/atomistic/engine/ase.py:5\u001b[0m\n\u001b[1;32m      1\u001b[0m \u001b[38;5;28;01mfrom\u001b[39;00m \u001b[38;5;21;01m__future__\u001b[39;00m \u001b[38;5;28;01mimport\u001b[39;00m annotations\n\u001b[1;32m      3\u001b[0m \u001b[38;5;28;01mfrom\u001b[39;00m \u001b[38;5;21;01mpyiron_workflow\u001b[39;00m \u001b[38;5;28;01mimport\u001b[39;00m as_function_node\n\u001b[0;32m----> 5\u001b[0m \u001b[38;5;28;01mfrom\u001b[39;00m \u001b[38;5;21;01mpyiron_nodes\u001b[39;00m\u001b[38;5;21;01m.\u001b[39;00m\u001b[38;5;21;01matomistic\u001b[39;00m\u001b[38;5;21;01m.\u001b[39;00m\u001b[38;5;21;01mengine\u001b[39;00m\u001b[38;5;21;01m.\u001b[39;00m\u001b[38;5;21;01mgeneric\u001b[39;00m \u001b[38;5;28;01mimport\u001b[39;00m OutputEngine\n\u001b[1;32m      8\u001b[0m \u001b[38;5;129m@as_function_node\u001b[39m(\u001b[38;5;124m\"\u001b[39m\u001b[38;5;124mengine\u001b[39m\u001b[38;5;124m\"\u001b[39m)\n\u001b[1;32m      9\u001b[0m \u001b[38;5;28;01mdef\u001b[39;00m \u001b[38;5;21mEMT\u001b[39m():\n\u001b[1;32m     10\u001b[0m     \u001b[38;5;28;01mfrom\u001b[39;00m \u001b[38;5;21;01mase\u001b[39;00m\u001b[38;5;21;01m.\u001b[39;00m\u001b[38;5;21;01mcalculators\u001b[39;00m\u001b[38;5;21;01m.\u001b[39;00m\u001b[38;5;21;01memt\u001b[39;00m \u001b[38;5;28;01mimport\u001b[39;00m EMT\n",
      "\u001b[0;31mModuleNotFoundError\u001b[0m: No module named 'pyiron_nodes'"
     ]
    }
   ],
   "source": [
    "from __future__ import annotations\n",
    "\n",
    "import os\n",
    "import warnings\n",
    "from pathlib import Path\n",
    "import shutil\n",
    "import subprocess\n",
    "from typing import Optional\n",
    "from dataclasses import dataclass, field\n",
    "\n",
    "import pandas as pd\n",
    "\n",
    "# from pymatgen.core import Structure\n",
    "# from pymatgen.io.vasp.inputs import Incar, Kpoints\n",
    "# from pymatgen.io.vasp.outputs import Vasprun\n",
    "\n",
    "from ase import Atoms\n",
    "\n",
    "from pyiron_workflow import Workflow\n",
    "\n",
    "# from pyiron_atomistics.vasp.output import parse_vasp_output as pvo\n",
    "\n",
    "# from pyiron_snippets.logger import logger\n",
    "# from pyiron_snippets.resources import ResourceResolver\n",
    "\n",
    "# from pyiron_nodes.atomistic.engine.lammps import Shell\n",
    "# from pyiron_nodes.lammps import ShellOutput\n"
   ]
  },
  {
   "cell_type": "code",
   "execution_count": 4,
   "metadata": {},
   "outputs": [
    {
     "name": "stdout",
     "output_type": "stream",
     "text": [
      "default_POTCAR_set: potpaw64\n",
      "default_functional: GGA\n",
      "pyiron_vasp_resources: /home/pyiron_resources_cmmc/vasp\n",
      "vasp_POTCAR_path_potpaw64: /home/pyiron_resources_cmmc/vasp/potpaw64\n",
      "vasp_POTCAR_path_potpaw54: /home/pyiron_resources_cmmc/vasp/potpaw54\n",
      "vasp_POTCAR_path_potpaw52: /home/pyiron_resources_cmmc/vasp/potpaw52\n",
      "default_POTCAR_path: /home/pyiron_resources_cmmc/vasp/potpaw64\n"
     ]
    }
   ],
   "source": [
    "import os\n",
    "from pathlib import Path\n",
    "\n",
    "def read_potcar_config(config_file: Path) -> dict:\n",
    "    \"\"\"\n",
    "    Reads the POTCAR configuration from a file and resolves the paths dynamically based on config content.\n",
    "    \n",
    "    Args:\n",
    "        config_file (Path): Path to the configuration file.\n",
    "        \n",
    "    Returns:\n",
    "        dict: A dictionary containing the resolved paths and the default POTCAR path.\n",
    "        \n",
    "    Raises:\n",
    "        ValueError: If no valid default_POTCAR_set is found in the config.\n",
    "    \"\"\"\n",
    "    config_data = {}\n",
    "\n",
    "    # Read the configuration file\n",
    "    try:\n",
    "        with open(config_file, \"r\") as f:\n",
    "            for line in f:\n",
    "                # Skip comments and empty lines\n",
    "                line = line.strip()\n",
    "                if not line or line.startswith(\"#\"):\n",
    "                    continue\n",
    "                \n",
    "                # Split the line into key and value\n",
    "                if \"=\" in line:\n",
    "                    key, value = line.split(\"=\", 1)\n",
    "                    key = key.strip()\n",
    "                    value = value.strip()\n",
    "                    \n",
    "                    # Store the configuration\n",
    "                    config_data[key] = value\n",
    "\n",
    "        # Resolve the pyiron_vasp_resources path\n",
    "        pyiron_vasp_resources = config_data.get(\"pyiron_vasp_resources\", \"\")\n",
    "        default_POTCAR_set = config_data.get(\"default_POTCAR_set\")\n",
    "        default_functional = config_data.get(\"default_functional\")\n",
    "        # Dynamically identify all POTCAR sets based on keys in the config file\n",
    "        potcar_sets = []\n",
    "        for key in config_data:\n",
    "            if key.startswith(\"vasp_POTCAR_path_\"):\n",
    "                potcar_sets.append(key.split(\"vasp_POTCAR_path_\")[1])\n",
    "\n",
    "        # Check if a valid default_POTCAR_set is provided\n",
    "        if not default_POTCAR_set or default_POTCAR_set not in potcar_sets:\n",
    "            raise ValueError(f\"Unknown or missing default_POTCAR_set: {default_POTCAR_set}. Valid options: {potcar_sets}\")\n",
    "        \n",
    "        # Check if a valid default_functional is provided\n",
    "        if not default_functional or default_functional not in potcar_sets:\n",
    "            raise ValueError(f\"Unknown or missing default_functional: {default_functional}. Valid options: GGA, LDA\")\n",
    "        \n",
    "        # Dynamically generate the paths for all potpaw sets based on the config content\n",
    "        for potcar_set in potcar_sets:\n",
    "            key = f\"vasp_POTCAR_path_{potcar_set}\"\n",
    "            config_data[key] = os.path.join(pyiron_vasp_resources, potcar_set)\n",
    "\n",
    "        # Set the default POTCAR path\n",
    "        config_data[\"default_POTCAR_path\"] = config_data[f\"vasp_POTCAR_path_{default_POTCAR_set}\"]\n",
    "\n",
    "        return config_data\n",
    "\n",
    "    except FileNotFoundError:\n",
    "        print(f\"Configuration file not found: {config_file}\")\n",
    "        return {}\n",
    "\n",
    "    except Exception as e:\n",
    "        print(f\"Error reading configuration file: {e}\")\n",
    "        return {}\n",
    "\n",
    "# Example usage\n",
    "config_file = Path(\"/root/github_dev/github_pyiron/pyiron_nodes/pyiron_nodes/atomistic/engine/example_pyiron_vasp_config\")\n",
    "potcar_config = read_potcar_config(config_file)\n",
    "\n",
    "# Print the resolved paths\n",
    "for key, path in potcar_config.items():\n",
    "    print(f\"{key}: {path}\")\n"
   ]
  },
  {
   "cell_type": "code",
   "execution_count": 6,
   "metadata": {},
   "outputs": [
    {
     "data": {
      "text/plain": [
       "PosixPath('/path/to/your/vasp/potentials')"
      ]
     },
     "execution_count": 6,
     "metadata": {},
     "output_type": "execute_result"
    }
   ],
   "source": [
    "POTCAR_library_path"
   ]
  },
  {
   "cell_type": "code",
   "execution_count": null,
   "metadata": {},
   "outputs": [],
   "source": [
    "resource_plugin_name = \"lammps\"\n",
    "ResourceResolver(\n",
    "            state.settings.resource_paths,\n",
    "            cls.resource_plugin_name,\n",
    "            \"potentials\",\n",
    "        )"
   ]
  }
 ],
 "metadata": {
  "kernelspec": {
   "display_name": "pyiron_workflow",
   "language": "python",
   "name": "python3"
  },
  "language_info": {
   "codemirror_mode": {
    "name": "ipython",
    "version": 3
   },
   "file_extension": ".py",
   "mimetype": "text/x-python",
   "name": "python",
   "nbconvert_exporter": "python",
   "pygments_lexer": "ipython3",
   "version": "3.12.4"
  }
 },
 "nbformat": 4,
 "nbformat_minor": 2
}
